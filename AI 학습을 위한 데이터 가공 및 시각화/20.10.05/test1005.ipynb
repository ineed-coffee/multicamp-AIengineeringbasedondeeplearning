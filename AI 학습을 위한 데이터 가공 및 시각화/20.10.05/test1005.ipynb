{
 "cells": [
  {
   "cell_type": "code",
   "execution_count": 1,
   "metadata": {},
   "outputs": [],
   "source": [
    "import pandas as pd\n",
    "import numpy as np\n",
    "import matplotlib.pyplot as plt\n",
    "import seaborn as sns\n",
    "sns.set()"
   ]
  },
  {
   "cell_type": "markdown",
   "metadata": {},
   "source": [
    "1. 확률 , 통계 , 수열  \n",
    "    - 베이즈 이론 -> 베이지안 필터기(분류기 : 이진 분류, 다중 분류) -> 햄/스팸 분류기(r 머신러닝)  \n",
    "    \n",
    "    \n",
    "2. 벡터와 행렬  \n",
    "    - 신경망  \n",
    "    \n",
    "    \n",
    "3. 함수와 미분(최적값 optimal : *)  \n",
    "    - 미분 가능 함수, 편미분(여러 개 변수를 미분)  \n",
    "    - cost(loss) function 을 미분하고 최적에 해당하는 가중치(weight) , 편향(bias) 를 구할 수 있음  \n",
    "    \n",
    "    \n",
    "4. 예측과 최적화  \n",
    "    - 회귀분석 -> 연속형 예측 , 최적화  \n",
    "    \n",
    "    \n",
    "\n",
    "5. 신경망과 딥러닝  \n",
    "    - 순전파(forward propagation) 방식으로 입력 신호가 전달  \n",
    "    - 역전파(backward propagation) 방식으로 가중치 업데이트  \n",
    "    - 단일/멀티 퍼셉트론 -> 깊은 신경망  \n",
    "    \n",
    "    \n",
    "6. 강화학습  \n",
    "    - 최적해  \n",
    "    - 몬토카를로 기법  \n",
    "    - 마르코프 결정 과정  \n",
    "    \n",
    "    \n",
    "\\+ 데이터베이스  \n",
    "    - 데이터베이스 생성, 테이블 생성, 데이터 저장/삭제  \n",
    "    - 데이터웨어하우스(data warehouse) -> 빅데이터 용어  \n",
    "    - 빅데이터를 저장해놓고, 빅데이터 기반으로 분석하고 정보를 가공 (분석하기 용이하게 특화)  \n",
    "    - 데이터마트  \n",
    "    - 데이터웨어하우스의 일부분, 사용자에게 데이터웨어하우스에서 데이터를 꺼내서 제공하는 역할  \n",
    "    - 하둡(hadoop, 빅데이터 분산 처리 프레임워크)   "
   ]
  },
  {
   "cell_type": "markdown",
   "metadata": {},
   "source": [
    "__json : 웹 형식 문서 표현 방법 중 하나, 가볍고 속도가 빠름, 딕셔너리 구조로 작성된 문서__"
   ]
  },
  {
   "cell_type": "code",
   "execution_count": 2,
   "metadata": {},
   "outputs": [],
   "source": [
    "import json"
   ]
  },
  {
   "cell_type": "code",
   "execution_count": 8,
   "metadata": {},
   "outputs": [
    {
     "name": "stdout",
     "output_type": "stream",
     "text": [
      "\n",
      "{\n",
      "\"name\":\"Wes\",\n",
      "\"places_lived\":[\"United States\",\"Spain\",\"Germany\"],\n",
      "\"pet\":null,\n",
      "\"siblings\":[{\"name\":\"Kim\",\"age\":25,\"pets\":[\"ba\",\"ka\"]},\n",
      "            {\"name\":\"Lee\",\"age\":22,\"pets\":[\"aa\",\"bb\",\"cc\"]}]\n",
      "}\n",
      "\n"
     ]
    }
   ],
   "source": [
    "obj = '''\n",
    "{\n",
    "\"name\":\"Wes\",\n",
    "\"places_lived\":[\"United States\",\"Spain\",\"Germany\"],\n",
    "\"pet\":null,\n",
    "\"siblings\":[{\"name\":\"Kim\",\"age\":25,\"pets\":[\"ba\",\"ka\"]},\n",
    "            {\"name\":\"Lee\",\"age\":22,\"pets\":[\"aa\",\"bb\",\"cc\"]}]\n",
    "}\n",
    "'''\n",
    "print(obj) # Json 형식에 맞춰 작성한 문자열"
   ]
  },
  {
   "cell_type": "code",
   "execution_count": 9,
   "metadata": {},
   "outputs": [
    {
     "data": {
      "text/plain": [
       "{'name': 'Wes',\n",
       " 'places_lived': ['United States', 'Spain', 'Germany'],\n",
       " 'pet': None,\n",
       " 'siblings': [{'name': 'Kim', 'age': 25, 'pets': ['ba', 'ka']},\n",
       "  {'name': 'Lee', 'age': 22, 'pets': ['aa', 'bb', 'cc']}]}"
      ]
     },
     "execution_count": 9,
     "metadata": {},
     "output_type": "execute_result"
    }
   ],
   "source": [
    "res = json.loads(obj) # Json 문자열을 파이썬 자료구조로 변환\n",
    "res"
   ]
  },
  {
   "cell_type": "code",
   "execution_count": 10,
   "metadata": {},
   "outputs": [
    {
     "data": {
      "text/plain": [
       "'{\"name\": \"Wes\", \"places_lived\": [\"United States\", \"Spain\", \"Germany\"], \"pet\": null, \"siblings\": [{\"name\": \"Kim\", \"age\": 25, \"pets\": [\"ba\", \"ka\"]}, {\"name\": \"Lee\", \"age\": 22, \"pets\": [\"aa\", \"bb\", \"cc\"]}]}'"
      ]
     },
     "execution_count": 10,
     "metadata": {},
     "output_type": "execute_result"
    }
   ],
   "source": [
    "asjson = json.dumps(res) # 파이썬 형태로 읽어진 객체를 진짜 Json 형식으로 반환\n",
    "asjson"
   ]
  },
  {
   "cell_type": "code",
   "execution_count": 11,
   "metadata": {},
   "outputs": [
    {
     "data": {
      "text/plain": [
       "[{'name': 'Kim', 'age': 25, 'pets': ['ba', 'ka']},\n",
       " {'name': 'Lee', 'age': 22, 'pets': ['aa', 'bb', 'cc']}]"
      ]
     },
     "execution_count": 11,
     "metadata": {},
     "output_type": "execute_result"
    }
   ],
   "source": [
    "res['siblings']"
   ]
  },
  {
   "cell_type": "code",
   "execution_count": 12,
   "metadata": {},
   "outputs": [
    {
     "data": {
      "text/plain": [
       "0    1.0\n",
       "1    NaN\n",
       "2    3.5\n",
       "3    NaN\n",
       "4    7.0\n",
       "dtype: float64"
      ]
     },
     "execution_count": 12,
     "metadata": {},
     "output_type": "execute_result"
    }
   ],
   "source": [
    "pd.Series([1,np.nan,3.5,np.nan,7])"
   ]
  },
  {
   "cell_type": "code",
   "execution_count": 13,
   "metadata": {},
   "outputs": [
    {
     "data": {
      "text/html": [
       "<div>\n",
       "<style scoped>\n",
       "    .dataframe tbody tr th:only-of-type {\n",
       "        vertical-align: middle;\n",
       "    }\n",
       "\n",
       "    .dataframe tbody tr th {\n",
       "        vertical-align: top;\n",
       "    }\n",
       "\n",
       "    .dataframe thead th {\n",
       "        text-align: right;\n",
       "    }\n",
       "</style>\n",
       "<table border=\"1\" class=\"dataframe\">\n",
       "  <thead>\n",
       "    <tr style=\"text-align: right;\">\n",
       "      <th></th>\n",
       "      <th>0</th>\n",
       "      <th>1</th>\n",
       "      <th>2</th>\n",
       "    </tr>\n",
       "  </thead>\n",
       "  <tbody>\n",
       "    <tr>\n",
       "      <th>0</th>\n",
       "      <td>1.0</td>\n",
       "      <td>6.0</td>\n",
       "      <td>3.0</td>\n",
       "    </tr>\n",
       "    <tr>\n",
       "      <th>1</th>\n",
       "      <td>1.0</td>\n",
       "      <td>NaN</td>\n",
       "      <td>NaN</td>\n",
       "    </tr>\n",
       "    <tr>\n",
       "      <th>2</th>\n",
       "      <td>NaN</td>\n",
       "      <td>NaN</td>\n",
       "      <td>NaN</td>\n",
       "    </tr>\n",
       "    <tr>\n",
       "      <th>3</th>\n",
       "      <td>NaN</td>\n",
       "      <td>5.0</td>\n",
       "      <td>2.0</td>\n",
       "    </tr>\n",
       "  </tbody>\n",
       "</table>\n",
       "</div>"
      ],
      "text/plain": [
       "     0    1    2\n",
       "0  1.0  6.0  3.0\n",
       "1  1.0  NaN  NaN\n",
       "2  NaN  NaN  NaN\n",
       "3  NaN  5.0  2.0"
      ]
     },
     "execution_count": 13,
     "metadata": {},
     "output_type": "execute_result"
    }
   ],
   "source": [
    "data = pd.DataFrame([[1,6,3],\n",
    "                    [1,np.nan,np.nan],\n",
    "                    [np.nan,np.nan,np.nan],\n",
    "                    [np.nan,5,2]])\n",
    "data"
   ]
  },
  {
   "cell_type": "code",
   "execution_count": 18,
   "metadata": {},
   "outputs": [
    {
     "name": "stdout",
     "output_type": "stream",
     "text": [
      "     0    1    2\n",
      "0  1.0  6.0  3.0\n",
      "==================================================\n",
      "Empty DataFrame\n",
      "Columns: []\n",
      "Index: [0, 1, 2, 3]\n"
     ]
    }
   ],
   "source": [
    "print(data.dropna(axis=0))\n",
    "print('='*50)\n",
    "print(data.dropna(axis=1))"
   ]
  },
  {
   "cell_type": "code",
   "execution_count": 20,
   "metadata": {},
   "outputs": [
    {
     "data": {
      "text/html": [
       "<div>\n",
       "<style scoped>\n",
       "    .dataframe tbody tr th:only-of-type {\n",
       "        vertical-align: middle;\n",
       "    }\n",
       "\n",
       "    .dataframe tbody tr th {\n",
       "        vertical-align: top;\n",
       "    }\n",
       "\n",
       "    .dataframe thead th {\n",
       "        text-align: right;\n",
       "    }\n",
       "</style>\n",
       "<table border=\"1\" class=\"dataframe\">\n",
       "  <thead>\n",
       "    <tr style=\"text-align: right;\">\n",
       "      <th></th>\n",
       "      <th>0</th>\n",
       "      <th>1</th>\n",
       "      <th>2</th>\n",
       "    </tr>\n",
       "  </thead>\n",
       "  <tbody>\n",
       "    <tr>\n",
       "      <th>0</th>\n",
       "      <td>1.0</td>\n",
       "      <td>6.0</td>\n",
       "      <td>3.0</td>\n",
       "    </tr>\n",
       "    <tr>\n",
       "      <th>1</th>\n",
       "      <td>1.0</td>\n",
       "      <td>NaN</td>\n",
       "      <td>NaN</td>\n",
       "    </tr>\n",
       "    <tr>\n",
       "      <th>3</th>\n",
       "      <td>NaN</td>\n",
       "      <td>5.0</td>\n",
       "      <td>2.0</td>\n",
       "    </tr>\n",
       "  </tbody>\n",
       "</table>\n",
       "</div>"
      ],
      "text/plain": [
       "     0    1    2\n",
       "0  1.0  6.0  3.0\n",
       "1  1.0  NaN  NaN\n",
       "3  NaN  5.0  2.0"
      ]
     },
     "execution_count": 20,
     "metadata": {},
     "output_type": "execute_result"
    }
   ],
   "source": [
    "data.dropna(how='all') # 행 또는 열이 모두 nan으로 구성되어 있을때만"
   ]
  },
  {
   "cell_type": "markdown",
   "metadata": {},
   "source": [
    "# 아발론 데이터(전복) [링크](http://archive.ics.uci.edu/ml/datasets/Abalone)\n",
    "\n",
    "Name / Data Type / Measurement Unit / Description  \n",
    "-----------------------------  \n",
    "Sex / nominal / -- / M, F, and I (infant)  \n",
    "Length / continuous / mm / Longest shell measurement  \n",
    "Diameter / continuous / mm / perpendicular to length  \n",
    "Height / continuous / mm / with meat in shell  \n",
    "Whole weight / continuous / grams / whole abalone  \n",
    "Shucked weight / continuous / grams / weight of meat  \n",
    "Viscera weight / continuous / grams / gut weight (after bleeding)  \n",
    "Shell weight / continuous / grams / after being dried  \n",
    "Rings / integer / -- / +1.5 gives the age in years  "
   ]
  },
  {
   "cell_type": "code",
   "execution_count": 25,
   "metadata": {},
   "outputs": [
    {
     "data": {
      "text/html": [
       "<div>\n",
       "<style scoped>\n",
       "    .dataframe tbody tr th:only-of-type {\n",
       "        vertical-align: middle;\n",
       "    }\n",
       "\n",
       "    .dataframe tbody tr th {\n",
       "        vertical-align: top;\n",
       "    }\n",
       "\n",
       "    .dataframe thead th {\n",
       "        text-align: right;\n",
       "    }\n",
       "</style>\n",
       "<table border=\"1\" class=\"dataframe\">\n",
       "  <thead>\n",
       "    <tr style=\"text-align: right;\">\n",
       "      <th></th>\n",
       "      <th>sex</th>\n",
       "      <th>length</th>\n",
       "      <th>diameter</th>\n",
       "      <th>height</th>\n",
       "      <th>whole weight</th>\n",
       "      <th>shcuked weight</th>\n",
       "      <th>viscera weight</th>\n",
       "      <th>shell weight</th>\n",
       "      <th>rings</th>\n",
       "    </tr>\n",
       "  </thead>\n",
       "  <tbody>\n",
       "    <tr>\n",
       "      <th>0</th>\n",
       "      <td>M</td>\n",
       "      <td>0.455</td>\n",
       "      <td>0.365</td>\n",
       "      <td>0.095</td>\n",
       "      <td>0.514</td>\n",
       "      <td>0.2245</td>\n",
       "      <td>0.101</td>\n",
       "      <td>0.15</td>\n",
       "      <td>15</td>\n",
       "    </tr>\n",
       "  </tbody>\n",
       "</table>\n",
       "</div>"
      ],
      "text/plain": [
       "  sex  length  diameter  height  whole weight  shcuked weight  viscera weight  \\\n",
       "0   M   0.455     0.365   0.095         0.514          0.2245           0.101   \n",
       "\n",
       "   shell weight  rings  \n",
       "0          0.15     15  "
      ]
     },
     "execution_count": 25,
     "metadata": {},
     "output_type": "execute_result"
    }
   ],
   "source": [
    "filepath = 'D:/downloads/'\n",
    "abalone = pd.read_csv(filepath+'abalone.txt',\n",
    "                   header=None,\n",
    "                   names=['sex','length','diameter','height','whole weight','shcuked weight','viscera weight','shell weight','rings'])\n",
    "abalone.head(1)"
   ]
  },
  {
   "cell_type": "code",
   "execution_count": 26,
   "metadata": {},
   "outputs": [
    {
     "name": "stdout",
     "output_type": "stream",
     "text": [
      "<class 'pandas.core.frame.DataFrame'>\n",
      "RangeIndex: 4177 entries, 0 to 4176\n",
      "Data columns (total 9 columns):\n",
      " #   Column          Non-Null Count  Dtype  \n",
      "---  ------          --------------  -----  \n",
      " 0   sex             4177 non-null   object \n",
      " 1   length          4177 non-null   float64\n",
      " 2   diameter        4177 non-null   float64\n",
      " 3   height          4177 non-null   float64\n",
      " 4   whole weight    4177 non-null   float64\n",
      " 5   shcuked weight  4177 non-null   float64\n",
      " 6   viscera weight  4177 non-null   float64\n",
      " 7   shell weight    4177 non-null   float64\n",
      " 8   rings           4177 non-null   int64  \n",
      "dtypes: float64(7), int64(1), object(1)\n",
      "memory usage: 293.8+ KB\n"
     ]
    }
   ],
   "source": [
    "abalone.info()"
   ]
  },
  {
   "cell_type": "code",
   "execution_count": 27,
   "metadata": {},
   "outputs": [
    {
     "data": {
      "text/plain": [
       "sex               0\n",
       "length            0\n",
       "diameter          0\n",
       "height            0\n",
       "whole weight      0\n",
       "shcuked weight    0\n",
       "viscera weight    0\n",
       "shell weight      0\n",
       "rings             0\n",
       "dtype: int64"
      ]
     },
     "execution_count": 27,
     "metadata": {},
     "output_type": "execute_result"
    }
   ],
   "source": [
    "abalone.isnull().sum()"
   ]
  },
  {
   "cell_type": "code",
   "execution_count": 28,
   "metadata": {},
   "outputs": [
    {
     "data": {
      "text/plain": [
       "M    1528\n",
       "I    1342\n",
       "F    1307\n",
       "Name: sex, dtype: int64"
      ]
     },
     "execution_count": 28,
     "metadata": {},
     "output_type": "execute_result"
    }
   ],
   "source": [
    "abalone.sex.value_counts()"
   ]
  },
  {
   "cell_type": "code",
   "execution_count": 29,
   "metadata": {},
   "outputs": [],
   "source": [
    "grouped = abalone['whole weight'].groupby(abalone['sex'])"
   ]
  },
  {
   "cell_type": "code",
   "execution_count": 30,
   "metadata": {},
   "outputs": [
    {
     "data": {
      "text/plain": [
       "sex\n",
       "F    1307\n",
       "I    1342\n",
       "M    1528\n",
       "Name: whole weight, dtype: int64"
      ]
     },
     "execution_count": 30,
     "metadata": {},
     "output_type": "execute_result"
    }
   ],
   "source": [
    "grouped.size()"
   ]
  },
  {
   "cell_type": "markdown",
   "metadata": {},
   "source": [
    "length 열을 참고하여 범주형 변수(이진) 추가\n",
    "\n",
    "abalone['length_med'] = length_short or length_long (중앙값과 비교)"
   ]
  },
  {
   "cell_type": "code",
   "execution_count": 38,
   "metadata": {},
   "outputs": [
    {
     "data": {
      "text/html": [
       "<div>\n",
       "<style scoped>\n",
       "    .dataframe tbody tr th:only-of-type {\n",
       "        vertical-align: middle;\n",
       "    }\n",
       "\n",
       "    .dataframe tbody tr th {\n",
       "        vertical-align: top;\n",
       "    }\n",
       "\n",
       "    .dataframe thead th {\n",
       "        text-align: right;\n",
       "    }\n",
       "</style>\n",
       "<table border=\"1\" class=\"dataframe\">\n",
       "  <thead>\n",
       "    <tr style=\"text-align: right;\">\n",
       "      <th></th>\n",
       "      <th>sex</th>\n",
       "      <th>length</th>\n",
       "      <th>diameter</th>\n",
       "      <th>height</th>\n",
       "      <th>whole weight</th>\n",
       "      <th>shcuked weight</th>\n",
       "      <th>viscera weight</th>\n",
       "      <th>shell weight</th>\n",
       "      <th>rings</th>\n",
       "      <th>length_med</th>\n",
       "    </tr>\n",
       "  </thead>\n",
       "  <tbody>\n",
       "    <tr>\n",
       "      <th>0</th>\n",
       "      <td>M</td>\n",
       "      <td>0.455</td>\n",
       "      <td>0.365</td>\n",
       "      <td>0.095</td>\n",
       "      <td>0.5140</td>\n",
       "      <td>0.2245</td>\n",
       "      <td>0.1010</td>\n",
       "      <td>0.1500</td>\n",
       "      <td>15</td>\n",
       "      <td>length_short</td>\n",
       "    </tr>\n",
       "    <tr>\n",
       "      <th>1</th>\n",
       "      <td>M</td>\n",
       "      <td>0.350</td>\n",
       "      <td>0.265</td>\n",
       "      <td>0.090</td>\n",
       "      <td>0.2255</td>\n",
       "      <td>0.0995</td>\n",
       "      <td>0.0485</td>\n",
       "      <td>0.0700</td>\n",
       "      <td>7</td>\n",
       "      <td>length_short</td>\n",
       "    </tr>\n",
       "    <tr>\n",
       "      <th>2</th>\n",
       "      <td>F</td>\n",
       "      <td>0.530</td>\n",
       "      <td>0.420</td>\n",
       "      <td>0.135</td>\n",
       "      <td>0.6770</td>\n",
       "      <td>0.2565</td>\n",
       "      <td>0.1415</td>\n",
       "      <td>0.2100</td>\n",
       "      <td>9</td>\n",
       "      <td>length_short</td>\n",
       "    </tr>\n",
       "    <tr>\n",
       "      <th>3</th>\n",
       "      <td>M</td>\n",
       "      <td>0.440</td>\n",
       "      <td>0.365</td>\n",
       "      <td>0.125</td>\n",
       "      <td>0.5160</td>\n",
       "      <td>0.2155</td>\n",
       "      <td>0.1140</td>\n",
       "      <td>0.1550</td>\n",
       "      <td>10</td>\n",
       "      <td>length_short</td>\n",
       "    </tr>\n",
       "    <tr>\n",
       "      <th>4</th>\n",
       "      <td>I</td>\n",
       "      <td>0.330</td>\n",
       "      <td>0.255</td>\n",
       "      <td>0.080</td>\n",
       "      <td>0.2050</td>\n",
       "      <td>0.0895</td>\n",
       "      <td>0.0395</td>\n",
       "      <td>0.0550</td>\n",
       "      <td>7</td>\n",
       "      <td>length_short</td>\n",
       "    </tr>\n",
       "    <tr>\n",
       "      <th>...</th>\n",
       "      <td>...</td>\n",
       "      <td>...</td>\n",
       "      <td>...</td>\n",
       "      <td>...</td>\n",
       "      <td>...</td>\n",
       "      <td>...</td>\n",
       "      <td>...</td>\n",
       "      <td>...</td>\n",
       "      <td>...</td>\n",
       "      <td>...</td>\n",
       "    </tr>\n",
       "    <tr>\n",
       "      <th>4172</th>\n",
       "      <td>F</td>\n",
       "      <td>0.565</td>\n",
       "      <td>0.450</td>\n",
       "      <td>0.165</td>\n",
       "      <td>0.8870</td>\n",
       "      <td>0.3700</td>\n",
       "      <td>0.2390</td>\n",
       "      <td>0.2490</td>\n",
       "      <td>11</td>\n",
       "      <td>length_long</td>\n",
       "    </tr>\n",
       "    <tr>\n",
       "      <th>4173</th>\n",
       "      <td>M</td>\n",
       "      <td>0.590</td>\n",
       "      <td>0.440</td>\n",
       "      <td>0.135</td>\n",
       "      <td>0.9660</td>\n",
       "      <td>0.4390</td>\n",
       "      <td>0.2145</td>\n",
       "      <td>0.2605</td>\n",
       "      <td>10</td>\n",
       "      <td>length_long</td>\n",
       "    </tr>\n",
       "    <tr>\n",
       "      <th>4174</th>\n",
       "      <td>M</td>\n",
       "      <td>0.600</td>\n",
       "      <td>0.475</td>\n",
       "      <td>0.205</td>\n",
       "      <td>1.1760</td>\n",
       "      <td>0.5255</td>\n",
       "      <td>0.2875</td>\n",
       "      <td>0.3080</td>\n",
       "      <td>9</td>\n",
       "      <td>length_long</td>\n",
       "    </tr>\n",
       "    <tr>\n",
       "      <th>4175</th>\n",
       "      <td>F</td>\n",
       "      <td>0.625</td>\n",
       "      <td>0.485</td>\n",
       "      <td>0.150</td>\n",
       "      <td>1.0945</td>\n",
       "      <td>0.5310</td>\n",
       "      <td>0.2610</td>\n",
       "      <td>0.2960</td>\n",
       "      <td>10</td>\n",
       "      <td>length_long</td>\n",
       "    </tr>\n",
       "    <tr>\n",
       "      <th>4176</th>\n",
       "      <td>M</td>\n",
       "      <td>0.710</td>\n",
       "      <td>0.555</td>\n",
       "      <td>0.195</td>\n",
       "      <td>1.9485</td>\n",
       "      <td>0.9455</td>\n",
       "      <td>0.3765</td>\n",
       "      <td>0.4950</td>\n",
       "      <td>12</td>\n",
       "      <td>length_long</td>\n",
       "    </tr>\n",
       "  </tbody>\n",
       "</table>\n",
       "<p>4177 rows × 10 columns</p>\n",
       "</div>"
      ],
      "text/plain": [
       "     sex  length  diameter  height  whole weight  shcuked weight  \\\n",
       "0      M   0.455     0.365   0.095        0.5140          0.2245   \n",
       "1      M   0.350     0.265   0.090        0.2255          0.0995   \n",
       "2      F   0.530     0.420   0.135        0.6770          0.2565   \n",
       "3      M   0.440     0.365   0.125        0.5160          0.2155   \n",
       "4      I   0.330     0.255   0.080        0.2050          0.0895   \n",
       "...   ..     ...       ...     ...           ...             ...   \n",
       "4172   F   0.565     0.450   0.165        0.8870          0.3700   \n",
       "4173   M   0.590     0.440   0.135        0.9660          0.4390   \n",
       "4174   M   0.600     0.475   0.205        1.1760          0.5255   \n",
       "4175   F   0.625     0.485   0.150        1.0945          0.5310   \n",
       "4176   M   0.710     0.555   0.195        1.9485          0.9455   \n",
       "\n",
       "      viscera weight  shell weight  rings    length_med  \n",
       "0             0.1010        0.1500     15  length_short  \n",
       "1             0.0485        0.0700      7  length_short  \n",
       "2             0.1415        0.2100      9  length_short  \n",
       "3             0.1140        0.1550     10  length_short  \n",
       "4             0.0395        0.0550      7  length_short  \n",
       "...              ...           ...    ...           ...  \n",
       "4172          0.2390        0.2490     11   length_long  \n",
       "4173          0.2145        0.2605     10   length_long  \n",
       "4174          0.2875        0.3080      9   length_long  \n",
       "4175          0.2610        0.2960     10   length_long  \n",
       "4176          0.3765        0.4950     12   length_long  \n",
       "\n",
       "[4177 rows x 10 columns]"
      ]
     },
     "execution_count": 38,
     "metadata": {},
     "output_type": "execute_result"
    }
   ],
   "source": [
    "abalone['length_med'] = (abalone.length>abalone.length.median()).map({True:'length_long',False:'length_short'})\n",
    "abalone"
   ]
  },
  {
   "cell_type": "code",
   "execution_count": 39,
   "metadata": {},
   "outputs": [
    {
     "data": {
      "text/plain": [
       "0.545"
      ]
     },
     "execution_count": 39,
     "metadata": {},
     "output_type": "execute_result"
    }
   ],
   "source": [
    "abalone.length.median()"
   ]
  },
  {
   "cell_type": "code",
   "execution_count": 41,
   "metadata": {},
   "outputs": [
    {
     "data": {
      "text/plain": [
       "sex  length_med  \n",
       "F    length_long     1.261330\n",
       "     length_short    0.589702\n",
       "I    length_long     0.923215\n",
       "     length_short    0.351234\n",
       "M    length_long     1.255182\n",
       "     length_short    0.538157\n",
       "Name: whole weight, dtype: float64"
      ]
     },
     "execution_count": 41,
     "metadata": {},
     "output_type": "execute_result"
    }
   ],
   "source": [
    "mean_weight = abalone.groupby(['sex','length_med'])['whole weight'].mean()\n",
    "mean_weight"
   ]
  },
  {
   "cell_type": "code",
   "execution_count": 42,
   "metadata": {},
   "outputs": [
    {
     "data": {
      "text/html": [
       "<div>\n",
       "<style scoped>\n",
       "    .dataframe tbody tr th:only-of-type {\n",
       "        vertical-align: middle;\n",
       "    }\n",
       "\n",
       "    .dataframe tbody tr th {\n",
       "        vertical-align: top;\n",
       "    }\n",
       "\n",
       "    .dataframe thead th {\n",
       "        text-align: right;\n",
       "    }\n",
       "</style>\n",
       "<table border=\"1\" class=\"dataframe\">\n",
       "  <thead>\n",
       "    <tr style=\"text-align: right;\">\n",
       "      <th>length_med</th>\n",
       "      <th>length_long</th>\n",
       "      <th>length_short</th>\n",
       "    </tr>\n",
       "    <tr>\n",
       "      <th>sex</th>\n",
       "      <th></th>\n",
       "      <th></th>\n",
       "    </tr>\n",
       "  </thead>\n",
       "  <tbody>\n",
       "    <tr>\n",
       "      <th>F</th>\n",
       "      <td>1.261330</td>\n",
       "      <td>0.589702</td>\n",
       "    </tr>\n",
       "    <tr>\n",
       "      <th>I</th>\n",
       "      <td>0.923215</td>\n",
       "      <td>0.351234</td>\n",
       "    </tr>\n",
       "    <tr>\n",
       "      <th>M</th>\n",
       "      <td>1.255182</td>\n",
       "      <td>0.538157</td>\n",
       "    </tr>\n",
       "  </tbody>\n",
       "</table>\n",
       "</div>"
      ],
      "text/plain": [
       "length_med  length_long  length_short\n",
       "sex                                  \n",
       "F              1.261330      0.589702\n",
       "I              0.923215      0.351234\n",
       "M              1.255182      0.538157"
      ]
     },
     "execution_count": 42,
     "metadata": {},
     "output_type": "execute_result"
    }
   ],
   "source": [
    "mean_weight.unstack()"
   ]
  },
  {
   "cell_type": "code",
   "execution_count": 46,
   "metadata": {},
   "outputs": [],
   "source": [
    "k = abalone.groupby(['sex'])\n",
    "kk = [*k]"
   ]
  },
  {
   "cell_type": "code",
   "execution_count": 59,
   "metadata": {},
   "outputs": [
    {
     "data": {
      "text/plain": [
       "{'F': Int64Index([   2,    6,    7,    9,   10,   13,   14,   17,   22,   23,\n",
       "             ...\n",
       "             4139, 4140, 4141, 4143, 4159, 4160, 4161, 4168, 4172, 4175],\n",
       "            dtype='int64', length=1307),\n",
       " 'I': Int64Index([   4,    5,   16,   21,   42,   43,   44,   45,   48,   50,\n",
       "             ...\n",
       "             4151, 4152, 4153, 4154, 4155, 4158, 4163, 4164, 4165, 4166],\n",
       "            dtype='int64', length=1342),\n",
       " 'M': Int64Index([   0,    1,    3,    8,   11,   12,   15,   18,   19,   20,\n",
       "             ...\n",
       "             4156, 4157, 4162, 4167, 4169, 4170, 4171, 4173, 4174, 4176],\n",
       "            dtype='int64', length=1528)}"
      ]
     },
     "execution_count": 59,
     "metadata": {},
     "output_type": "execute_result"
    }
   ],
   "source": [
    "k.groups"
   ]
  },
  {
   "cell_type": "code",
   "execution_count": 61,
   "metadata": {},
   "outputs": [
    {
     "name": "stdout",
     "output_type": "stream",
     "text": [
      "F length_long\n",
      "   sex  length  diameter  height  whole weight  shcuked weight  \\\n",
      "9    F   0.550     0.440   0.150        0.8945          0.3145   \n",
      "22   F   0.565     0.440   0.155        0.9395          0.4275   \n",
      "23   F   0.550     0.415   0.135        0.7635          0.3180   \n",
      "24   F   0.615     0.480   0.165        1.1615          0.5130   \n",
      "25   F   0.560     0.440   0.140        0.9285          0.3825   \n",
      "\n",
      "    viscera weight  shell weight  rings   length_med  \n",
      "9            0.151         0.320     19  length_long  \n",
      "22           0.214         0.270     12  length_long  \n",
      "23           0.210         0.200      9  length_long  \n",
      "24           0.301         0.305     10  length_long  \n",
      "25           0.188         0.300     11  length_long  \n",
      "F length_short\n",
      "   sex  length  diameter  height  whole weight  shcuked weight  \\\n",
      "2    F   0.530     0.420   0.135        0.6770          0.2565   \n",
      "6    F   0.530     0.415   0.150        0.7775          0.2370   \n",
      "7    F   0.545     0.425   0.125        0.7680          0.2940   \n",
      "10   F   0.525     0.380   0.140        0.6065          0.1940   \n",
      "13   F   0.535     0.405   0.145        0.6845          0.2725   \n",
      "\n",
      "    viscera weight  shell weight  rings    length_med  \n",
      "2           0.1415         0.210      9  length_short  \n",
      "6           0.1415         0.330     20  length_short  \n",
      "7           0.1495         0.260     16  length_short  \n",
      "10          0.1475         0.210     14  length_short  \n",
      "13          0.1710         0.205     10  length_short  \n",
      "I length_long\n",
      "    sex  length  diameter  height  whole weight  shcuked weight  \\\n",
      "509   I   0.560     0.445   0.155        0.8735          0.3005   \n",
      "510   I   0.680     0.530   0.185        1.1095          0.4390   \n",
      "549   I   0.555     0.425   0.180        0.8750          0.3695   \n",
      "550   I   0.650     0.515   0.160        1.1625          0.4950   \n",
      "551   I   0.615     0.490   0.155        0.9885          0.4145   \n",
      "\n",
      "     viscera weight  shell weight  rings   length_med  \n",
      "509          0.2090         0.275     16  length_long  \n",
      "510          0.2450         0.340     10  length_long  \n",
      "549          0.2005         0.255     11  length_long  \n",
      "550          0.2030         0.330     17  length_long  \n",
      "551          0.1950         0.345     13  length_long  \n",
      "I length_short\n",
      "   sex  length  diameter  height  whole weight  shcuked weight  \\\n",
      "4    I   0.330     0.255   0.080        0.2050          0.0895   \n",
      "5    I   0.425     0.300   0.095        0.3515          0.1410   \n",
      "16   I   0.355     0.280   0.085        0.2905          0.0950   \n",
      "21   I   0.380     0.275   0.100        0.2255          0.0800   \n",
      "42   I   0.240     0.175   0.045        0.0700          0.0315   \n",
      "\n",
      "    viscera weight  shell weight  rings    length_med  \n",
      "4           0.0395         0.055      7  length_short  \n",
      "5           0.0775         0.120      8  length_short  \n",
      "16          0.0395         0.115      7  length_short  \n",
      "21          0.0490         0.085     10  length_short  \n",
      "42          0.0235         0.020      5  length_short  \n",
      "M length_long\n",
      "   sex  length  diameter  height  whole weight  shcuked weight  \\\n",
      "27   M   0.590     0.445   0.140        0.9310          0.3560   \n",
      "28   M   0.605     0.475   0.180        0.9365          0.3940   \n",
      "29   M   0.575     0.425   0.140        0.8635          0.3930   \n",
      "30   M   0.580     0.470   0.165        0.9975          0.3935   \n",
      "32   M   0.665     0.525   0.165        1.3380          0.5515   \n",
      "\n",
      "    viscera weight  shell weight  rings   length_med  \n",
      "27          0.2340         0.280     12  length_long  \n",
      "28          0.2190         0.295     15  length_long  \n",
      "29          0.2270         0.200     11  length_long  \n",
      "30          0.2420         0.330     10  length_long  \n",
      "32          0.3575         0.350     18  length_long  \n",
      "M length_short\n",
      "   sex  length  diameter  height  whole weight  shcuked weight  \\\n",
      "0    M   0.455     0.365   0.095        0.5140          0.2245   \n",
      "1    M   0.350     0.265   0.090        0.2255          0.0995   \n",
      "3    M   0.440     0.365   0.125        0.5160          0.2155   \n",
      "8    M   0.475     0.370   0.125        0.5095          0.2165   \n",
      "11   M   0.430     0.350   0.110        0.4060          0.1675   \n",
      "\n",
      "    viscera weight  shell weight  rings    length_med  \n",
      "0           0.1010         0.150     15  length_short  \n",
      "1           0.0485         0.070      7  length_short  \n",
      "3           0.1140         0.155     10  length_short  \n",
      "8           0.1125         0.165      9  length_short  \n",
      "11          0.0810         0.135     10  length_short  \n"
     ]
    }
   ],
   "source": [
    "for (sex,length_med),group_data in abalone.groupby(['sex','length_med'])[['whole weight','rings']]:\n",
    "    print(sex,length_med)\n",
    "    print(group_data[:5])"
   ]
  },
  {
   "cell_type": "code",
   "execution_count": 62,
   "metadata": {},
   "outputs": [
    {
     "data": {
      "text/html": [
       "<div>\n",
       "<style scoped>\n",
       "    .dataframe tbody tr th:only-of-type {\n",
       "        vertical-align: middle;\n",
       "    }\n",
       "\n",
       "    .dataframe tbody tr th {\n",
       "        vertical-align: top;\n",
       "    }\n",
       "\n",
       "    .dataframe thead th {\n",
       "        text-align: right;\n",
       "    }\n",
       "</style>\n",
       "<table border=\"1\" class=\"dataframe\">\n",
       "  <thead>\n",
       "    <tr style=\"text-align: right;\">\n",
       "      <th></th>\n",
       "      <th>id</th>\n",
       "      <th>name</th>\n",
       "    </tr>\n",
       "  </thead>\n",
       "  <tbody>\n",
       "    <tr>\n",
       "      <th>0</th>\n",
       "      <td>1</td>\n",
       "      <td>aa</td>\n",
       "    </tr>\n",
       "    <tr>\n",
       "      <th>1</th>\n",
       "      <td>2</td>\n",
       "      <td>aa2</td>\n",
       "    </tr>\n",
       "    <tr>\n",
       "      <th>2</th>\n",
       "      <td>10</td>\n",
       "      <td>aa3</td>\n",
       "    </tr>\n",
       "    <tr>\n",
       "      <th>3</th>\n",
       "      <td>20</td>\n",
       "      <td>aa4</td>\n",
       "    </tr>\n",
       "    <tr>\n",
       "      <th>4</th>\n",
       "      <td>100</td>\n",
       "      <td>aa5</td>\n",
       "    </tr>\n",
       "    <tr>\n",
       "      <th>5</th>\n",
       "      <td>200</td>\n",
       "      <td>aa6</td>\n",
       "    </tr>\n",
       "  </tbody>\n",
       "</table>\n",
       "</div>"
      ],
      "text/plain": [
       "    id name\n",
       "0    1   aa\n",
       "1    2  aa2\n",
       "2   10  aa3\n",
       "3   20  aa4\n",
       "4  100  aa5\n",
       "5  200  aa6"
      ]
     },
     "execution_count": 62,
     "metadata": {},
     "output_type": "execute_result"
    }
   ],
   "source": [
    "df = pd.DataFrame({\n",
    "    'id':[1,2,10,20,100,200],\n",
    "    'name':['aa','aa2','aa3','aa4','aa5','aa6']\n",
    "})\n",
    "df"
   ]
  },
  {
   "cell_type": "code",
   "execution_count": 69,
   "metadata": {},
   "outputs": [
    {
     "data": {
      "text/html": [
       "<div>\n",
       "<style scoped>\n",
       "    .dataframe tbody tr th:only-of-type {\n",
       "        vertical-align: middle;\n",
       "    }\n",
       "\n",
       "    .dataframe tbody tr th {\n",
       "        vertical-align: top;\n",
       "    }\n",
       "\n",
       "    .dataframe thead th {\n",
       "        text-align: right;\n",
       "    }\n",
       "</style>\n",
       "<table border=\"1\" class=\"dataframe\">\n",
       "  <thead>\n",
       "    <tr style=\"text-align: right;\">\n",
       "      <th></th>\n",
       "      <th>id</th>\n",
       "      <th>name</th>\n",
       "      <th>id2</th>\n",
       "    </tr>\n",
       "  </thead>\n",
       "  <tbody>\n",
       "    <tr>\n",
       "      <th>0</th>\n",
       "      <td>1</td>\n",
       "      <td>aa</td>\n",
       "      <td>00001</td>\n",
       "    </tr>\n",
       "    <tr>\n",
       "      <th>1</th>\n",
       "      <td>2</td>\n",
       "      <td>aa2</td>\n",
       "      <td>00002</td>\n",
       "    </tr>\n",
       "    <tr>\n",
       "      <th>2</th>\n",
       "      <td>10</td>\n",
       "      <td>aa3</td>\n",
       "      <td>00010</td>\n",
       "    </tr>\n",
       "    <tr>\n",
       "      <th>3</th>\n",
       "      <td>20</td>\n",
       "      <td>aa4</td>\n",
       "      <td>00020</td>\n",
       "    </tr>\n",
       "    <tr>\n",
       "      <th>4</th>\n",
       "      <td>100</td>\n",
       "      <td>aa5</td>\n",
       "      <td>00100</td>\n",
       "    </tr>\n",
       "    <tr>\n",
       "      <th>5</th>\n",
       "      <td>200</td>\n",
       "      <td>aa6</td>\n",
       "      <td>00200</td>\n",
       "    </tr>\n",
       "  </tbody>\n",
       "</table>\n",
       "</div>"
      ],
      "text/plain": [
       "    id name    id2\n",
       "0    1   aa  00001\n",
       "1    2  aa2  00002\n",
       "2   10  aa3  00010\n",
       "3   20  aa4  00020\n",
       "4  100  aa5  00100\n",
       "5  200  aa6  00200"
      ]
     },
     "execution_count": 69,
     "metadata": {},
     "output_type": "execute_result"
    }
   ],
   "source": [
    "df['id2'] = df.id.map(lambda x : '0'*(5-len(str(x)))+str(x))\n",
    "df"
   ]
  },
  {
   "cell_type": "markdown",
   "metadata": {},
   "source": [
    "### 포메팅 참고  \n",
    "### [링크](https://mkaz.blog/code/python-string-format-cookbook/)"
   ]
  },
  {
   "cell_type": "code",
   "execution_count": null,
   "metadata": {},
   "outputs": [],
   "source": []
  }
 ],
 "metadata": {
  "kernelspec": {
   "display_name": "Python 3",
   "language": "python",
   "name": "python3"
  },
  "language_info": {
   "codemirror_mode": {
    "name": "ipython",
    "version": 3
   },
   "file_extension": ".py",
   "mimetype": "text/x-python",
   "name": "python",
   "nbconvert_exporter": "python",
   "pygments_lexer": "ipython3",
   "version": "3.8.3"
  }
 },
 "nbformat": 4,
 "nbformat_minor": 4
}
