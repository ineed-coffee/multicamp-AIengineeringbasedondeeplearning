{
 "cells": [
  {
   "cell_type": "markdown",
   "metadata": {},
   "source": [
    "# Flow  \n",
    "## 1. Read&Merge train,test files  \n",
    "## 2. Drop columns from missing value threshold  \n",
    "## 3. Split types (numeric , object)  \n",
    "## 4. Fill fake NA  \n",
    "## 5. Impute actual NA  \n",
    "## 6. Scale shift (numeric)  \n",
    "## 7. Scale shift (object)  \n",
    "## 8. Split data (train , test)  \n",
    "## 9. Create model & optimize parameters  \n",
    "## 10. Make submit file & visualize model performance"
   ]
  },
  {
   "cell_type": "markdown",
   "metadata": {},
   "source": [
    "### 1. Read&Merge train,test files"
   ]
  },
  {
   "cell_type": "code",
   "execution_count": 1,
   "metadata": {},
   "outputs": [],
   "source": [
    "import pandas as pd\n",
    "import numpy as np\n",
    "import matplotlib.pyplot as plt\n",
    "import seaborn as sns\n",
    "sns.set()"
   ]
  },
  {
   "cell_type": "code",
   "execution_count": 2,
   "metadata": {},
   "outputs": [],
   "source": [
    "filepath='D:/downloads/house-prices-advanced-regression-techniques/'\n",
    "train = pd.read_csv(filepath+'train.csv')\n",
    "test = pd.read_csv(filepath+'test.csv')\n",
    "split_point = train.shape[0]\n",
    "data = train.drop('SalePrice',axis=1).append(test,ignore_index=True)"
   ]
  },
  {
   "cell_type": "code",
   "execution_count": 3,
   "metadata": {
    "scrolled": false
   },
   "outputs": [
    {
     "data": {
      "text/plain": [
       "PoolQC          2909\n",
       "MiscFeature     2814\n",
       "Alley           2721\n",
       "Fence           2348\n",
       "FireplaceQu     1420\n",
       "LotFrontage      486\n",
       "GarageFinish     159\n",
       "GarageYrBlt      159\n",
       "GarageQual       159\n",
       "GarageCond       159\n",
       "GarageType       157\n",
       "BsmtExposure      82\n",
       "BsmtCond          82\n",
       "BsmtQual          81\n",
       "BsmtFinType2      80\n",
       "BsmtFinType1      79\n",
       "MasVnrType        24\n",
       "MasVnrArea        23\n",
       "MSZoning           4\n",
       "BsmtFullBath       2\n",
       "BsmtHalfBath       2\n",
       "Utilities          2\n",
       "Functional         2\n",
       "Exterior2nd        1\n",
       "Exterior1st        1\n",
       "SaleType           1\n",
       "BsmtFinSF1         1\n",
       "BsmtFinSF2         1\n",
       "BsmtUnfSF          1\n",
       "Electrical         1\n",
       "KitchenQual        1\n",
       "GarageCars         1\n",
       "GarageArea         1\n",
       "TotalBsmtSF        1\n",
       "dtype: int64"
      ]
     },
     "execution_count": 3,
     "metadata": {},
     "output_type": "execute_result"
    }
   ],
   "source": [
    "data.isnull().sum()[data.isnull().sum()>0].sort_values(ascending=False)"
   ]
  },
  {
   "cell_type": "markdown",
   "metadata": {},
   "source": [
    "### 2. Threshold : 100 (more than 100 missing NA values) "
   ]
  },
  {
   "cell_type": "code",
   "execution_count": 4,
   "metadata": {},
   "outputs": [
    {
     "data": {
      "text/plain": [
       "array(['LotFrontage', 'Alley', 'FireplaceQu', 'GarageType', 'GarageYrBlt',\n",
       "       'GarageFinish', 'GarageQual', 'GarageCond', 'PoolQC', 'Fence',\n",
       "       'MiscFeature'], dtype=object)"
      ]
     },
     "execution_count": 4,
     "metadata": {},
     "output_type": "execute_result"
    }
   ],
   "source": [
    "threshold = 100\n",
    "drop_cols = data.isnull().sum()[data.isnull().sum()>threshold].index.values\n",
    "drop_cols"
   ]
  },
  {
   "cell_type": "markdown",
   "metadata": {},
   "source": [
    "drop colunms above threshold + useless column (Id)"
   ]
  },
  {
   "cell_type": "code",
   "execution_count": 5,
   "metadata": {},
   "outputs": [],
   "source": [
    "data = data.drop(drop_cols,axis=1)\n",
    "data = data.drop('Id',axis=1)"
   ]
  },
  {
   "cell_type": "markdown",
   "metadata": {},
   "source": [
    "### 3. Split types : numeric , object"
   ]
  },
  {
   "cell_type": "code",
   "execution_count": 6,
   "metadata": {},
   "outputs": [],
   "source": [
    "object_cols = data.columns[data.columns.map(lambda x : data[x].dtype) == 'object']\n",
    "numeric_cols = data.columns[data.columns.map(lambda x : data[x].dtype) != 'object']"
   ]
  },
  {
   "cell_type": "markdown",
   "metadata": {},
   "source": [
    "numeric type columns with na values"
   ]
  },
  {
   "cell_type": "code",
   "execution_count": 7,
   "metadata": {
    "scrolled": true
   },
   "outputs": [
    {
     "data": {
      "text/plain": [
       "MasVnrArea      23\n",
       "BsmtFinSF1       1\n",
       "BsmtFinSF2       1\n",
       "BsmtUnfSF        1\n",
       "TotalBsmtSF      1\n",
       "BsmtFullBath     2\n",
       "BsmtHalfBath     2\n",
       "GarageCars       1\n",
       "GarageArea       1\n",
       "dtype: int64"
      ]
     },
     "execution_count": 7,
     "metadata": {},
     "output_type": "execute_result"
    }
   ],
   "source": [
    "data[numeric_cols].isnull().sum()[data[numeric_cols].isnull().sum()>0]"
   ]
  },
  {
   "cell_type": "markdown",
   "metadata": {},
   "source": [
    "object type columns with na values"
   ]
  },
  {
   "cell_type": "code",
   "execution_count": 8,
   "metadata": {
    "scrolled": false
   },
   "outputs": [
    {
     "data": {
      "text/plain": [
       "MSZoning         4\n",
       "Utilities        2\n",
       "Exterior1st      1\n",
       "Exterior2nd      1\n",
       "MasVnrType      24\n",
       "BsmtQual        81\n",
       "BsmtCond        82\n",
       "BsmtExposure    82\n",
       "BsmtFinType1    79\n",
       "BsmtFinType2    80\n",
       "Electrical       1\n",
       "KitchenQual      1\n",
       "Functional       2\n",
       "SaleType         1\n",
       "dtype: int64"
      ]
     },
     "execution_count": 8,
     "metadata": {},
     "output_type": "execute_result"
    }
   ],
   "source": [
    "data[object_cols].isnull().sum()[data[object_cols].isnull().sum()>0]"
   ]
  },
  {
   "cell_type": "markdown",
   "metadata": {},
   "source": [
    "### 4. Fill fake na values with relative groups (where nan actually means something)  \n",
    "1. __`group 1`__  \n",
    "    - MasVnrArea , MasVnrType  \n",
    "2. __`group 2`__  \n",
    "    - BsmtFinSF1 , BsmtFinSF2 , BsmtUnfSF , TotalBsmtSF , BsmtQual , BsmtCond , BsmtExposure , BsmtFinType1 , BsmtFinType2  \n",
    "3. __`group 3`__  \n",
    "    - Exterior1st , Exterior2nd  "
   ]
  },
  {
   "cell_type": "markdown",
   "metadata": {},
   "source": [
    "__`group 1` : MasVnrArea , MasVnrType__"
   ]
  },
  {
   "cell_type": "code",
   "execution_count": 9,
   "metadata": {},
   "outputs": [],
   "source": [
    "group1 = ['MasVnrArea','MasVnrType']"
   ]
  },
  {
   "cell_type": "markdown",
   "metadata": {},
   "source": [
    "incorrect MasVnrType to 'None'"
   ]
  },
  {
   "cell_type": "code",
   "execution_count": 10,
   "metadata": {},
   "outputs": [
    {
     "name": "stdout",
     "output_type": "stream",
     "text": [
      "      MasVnrArea MasVnrType\n",
      "688          0.0    BrkFace\n",
      "1241         0.0      Stone\n",
      "2319         0.0    BrkFace\n"
     ]
    }
   ],
   "source": [
    "print(data[group1][(data.MasVnrArea==0) & (data.MasVnrType!='None')])\n",
    "idx = data[(data.MasVnrArea==0) & (data.MasVnrType!='None')].index.values\n",
    "data.loc[idx,'MasVnrType'] = 'None'"
   ]
  },
  {
   "cell_type": "markdown",
   "metadata": {},
   "source": [
    "incorrect MasVnrArea to '0.0'"
   ]
  },
  {
   "cell_type": "code",
   "execution_count": 11,
   "metadata": {},
   "outputs": [
    {
     "name": "stdout",
     "output_type": "stream",
     "text": [
      "      MasVnrArea MasVnrType\n",
      "624        288.0       None\n",
      "773          1.0       None\n",
      "1230         1.0       None\n",
      "1300       344.0       None\n",
      "1334       312.0       None\n",
      "1669       285.0       None\n",
      "2452         1.0       None\n"
     ]
    }
   ],
   "source": [
    "print(data[group1][(data.MasVnrArea!=0) & (data.MasVnrType=='None')])\n",
    "idx = data[(data.MasVnrArea!=0) & (data.MasVnrType=='None')].index.values\n",
    "data.loc[idx,'MasVnrArea'] = 0"
   ]
  },
  {
   "cell_type": "markdown",
   "metadata": {},
   "source": [
    "fill common nan row with {'MasVnrType':'None' , 'MasVnrArea':0}"
   ]
  },
  {
   "cell_type": "code",
   "execution_count": 12,
   "metadata": {
    "scrolled": false
   },
   "outputs": [
    {
     "name": "stdout",
     "output_type": "stream",
     "text": [
      "      MasVnrArea MasVnrType\n",
      "234          NaN        NaN\n",
      "529          NaN        NaN\n",
      "650          NaN        NaN\n",
      "936          NaN        NaN\n",
      "973          NaN        NaN\n",
      "977          NaN        NaN\n",
      "1243         NaN        NaN\n",
      "1278         NaN        NaN\n",
      "1691         NaN        NaN\n",
      "1706         NaN        NaN\n",
      "1882         NaN        NaN\n",
      "1992         NaN        NaN\n",
      "2004         NaN        NaN\n",
      "2041         NaN        NaN\n",
      "2311         NaN        NaN\n",
      "2325         NaN        NaN\n",
      "2340         NaN        NaN\n",
      "2349         NaN        NaN\n",
      "2368         NaN        NaN\n",
      "2592         NaN        NaN\n",
      "2657         NaN        NaN\n",
      "2686         NaN        NaN\n",
      "2862         NaN        NaN\n"
     ]
    }
   ],
   "source": [
    "print(data[group1][(data.MasVnrArea.isnull()) & (data.MasVnrType.isnull())])\n",
    "idx = data[(data.MasVnrArea.isnull()) & (data.MasVnrType.isnull())].index.values\n",
    "data.loc[idx,'MasVnrArea'] = 0\n",
    "data.loc[idx,'MasVnrType'] = 'None'"
   ]
  },
  {
   "cell_type": "markdown",
   "metadata": {},
   "source": [
    "Remaining actual na values"
   ]
  },
  {
   "cell_type": "code",
   "execution_count": 13,
   "metadata": {},
   "outputs": [
    {
     "data": {
      "text/plain": [
       "MasVnrArea    0\n",
       "MasVnrType    1\n",
       "dtype: int64"
      ]
     },
     "execution_count": 13,
     "metadata": {},
     "output_type": "execute_result"
    }
   ],
   "source": [
    "data[group1].isnull().sum()"
   ]
  },
  {
   "cell_type": "markdown",
   "metadata": {},
   "source": [
    "__`group 2` : BsmtFinSF1 , BsmtFinSF2 , BsmtUnfSF , TotalBsmtSF , BsmtQual , BsmtCond , BsmtExposure , BsmtFinType1 , BsmtFinType2__  "
   ]
  },
  {
   "cell_type": "code",
   "execution_count": 14,
   "metadata": {},
   "outputs": [],
   "source": [
    "group2 = ['BsmtFinSF1' , 'BsmtFinSF2' , 'BsmtUnfSF' , 'TotalBsmtSF' ,\n",
    "          'BsmtQual' , 'BsmtCond' , 'BsmtExposure' , 'BsmtFinType1' , 'BsmtFinType2']"
   ]
  },
  {
   "cell_type": "markdown",
   "metadata": {},
   "source": [
    "common object type rows with na values ==> 79"
   ]
  },
  {
   "cell_type": "code",
   "execution_count": 15,
   "metadata": {},
   "outputs": [
    {
     "data": {
      "text/plain": [
       "BsmtQual        81\n",
       "BsmtCond        82\n",
       "BsmtExposure    82\n",
       "BsmtFinType1    79\n",
       "BsmtFinType2    80\n",
       "dtype: int64"
      ]
     },
     "execution_count": 15,
     "metadata": {},
     "output_type": "execute_result"
    }
   ],
   "source": [
    "data[['BsmtQual' , 'BsmtCond' , 'BsmtExposure' , 'BsmtFinType1' , 'BsmtFinType2']].isnull().sum()"
   ]
  },
  {
   "cell_type": "markdown",
   "metadata": {},
   "source": [
    "check if other columns have na values as well ==> okay"
   ]
  },
  {
   "cell_type": "code",
   "execution_count": 16,
   "metadata": {
    "scrolled": true
   },
   "outputs": [
    {
     "data": {
      "text/plain": [
       "BsmtQual        79\n",
       "BsmtCond        79\n",
       "BsmtExposure    79\n",
       "BsmtFinType2    79\n",
       "dtype: int64"
      ]
     },
     "execution_count": 16,
     "metadata": {},
     "output_type": "execute_result"
    }
   ],
   "source": [
    "idx = data[data.BsmtFinType1.isnull()].index.values\n",
    "data.loc[idx,['BsmtQual' , 'BsmtCond' , 'BsmtExposure' , 'BsmtFinType2']].isnull().sum()"
   ]
  },
  {
   "cell_type": "markdown",
   "metadata": {},
   "source": [
    "fill common row with 'NA' (no basement)"
   ]
  },
  {
   "cell_type": "code",
   "execution_count": 17,
   "metadata": {},
   "outputs": [],
   "source": [
    "data.loc[idx,['BsmtQual' , 'BsmtCond' , 'BsmtExposure' , 'BsmtFinType1' , 'BsmtFinType2']] = 'NA'"
   ]
  },
  {
   "cell_type": "markdown",
   "metadata": {},
   "source": [
    "common numeric type rows with na values ==> 1  \n",
    "check if other columns have na value as well ==> okay"
   ]
  },
  {
   "cell_type": "code",
   "execution_count": 18,
   "metadata": {},
   "outputs": [
    {
     "name": "stdout",
     "output_type": "stream",
     "text": [
      "Int64Index([2120], dtype='int64')\n",
      "Int64Index([2120], dtype='int64')\n",
      "Int64Index([2120], dtype='int64')\n",
      "Int64Index([2120], dtype='int64')\n"
     ]
    },
    {
     "data": {
      "text/html": [
       "<div>\n",
       "<style scoped>\n",
       "    .dataframe tbody tr th:only-of-type {\n",
       "        vertical-align: middle;\n",
       "    }\n",
       "\n",
       "    .dataframe tbody tr th {\n",
       "        vertical-align: top;\n",
       "    }\n",
       "\n",
       "    .dataframe thead th {\n",
       "        text-align: right;\n",
       "    }\n",
       "</style>\n",
       "<table border=\"1\" class=\"dataframe\">\n",
       "  <thead>\n",
       "    <tr style=\"text-align: right;\">\n",
       "      <th></th>\n",
       "      <th>BsmtQual</th>\n",
       "      <th>BsmtCond</th>\n",
       "      <th>BsmtExposure</th>\n",
       "      <th>BsmtFinType1</th>\n",
       "      <th>BsmtFinType2</th>\n",
       "    </tr>\n",
       "  </thead>\n",
       "  <tbody>\n",
       "    <tr>\n",
       "      <th>2120</th>\n",
       "      <td>NA</td>\n",
       "      <td>NA</td>\n",
       "      <td>NA</td>\n",
       "      <td>NA</td>\n",
       "      <td>NA</td>\n",
       "    </tr>\n",
       "  </tbody>\n",
       "</table>\n",
       "</div>"
      ],
      "text/plain": [
       "     BsmtQual BsmtCond BsmtExposure BsmtFinType1 BsmtFinType2\n",
       "2120       NA       NA           NA           NA           NA"
      ]
     },
     "execution_count": 18,
     "metadata": {},
     "output_type": "execute_result"
    }
   ],
   "source": [
    "print(data[group2][data.BsmtFinSF1.isnull()].index)\n",
    "print(data[group2][data.BsmtFinSF2.isnull()].index)\n",
    "print(data[group2][data.BsmtUnfSF.isnull()].index)\n",
    "print(data[group2][data.TotalBsmtSF.isnull()].index)\n",
    "data[group2[4:]][data.BsmtFinSF2.isnull()]"
   ]
  },
  {
   "cell_type": "markdown",
   "metadata": {},
   "source": [
    "fill common row with 0"
   ]
  },
  {
   "cell_type": "code",
   "execution_count": 19,
   "metadata": {},
   "outputs": [],
   "source": [
    "data.loc[2120,group2[:4]]=0"
   ]
  },
  {
   "cell_type": "markdown",
   "metadata": {},
   "source": [
    "Remaining actual na values"
   ]
  },
  {
   "cell_type": "code",
   "execution_count": 20,
   "metadata": {},
   "outputs": [
    {
     "data": {
      "text/plain": [
       "BsmtFinSF1      0\n",
       "BsmtFinSF2      0\n",
       "BsmtUnfSF       0\n",
       "TotalBsmtSF     0\n",
       "BsmtQual        2\n",
       "BsmtCond        3\n",
       "BsmtExposure    3\n",
       "BsmtFinType1    0\n",
       "BsmtFinType2    1\n",
       "dtype: int64"
      ]
     },
     "execution_count": 20,
     "metadata": {},
     "output_type": "execute_result"
    }
   ],
   "source": [
    "data[group2].isnull().sum()"
   ]
  },
  {
   "cell_type": "markdown",
   "metadata": {},
   "source": [
    "__`group 3` : Exterior1st , Exterior2nd__  "
   ]
  },
  {
   "cell_type": "code",
   "execution_count": 21,
   "metadata": {},
   "outputs": [],
   "source": [
    "group3 = ['Exterior1st','Exterior2nd']"
   ]
  },
  {
   "cell_type": "markdown",
   "metadata": {},
   "source": [
    "common object type rows with na values ==> 1"
   ]
  },
  {
   "cell_type": "code",
   "execution_count": 22,
   "metadata": {},
   "outputs": [
    {
     "data": {
      "text/plain": [
       "Exterior1st    1\n",
       "Exterior2nd    1\n",
       "dtype: int64"
      ]
     },
     "execution_count": 22,
     "metadata": {},
     "output_type": "execute_result"
    }
   ],
   "source": [
    "data[group3].isnull().sum()"
   ]
  },
  {
   "cell_type": "markdown",
   "metadata": {},
   "source": [
    "check if other column have na value as well ==> okay"
   ]
  },
  {
   "cell_type": "code",
   "execution_count": 23,
   "metadata": {},
   "outputs": [
    {
     "data": {
      "text/html": [
       "<div>\n",
       "<style scoped>\n",
       "    .dataframe tbody tr th:only-of-type {\n",
       "        vertical-align: middle;\n",
       "    }\n",
       "\n",
       "    .dataframe tbody tr th {\n",
       "        vertical-align: top;\n",
       "    }\n",
       "\n",
       "    .dataframe thead th {\n",
       "        text-align: right;\n",
       "    }\n",
       "</style>\n",
       "<table border=\"1\" class=\"dataframe\">\n",
       "  <thead>\n",
       "    <tr style=\"text-align: right;\">\n",
       "      <th></th>\n",
       "      <th>Exterior1st</th>\n",
       "      <th>Exterior2nd</th>\n",
       "    </tr>\n",
       "  </thead>\n",
       "  <tbody>\n",
       "    <tr>\n",
       "      <th>2151</th>\n",
       "      <td>NaN</td>\n",
       "      <td>NaN</td>\n",
       "    </tr>\n",
       "  </tbody>\n",
       "</table>\n",
       "</div>"
      ],
      "text/plain": [
       "     Exterior1st Exterior2nd\n",
       "2151         NaN         NaN"
      ]
     },
     "execution_count": 23,
     "metadata": {},
     "output_type": "execute_result"
    }
   ],
   "source": [
    "data[group3][data.Exterior1st.isnull()]"
   ]
  },
  {
   "cell_type": "markdown",
   "metadata": {},
   "source": [
    "fill common row with 'Other'"
   ]
  },
  {
   "cell_type": "code",
   "execution_count": 24,
   "metadata": {},
   "outputs": [],
   "source": [
    "data.loc[2151,group3] = 'Other'"
   ]
  },
  {
   "cell_type": "markdown",
   "metadata": {},
   "source": [
    "Remaining actual na values"
   ]
  },
  {
   "cell_type": "code",
   "execution_count": 25,
   "metadata": {},
   "outputs": [
    {
     "data": {
      "text/plain": [
       "Exterior1st    0\n",
       "Exterior2nd    0\n",
       "dtype: int64"
      ]
     },
     "execution_count": 25,
     "metadata": {},
     "output_type": "execute_result"
    }
   ],
   "source": [
    "data[group3].isnull().sum()"
   ]
  },
  {
   "cell_type": "markdown",
   "metadata": {},
   "source": [
    "### 5. Actual na values"
   ]
  },
  {
   "cell_type": "markdown",
   "metadata": {},
   "source": [
    "__`numeric type columns`__"
   ]
  },
  {
   "cell_type": "code",
   "execution_count": 26,
   "metadata": {
    "scrolled": true
   },
   "outputs": [
    {
     "data": {
      "text/plain": [
       "BsmtFullBath    2\n",
       "BsmtHalfBath    2\n",
       "GarageCars      1\n",
       "GarageArea      1\n",
       "dtype: int64"
      ]
     },
     "execution_count": 26,
     "metadata": {},
     "output_type": "execute_result"
    }
   ],
   "source": [
    "data[numeric_cols].isnull().sum()[data[numeric_cols].isnull().sum()>0]"
   ]
  },
  {
   "cell_type": "markdown",
   "metadata": {},
   "source": [
    "BsmtFullBath , BsmtHalfBath ==> check if basement exist ==> X"
   ]
  },
  {
   "cell_type": "code",
   "execution_count": 27,
   "metadata": {},
   "outputs": [
    {
     "name": "stdout",
     "output_type": "stream",
     "text": [
      "     BsmtQual BsmtCond BsmtExposure BsmtFinType1 BsmtFinType2\n",
      "2120       NA       NA           NA           NA           NA\n",
      "2188       NA       NA           NA           NA           NA\n",
      "============================================================\n",
      "     BsmtQual BsmtCond BsmtExposure BsmtFinType1 BsmtFinType2\n",
      "2120       NA       NA           NA           NA           NA\n",
      "2188       NA       NA           NA           NA           NA\n"
     ]
    }
   ],
   "source": [
    "print(data[group2[4:]][data.BsmtFullBath.isnull()])\n",
    "print('='*60)\n",
    "print(data[group2[4:]][data.BsmtHalfBath.isnull()])"
   ]
  },
  {
   "cell_type": "markdown",
   "metadata": {},
   "source": [
    "fill both rows with 0"
   ]
  },
  {
   "cell_type": "code",
   "execution_count": 28,
   "metadata": {},
   "outputs": [],
   "source": [
    "data.BsmtFullBath.fillna(0,inplace=True)\n",
    "data.BsmtHalfBath.fillna(0,inplace=True)"
   ]
  },
  {
   "cell_type": "markdown",
   "metadata": {},
   "source": [
    "GarageCars ==> random choice from value_counts(normalize=True)"
   ]
  },
  {
   "cell_type": "code",
   "execution_count": 29,
   "metadata": {},
   "outputs": [],
   "source": [
    "pocket=data.GarageCars.value_counts().index.to_list()\n",
    "prob = (data.GarageCars.value_counts()/(data.shape[0]-1)).values.tolist()\n",
    "data.GarageCars.fillna(np.random.choice(pocket,p=prob),inplace=True)"
   ]
  },
  {
   "cell_type": "markdown",
   "metadata": {},
   "source": [
    "GarageArea ==> impute mean value"
   ]
  },
  {
   "cell_type": "code",
   "execution_count": 30,
   "metadata": {},
   "outputs": [],
   "source": [
    "data.GarageArea.fillna(data.GarageArea.mean(),inplace=True)"
   ]
  },
  {
   "cell_type": "markdown",
   "metadata": {},
   "source": [
    "No remaining numeric type columns with na values"
   ]
  },
  {
   "cell_type": "code",
   "execution_count": 31,
   "metadata": {
    "scrolled": true
   },
   "outputs": [
    {
     "data": {
      "text/plain": [
       "Series([], dtype: int64)"
      ]
     },
     "execution_count": 31,
     "metadata": {},
     "output_type": "execute_result"
    }
   ],
   "source": [
    "data[numeric_cols].isnull().sum()[data[numeric_cols].isnull().sum()>0]"
   ]
  },
  {
   "cell_type": "markdown",
   "metadata": {},
   "source": [
    "__`object type columns`__"
   ]
  },
  {
   "cell_type": "code",
   "execution_count": 32,
   "metadata": {
    "scrolled": true
   },
   "outputs": [
    {
     "data": {
      "text/plain": [
       "MSZoning        4\n",
       "Utilities       2\n",
       "MasVnrType      1\n",
       "BsmtQual        2\n",
       "BsmtCond        3\n",
       "BsmtExposure    3\n",
       "BsmtFinType2    1\n",
       "Electrical      1\n",
       "KitchenQual     1\n",
       "Functional      2\n",
       "SaleType        1\n",
       "dtype: int64"
      ]
     },
     "execution_count": 32,
     "metadata": {},
     "output_type": "execute_result"
    }
   ],
   "source": [
    "missing_cols = data[object_cols].isnull().sum()[data[object_cols].isnull().sum()>0]\n",
    "missing_cols"
   ]
  },
  {
   "cell_type": "markdown",
   "metadata": {},
   "source": [
    "same logic to all columns : random choice from value_counts(normalize=True)"
   ]
  },
  {
   "cell_type": "code",
   "execution_count": 33,
   "metadata": {},
   "outputs": [],
   "source": [
    "for col in missing_cols.index:\n",
    "    missing_cnt = data[col].isnull().sum()\n",
    "    pocket=data[col].value_counts().index.to_list()\n",
    "    prob = (data[col].value_counts()/(data.shape[0]-missing_cnt)).values.tolist()\n",
    "    data[col].fillna(np.random.choice(pocket,p=prob),inplace=True)"
   ]
  },
  {
   "cell_type": "markdown",
   "metadata": {},
   "source": [
    "No remaining object type columns with na values"
   ]
  },
  {
   "cell_type": "code",
   "execution_count": 34,
   "metadata": {},
   "outputs": [
    {
     "data": {
      "text/plain": [
       "Series([], dtype: int64)"
      ]
     },
     "execution_count": 34,
     "metadata": {},
     "output_type": "execute_result"
    }
   ],
   "source": [
    "data[object_cols].isnull().sum()[data[object_cols].isnull().sum()>0]"
   ]
  },
  {
   "cell_type": "markdown",
   "metadata": {},
   "source": [
    "### 6. Scale Shift (Skewness , Normalize) : numeric type columns"
   ]
  },
  {
   "cell_type": "markdown",
   "metadata": {},
   "source": [
    "columns having absolute skewness value over 2"
   ]
  },
  {
   "cell_type": "code",
   "execution_count": 35,
   "metadata": {},
   "outputs": [
    {
     "data": {
      "text/plain": [
       "LotArea          12.829025\n",
       "MasVnrArea        2.625083\n",
       "BsmtFinSF2        4.148275\n",
       "LowQualFinSF     12.094977\n",
       "BsmtHalfBath      3.933616\n",
       "KitchenAbvGr      4.304467\n",
       "OpenPorchSF       2.536417\n",
       "EnclosedPorch     4.005950\n",
       "3SsnPorch        11.381914\n",
       "ScreenPorch       3.948723\n",
       "PoolArea         16.907017\n",
       "MiscVal          21.958480\n",
       "dtype: float64"
      ]
     },
     "execution_count": 35,
     "metadata": {},
     "output_type": "execute_result"
    }
   ],
   "source": [
    "data[numeric_cols].skew()[np.abs(data[numeric_cols].skew())>2]"
   ]
  },
  {
   "cell_type": "markdown",
   "metadata": {},
   "source": [
    "apply log-scale if reduces skewness"
   ]
  },
  {
   "cell_type": "code",
   "execution_count": 36,
   "metadata": {},
   "outputs": [],
   "source": [
    "high_skew = data[numeric_cols].skew()[np.abs(data[numeric_cols].skew())>2].index\n",
    "for col in high_skew:\n",
    "    log_scaled = data[col].map(np.log1p)\n",
    "    if np.abs(log_scaled.skew())<np.abs(data[col].skew()):\n",
    "        data[col] = log_scaled"
   ]
  },
  {
   "cell_type": "markdown",
   "metadata": {},
   "source": [
    "Normalize remaining numeric type columns"
   ]
  },
  {
   "cell_type": "code",
   "execution_count": 37,
   "metadata": {},
   "outputs": [],
   "source": [
    "from sklearn.preprocessing import StandardScaler,MinMaxScaler,Normalizer\n",
    "\n",
    "for col in numeric_cols:\n",
    "    data[col] = StandardScaler().fit_transform(data[col].values.reshape(-1,1))"
   ]
  },
  {
   "cell_type": "markdown",
   "metadata": {},
   "source": [
    "Columns having correlation above 0.5 with log-scaled 'SalePrice'"
   ]
  },
  {
   "cell_type": "code",
   "execution_count": 38,
   "metadata": {},
   "outputs": [
    {
     "data": {
      "text/plain": [
       "OverallQual     0.817184\n",
       "GrLivArea       0.700927\n",
       "GarageCars      0.680625\n",
       "GarageArea      0.650888\n",
       "TotalBsmtSF     0.612134\n",
       "1stFlrSF        0.596981\n",
       "FullBath        0.594771\n",
       "YearBuilt       0.586570\n",
       "YearRemodAdd    0.565608\n",
       "TotRmsAbvGrd    0.534422\n",
       "Name: ABS, dtype: float64"
      ]
     },
     "execution_count": 38,
     "metadata": {},
     "output_type": "execute_result"
    }
   ],
   "source": [
    "numeric_corr = pd.concat([data[numeric_cols].iloc[:split_point],train['SalePrice'].apply(np.log)],axis=1).corr()\n",
    "numeric_corr['ABS'] = numeric_corr.SalePrice.map(np.abs)\n",
    "numeric_corr.ABS[(numeric_corr.ABS>0.5)&(numeric_corr.ABS<1)].sort_values(ascending=False)"
   ]
  },
  {
   "cell_type": "markdown",
   "metadata": {},
   "source": [
    "### 7. Scale Shift (Labeling , One-Hot-Encoding , Normalize) : object type columns"
   ]
  },
  {
   "cell_type": "code",
   "execution_count": 39,
   "metadata": {},
   "outputs": [],
   "source": [
    "from sklearn.preprocessing import LabelEncoder\n",
    "from sklearn.preprocessing import OneHotEncoder"
   ]
  },
  {
   "cell_type": "markdown",
   "metadata": {},
   "source": [
    "split norminal var. VS ordinal var.  \n",
    "- ex ) norminal : blue, red, yellow, ...  \n",
    "- ex ) ordinal  : small, medium, large, ...   "
   ]
  },
  {
   "cell_type": "code",
   "execution_count": 40,
   "metadata": {},
   "outputs": [
    {
     "name": "stdout",
     "output_type": "stream",
     "text": [
      "Index(['MSZoning', 'Street', 'LotShape', 'LandContour', 'Utilities',\n",
      "       'LotConfig', 'LandSlope', 'Neighborhood', 'Condition1', 'Condition2',\n",
      "       'BldgType', 'HouseStyle', 'RoofStyle', 'RoofMatl', 'Exterior1st',\n",
      "       'Exterior2nd', 'MasVnrType', 'ExterQual', 'ExterCond', 'Foundation',\n",
      "       'BsmtQual', 'BsmtCond', 'BsmtExposure', 'BsmtFinType1', 'BsmtFinType2',\n",
      "       'Heating', 'HeatingQC', 'CentralAir', 'Electrical', 'KitchenQual',\n",
      "       'Functional', 'PavedDrive', 'SaleType', 'SaleCondition'],\n",
      "      dtype='object')\n"
     ]
    }
   ],
   "source": [
    "print(object_cols)\n",
    "ordinal_cols = object_cols[[2,3,4,6,17,18,20,21,22,23,24,26,29,30]]\n",
    "norminal_cols = object_cols[[0,1,5,7,8,9,10,11,12,13,14,15,16,19,25,27,28,31,32,33]]"
   ]
  },
  {
   "cell_type": "markdown",
   "metadata": {},
   "source": [
    "| norminal features |  \n",
    "1. Labeling  \n",
    "    - ~~drop columns having absolute skewness over 2~~  \n",
    "    - no drop , just check skewness\n",
    "    \n",
    "    \n",
    "2. One-Hot-Encoding  \n",
    "    - if K new columns generated from OHE , add only K-1 columns (removing redundant dependency)  \n",
    "    - drop original column"
   ]
  },
  {
   "cell_type": "code",
   "execution_count": 41,
   "metadata": {},
   "outputs": [
    {
     "data": {
      "text/html": [
       "<div>\n",
       "<style scoped>\n",
       "    .dataframe tbody tr th:only-of-type {\n",
       "        vertical-align: middle;\n",
       "    }\n",
       "\n",
       "    .dataframe tbody tr th {\n",
       "        vertical-align: top;\n",
       "    }\n",
       "\n",
       "    .dataframe thead th {\n",
       "        text-align: right;\n",
       "    }\n",
       "</style>\n",
       "<table border=\"1\" class=\"dataframe\">\n",
       "  <thead>\n",
       "    <tr style=\"text-align: right;\">\n",
       "      <th></th>\n",
       "      <th>MSZoning</th>\n",
       "      <th>Street</th>\n",
       "      <th>LotConfig</th>\n",
       "      <th>Neighborhood</th>\n",
       "      <th>Condition1</th>\n",
       "      <th>Condition2</th>\n",
       "      <th>BldgType</th>\n",
       "      <th>HouseStyle</th>\n",
       "      <th>RoofStyle</th>\n",
       "      <th>RoofMatl</th>\n",
       "      <th>Exterior1st</th>\n",
       "      <th>Exterior2nd</th>\n",
       "      <th>MasVnrType</th>\n",
       "      <th>Foundation</th>\n",
       "      <th>Heating</th>\n",
       "      <th>CentralAir</th>\n",
       "      <th>Electrical</th>\n",
       "      <th>PavedDrive</th>\n",
       "      <th>SaleType</th>\n",
       "      <th>SaleCondition</th>\n",
       "    </tr>\n",
       "  </thead>\n",
       "  <tbody>\n",
       "    <tr>\n",
       "      <th>0</th>\n",
       "      <td>RL</td>\n",
       "      <td>Pave</td>\n",
       "      <td>Inside</td>\n",
       "      <td>CollgCr</td>\n",
       "      <td>Norm</td>\n",
       "      <td>Norm</td>\n",
       "      <td>1Fam</td>\n",
       "      <td>2Story</td>\n",
       "      <td>Gable</td>\n",
       "      <td>CompShg</td>\n",
       "      <td>VinylSd</td>\n",
       "      <td>VinylSd</td>\n",
       "      <td>BrkFace</td>\n",
       "      <td>PConc</td>\n",
       "      <td>GasA</td>\n",
       "      <td>Y</td>\n",
       "      <td>SBrkr</td>\n",
       "      <td>Y</td>\n",
       "      <td>WD</td>\n",
       "      <td>Normal</td>\n",
       "    </tr>\n",
       "  </tbody>\n",
       "</table>\n",
       "</div>"
      ],
      "text/plain": [
       "  MSZoning Street LotConfig Neighborhood Condition1 Condition2 BldgType  \\\n",
       "0       RL   Pave    Inside      CollgCr       Norm       Norm     1Fam   \n",
       "\n",
       "  HouseStyle RoofStyle RoofMatl Exterior1st Exterior2nd MasVnrType Foundation  \\\n",
       "0     2Story     Gable  CompShg     VinylSd     VinylSd    BrkFace      PConc   \n",
       "\n",
       "  Heating CentralAir Electrical PavedDrive SaleType SaleCondition  \n",
       "0    GasA          Y      SBrkr          Y       WD        Normal  "
      ]
     },
     "execution_count": 41,
     "metadata": {},
     "output_type": "execute_result"
    }
   ],
   "source": [
    "data[norminal_cols].head(1)"
   ]
  },
  {
   "cell_type": "markdown",
   "metadata": {},
   "source": [
    "1.Labeling"
   ]
  },
  {
   "cell_type": "code",
   "execution_count": 42,
   "metadata": {
    "scrolled": false
   },
   "outputs": [
    {
     "name": "stdout",
     "output_type": "stream",
     "text": [
      "MSZoning         -1.752645\n",
      "Street          -15.508104\n",
      "LotConfig        -1.196901\n",
      "Neighborhood      0.016269\n",
      "Condition1        2.984648\n",
      "Condition2       12.066294\n",
      "BldgType          2.193388\n",
      "HouseStyle        0.317259\n",
      "RoofStyle         1.554106\n",
      "RoofMatl          8.712245\n",
      "Exterior1st      -0.651876\n",
      "Exterior2nd      -0.680334\n",
      "MasVnrType       -0.073856\n",
      "Foundation        0.007582\n",
      "Heating          12.084999\n",
      "CentralAir       -3.460801\n",
      "Electrical       -3.082885\n",
      "PavedDrive       -2.980616\n",
      "SaleType         -3.729821\n",
      "SaleCondition    -2.789472\n",
      "dtype: float64\n",
      "============================================================\n"
     ]
    }
   ],
   "source": [
    "for col in norminal_cols:\n",
    "    data[col]=LabelEncoder().fit_transform(data[col])\n",
    "    \n",
    "print(data[norminal_cols].skew())\n",
    "print('='*60)\n",
    "\n",
    "# for col in norminal_cols:\n",
    "#     if np.abs(data[col].skew())>2:\n",
    "#         print(f'{col} column dropped')\n",
    "#         data = data.drop(col,axis=1)"
   ]
  },
  {
   "cell_type": "markdown",
   "metadata": {},
   "source": [
    "2. One-Hot-Encoding"
   ]
  },
  {
   "cell_type": "code",
   "execution_count": 43,
   "metadata": {},
   "outputs": [],
   "source": [
    "for col in norminal_cols:\n",
    "    ohe_cols = pd.get_dummies(data[col],prefix=col)\n",
    "    data = data.join(ohe_cols[ohe_cols.columns[:-1]])\n",
    "    data = data.drop(col,axis=1)"
   ]
  },
  {
   "cell_type": "code",
   "execution_count": 44,
   "metadata": {
    "scrolled": true
   },
   "outputs": [
    {
     "data": {
      "text/html": [
       "<div>\n",
       "<style scoped>\n",
       "    .dataframe tbody tr th:only-of-type {\n",
       "        vertical-align: middle;\n",
       "    }\n",
       "\n",
       "    .dataframe tbody tr th {\n",
       "        vertical-align: top;\n",
       "    }\n",
       "\n",
       "    .dataframe thead th {\n",
       "        text-align: right;\n",
       "    }\n",
       "</style>\n",
       "<table border=\"1\" class=\"dataframe\">\n",
       "  <thead>\n",
       "    <tr style=\"text-align: right;\">\n",
       "      <th></th>\n",
       "      <th>MSSubClass</th>\n",
       "      <th>LotArea</th>\n",
       "      <th>LotShape</th>\n",
       "      <th>LandContour</th>\n",
       "      <th>Utilities</th>\n",
       "      <th>LandSlope</th>\n",
       "      <th>OverallQual</th>\n",
       "      <th>OverallCond</th>\n",
       "      <th>YearBuilt</th>\n",
       "      <th>YearRemodAdd</th>\n",
       "      <th>...</th>\n",
       "      <th>SaleType_3</th>\n",
       "      <th>SaleType_4</th>\n",
       "      <th>SaleType_5</th>\n",
       "      <th>SaleType_6</th>\n",
       "      <th>SaleType_7</th>\n",
       "      <th>SaleCondition_0</th>\n",
       "      <th>SaleCondition_1</th>\n",
       "      <th>SaleCondition_2</th>\n",
       "      <th>SaleCondition_3</th>\n",
       "      <th>SaleCondition_4</th>\n",
       "    </tr>\n",
       "  </thead>\n",
       "  <tbody>\n",
       "    <tr>\n",
       "      <th>0</th>\n",
       "      <td>0.067331</td>\n",
       "      <td>-0.103719</td>\n",
       "      <td>Reg</td>\n",
       "      <td>Lvl</td>\n",
       "      <td>AllPub</td>\n",
       "      <td>Gtl</td>\n",
       "      <td>0.646183</td>\n",
       "      <td>-0.507284</td>\n",
       "      <td>1.046258</td>\n",
       "      <td>0.896833</td>\n",
       "      <td>...</td>\n",
       "      <td>0</td>\n",
       "      <td>0</td>\n",
       "      <td>0</td>\n",
       "      <td>0</td>\n",
       "      <td>0</td>\n",
       "      <td>0</td>\n",
       "      <td>0</td>\n",
       "      <td>0</td>\n",
       "      <td>0</td>\n",
       "      <td>1</td>\n",
       "    </tr>\n",
       "    <tr>\n",
       "      <th>1</th>\n",
       "      <td>-0.873616</td>\n",
       "      <td>0.146544</td>\n",
       "      <td>Reg</td>\n",
       "      <td>Lvl</td>\n",
       "      <td>AllPub</td>\n",
       "      <td>Gtl</td>\n",
       "      <td>-0.063185</td>\n",
       "      <td>2.188279</td>\n",
       "      <td>0.154764</td>\n",
       "      <td>-0.395604</td>\n",
       "      <td>...</td>\n",
       "      <td>0</td>\n",
       "      <td>0</td>\n",
       "      <td>0</td>\n",
       "      <td>0</td>\n",
       "      <td>0</td>\n",
       "      <td>0</td>\n",
       "      <td>0</td>\n",
       "      <td>0</td>\n",
       "      <td>0</td>\n",
       "      <td>1</td>\n",
       "    </tr>\n",
       "  </tbody>\n",
       "</table>\n",
       "<p>2 rows × 182 columns</p>\n",
       "</div>"
      ],
      "text/plain": [
       "   MSSubClass   LotArea LotShape LandContour Utilities LandSlope  OverallQual  \\\n",
       "0    0.067331 -0.103719      Reg         Lvl    AllPub       Gtl     0.646183   \n",
       "1   -0.873616  0.146544      Reg         Lvl    AllPub       Gtl    -0.063185   \n",
       "\n",
       "   OverallCond  YearBuilt  YearRemodAdd  ...  SaleType_3 SaleType_4  \\\n",
       "0    -0.507284   1.046258      0.896833  ...           0          0   \n",
       "1     2.188279   0.154764     -0.395604  ...           0          0   \n",
       "\n",
       "  SaleType_5 SaleType_6 SaleType_7 SaleCondition_0 SaleCondition_1  \\\n",
       "0          0          0          0               0               0   \n",
       "1          0          0          0               0               0   \n",
       "\n",
       "   SaleCondition_2 SaleCondition_3  SaleCondition_4  \n",
       "0                0               0                1  \n",
       "1                0               0                1  \n",
       "\n",
       "[2 rows x 182 columns]"
      ]
     },
     "execution_count": 44,
     "metadata": {},
     "output_type": "execute_result"
    }
   ],
   "source": [
    "data.head(2)"
   ]
  },
  {
   "cell_type": "markdown",
   "metadata": {},
   "source": [
    "| ordinal features |  \n",
    "1. Labeling  \n",
    "    - ~~drop columns having absolute skewness over 2~~  \n",
    "    - no drop , just check skewness\n",
    "    \n",
    "    \n",
    "2. Extracting strong features  \n",
    "    - ~~having correlation coefficient above 0.5~~  \n",
    "    - no extracting , just check coef\n",
    "    \n",
    "3. Normalize features from step 2."
   ]
  },
  {
   "cell_type": "code",
   "execution_count": 45,
   "metadata": {},
   "outputs": [
    {
     "data": {
      "text/html": [
       "<div>\n",
       "<style scoped>\n",
       "    .dataframe tbody tr th:only-of-type {\n",
       "        vertical-align: middle;\n",
       "    }\n",
       "\n",
       "    .dataframe tbody tr th {\n",
       "        vertical-align: top;\n",
       "    }\n",
       "\n",
       "    .dataframe thead th {\n",
       "        text-align: right;\n",
       "    }\n",
       "</style>\n",
       "<table border=\"1\" class=\"dataframe\">\n",
       "  <thead>\n",
       "    <tr style=\"text-align: right;\">\n",
       "      <th></th>\n",
       "      <th>LotShape</th>\n",
       "      <th>LandContour</th>\n",
       "      <th>Utilities</th>\n",
       "      <th>LandSlope</th>\n",
       "      <th>ExterQual</th>\n",
       "      <th>ExterCond</th>\n",
       "      <th>BsmtQual</th>\n",
       "      <th>BsmtCond</th>\n",
       "      <th>BsmtExposure</th>\n",
       "      <th>BsmtFinType1</th>\n",
       "      <th>BsmtFinType2</th>\n",
       "      <th>HeatingQC</th>\n",
       "      <th>KitchenQual</th>\n",
       "      <th>Functional</th>\n",
       "    </tr>\n",
       "  </thead>\n",
       "  <tbody>\n",
       "    <tr>\n",
       "      <th>0</th>\n",
       "      <td>Reg</td>\n",
       "      <td>Lvl</td>\n",
       "      <td>AllPub</td>\n",
       "      <td>Gtl</td>\n",
       "      <td>Gd</td>\n",
       "      <td>TA</td>\n",
       "      <td>Gd</td>\n",
       "      <td>TA</td>\n",
       "      <td>No</td>\n",
       "      <td>GLQ</td>\n",
       "      <td>Unf</td>\n",
       "      <td>Ex</td>\n",
       "      <td>Gd</td>\n",
       "      <td>Typ</td>\n",
       "    </tr>\n",
       "  </tbody>\n",
       "</table>\n",
       "</div>"
      ],
      "text/plain": [
       "  LotShape LandContour Utilities LandSlope ExterQual ExterCond BsmtQual  \\\n",
       "0      Reg         Lvl    AllPub       Gtl        Gd        TA       Gd   \n",
       "\n",
       "  BsmtCond BsmtExposure BsmtFinType1 BsmtFinType2 HeatingQC KitchenQual  \\\n",
       "0       TA           No          GLQ          Unf        Ex          Gd   \n",
       "\n",
       "  Functional  \n",
       "0        Typ  "
      ]
     },
     "execution_count": 45,
     "metadata": {},
     "output_type": "execute_result"
    }
   ],
   "source": [
    "data[ordinal_cols].head(1)"
   ]
  },
  {
   "cell_type": "markdown",
   "metadata": {},
   "source": [
    "1. Labeling"
   ]
  },
  {
   "cell_type": "code",
   "execution_count": 46,
   "metadata": {},
   "outputs": [
    {
     "name": "stdout",
     "output_type": "stream",
     "text": [
      "LotShape        -1.262181\n",
      "LandContour     -3.402807\n",
      "Utilities      -54.027771\n",
      "LandSlope       -4.977715\n",
      "ExterQual        0.786786\n",
      "ExterCond        1.316590\n",
      "BsmtQual        -1.257818\n",
      "BsmtCond        -3.630416\n",
      "BsmtExposure     1.121212\n",
      "BsmtFinType1    -0.149621\n",
      "BsmtFinType2     3.156441\n",
      "HeatingQC       -0.550192\n",
      "KitchenQual      0.438702\n",
      "Functional      -4.966119\n",
      "dtype: float64\n",
      "============================================================\n"
     ]
    }
   ],
   "source": [
    "for col in ordinal_cols:\n",
    "    \n",
    "    if col == 'LotShape':\n",
    "        data[col] = data[col].map({'IR3':0,'IR2':1,'IR1':2,'Reg':3})\n",
    "    elif col == 'LandContour':\n",
    "        data[col] = data[col].map({'Low':0,'HLS':1,'Bnk':2,'Lvl':3})\n",
    "    elif col == 'Utilities':\n",
    "        data[col] = data[col].map({'ELO':0,'NoSeWa':1,'NoSewr':2,'AllPub':3})\n",
    "    elif col == 'LandSlope':\n",
    "        data[col] = data[col].map({'Sev':0,'Mod':1,'Gtl':2})\n",
    "    elif col in ['ExterQual','ExterCond','HeatingQC','KitchenQual']:\n",
    "        data[col] = data[col].map({'Po':0,'Fa':1,'TA':2,'Gd':3,'Ex':4})\n",
    "    elif col in ['BsmtQual','BsmtCond']:\n",
    "        data[col] = data[col].map({'NA':0,'Po':1,'Fa':2,'TA':3,'Gd':4,'Ex':5})\n",
    "    elif col == 'BsmtExposure':\n",
    "        data[col] = data[col].map({'NA':0,'No':1,'Mn':2,'Av':3,'Gd':4})\n",
    "    elif col in ['BsmtFinType1','BsmtFinType2']:\n",
    "        data[col] = data[col].map({'NA':0,'Unf':1,'LwQ':2,'Rec':3,'BLQ':4,'ALQ':5,'GLQ':6})\n",
    "    elif col == 'Functional':\n",
    "        data[col] = data[col].map({'Sal':0,'Sev':1,'Maj2':2,'Maj1':3,'Mod':4,'Min2':5,'Min1':6,'Typ':7})\n",
    "    \n",
    "print(data[ordinal_cols].skew())\n",
    "print('='*60)\n",
    "\n",
    "# drop_cols=[]\n",
    "# for col in ordinal_cols:\n",
    "#     if np.abs(data[col].skew()) > 2 :\n",
    "#         drop_cols.append(col)\n",
    "#         print(f'{col} column dropped')\n",
    "        \n",
    "# data = data.drop(drop_cols,axis=1)\n",
    "# ordinal_cols = ordinal_cols.drop(drop_cols)"
   ]
  },
  {
   "cell_type": "markdown",
   "metadata": {},
   "source": [
    "2. ~~Extracting~~ (check) strong features"
   ]
  },
  {
   "cell_type": "code",
   "execution_count": 47,
   "metadata": {},
   "outputs": [
    {
     "data": {
      "text/plain": [
       "ExterQual      0.678840\n",
       "KitchenQual    0.667893\n",
       "BsmtQual       0.615804\n",
       "Name: ABS, dtype: float64"
      ]
     },
     "execution_count": 47,
     "metadata": {},
     "output_type": "execute_result"
    }
   ],
   "source": [
    "ordinal_corr = pd.concat([data[ordinal_cols].iloc[:split_point],train['SalePrice'].apply(np.log)],axis=1).corr()\n",
    "ordinal_corr['ABS'] = ordinal_corr.SalePrice.map(np.abs)\n",
    "ordinal_corr.ABS[(ordinal_corr.ABS>0.5)&(ordinal_corr.ABS<1)].sort_values(ascending=False)"
   ]
  },
  {
   "cell_type": "markdown",
   "metadata": {},
   "source": [
    "3. Normalizing strong ordinal type features"
   ]
  },
  {
   "cell_type": "code",
   "execution_count": 48,
   "metadata": {},
   "outputs": [],
   "source": [
    "for col in ordinal_cols:\n",
    "    data[col] = MinMaxScaler().fit_transform(data[col].values.reshape(-1,1))"
   ]
  },
  {
   "cell_type": "code",
   "execution_count": 49,
   "metadata": {},
   "outputs": [
    {
     "data": {
      "text/html": [
       "<div>\n",
       "<style scoped>\n",
       "    .dataframe tbody tr th:only-of-type {\n",
       "        vertical-align: middle;\n",
       "    }\n",
       "\n",
       "    .dataframe tbody tr th {\n",
       "        vertical-align: top;\n",
       "    }\n",
       "\n",
       "    .dataframe thead th {\n",
       "        text-align: right;\n",
       "    }\n",
       "</style>\n",
       "<table border=\"1\" class=\"dataframe\">\n",
       "  <thead>\n",
       "    <tr style=\"text-align: right;\">\n",
       "      <th></th>\n",
       "      <th>MSSubClass</th>\n",
       "      <th>LotArea</th>\n",
       "      <th>LotShape</th>\n",
       "      <th>LandContour</th>\n",
       "      <th>Utilities</th>\n",
       "      <th>LandSlope</th>\n",
       "      <th>OverallQual</th>\n",
       "      <th>OverallCond</th>\n",
       "      <th>YearBuilt</th>\n",
       "      <th>YearRemodAdd</th>\n",
       "      <th>...</th>\n",
       "      <th>SaleType_3</th>\n",
       "      <th>SaleType_4</th>\n",
       "      <th>SaleType_5</th>\n",
       "      <th>SaleType_6</th>\n",
       "      <th>SaleType_7</th>\n",
       "      <th>SaleCondition_0</th>\n",
       "      <th>SaleCondition_1</th>\n",
       "      <th>SaleCondition_2</th>\n",
       "      <th>SaleCondition_3</th>\n",
       "      <th>SaleCondition_4</th>\n",
       "    </tr>\n",
       "  </thead>\n",
       "  <tbody>\n",
       "    <tr>\n",
       "      <th>0</th>\n",
       "      <td>0.067331</td>\n",
       "      <td>-0.103719</td>\n",
       "      <td>1.0</td>\n",
       "      <td>1.0</td>\n",
       "      <td>1.0</td>\n",
       "      <td>1.0</td>\n",
       "      <td>0.646183</td>\n",
       "      <td>-0.507284</td>\n",
       "      <td>1.046258</td>\n",
       "      <td>0.896833</td>\n",
       "      <td>...</td>\n",
       "      <td>0</td>\n",
       "      <td>0</td>\n",
       "      <td>0</td>\n",
       "      <td>0</td>\n",
       "      <td>0</td>\n",
       "      <td>0</td>\n",
       "      <td>0</td>\n",
       "      <td>0</td>\n",
       "      <td>0</td>\n",
       "      <td>1</td>\n",
       "    </tr>\n",
       "    <tr>\n",
       "      <th>1</th>\n",
       "      <td>-0.873616</td>\n",
       "      <td>0.146544</td>\n",
       "      <td>1.0</td>\n",
       "      <td>1.0</td>\n",
       "      <td>1.0</td>\n",
       "      <td>1.0</td>\n",
       "      <td>-0.063185</td>\n",
       "      <td>2.188279</td>\n",
       "      <td>0.154764</td>\n",
       "      <td>-0.395604</td>\n",
       "      <td>...</td>\n",
       "      <td>0</td>\n",
       "      <td>0</td>\n",
       "      <td>0</td>\n",
       "      <td>0</td>\n",
       "      <td>0</td>\n",
       "      <td>0</td>\n",
       "      <td>0</td>\n",
       "      <td>0</td>\n",
       "      <td>0</td>\n",
       "      <td>1</td>\n",
       "    </tr>\n",
       "  </tbody>\n",
       "</table>\n",
       "<p>2 rows × 182 columns</p>\n",
       "</div>"
      ],
      "text/plain": [
       "   MSSubClass   LotArea  LotShape  LandContour  Utilities  LandSlope  \\\n",
       "0    0.067331 -0.103719       1.0          1.0        1.0        1.0   \n",
       "1   -0.873616  0.146544       1.0          1.0        1.0        1.0   \n",
       "\n",
       "   OverallQual  OverallCond  YearBuilt  YearRemodAdd  ...  SaleType_3  \\\n",
       "0     0.646183    -0.507284   1.046258      0.896833  ...           0   \n",
       "1    -0.063185     2.188279   0.154764     -0.395604  ...           0   \n",
       "\n",
       "   SaleType_4  SaleType_5  SaleType_6  SaleType_7  SaleCondition_0  \\\n",
       "0           0           0           0           0                0   \n",
       "1           0           0           0           0                0   \n",
       "\n",
       "   SaleCondition_1  SaleCondition_2  SaleCondition_3  SaleCondition_4  \n",
       "0                0                0                0                1  \n",
       "1                0                0                0                1  \n",
       "\n",
       "[2 rows x 182 columns]"
      ]
     },
     "execution_count": 49,
     "metadata": {},
     "output_type": "execute_result"
    }
   ],
   "source": [
    "data.head(2)"
   ]
  },
  {
   "cell_type": "markdown",
   "metadata": {},
   "source": [
    "### 8. Split data : xtrain , xtest"
   ]
  },
  {
   "cell_type": "code",
   "execution_count": 50,
   "metadata": {},
   "outputs": [
    {
     "name": "stdout",
     "output_type": "stream",
     "text": [
      "(1460, 182)\n",
      "(1459, 182)\n"
     ]
    }
   ],
   "source": [
    "xtrain = data.iloc[:split_point].copy()\n",
    "xtest = data.iloc[split_point:].copy()\n",
    "print(xtrain.shape)\n",
    "print(xtest.shape)"
   ]
  },
  {
   "cell_type": "markdown",
   "metadata": {},
   "source": [
    "### Make ytrain : log-scale from train['SalePrice']"
   ]
  },
  {
   "cell_type": "code",
   "execution_count": 51,
   "metadata": {},
   "outputs": [
    {
     "data": {
      "text/plain": [
       "(1460,)"
      ]
     },
     "execution_count": 51,
     "metadata": {},
     "output_type": "execute_result"
    }
   ],
   "source": [
    "ytrain = train['SalePrice'].map(np.log).copy()\n",
    "ytrain.shape"
   ]
  },
  {
   "cell_type": "markdown",
   "metadata": {},
   "source": [
    "### 9. Create RF model & search hyper-parameters"
   ]
  },
  {
   "cell_type": "code",
   "execution_count": 52,
   "metadata": {},
   "outputs": [],
   "source": [
    "from sklearn.ensemble import RandomForestRegressor\n",
    "from sklearn.model_selection import GridSearchCV,KFold\n",
    "from sklearn.metrics import mean_squared_error,make_scorer"
   ]
  },
  {
   "cell_type": "code",
   "execution_count": 53,
   "metadata": {},
   "outputs": [],
   "source": [
    "def rmse(y,y_pred):\n",
    "    return mean_squared_error(y,y_pred,squared=False)\n",
    "\n",
    "model = RandomForestRegressor(random_state=1120)\n",
    "\n",
    "my_scorer = make_scorer(rmse,greater_is_better=False)\n",
    "\n",
    "params = {\n",
    "    'n_estimators':[10,50,100,500,1000],\n",
    "    'max_depth':list(range(2,int(np.sqrt(xtrain.shape[1]))+2,2)),\n",
    "    'min_samples_split':list(range(2,6)),\n",
    "    'max_features':[50,100,150]\n",
    "}\n",
    "\n",
    "kf = KFold(n_splits=10,shuffle=True,random_state=0)\n",
    "\n",
    "gridcv = GridSearchCV(estimator=model,\n",
    "                      param_grid=params,\n",
    "                      cv=kf,\n",
    "                     scoring=my_scorer,\n",
    "                     verbose=2)"
   ]
  },
  {
   "cell_type": "markdown",
   "metadata": {},
   "source": [
    "### __gridcv.fit(xtrain,ytrain)__  \n",
    "(너무 오래 걸려서 colab 에서 돌림)  \n",
    "***  \n",
    "전처리 완료 파일을 구글 드라이브에 업로드  \n",
    "```python\n",
    "xtrain.to_csv('xtrain.csv',index=False)\n",
    "xtest.to_csv('xtest.csv',index=False)\n",
    "ytrain.to_csv('ytrain.csv',index=False)\n",
    "```"
   ]
  },
  {
   "cell_type": "markdown",
   "metadata": {},
   "source": [
    "`from colab`\n",
    "### best parameters  \n",
    "- n_estimators : 500\n",
    "- max_depth : 10  \n",
    "- min_samples_split : 2  \n",
    "- max_features : 50\n",
    "---\n",
    "### best score : 0.146"
   ]
  },
  {
   "cell_type": "markdown",
   "metadata": {},
   "source": [
    "### Create best model & predict"
   ]
  },
  {
   "cell_type": "code",
   "execution_count": 54,
   "metadata": {},
   "outputs": [],
   "source": [
    "best_model = RandomForestRegressor(n_estimators=500,max_depth=10,min_samples_split=2,max_features=50,random_state=1)\n",
    "best_model.fit(xtrain,ytrain)\n",
    "prediction = best_model.predict(xtest)"
   ]
  },
  {
   "cell_type": "markdown",
   "metadata": {},
   "source": [
    "### 10. Model performance scatter plot"
   ]
  },
  {
   "cell_type": "code",
   "execution_count": 55,
   "metadata": {},
   "outputs": [
    {
     "data": {
      "text/plain": [
       "<matplotlib.collections.PathCollection at 0x1cf9d262a60>"
      ]
     },
     "execution_count": 55,
     "metadata": {},
     "output_type": "execute_result"
    },
    {
     "data": {
      "image/png": "[encoded data removed]",
      "text/plain": [
       "<Figure size 432x288 with 1 Axes>"
      ]
     },
     "metadata": {},
     "output_type": "display_data"
    }
   ],
   "source": [
    "from sklearn.model_selection import train_test_split\n",
    "\n",
    "rand_xtrain,rand_xtest,rand_ytrain,rand_ytest = train_test_split(xtrain,ytrain,test_size=0.3,random_state=42)\n",
    "\n",
    "rand_ypred = best_model.predict(rand_xtest)\n",
    "\n",
    "plt.scatter(rand_ytest,rand_ypred,s=15)"
   ]
  },
  {
   "cell_type": "code",
   "execution_count": 56,
   "metadata": {},
   "outputs": [
    {
     "data": {
      "text/plain": [
       "0.1473597699309484"
      ]
     },
     "execution_count": 56,
     "metadata": {},
     "output_type": "execute_result"
    }
   ],
   "source": [
    "from sklearn.model_selection import cross_val_score\n",
    "\n",
    "score = cross_val_score(best_model,rand_xtest,rand_ytest,cv=kf,scoring=my_scorer)\n",
    "score.mean()*(-1)"
   ]
  },
  {
   "cell_type": "markdown",
   "metadata": {},
   "source": [
    "### Make submit file"
   ]
  },
  {
   "cell_type": "code",
   "execution_count": 57,
   "metadata": {},
   "outputs": [],
   "source": [
    "test['SalePrice']=np.exp(prediction)\n",
    "test[['Id','SalePrice']].to_csv('submit.csv',index=False)"
   ]
  },
  {
   "cell_type": "markdown",
   "metadata": {},
   "source": [
    "# trash code snippet below"
   ]
  },
  {
   "cell_type": "code",
   "execution_count": 58,
   "metadata": {},
   "outputs": [
    {
     "ename": "NameError",
     "evalue": "name 'asflj' is not defined",
     "output_type": "error",
     "traceback": [
      "\u001b[1;31m---------------------------------------------------------------------------\u001b[0m",
      "\u001b[1;31mNameError\u001b[0m                                 Traceback (most recent call last)",
      "\u001b[1;32m<ipython-input-58-b33cf9981bd4>\u001b[0m in \u001b[0;36m<module>\u001b[1;34m\u001b[0m\n\u001b[1;32m----> 1\u001b[1;33m \u001b[0masflj\u001b[0m\u001b[1;33m\u001b[0m\u001b[1;33m\u001b[0m\u001b[0m\n\u001b[0m",
      "\u001b[1;31mNameError\u001b[0m: name 'asflj' is not defined"
     ]
    }
   ],
   "source": [
    "asflj"
   ]
  },
  {
   "cell_type": "code",
   "execution_count": null,
   "metadata": {},
   "outputs": [],
   "source": [
    "data.shape"
   ]
  },
  {
   "cell_type": "code",
   "execution_count": null,
   "metadata": {
    "scrolled": false
   },
   "outputs": [],
   "source": [
    "data.columns"
   ]
  },
  {
   "cell_type": "markdown",
   "metadata": {},
   "source": [
    "1. norminal all drop\n",
    "2. ordinal self-mapping\n"
   ]
  },
  {
   "cell_type": "code",
   "execution_count": null,
   "metadata": {},
   "outputs": [],
   "source": [
    "new = pd.concat([data[imp_numeric_cols],data[imp_ordinal_cols]],axis=1)\n",
    "\n",
    "xtrain = new.iloc[:split_point].copy()\n",
    "xtest = new.iloc[split_point:].copy()\n",
    "print(xtrain.shape)\n",
    "print(xtest.shape)\n",
    "\n",
    "ytrain = train['SalePrice'].map(np.log).copy()\n",
    "ytrain.shape\n",
    "\n",
    "best_model = RandomForestRegressor(n_estimators=500,max_features='sqrt')\n",
    "best_model.fit(xtrain,ytrain)\n",
    "prediction = best_model.predict(xtest)\n",
    "\n",
    "rand_xtrain,rand_xtest,rand_ytrain,rand_ytest = train_test_split(xtrain,ytrain,test_size=0.3,random_state=42)\n",
    "rand_ypred = best_model.predict(rand_xtest)\n",
    "plt.scatter(rand_ytest,rand_ypred,s=15)\n",
    "\n",
    "score = cross_val_score(best_model,rand_xtest,rand_ytest,cv=kf,scoring=my_scorer)\n",
    "score.mean()*(-1)"
   ]
  },
  {
   "cell_type": "code",
   "execution_count": null,
   "metadata": {},
   "outputs": [],
   "source": [
    "best_model = RandomForestRegressor(n_estimators=1000,max_features=50,max_depth=30)\n",
    "best_model.fit(xtrain,ytrain)\n",
    "prediction = best_model.predict(xtest)\n",
    "\n",
    "rand_xtrain,rand_xtest,rand_ytrain,rand_ytest = train_test_split(xtrain,ytrain,test_size=0.3,random_state=42)\n",
    "rand_ypred = best_model.predict(rand_xtest)\n",
    "plt.scatter(rand_ytest,rand_ypred,s=15)\n",
    "\n",
    "score = cross_val_score(best_model,rand_xtest,rand_ytest,cv=kf,scoring=my_scorer)\n",
    "score.mean()*(-1)"
   ]
  }
 ],
 "metadata": {
  "kernelspec": {
   "display_name": "Python 3",
   "language": "python",
   "name": "python3"
  },
  "language_info": {
   "codemirror_mode": {
    "name": "ipython",
    "version": 3
   },
   "file_extension": ".py",
   "mimetype": "text/x-python",
   "name": "python",
   "nbconvert_exporter": "python",
   "pygments_lexer": "ipython3",
   "version": "3.8.3"
  }
 },
 "nbformat": 4,
 "nbformat_minor": 4
}
