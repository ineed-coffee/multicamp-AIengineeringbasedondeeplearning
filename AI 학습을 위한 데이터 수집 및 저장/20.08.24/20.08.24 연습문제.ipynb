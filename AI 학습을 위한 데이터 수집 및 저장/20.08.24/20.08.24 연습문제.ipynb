{
 "cells": [
  {
   "cell_type": "markdown",
   "metadata": {},
   "source": [
    "# __추천시스템__  \n",
    "***\n",
    "```python\n",
    "critics={\n",
    "\n",
    "    'BTS':{'암수살인':5, '바울':4, '할로윈':1.5},\n",
    "\n",
    "    '손흥민':{'바울':5, '할로윈':2},\n",
    "\n",
    "    '레드벨벳':{'암수살인':2.5, '바울':2, '할로윈':1},\n",
    "\n",
    "    '트와이스':{'암수살인':3.5, '바울':4, '할로윈':5}\n",
    "\n",
    "}```  \n",
    "__최종목표 : 특정사람에게 영화추천__  \n",
    "* 손흥민의 암수살인 평점 예측을 위해 손흥민과 가장 유사한 취향의 사람을 찾아야한다. ( How? )  \n",
    "* Euclid Distance 활용! -> 다른 영화 평점들을 벡터화 , 두 벡터의 유클리드 거리로 유사도 측정  "
   ]
  },
  {
   "cell_type": "markdown",
   "metadata": {},
   "source": [
    "__1.손흥민과 가장 가까운 사람? 거리?__  \n",
    "__2.블랙핑크와 가장 가까운 사람? 거리?__  \n",
    "__3.블랙핑크와 다른 그룹 사이의 상관계수?__  "
   ]
  },
  {
   "cell_type": "code",
   "execution_count": 2,
   "metadata": {},
   "outputs": [],
   "source": [
    "import pandas as pd\n",
    "import numpy as np\n",
    "import json"
   ]
  },
  {
   "cell_type": "code",
   "execution_count": 4,
   "metadata": {},
   "outputs": [
    {
     "data": {
      "text/plain": [
       "[{'레드벨벳': {'택시운전사': 2.5,\n",
       "   '겨울왕국': 3.5,\n",
       "   '리빙라스베가스': 3.0,\n",
       "   '넘버3': 3.5,\n",
       "   '사랑과전쟁': 2.5,\n",
       "   '세계대전': 3.0},\n",
       "  'BTS': {'택시운전사': 1.0,\n",
       "   '겨울왕국': 4.5,\n",
       "   '리빙라스베가스': 0.5,\n",
       "   '넘버3': 1.5,\n",
       "   '사랑과전쟁': 4.5,\n",
       "   '세계대전': 5.0},\n",
       "  '블랙핑크': {'택시운전사': 3.0,\n",
       "   '겨울왕국': 3.5,\n",
       "   '리빙라스베가스': 1.5,\n",
       "   '넘버3': 5.0,\n",
       "   '세계대전': 3.0,\n",
       "   '사랑과전쟁': 3.5},\n",
       "  '소녀시대': {'택시운전사': 2.5, '겨울왕국': 3.0, '넘버3': 3.5, '세계대전': 4.0},\n",
       "  '마마무': {'겨울왕국': 3.5, '리빙라스베가스': 3.0, '세계대전': 4.5, '넘버3': 4.0, '사랑과전쟁': 2.5},\n",
       "  '오마이걸': {'택시운전사': 3.0,\n",
       "   '겨울왕국': 4.0,\n",
       "   '리빙라스베가스': 2.0,\n",
       "   '넘버3': 3.0,\n",
       "   '세계대전': 3.5,\n",
       "   '사랑과전쟁': 2.0},\n",
       "  '모모랜드': {'택시운전사': 3.0, '겨울왕국': 4.0, '세계대전': 3.0, '넘버3': 5.0, '사랑과전쟁': 3.5},\n",
       "  '우주소녀': {'겨울왕국': 4.5, '사랑과전쟁': 1.0, '넘버3': 4.0}}]"
      ]
     },
     "execution_count": 4,
     "metadata": {},
     "output_type": "execute_result"
    }
   ],
   "source": [
    "recommend1 = [json.loads(line) for line in open('recommend.txt',encoding='utf-8')]\n",
    "recommend1"
   ]
  },
  {
   "cell_type": "code",
   "execution_count": null,
   "metadata": {},
   "outputs": [],
   "source": [
    "Dists=[[-1]*len(recommend1) for _ in range(len(recommend1))\n",
    "\n",
    "for i in range(len(recommend1)):\n",
    "    for j in range(i+1,len(recommend1)):\n",
    "        main_,sub_ = "
   ]
  },
  {
   "cell_type": "code",
   "execution_count": null,
   "metadata": {},
   "outputs": [],
   "source": []
  }
 ],
 "metadata": {
  "kernelspec": {
   "display_name": "Python 3",
   "language": "python",
   "name": "python3"
  },
  "language_info": {
   "codemirror_mode": {
    "name": "ipython",
    "version": 3
   },
   "file_extension": ".py",
   "mimetype": "text/x-python",
   "name": "python",
   "nbconvert_exporter": "python",
   "pygments_lexer": "ipython3",
   "version": "3.8.3"
  }
 },
 "nbformat": 4,
 "nbformat_minor": 4
}
