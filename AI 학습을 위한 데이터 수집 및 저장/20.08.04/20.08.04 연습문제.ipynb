{
 "cells": [
  {
   "cell_type": "markdown",
   "metadata": {},
   "source": [
    "# __#1. 가장 가까운 두 점 찾기__"
   ]
  },
  {
   "cell_type": "code",
   "execution_count": 1,
   "metadata": {},
   "outputs": [
    {
     "name": "stdout",
     "output_type": "stream",
     "text": [
      "2 3\n"
     ]
    }
   ],
   "source": [
    "s=[9,5,2,7,3,20,100,95]\n",
    "dist,Ans =10**6,[]\n",
    "for i in range(len(s)):\n",
    "    for j in range(i+1,len(s)):\n",
    "        if dist > abs(s[i]-s[j]):\n",
    "            dist = abs(s[i]-s[j])\n",
    "            Ans = [s[i],s[j]]\n",
    "print(*Ans)"
   ]
  },
  {
   "cell_type": "markdown",
   "metadata": {},
   "source": [
    "# __#2. 이메일 주소 검사기__"
   ]
  },
  {
   "cell_type": "code",
   "execution_count": 3,
   "metadata": {},
   "outputs": [
    {
     "name": "stdout",
     "output_type": "stream",
     "text": [
      "이메일 주소 입력 : omeed#@gi.ck.kr.om\n",
      "유효한 이메일 주소 : omeed#@gi.ck.kr.om\n"
     ]
    }
   ],
   "source": [
    "import re as r\n",
    "address_in = input('이메일 주소 입력 : ')\n",
    "pattern='[0-9a-zA-Z-_!#$`~%^&*()|\\. <>;:]+[@]\\w+[.][0-9a-zA-Z.]+[^.]$'\n",
    "res = r.match(pattern,address_in)\n",
    "if res:\n",
    "    print(f'유효한 이메일 주소 : {res.group()}')\n",
    "else:\n",
    "    print('유효하지 않은 이메일 주소')"
   ]
  },
  {
   "cell_type": "markdown",
   "metadata": {},
   "source": [
    "# __#3. 도메인 주소 검사기__"
   ]
  },
  {
   "cell_type": "code",
   "execution_count": 14,
   "metadata": {},
   "outputs": [
    {
     "name": "stdout",
     "output_type": "stream",
     "text": [
      "도메인 주소 입력 : http://www.abc.com/sub/sub2/index.do?id=test\n",
      "유효한 도메인 주소 : http://www.abc.com/sub/sub2/index.do?id=test\n",
      "head = http://\n",
      "main = www.abc.com\n",
      "direction = /sub/sub2/index.do?id=tes\n"
     ]
    }
   ],
   "source": [
    "import re as r\n",
    "address_in = input('도메인 주소 입력 : ')\n",
    "pattern='(?P<head>https*://)(?P<main>www[.](\\w+[.])*\\w+)(?P<dir>(/[a-zA-Z0-9]+)*(/[a-zA-Z0-9]+[.][a-zA-Z0-9?=]+)+)*[^.=?/]$'\n",
    "res = r.match(pattern,address_in)\n",
    "if res:\n",
    "    print(f'유효한 도메인 주소 : {res.group()}')\n",
    "    print(f\"head = {res.group('head')}\")\n",
    "    print(f\"main = {res.group('main')}\")\n",
    "    print(f\"direction = {res.group('dir')}\")\n",
    "else:\n",
    "    print('유효하지 않은 도메인 주소')"
   ]
  }
 ],
 "metadata": {
  "kernelspec": {
   "display_name": "Python 3",
   "language": "python",
   "name": "python3"
  },
  "language_info": {
   "codemirror_mode": {
    "name": "ipython",
    "version": 3
   },
   "file_extension": ".py",
   "mimetype": "text/x-python",
   "name": "python",
   "nbconvert_exporter": "python",
   "pygments_lexer": "ipython3",
   "version": "3.7.8"
  }
 },
 "nbformat": 4,
 "nbformat_minor": 4
}
