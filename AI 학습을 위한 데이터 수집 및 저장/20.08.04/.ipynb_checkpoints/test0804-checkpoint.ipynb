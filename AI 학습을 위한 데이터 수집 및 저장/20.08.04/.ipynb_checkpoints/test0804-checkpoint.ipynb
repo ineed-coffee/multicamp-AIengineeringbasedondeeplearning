{
 "cells": [
  {
   "cell_type": "markdown",
   "metadata": {},
   "source": [
    "# __Regular Expression__  "
   ]
  },
  {
   "cell_type": "code",
   "execution_count": 1,
   "metadata": {},
   "outputs": [],
   "source": [
    "'''\n",
    "정규표현식 : 파이썬이 아닌 다른 언어에서도 동일하게 적용\n",
    "* 규칙,패턴 을 가진 문자열을 표현하는 방법\n",
    "  ex) 영화댓글 , 커뮤니티 질의/응답 , 지식인...etc\n",
    "* 파이썬에서는 re 모듈 활용\n",
    "'''\n",
    "\n",
    "import re"
   ]
  },
  {
   "cell_type": "code",
   "execution_count": 2,
   "metadata": {},
   "outputs": [
    {
     "data": {
      "text/plain": [
       "<re.Match object; span=(0, 5), match='hello'>"
      ]
     },
     "execution_count": 2,
     "metadata": {},
     "output_type": "execute_result"
    }
   ],
   "source": [
    "re.match('패턴','문자열')\n",
    "# match : 문자열 속에 패턴이 있는지 조사 함수 (2개의 인자 활용)\n",
    "\n",
    "re.match('hello','hello, world!')\n",
    "# 결과 : <re.Match object; span=(0, 5), match='hello'> : 매칭되지 않으면 반환도 X"
   ]
  },
  {
   "cell_type": "markdown",
   "metadata": {},
   "source": [
    "__^문자열__ : 문자열이 맨 앞에 오는가?  \n",
    "__문자열$__ : 문자열이 맨 뒤에 오는가?"
   ]
  },
  {
   "cell_type": "code",
   "execution_count": 4,
   "metadata": {},
   "outputs": [
    {
     "data": {
      "text/plain": [
       "<re.Match object; span=(6, 12), match='world!'>"
      ]
     },
     "execution_count": 4,
     "metadata": {},
     "output_type": "execute_result"
    }
   ],
   "source": [
    "re.search('^hello','hello,world!')\n",
    "re.search('world!$','hello,world!')"
   ]
  },
  {
   "cell_type": "markdown",
   "metadata": {},
   "source": [
    "__or 논리 연산을 통한 매칭__"
   ]
  },
  {
   "cell_type": "code",
   "execution_count": 5,
   "metadata": {},
   "outputs": [
    {
     "data": {
      "text/plain": [
       "<re.Match object; span=(0, 5), match='hello'>"
      ]
     },
     "execution_count": 5,
     "metadata": {},
     "output_type": "execute_result"
    }
   ],
   "source": [
    "re.match('hello|world','hello')"
   ]
  },
  {
   "cell_type": "code",
   "execution_count": 8,
   "metadata": {},
   "outputs": [
    {
     "name": "stdout",
     "output_type": "stream",
     "text": [
      "931120-*******\n",
      "950202-*******\n"
     ]
    }
   ],
   "source": [
    "jumin = '''\n",
    "kim 931120-1051911\n",
    "lee 950202-2342344\n",
    "'''\n",
    "# 실제 웹에서 불러온 수천만 데이터라 생각하고 뒷 7자리를 *로 변경해보자.\n",
    "\n",
    "res=[]\n",
    "for person in jumin.split('\\n'):\n",
    "    for iden in person.split():\n",
    "        if len(iden)==14 and iden[7:].isdigit():\n",
    "            print(iden[:7]+'*'*7)"
   ]
  },
  {
   "cell_type": "markdown",
   "metadata": {},
   "source": [
    "__re.compile : 패턴 정의를 통한 코드 간결화__"
   ]
  },
  {
   "cell_type": "code",
   "execution_count": 10,
   "metadata": {},
   "outputs": [
    {
     "name": "stdout",
     "output_type": "stream",
     "text": [
      "\n",
      "kim 931120-*******\n",
      "lee 950202-*******\n",
      "\n"
     ]
    }
   ],
   "source": [
    "mypat = re.compile('(\\d{6})[-]\\d{7}')\n",
    "print(mypat.sub('\\g<1>-*******',jumin))\n",
    "\n",
    "# 패턴 정의에서 소괄호() 들은 각각 그룹을 의미함.\n",
    "'''\n",
    "패턴객체의 sub(substitude) 메소드에서 \\g<n> 은 n번째 그룹을 의미함\n",
    "'''"
   ]
  },
  {
   "cell_type": "markdown",
   "metadata": {},
   "source": [
    "__메타문자__  \n",
    "- *(문자 0개 이상)\n",
    "- +(문자 1개 이상)\n",
    "- &^(){}'[]'  "
   ]
  },
  {
   "cell_type": "code",
   "execution_count": null,
   "metadata": {},
   "outputs": [],
   "source": [
    "'''\n",
    "[] : 대괄호 내부에 있는 문자들과 매치\n",
    "ex) [abc] : a or b or c 중 어느 한 개의 문자와 매치\n",
    "    if 패턴=[abc] , 문자열=b --> 매칭 O\n",
    "    if 패턴=[abc] , 문자열=d --> 매칭 X\n",
    "    if 패턴=[abc] , 문자열=bye --> 매칭 ?\n",
    "    [a-z] : a~z , [a-zA-Z] : 알파벳 모두 , [a-zA-Z0-9] : 알파벳,숫자 모두\n",
    "    [가-힣] : 모든 한글\n",
    "    [^A-Z] : 대괄호 내부 ^는 search 와 다른 의미, not 을 의미함. 대문자 알파벳 제외\n",
    "    \n",
    "    \n",
    "\\d : 숫자와 매칭 == [0-9]\n",
    "\\D : 대문자 사용은 대괄호 내부 ^ 와 같은 의미. 숫자 제외 매칭 == [^0-9]\n",
    "\\w : 문자+숫자 매칭 == [a-zA-Z0-9_]\n",
    "\\W : (문자+숫자) 제외 매칭 == [^a-zA-Z0-9_]\n",
    "\n",
    ". (dot) : 모든 문자 매칭(개행 문자만 제외)\n",
    "    if 패턴 = a.b , 문자열 = akb  -> 매칭 O\n",
    "    if 패턴 = a.b , 문자열 = a2b  -> 매칭 O\n",
    "    if 패턴 = a.b , 문자열 = aby  -> 매칭 X\n",
    "    if 메타문자로써가 아닌 '.' 글자로서 매칭 시 [.]\n",
    "    if 패턴 = a[.]b , 문자열 = a.b  -> 매칭 O\n",
    "    \n",
    "    \n",
    "+ (더하기 메타문자) : 1번 이상 반복\n",
    "    if 패턴 do+g --> 매칭 O = dog,doog,doooog / 매칭 X = dg,doof\n",
    "* (곱하기 메타문자) : 0번 이상 반복\n",
    "    if 패턴 do*g --> 매칭 O = dog,doog,doooog,dg / 매칭 X = ??\n",
    "{} (중괄호) : 반복 횟수 범위 지정\n",
    "    if 패턴 do{2}g --> 매칭 O = doog / 매칭 X = dog,dooog,...\n",
    "    if 패턴 do{1,3}g --> 매칭 O = dog,doog,dooog / 매칭 X = dg,doooog,...\n",
    "    if 패턴 do{2,}g --> 매칭 O = doog,dooog,doooog / 매칭 X = dog,...\n",
    "? (물음표 메타문자) : {0,1}과 같은 의미\n",
    "    --> 있어도,없어도 상관 없지만 2회 이상 반복은 허용 X\n",
    "'''"
   ]
  },
  {
   "cell_type": "markdown",
   "metadata": {},
   "source": [
    "# __패턴정의 및 매칭 연습__"
   ]
  },
  {
   "cell_type": "code",
   "execution_count": 11,
   "metadata": {},
   "outputs": [],
   "source": [
    "pat = re.compile('[a-z]+')\n",
    "# 정의한 패턴을 이용해 매칭 확인하기 위한 4가지 함수 : match , search , find_all , find_iter"
   ]
  },
  {
   "cell_type": "code",
   "execution_count": 12,
   "metadata": {},
   "outputs": [
    {
     "data": {
      "text/plain": [
       "<re.Match object; span=(0, 4), match='test'>"
      ]
     },
     "execution_count": 12,
     "metadata": {},
     "output_type": "execute_result"
    }
   ],
   "source": [
    "pat.match('test')\n",
    "pat.match('1test') # --> 1부터 매치 실패하였기 때문에 match 메소드는 더 조사하지 않고 종료"
   ]
  },
  {
   "cell_type": "code",
   "execution_count": 16,
   "metadata": {},
   "outputs": [
    {
     "data": {
      "text/plain": [
       "<re.Match object; span=(1, 5), match='test'>"
      ]
     },
     "execution_count": 16,
     "metadata": {},
     "output_type": "execute_result"
    }
   ],
   "source": [
    "pat.search('test')\n",
    "pat.search('1test') # --> 1부터 매치 실패하였어도 search 메소드는 문자열 끝까지 조사를 진행"
   ]
  },
  {
   "cell_type": "code",
   "execution_count": 18,
   "metadata": {},
   "outputs": [
    {
     "data": {
      "text/plain": [
       "['test', 'test', 'test']"
      ]
     },
     "execution_count": 18,
     "metadata": {},
     "output_type": "execute_result"
    }
   ],
   "source": [
    "pat.findall('test')\n",
    "pat.findall('1test 2test 3test') # --> search,match 메소드는 매칭 시 바로 종료하지만 findall 메소드는 전부 찾음"
   ]
  },
  {
   "cell_type": "code",
   "execution_count": 19,
   "metadata": {},
   "outputs": [
    {
     "name": "stdout",
     "output_type": "stream",
     "text": [
      "<re.Match object; span=(1, 5), match='test'>\n",
      "<re.Match object; span=(7, 11), match='test'>\n",
      "<re.Match object; span=(13, 17), match='test'>\n"
     ]
    }
   ],
   "source": [
    "res = pat.finditer('1test 2test 3test') # --> findall 과 다른점은 span 정보까지 가지고 있는 반복객체를 리턴 받음\n",
    "for i in res:\n",
    "    print(i)"
   ]
  },
  {
   "cell_type": "markdown",
   "metadata": {},
   "source": [
    "__span 정보 활용__"
   ]
  },
  {
   "cell_type": "code",
   "execution_count": 28,
   "metadata": {},
   "outputs": [
    {
     "name": "stdout",
     "output_type": "stream",
     "text": [
      "mypython\n",
      "0 8\n",
      "(0, 8)\n"
     ]
    }
   ],
   "source": [
    "res = pat.match('mypython')\n",
    "print(res.group())  # 매칭된 문자 리턴\n",
    "print(res.start(),res.end()) # 매칭 문자의 시작, 끝 지점 리턴\n",
    "print(res.span()) # 매칭 문자의 범위를 튜플로 리턴"
   ]
  },
  {
   "cell_type": "code",
   "execution_count": 29,
   "metadata": {},
   "outputs": [
    {
     "name": "stdout",
     "output_type": "stream",
     "text": [
      "mypython\n",
      "2 8\n",
      "(2, 10)\n"
     ]
    }
   ],
   "source": [
    "res2 = pat.search('7 mypython')\n",
    "print(res2.group())  # 매칭된 문자 리턴\n",
    "print(res2.start(),res.end()) # 매칭 문자의 시작, 끝 지점 리턴\n",
    "print(res2.span()) # 매칭 문자의 범위를 튜플로 리턴"
   ]
  },
  {
   "cell_type": "markdown",
   "metadata": {},
   "source": [
    "__오전실습1__"
   ]
  },
  {
   "cell_type": "code",
   "execution_count": 43,
   "metadata": {},
   "outputs": [
    {
     "data": {
      "text/plain": [
       "<re.Match object; span=(0, 6), match='hihihi'>"
      ]
     },
     "execution_count": 43,
     "metadata": {},
     "output_type": "execute_result"
    }
   ],
   "source": [
    "re.match('[0-9]','1234')\n",
    "re.match('[0-9]*','1234') # re.match('[0-9]+','1234') 와 동일 결과\n",
    "re.match('[0-9]+','abc')\n",
    "#--------------------------------\n",
    "re.match('a*b','b')\n",
    "re.match('a*b','a')\n",
    "re.match('a*b','ab')\n",
    "re.match('a*b','aaabc')\n",
    "#--------------------------------\n",
    "re.match('abc?d' , 'abd')\n",
    "#--------------------------------\n",
    "re.match('ab[0-9]c','ab2c')\n",
    "re.match('ab[0-9]?c','ab2c')\n",
    "#--------------------------------\n",
    "re.match('ab.d','ab4d')\n",
    "#--------------------------------\n",
    "re.match('h{3}','hhhrr')\n",
    "re.match('(hi){3}','hihihigg')"
   ]
  },
  {
   "cell_type": "code",
   "execution_count": 44,
   "metadata": {},
   "outputs": [
    {
     "data": {
      "text/plain": [
       "<re.Match object; span=(0, 13), match='010-3109-2278'>"
      ]
     },
     "execution_count": 44,
     "metadata": {},
     "output_type": "execute_result"
    }
   ],
   "source": [
    "my_pattern='[0-9]{3}[-]\\d{4}[-]\\d{4}'\n",
    "re.match(my_pattern,'010-3109-2278') # 패턴 : 전화번호"
   ]
  },
  {
   "cell_type": "code",
   "execution_count": 48,
   "metadata": {},
   "outputs": [
    {
     "data": {
      "text/plain": [
       "<re.Match object; span=(0, 11), match='02-504-2278'>"
      ]
     },
     "execution_count": 48,
     "metadata": {},
     "output_type": "execute_result"
    }
   ],
   "source": [
    "pattern = '\\d{2,3}-\\d{3,4}-\\d{4}'\n",
    "re.match(pattern,'02-504-2278') # 패턴 : 2~3 자리 - 3~4 자리 - 4자리"
   ]
  },
  {
   "cell_type": "markdown",
   "metadata": {},
   "source": [
    "__오후실습1__"
   ]
  },
  {
   "cell_type": "code",
   "execution_count": 50,
   "metadata": {},
   "outputs": [
    {
     "data": {
      "text/plain": [
       "<re.Match object; span=(0, 9), match='Hello1234'>"
      ]
     },
     "execution_count": 50,
     "metadata": {},
     "output_type": "execute_result"
    }
   ],
   "source": [
    "pattern = '[A-Z][a-z]{4}\\d{4}'\n",
    "re.match(pattern,'Hello1234')"
   ]
  },
  {
   "cell_type": "code",
   "execution_count": 54,
   "metadata": {},
   "outputs": [
    {
     "data": {
      "text/plain": [
       "<re.Match object; span=(0, 1), match='H'>"
      ]
     },
     "execution_count": 54,
     "metadata": {},
     "output_type": "execute_result"
    }
   ],
   "source": [
    "pattern = '^[A-Z]+'\n",
    "re.search(pattern,'Hello')"
   ]
  },
  {
   "cell_type": "code",
   "execution_count": 60,
   "metadata": {},
   "outputs": [
    {
     "data": {
      "text/plain": [
       "<re.Match object; span=(2, 5), match='123'>"
      ]
     },
     "execution_count": 60,
     "metadata": {},
     "output_type": "execute_result"
    }
   ],
   "source": [
    "re.search('\\d+$','Hi123')"
   ]
  },
  {
   "cell_type": "markdown",
   "metadata": {},
   "source": [
    "__특수문자를 정규 표현식으로 표현__"
   ]
  },
  {
   "cell_type": "code",
   "execution_count": 70,
   "metadata": {},
   "outputs": [
    {
     "data": {
      "text/plain": [
       "<re.Match object; span=(0, 7), match='$(test)'>"
      ]
     },
     "execution_count": 70,
     "metadata": {},
     "output_type": "execute_result"
    }
   ],
   "source": [
    "# Method 1\n",
    "re.search('\\*+','1**2')\n",
    "# Method 2\n",
    "re.search('[$()a-z]+','$(test)')"
   ]
  },
  {
   "cell_type": "code",
   "execution_count": 72,
   "metadata": {},
   "outputs": [
    {
     "data": {
      "text/plain": [
       "<re.Match object; span=(0, 5), match='(!?@)'>"
      ]
     },
     "execution_count": 72,
     "metadata": {},
     "output_type": "execute_result"
    }
   ],
   "source": [
    "# 문자+숫자+언더바 == \\w\n",
    "re.match('\\w+','Hello_123')\n",
    "re.match('\\W+','(!?@)')"
   ]
  },
  {
   "cell_type": "code",
   "execution_count": 74,
   "metadata": {},
   "outputs": [
    {
     "data": {
      "text/plain": [
       "<re.Match object; span=(0, 9), match='Hello 123'>"
      ]
     },
     "execution_count": 74,
     "metadata": {},
     "output_type": "execute_result"
    }
   ],
   "source": [
    "# 공백문자 (space , enter, tab == \\s)\n",
    "re.match('[a-zA-Z0-9 ]+','Hello 123')\n",
    "re.match('[a-zA-Z0-9\\s]+','Hello 123')"
   ]
  },
  {
   "cell_type": "markdown",
   "metadata": {},
   "source": [
    "__그룹화 표현__"
   ]
  },
  {
   "cell_type": "code",
   "execution_count": 81,
   "metadata": {},
   "outputs": [
    {
     "name": "stdout",
     "output_type": "stream",
     "text": [
      "('123', '456')\n"
     ]
    }
   ],
   "source": [
    "res = re.match('(\\d+) (\\d+)','123 456')\n",
    "print(res.groups())  # 1-index 사용"
   ]
  },
  {
   "cell_type": "code",
   "execution_count": 99,
   "metadata": {},
   "outputs": [
    {
     "data": {
      "text/plain": [
       "'print'"
      ]
     },
     "execution_count": 99,
     "metadata": {},
     "output_type": "execute_result"
    }
   ],
   "source": [
    "# 그룹 이름 부여 : (?P<그룹명>  ) 형식\n",
    "\n",
    "pattern='(?P<function_name>[a-zA-Z_]\\w*)[(](?P<arguments>[a-zA-Z0-9,]*)[)]$'\n",
    "res = re.match(pattern,'print(345,34)')\n",
    "res.group('function_name')"
   ]
  },
  {
   "cell_type": "markdown",
   "metadata": {},
   "source": [
    "__Find all, sub 활용__"
   ]
  },
  {
   "cell_type": "code",
   "execution_count": 103,
   "metadata": {},
   "outputs": [
    {
     "data": {
      "text/plain": [
       "['1', '2', '45', '54']"
      ]
     },
     "execution_count": 103,
     "metadata": {},
     "output_type": "execute_result"
    }
   ],
   "source": [
    "# find - all\n",
    "re.findall('[0-9]+','1 2 three 45 54 six')"
   ]
  },
  {
   "cell_type": "code",
   "execution_count": 104,
   "metadata": {},
   "outputs": [
    {
     "data": {
      "text/plain": [
       "'대한민국 대한민국 대한민국'"
      ]
     },
     "execution_count": 104,
     "metadata": {},
     "output_type": "execute_result"
    }
   ],
   "source": [
    "# sub : re.sub('패턴','바꿀 문자열','문자열')\n",
    "re.sub('대한민국|한국|남한|코리아','대한민국','대한민국 한국 코리아')\n",
    "# 실 활용 형식 -->  re.sub('','',requests.get().text)"
   ]
  },
  {
   "cell_type": "code",
   "execution_count": 106,
   "metadata": {},
   "outputs": [
    {
     "data": {
      "text/plain": [
       "'su su three su su su seven'"
      ]
     },
     "execution_count": 106,
     "metadata": {},
     "output_type": "execute_result"
    }
   ],
   "source": [
    "re.sub('\\d+','su','1 2 three 4 50 600 seven')"
   ]
  },
  {
   "cell_type": "code",
   "execution_count": 111,
   "metadata": {},
   "outputs": [
    {
     "name": "stdout",
     "output_type": "stream",
     "text": [
      "1\n",
      "<class 'str'>\n",
      "2\n",
      "<class 'str'>\n",
      "4\n",
      "<class 'str'>\n",
      "50\n",
      "<class 'str'>\n",
      "600\n",
      "<class 'str'>\n"
     ]
    },
    {
     "data": {
      "text/plain": [
       "'10 20 three 40 500 6000 seven'"
      ]
     },
     "execution_count": 111,
     "metadata": {},
     "output_type": "execute_result"
    }
   ],
   "source": [
    "def mul10(arg):\n",
    "    print(arg.group())\n",
    "    print(type(arg.group()))\n",
    "    return str(10*int(arg.group()))\n",
    "    \n",
    "re.sub('\\d+',mul10,'1 2 three 4 50 600 seven')\n",
    "\n",
    "# res= re."
   ]
  }
 ],
 "metadata": {
  "kernelspec": {
   "display_name": "Python 3",
   "language": "python",
   "name": "python3"
  },
  "language_info": {
   "codemirror_mode": {
    "name": "ipython",
    "version": 3
   },
   "file_extension": ".py",
   "mimetype": "text/x-python",
   "name": "python",
   "nbconvert_exporter": "python",
   "pygments_lexer": "ipython3",
   "version": "3.7.8"
  }
 },
 "nbformat": 4,
 "nbformat_minor": 4
}
