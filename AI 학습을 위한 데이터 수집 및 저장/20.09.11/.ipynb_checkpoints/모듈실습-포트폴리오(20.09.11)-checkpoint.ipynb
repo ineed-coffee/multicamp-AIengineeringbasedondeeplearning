{
 "cells": [
  {
   "cell_type": "markdown",
   "metadata": {},
   "source": [
    "\n",
    "__1. 컬럼에 대한 설명__  \n",
    "\n",
    "* datetime - hourly date + timestamp \n",
    "\n",
    "* season - 1 = spring, 2 = summer, 3 = fall, 4 = winter \n",
    "\n",
    "* holiday - whether the day is considered a holiday (맞으면 1 아니면 0)\n",
    "\n",
    "* workingday - whether the day is neither a weekend nor holiday\n",
    "\n",
    "* weather:  \n",
    "          - 1: Clear, Few clouds, Partly cloudy, Partly cloudy  \n",
    "          - 2: Mist + Cloudy, Mist + Broken clouds, Mist + Few clouds, Mist  \n",
    "          - 3: Light Snow, Light Rain + Thunderstorm + Scattered clouds, Light Rain + Scattered clouds  \n",
    "          - 4: Heavy Rain + Ice Pallets + Thunderstorm + Mist, Snow + Fog  \n",
    "\n",
    "* temp - temperature in Celsius\n",
    "\n",
    "* atemp - \"feels like\" temperature in Celsius\n",
    "\n",
    "* humidity - relative humidity\n",
    "\n",
    "* windspeed - wind speed\n",
    "\n",
    "* casual - number of non-registered user rentals initiated (비회원)\n",
    "\n",
    "* registered - number of registered user rentals initiated (회원)\n",
    "\n",
    "* count - number of total rentals (casual+registered)"
   ]
  },
  {
   "cell_type": "markdown",
   "metadata": {},
   "source": [
    "## __2. bike.csv 파일을 읽고 데이터프레임(변수명:df)으로 저장__"
   ]
  },
  {
   "cell_type": "code",
   "execution_count": 1,
   "metadata": {},
   "outputs": [],
   "source": [
    "import pandas as pd\n",
    "import numpy as np"
   ]
  },
  {
   "cell_type": "code",
   "execution_count": 2,
   "metadata": {},
   "outputs": [],
   "source": [
    "filepath='D:/downloads/'\n",
    "filename='bike.csv'  # sharing-bike 이용 데이터"
   ]
  },
  {
   "cell_type": "code",
   "execution_count": 3,
   "metadata": {},
   "outputs": [
    {
     "data": {
      "text/html": [
       "<div>\n",
       "<style scoped>\n",
       "    .dataframe tbody tr th:only-of-type {\n",
       "        vertical-align: middle;\n",
       "    }\n",
       "\n",
       "    .dataframe tbody tr th {\n",
       "        vertical-align: top;\n",
       "    }\n",
       "\n",
       "    .dataframe thead th {\n",
       "        text-align: right;\n",
       "    }\n",
       "</style>\n",
       "<table border=\"1\" class=\"dataframe\">\n",
       "  <thead>\n",
       "    <tr style=\"text-align: right;\">\n",
       "      <th></th>\n",
       "      <th>datetime</th>\n",
       "      <th>season</th>\n",
       "      <th>holiday</th>\n",
       "      <th>workingday</th>\n",
       "      <th>weather</th>\n",
       "      <th>temp</th>\n",
       "      <th>atemp</th>\n",
       "      <th>humidity</th>\n",
       "      <th>windspeed</th>\n",
       "      <th>casual</th>\n",
       "      <th>registered</th>\n",
       "      <th>count</th>\n",
       "    </tr>\n",
       "  </thead>\n",
       "  <tbody>\n",
       "    <tr>\n",
       "      <th>0</th>\n",
       "      <td>2011-01-01 00:00:00</td>\n",
       "      <td>1</td>\n",
       "      <td>0</td>\n",
       "      <td>0</td>\n",
       "      <td>1</td>\n",
       "      <td>9.84</td>\n",
       "      <td>14.395</td>\n",
       "      <td>81</td>\n",
       "      <td>0.0</td>\n",
       "      <td>3</td>\n",
       "      <td>13</td>\n",
       "      <td>16</td>\n",
       "    </tr>\n",
       "    <tr>\n",
       "      <th>1</th>\n",
       "      <td>2011-01-01 01:00:00</td>\n",
       "      <td>1</td>\n",
       "      <td>0</td>\n",
       "      <td>0</td>\n",
       "      <td>1</td>\n",
       "      <td>9.02</td>\n",
       "      <td>13.635</td>\n",
       "      <td>80</td>\n",
       "      <td>0.0</td>\n",
       "      <td>8</td>\n",
       "      <td>32</td>\n",
       "      <td>40</td>\n",
       "    </tr>\n",
       "  </tbody>\n",
       "</table>\n",
       "</div>"
      ],
      "text/plain": [
       "             datetime  season  holiday  workingday  weather  temp   atemp  \\\n",
       "0 2011-01-01 00:00:00       1        0           0        1  9.84  14.395   \n",
       "1 2011-01-01 01:00:00       1        0           0        1  9.02  13.635   \n",
       "\n",
       "   humidity  windspeed  casual  registered  count  \n",
       "0        81        0.0       3          13     16  \n",
       "1        80        0.0       8          32     40  "
      ]
     },
     "execution_count": 3,
     "metadata": {},
     "output_type": "execute_result"
    }
   ],
   "source": [
    "df = pd.read_csv(filepath+filename,parse_dates=['datetime'])\n",
    "df.head(2)"
   ]
  },
  {
   "cell_type": "markdown",
   "metadata": {},
   "source": [
    "## 3. season 컬럼: season 종류 별 데이터 건수 출력  "
   ]
  },
  {
   "cell_type": "code",
   "execution_count": 4,
   "metadata": {},
   "outputs": [
    {
     "data": {
      "text/plain": [
       "Spring    2686\n",
       "Summer    2733\n",
       "Fall      2733\n",
       "Winter    2734\n",
       "dtype: int64"
      ]
     },
     "execution_count": 4,
     "metadata": {},
     "output_type": "execute_result"
    }
   ],
   "source": [
    "season_group = df.groupby(['season']).apply(lambda x:len(x))\n",
    "season_group.index=['Spring','Summer','Fall','Winter'] # 1 = spring, 2 = summer, 3 = fall, 4 = winter\n",
    "season_group"
   ]
  },
  {
   "cell_type": "markdown",
   "metadata": {},
   "source": [
    "## 4. temp 컬럼  \n",
    "- 4.1 최대, 최소, 평균, 중앙값, 표준편차 출력  \n",
    "- 4.2 월별 temp 평균 온도 출력  \n",
    "- 4.3 temp 컬럼 값을 0-10, 10-20, 20-30 구간으로 나눈다음, 구간별 데이터 건수를 출력  "
   ]
  },
  {
   "cell_type": "code",
   "execution_count": 5,
   "metadata": {},
   "outputs": [
    {
     "name": "stdout",
     "output_type": "stream",
     "text": [
      "최대=41.0   , 최소=0.82\n",
      "평균=20.230859819952173   , 표준편차=7.791589843987506\n",
      "중앙값=20.5\n"
     ]
    }
   ],
   "source": [
    "# 4.1\n",
    "print(f'최대={df.temp.max()}   , 최소={df.temp.min()}')\n",
    "print(f'평균={df.temp.mean()}   , 표준편차={df.temp.std()}')\n",
    "print(f'중앙값={np.median(df.temp)}')"
   ]
  },
  {
   "cell_type": "code",
   "execution_count": 6,
   "metadata": {},
   "outputs": [
    {
     "data": {
      "text/plain": [
       "datetime\n",
       "1      9.840000\n",
       "2     11.798535\n",
       "3     15.902175\n",
       "4     18.718372\n",
       "5     22.674079\n",
       "6     27.064496\n",
       "7     30.841711\n",
       "8     29.736689\n",
       "9     25.779032\n",
       "10    20.933853\n",
       "11    15.185752\n",
       "12    13.831206\n",
       "Name: temp, dtype: float64"
      ]
     },
     "execution_count": 6,
     "metadata": {},
     "output_type": "execute_result"
    }
   ],
   "source": [
    "# 4.2\n",
    "df.groupby(df.datetime.dt.month)['temp'].mean()"
   ]
  },
  {
   "cell_type": "code",
   "execution_count": 7,
   "metadata": {},
   "outputs": [
    {
     "data": {
      "text/plain": [
       "(20.0, 30.0]      4334\n",
       "(10.0, 20.0]      4049\n",
       "(-0.001, 10.0]    1259\n",
       "Name: temp, dtype: int64"
      ]
     },
     "execution_count": 7,
     "metadata": {},
     "output_type": "execute_result"
    }
   ],
   "source": [
    "# 4.3\n",
    "df.temp.value_counts(bins=[0,10,20,30])"
   ]
  },
  {
   "cell_type": "markdown",
   "metadata": {},
   "source": [
    "## 5. windspeed 컬럼  \n",
    "- 5.1 0으로 되어 있는 값의 개수를 세어 출력  \n",
    "- 5.2 월별 windspeed 평균 풍속 출력(0 제외)  "
   ]
  },
  {
   "cell_type": "code",
   "execution_count": 8,
   "metadata": {},
   "outputs": [
    {
     "name": "stdout",
     "output_type": "stream",
     "text": [
      "풍속이 0으로 되어 있는 행의 수 :  1313\n"
     ]
    }
   ],
   "source": [
    "# 5.1\n",
    "print(f'풍속이 0으로 되어 있는 행의 수 : ',end=' ')\n",
    "print(len(df.windspeed[df.windspeed==0]))"
   ]
  },
  {
   "cell_type": "code",
   "execution_count": 9,
   "metadata": {},
   "outputs": [
    {
     "data": {
      "text/plain": [
       "datetime\n",
       "1     15.934902\n",
       "2     16.068072\n",
       "3     16.657385\n",
       "4     16.921398\n",
       "5     13.980160\n",
       "6     13.634654\n",
       "7     12.594203\n",
       "8     13.584564\n",
       "9     13.421314\n",
       "10    13.672864\n",
       "11    14.781608\n",
       "12    13.077087\n",
       "Name: windspeed, dtype: float64"
      ]
     },
     "execution_count": 9,
     "metadata": {},
     "output_type": "execute_result"
    }
   ],
   "source": [
    "# 5.2 : 0 값을 nan 처리 후 평균 계산\n",
    "df.windspeed = np.where(df.windspeed==0,np.nan,df.windspeed)\n",
    "df.groupby(df.datetime.dt.month)['windspeed'].mean()"
   ]
  },
  {
   "cell_type": "markdown",
   "metadata": {},
   "source": [
    "## 6. weather 컬럼: weather 종류 별 데이터 건수 출력  "
   ]
  },
  {
   "cell_type": "code",
   "execution_count": 10,
   "metadata": {},
   "outputs": [
    {
     "data": {
      "text/plain": [
       "Clear              7192\n",
       "Cloudy             2834\n",
       "Light Snow/Rain     859\n",
       "Heavy Snow/Rain       1\n",
       "dtype: int64"
      ]
     },
     "execution_count": 10,
     "metadata": {},
     "output_type": "execute_result"
    }
   ],
   "source": [
    "weather_group = df.groupby(['weather']).apply(lambda x:len(x))\n",
    "weather_group.index = ['Clear','Cloudy','Light Snow/Rain','Heavy Snow/Rain']\n",
    "weather_group"
   ]
  },
  {
   "cell_type": "markdown",
   "metadata": {},
   "source": [
    "## 7. humidity 컬럼  \n",
    "- 7.1 2011년 평균 습도 출력  \n",
    "- 7.2 2012년 평균 습도 출력  \n",
    "- 7.3 연도와 관계없이 월별 평균 습도 출력  \n",
    "- 7.4 연도별 표준편차 출력  "
   ]
  },
  {
   "cell_type": "code",
   "execution_count": 11,
   "metadata": {},
   "outputs": [
    {
     "name": "stdout",
     "output_type": "stream",
     "text": [
      "2011년 평균 습도 : 63.40501659904094\n"
     ]
    }
   ],
   "source": [
    "# 7.1\n",
    "print(f\"2011년 평균 습도 : {df.humidity[df.datetime.dt.year==2011].mean()}\")"
   ]
  },
  {
   "cell_type": "code",
   "execution_count": 12,
   "metadata": {},
   "outputs": [
    {
     "name": "stdout",
     "output_type": "stream",
     "text": [
      "2012년 평균 습도 : 60.37957540263543\n"
     ]
    }
   ],
   "source": [
    "# 7.2\n",
    "print(f\"2012년 평균 습도 : {df.humidity[df.datetime.dt.year==2012].mean()}\")"
   ]
  },
  {
   "cell_type": "code",
   "execution_count": 13,
   "metadata": {},
   "outputs": [
    {
     "data": {
      "text/plain": [
       "datetime\n",
       "1     55.911765\n",
       "2     56.296337\n",
       "3     56.678135\n",
       "4     55.697470\n",
       "5     68.084430\n",
       "6     58.759868\n",
       "7     58.402412\n",
       "8     63.010965\n",
       "9     70.980198\n",
       "10    69.412733\n",
       "11    60.722283\n",
       "12    68.383772\n",
       "Name: humidity, dtype: float64"
      ]
     },
     "execution_count": 13,
     "metadata": {},
     "output_type": "execute_result"
    }
   ],
   "source": [
    "# 7.3\n",
    "df.groupby(df.datetime.dt.month)['humidity'].mean()"
   ]
  },
  {
   "cell_type": "code",
   "execution_count": 14,
   "metadata": {},
   "outputs": [
    {
     "data": {
      "text/plain": [
       "datetime\n",
       "2011    19.780518\n",
       "2012    18.578008\n",
       "Name: humidity, dtype: float64"
      ]
     },
     "execution_count": 14,
     "metadata": {},
     "output_type": "execute_result"
    }
   ],
   "source": [
    "# 7.4\n",
    "df.groupby(df.datetime.dt.year)['humidity'].std()"
   ]
  },
  {
   "cell_type": "markdown",
   "metadata": {},
   "source": [
    "## 8. datetime 컬럼  \n",
    "- 8.1 월별(01~12) 평균 count 출력  \n",
    "- 8.2 일별(01~19) 평균 count 출력  \n",
    "- 8.3 시각별(0~23) 평균 count 출력  \n",
    "- 8.4 평균 count값이 가장 큰 월 출력  \n",
    "- 8.5 평균 count값이 가장 큰 시각 출력  "
   ]
  },
  {
   "cell_type": "code",
   "execution_count": 15,
   "metadata": {},
   "outputs": [
    {
     "data": {
      "text/plain": [
       "datetime\n",
       "1      90.366516\n",
       "2     110.003330\n",
       "3     148.169811\n",
       "4     184.160616\n",
       "5     219.459430\n",
       "6     242.031798\n",
       "7     235.325658\n",
       "8     234.118421\n",
       "9     233.805281\n",
       "10    227.699232\n",
       "11    193.677278\n",
       "12    175.614035\n",
       "Name: count, dtype: float64"
      ]
     },
     "execution_count": 15,
     "metadata": {},
     "output_type": "execute_result"
    }
   ],
   "source": [
    "# 8.1\n",
    "df.groupby(df.datetime.dt.month)['count'].mean()"
   ]
  },
  {
   "cell_type": "code",
   "execution_count": 16,
   "metadata": {},
   "outputs": [
    {
     "data": {
      "text/plain": [
       "datetime\n",
       "1     180.333913\n",
       "2     183.910995\n",
       "3     194.696335\n",
       "4     195.705575\n",
       "5     189.765217\n",
       "6     189.860140\n",
       "7     183.773519\n",
       "8     179.041812\n",
       "9     187.897391\n",
       "10    195.183566\n",
       "11    195.679577\n",
       "12    190.675393\n",
       "13    194.160279\n",
       "14    195.829268\n",
       "15    201.527875\n",
       "16    191.353659\n",
       "17    205.660870\n",
       "18    192.605684\n",
       "19    192.311847\n",
       "Name: count, dtype: float64"
      ]
     },
     "execution_count": 16,
     "metadata": {},
     "output_type": "execute_result"
    }
   ],
   "source": [
    "# 8.2\n",
    "df.groupby(df.datetime.dt.day)['count'].mean()"
   ]
  },
  {
   "cell_type": "code",
   "execution_count": 17,
   "metadata": {},
   "outputs": [
    {
     "data": {
      "text/plain": [
       "datetime\n",
       "0      55.138462\n",
       "1      33.859031\n",
       "2      22.899554\n",
       "3      11.757506\n",
       "4       6.407240\n",
       "5      19.767699\n",
       "6      76.259341\n",
       "7     213.116484\n",
       "8     362.769231\n",
       "9     221.780220\n",
       "10    175.092308\n",
       "11    210.674725\n",
       "12    256.508772\n",
       "13    257.787281\n",
       "14    243.442982\n",
       "15    254.298246\n",
       "16    316.372807\n",
       "17    468.765351\n",
       "18    430.859649\n",
       "19    315.278509\n",
       "20    228.517544\n",
       "21    173.370614\n",
       "22    133.576754\n",
       "23     89.508772\n",
       "Name: count, dtype: float64"
      ]
     },
     "execution_count": 17,
     "metadata": {},
     "output_type": "execute_result"
    }
   ],
   "source": [
    "# 8.3\n",
    "df.groupby(df.datetime.dt.hour)['count'].mean()"
   ]
  },
  {
   "cell_type": "code",
   "execution_count": 18,
   "metadata": {},
   "outputs": [
    {
     "name": "stdout",
     "output_type": "stream",
     "text": [
      "평균 count 값이 가장 큰 월 :  6 월\n",
      "=> 날씨가 좋은 시즌이니 자전거를 많이 타나봄\n"
     ]
    }
   ],
   "source": [
    "# 8.4 \n",
    "print(f'평균 count 값이 가장 큰 월 : ',end=' ')\n",
    "print(df.groupby(df.datetime.dt.month)['count'].mean().idxmax(),'월')\n",
    "print('=> 날씨가 좋은 시즌이니 자전거를 많이 타나봄')"
   ]
  },
  {
   "cell_type": "code",
   "execution_count": 19,
   "metadata": {},
   "outputs": [
    {
     "name": "stdout",
     "output_type": "stream",
     "text": [
      "평균 count 값이 가장 시각 :  17 시\n",
      "=> 퇴근길 혹은 퇴근 후 찾는 사람이 많음\n"
     ]
    }
   ],
   "source": [
    "# 8.5 \n",
    "print(f'평균 count 값이 가장 시각 : ',end=' ')\n",
    "print(df.groupby(df.datetime.dt.hour)['count'].mean().idxmax(),'시')\n",
    "print('=> 퇴근길 혹은 퇴근 후 찾는 사람이 많음')"
   ]
  },
  {
   "cell_type": "markdown",
   "metadata": {},
   "source": [
    "## 9. 상관분석  \n",
    "- 9.1 temp와 count 간 상관 계수 출력  \n",
    "- 9.2 humidity와 count 간 상관 계수 출력  \n",
    "- 9.3 weather와 count 간 상관 계수 출력  \n",
    "- 9.4 windspeed와 count 간 상관 계수 출력  \n",
    "- 9.5 위 4개의 features 중에서 상관 계수가 가장 큰 feature 출력  "
   ]
  },
  {
   "cell_type": "code",
   "execution_count": 20,
   "metadata": {},
   "outputs": [],
   "source": [
    "from sklearn.preprocessing import StandardScaler as SS"
   ]
  },
  {
   "cell_type": "code",
   "execution_count": 21,
   "metadata": {},
   "outputs": [
    {
     "data": {
      "text/html": [
       "<div>\n",
       "<style scoped>\n",
       "    .dataframe tbody tr th:only-of-type {\n",
       "        vertical-align: middle;\n",
       "    }\n",
       "\n",
       "    .dataframe tbody tr th {\n",
       "        vertical-align: top;\n",
       "    }\n",
       "\n",
       "    .dataframe thead th {\n",
       "        text-align: right;\n",
       "    }\n",
       "</style>\n",
       "<table border=\"1\" class=\"dataframe\">\n",
       "  <thead>\n",
       "    <tr style=\"text-align: right;\">\n",
       "      <th></th>\n",
       "      <th>datetime</th>\n",
       "      <th>season</th>\n",
       "      <th>holiday</th>\n",
       "      <th>workingday</th>\n",
       "      <th>weather</th>\n",
       "      <th>temp</th>\n",
       "      <th>atemp</th>\n",
       "      <th>humidity</th>\n",
       "      <th>windspeed</th>\n",
       "      <th>casual</th>\n",
       "      <th>registered</th>\n",
       "      <th>count</th>\n",
       "      <th>count_stand</th>\n",
       "    </tr>\n",
       "  </thead>\n",
       "  <tbody>\n",
       "    <tr>\n",
       "      <th>0</th>\n",
       "      <td>2011-01-01</td>\n",
       "      <td>1</td>\n",
       "      <td>0</td>\n",
       "      <td>0</td>\n",
       "      <td>1</td>\n",
       "      <td>9.84</td>\n",
       "      <td>14.395</td>\n",
       "      <td>81</td>\n",
       "      <td>NaN</td>\n",
       "      <td>3</td>\n",
       "      <td>13</td>\n",
       "      <td>16</td>\n",
       "      <td>-0.969294</td>\n",
       "    </tr>\n",
       "  </tbody>\n",
       "</table>\n",
       "</div>"
      ],
      "text/plain": [
       "    datetime  season  holiday  workingday  weather  temp   atemp  humidity  \\\n",
       "0 2011-01-01       1        0           0        1  9.84  14.395        81   \n",
       "\n",
       "   windspeed  casual  registered  count  count_stand  \n",
       "0        NaN       3          13     16    -0.969294  "
      ]
     },
     "execution_count": 21,
     "metadata": {},
     "output_type": "execute_result"
    }
   ],
   "source": [
    "# 표준화된 count 열 -> count_stand 추가\n",
    "df['count_stand'] = SS().fit_transform(np.array(df['count']).reshape(-1,1))\n",
    "df.head(1)"
   ]
  },
  {
   "cell_type": "code",
   "execution_count": 22,
   "metadata": {},
   "outputs": [],
   "source": [
    "Corr_df = pd.DataFrame({'raw_corr':[]}) # 각 feature 별 상관계수 저장"
   ]
  },
  {
   "cell_type": "code",
   "execution_count": 23,
   "metadata": {},
   "outputs": [
    {
     "name": "stdout",
     "output_type": "stream",
     "text": [
      "temp 데이터와 count 데이터간 상관 계수 :  0.39445364496724905\n"
     ]
    }
   ],
   "source": [
    "# 9.1\n",
    "df['temp_stand'] = SS().fit_transform(np.array(df.temp).reshape(-1,1))\n",
    "Corr_df.loc['temp']=df['temp_stand'].corr(df['count_stand'],method='pearson')\n",
    "print(f'temp 데이터와 count 데이터간 상관 계수 : ', end=' ')\n",
    "print(Corr_df.loc['temp','raw_corr'])"
   ]
  },
  {
   "cell_type": "code",
   "execution_count": 24,
   "metadata": {},
   "outputs": [
    {
     "name": "stdout",
     "output_type": "stream",
     "text": [
      "humidity 데이터와 count 데이터간 상관 계수 :  -0.3173714788765944\n"
     ]
    }
   ],
   "source": [
    "# 9.2\n",
    "df['humidity_stand'] = SS().fit_transform(np.array(df['humidity']).reshape(-1,1))\n",
    "Corr_df.loc['humidity']=df['humidity_stand'].corr(df['count_stand'],method='pearson')\n",
    "print(f'humidity 데이터와 count 데이터간 상관 계수 : ', end=' ')\n",
    "print(Corr_df.loc['humidity','raw_corr'])"
   ]
  },
  {
   "cell_type": "code",
   "execution_count": 25,
   "metadata": {},
   "outputs": [
    {
     "name": "stdout",
     "output_type": "stream",
     "text": [
      "weather 데이터와 count 데이터간 상관 계수 :  -0.12865520103850633\n"
     ]
    }
   ],
   "source": [
    "# 9.3\n",
    "df['weather_stand'] = SS().fit_transform(np.array(df['weather']).reshape(-1,1))\n",
    "Corr_df.loc['weather']=df['weather_stand'].corr(df['count_stand'],method='pearson')\n",
    "print(f'weather 데이터와 count 데이터간 상관 계수 : ', end=' ')\n",
    "print(Corr_df.loc['weather','raw_corr'])"
   ]
  },
  {
   "cell_type": "code",
   "execution_count": 26,
   "metadata": {},
   "outputs": [
    {
     "name": "stdout",
     "output_type": "stream",
     "text": [
      "windspeed 데이터와 count 데이터간 상관 계수 :  0.08501409916575474\n"
     ]
    }
   ],
   "source": [
    "# 9.4\n",
    "df['windspeed_stand'] = SS().fit_transform(np.array(df['windspeed']).reshape(-1,1))\n",
    "Corr_df.loc['windspeed']=df['windspeed_stand'].corr(df['count_stand'],method='pearson')\n",
    "print(f'windspeed 데이터와 count 데이터간 상관 계수 : ', end=' ')\n",
    "print(Corr_df.loc['windspeed','raw_corr'])"
   ]
  },
  {
   "cell_type": "code",
   "execution_count": 27,
   "metadata": {},
   "outputs": [
    {
     "name": "stdout",
     "output_type": "stream",
     "text": [
      "count 데이터과 가장 큰 상관계수 관계인 feature :  temp\n"
     ]
    }
   ],
   "source": [
    "# 9.5 \n",
    "Corr_df['abs_corr']=Corr_df['raw_corr'].apply(abs)\n",
    "print('count 데이터과 가장 큰 상관계수 관계인 feature : ',end=' ')\n",
    "print(Corr_df.sort_values(by='abs_corr',ascending=False).index[0])"
   ]
  }
 ],
 "metadata": {
  "kernelspec": {
   "display_name": "Python 3",
   "language": "python",
   "name": "python3"
  },
  "language_info": {
   "codemirror_mode": {
    "name": "ipython",
    "version": 3
   },
   "file_extension": ".py",
   "mimetype": "text/x-python",
   "name": "python",
   "nbconvert_exporter": "python",
   "pygments_lexer": "ipython3",
   "version": "3.8.3"
  }
 },
 "nbformat": 4,
 "nbformat_minor": 4
}
