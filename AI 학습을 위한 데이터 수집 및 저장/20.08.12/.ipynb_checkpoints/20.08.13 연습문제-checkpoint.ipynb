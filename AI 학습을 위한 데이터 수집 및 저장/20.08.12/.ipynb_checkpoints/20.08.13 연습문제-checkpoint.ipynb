{
 "cells": [
  {
   "cell_type": "markdown",
   "metadata": {},
   "source": [
    "# Babynames 데이터셋을 활용하여,  \n",
    "## * 1. 각 연도별 가장 인지 있는 이름은 분석 (성별에 따라)  \n",
    "## * 2. 각 연도별 이름의 모음 개수 변화 (a,e,i,o,u)  \n",
    "## * 3. 가장 많이 사용된 알파벳 문자 조사 (연도,성별 관계 X)"
   ]
  },
  {
   "cell_type": "markdown",
   "metadata": {},
   "source": [
    "## __1.__"
   ]
  },
  {
   "cell_type": "markdown",
   "metadata": {},
   "source": [
    "* __read, generate list of dataframes__"
   ]
  },
  {
   "cell_type": "code",
   "execution_count": 1,
   "metadata": {},
   "outputs": [],
   "source": [
    "import pandas as pd\n",
    "\n",
    "all_df=[]\n",
    "for year in range(1880,2011):\n",
    "    df = pd.read_csv(f'c:/babynames/yob{year}.txt',names=['Names','Sex','Births'])\n",
    "    df['year']=year\n",
    "    all_df.append(df)\n",
    "df_concat = pd.concat(all_df,ignore_index=True)"
   ]
  },
  {
   "cell_type": "markdown",
   "metadata": {},
   "source": [
    "* __extract most popular names grouping by 'year','sex'__"
   ]
  },
  {
   "cell_type": "code",
   "execution_count": 2,
   "metadata": {},
   "outputs": [],
   "source": [
    "def get_top(group):\n",
    "    return group.sort_values(by='Births',ascending=False).iloc[0]\n",
    "\n",
    "df_most_pop = df_concat.groupby(['year','Sex']).apply(get_top)"
   ]
  },
  {
   "cell_type": "markdown",
   "metadata": {},
   "source": [
    "* __make pivot table using Sex as column & year as index__"
   ]
  },
  {
   "cell_type": "code",
   "execution_count": 3,
   "metadata": {},
   "outputs": [
    {
     "data": {
      "text/html": [
       "<div>\n",
       "<style scoped>\n",
       "    .dataframe tbody tr th:only-of-type {\n",
       "        vertical-align: middle;\n",
       "    }\n",
       "\n",
       "    .dataframe tbody tr th {\n",
       "        vertical-align: top;\n",
       "    }\n",
       "\n",
       "    .dataframe thead th {\n",
       "        text-align: right;\n",
       "    }\n",
       "</style>\n",
       "<table border=\"1\" class=\"dataframe\">\n",
       "  <thead>\n",
       "    <tr style=\"text-align: right;\">\n",
       "      <th>Sex</th>\n",
       "      <th>F</th>\n",
       "      <th>M</th>\n",
       "    </tr>\n",
       "    <tr>\n",
       "      <th>year</th>\n",
       "      <th></th>\n",
       "      <th></th>\n",
       "    </tr>\n",
       "  </thead>\n",
       "  <tbody>\n",
       "    <tr>\n",
       "      <th>1880</th>\n",
       "      <td>Mary</td>\n",
       "      <td>John</td>\n",
       "    </tr>\n",
       "    <tr>\n",
       "      <th>1881</th>\n",
       "      <td>Mary</td>\n",
       "      <td>John</td>\n",
       "    </tr>\n",
       "    <tr>\n",
       "      <th>1882</th>\n",
       "      <td>Mary</td>\n",
       "      <td>John</td>\n",
       "    </tr>\n",
       "    <tr>\n",
       "      <th>1883</th>\n",
       "      <td>Mary</td>\n",
       "      <td>John</td>\n",
       "    </tr>\n",
       "    <tr>\n",
       "      <th>1884</th>\n",
       "      <td>Mary</td>\n",
       "      <td>John</td>\n",
       "    </tr>\n",
       "    <tr>\n",
       "      <th>...</th>\n",
       "      <td>...</td>\n",
       "      <td>...</td>\n",
       "    </tr>\n",
       "    <tr>\n",
       "      <th>2006</th>\n",
       "      <td>Emily</td>\n",
       "      <td>Jacob</td>\n",
       "    </tr>\n",
       "    <tr>\n",
       "      <th>2007</th>\n",
       "      <td>Emily</td>\n",
       "      <td>Jacob</td>\n",
       "    </tr>\n",
       "    <tr>\n",
       "      <th>2008</th>\n",
       "      <td>Emma</td>\n",
       "      <td>Jacob</td>\n",
       "    </tr>\n",
       "    <tr>\n",
       "      <th>2009</th>\n",
       "      <td>Isabella</td>\n",
       "      <td>Jacob</td>\n",
       "    </tr>\n",
       "    <tr>\n",
       "      <th>2010</th>\n",
       "      <td>Isabella</td>\n",
       "      <td>Jacob</td>\n",
       "    </tr>\n",
       "  </tbody>\n",
       "</table>\n",
       "<p>131 rows × 2 columns</p>\n",
       "</div>"
      ],
      "text/plain": [
       "Sex          F      M\n",
       "year                 \n",
       "1880      Mary   John\n",
       "1881      Mary   John\n",
       "1882      Mary   John\n",
       "1883      Mary   John\n",
       "1884      Mary   John\n",
       "...        ...    ...\n",
       "2006     Emily  Jacob\n",
       "2007     Emily  Jacob\n",
       "2008      Emma  Jacob\n",
       "2009  Isabella  Jacob\n",
       "2010  Isabella  Jacob\n",
       "\n",
       "[131 rows x 2 columns]"
      ]
     },
     "execution_count": 3,
     "metadata": {},
     "output_type": "execute_result"
    }
   ],
   "source": [
    "df_most_pop.reset_index(inplace=True,drop=True)\n",
    "df_most_pop = df_most_pop.pivot_table('Names',index='year',columns='Sex',aggfunc='first')\n",
    "df_most_pop"
   ]
  },
  {
   "cell_type": "markdown",
   "metadata": {},
   "source": [
    "# __2.__"
   ]
  },
  {
   "cell_type": "markdown",
   "metadata": {},
   "source": [
    "* __read, generate list of dataframes__"
   ]
  },
  {
   "cell_type": "code",
   "execution_count": 4,
   "metadata": {},
   "outputs": [],
   "source": [
    "import pandas as pd\n",
    "\n",
    "all_df=[]\n",
    "for year in range(1880,2011):\n",
    "    df = pd.read_csv(f'c:/babynames/yob{year}.txt',names=['Names','Sex','Births'])\n",
    "    df['year']=year\n",
    "    all_df.append(df)\n",
    "df_concat = pd.concat(all_df,ignore_index=True)"
   ]
  },
  {
   "cell_type": "markdown",
   "metadata": {},
   "source": [
    "* __extract sum of vowel grouping by 'year','sex'__"
   ]
  },
  {
   "cell_type": "code",
   "execution_count": 5,
   "metadata": {},
   "outputs": [],
   "source": [
    "vowel=['a','e','i','o','u']\n",
    "def get_vowel_sum(group):\n",
    "    ret = 0\n",
    "    for v in vowel:\n",
    "        for i in range(len(group)):\n",
    "            v_cnt=group.Names.iloc[i].count(v)\n",
    "            b_cnt=group.Births.iloc[i]\n",
    "            ret+=v_cnt*b_cnt\n",
    "    return ret\n",
    "\n",
    "df_vowel_sum = df_concat.groupby(['year','Sex']).apply(get_vowel_sum)"
   ]
  },
  {
   "cell_type": "markdown",
   "metadata": {},
   "source": [
    "* __make Series->Dataframe using Sex as column & year as index__"
   ]
  },
  {
   "cell_type": "code",
   "execution_count": 7,
   "metadata": {},
   "outputs": [
    {
     "data": {
      "text/html": [
       "<div>\n",
       "<style scoped>\n",
       "    .dataframe tbody tr th:only-of-type {\n",
       "        vertical-align: middle;\n",
       "    }\n",
       "\n",
       "    .dataframe tbody tr th {\n",
       "        vertical-align: top;\n",
       "    }\n",
       "\n",
       "    .dataframe thead th {\n",
       "        text-align: right;\n",
       "    }\n",
       "</style>\n",
       "<table border=\"1\" class=\"dataframe\">\n",
       "  <thead>\n",
       "    <tr style=\"text-align: right;\">\n",
       "      <th>Sex</th>\n",
       "      <th>F</th>\n",
       "      <th>M</th>\n",
       "    </tr>\n",
       "    <tr>\n",
       "      <th>year</th>\n",
       "      <th></th>\n",
       "      <th></th>\n",
       "    </tr>\n",
       "  </thead>\n",
       "  <tbody>\n",
       "    <tr>\n",
       "      <th>1880</th>\n",
       "      <td>199149</td>\n",
       "      <td>206470</td>\n",
       "    </tr>\n",
       "    <tr>\n",
       "      <th>1881</th>\n",
       "      <td>200956</td>\n",
       "      <td>187048</td>\n",
       "    </tr>\n",
       "    <tr>\n",
       "      <th>1882</th>\n",
       "      <td>235983</td>\n",
       "      <td>210943</td>\n",
       "    </tr>\n",
       "    <tr>\n",
       "      <th>1883</th>\n",
       "      <td>245959</td>\n",
       "      <td>193410</td>\n",
       "    </tr>\n",
       "    <tr>\n",
       "      <th>1884</th>\n",
       "      <td>281598</td>\n",
       "      <td>211500</td>\n",
       "    </tr>\n",
       "    <tr>\n",
       "      <th>...</th>\n",
       "      <td>...</td>\n",
       "      <td>...</td>\n",
       "    </tr>\n",
       "    <tr>\n",
       "      <th>2006</th>\n",
       "      <td>4620616</td>\n",
       "      <td>4292452</td>\n",
       "    </tr>\n",
       "    <tr>\n",
       "      <th>2007</th>\n",
       "      <td>4664785</td>\n",
       "      <td>4333621</td>\n",
       "    </tr>\n",
       "    <tr>\n",
       "      <th>2008</th>\n",
       "      <td>4573486</td>\n",
       "      <td>4251031</td>\n",
       "    </tr>\n",
       "    <tr>\n",
       "      <th>2009</th>\n",
       "      <td>4427910</td>\n",
       "      <td>4125009</td>\n",
       "    </tr>\n",
       "    <tr>\n",
       "      <th>2010</th>\n",
       "      <td>4253740</td>\n",
       "      <td>3961391</td>\n",
       "    </tr>\n",
       "  </tbody>\n",
       "</table>\n",
       "<p>131 rows × 2 columns</p>\n",
       "</div>"
      ],
      "text/plain": [
       "Sex         F        M\n",
       "year                  \n",
       "1880   199149   206470\n",
       "1881   200956   187048\n",
       "1882   235983   210943\n",
       "1883   245959   193410\n",
       "1884   281598   211500\n",
       "...       ...      ...\n",
       "2006  4620616  4292452\n",
       "2007  4664785  4333621\n",
       "2008  4573486  4251031\n",
       "2009  4427910  4125009\n",
       "2010  4253740  3961391\n",
       "\n",
       "[131 rows x 2 columns]"
      ]
     },
     "execution_count": 7,
     "metadata": {},
     "output_type": "execute_result"
    }
   ],
   "source": [
    "df_vowel_sum = df_vowel_sum.unstack('Sex')\n",
    "df_vowel_sum"
   ]
  },
  {
   "cell_type": "markdown",
   "metadata": {},
   "source": [
    "* __Plot__  "
   ]
  },
  {
   "cell_type": "code",
   "execution_count": 8,
   "metadata": {},
   "outputs": [
    {
     "data": {
      "text/plain": [
       "<matplotlib.axes._subplots.AxesSubplot at 0x2735d8b63d0>"
      ]
     },
     "execution_count": 8,
     "metadata": {},
     "output_type": "execute_result"
    },
    {
     "data": {
      "image/png": "[encoded data removed]",
      "text/plain": [
       "<Figure size 432x288 with 1 Axes>"
      ]
     },
     "metadata": {
      "needs_background": "light"
     },
     "output_type": "display_data"
    }
   ],
   "source": [
    "df_vowel_sum.plot()"
   ]
  },
  {
   "cell_type": "markdown",
   "metadata": {},
   "source": [
    "* __Vowel Per Birth Ratio__  \n",
    "-> 모음의 비율이 증가함, 여자아이보다 남자아이의 이름에 모음이 덜 쓰임"
   ]
  },
  {
   "cell_type": "code",
   "execution_count": 27,
   "metadata": {},
   "outputs": [
    {
     "data": {
      "text/plain": [
       "<matplotlib.axes._subplots.AxesSubplot at 0x2736b3cc100>"
      ]
     },
     "execution_count": 27,
     "metadata": {},
     "output_type": "execute_result"
    },
    {
     "data": {
      "image/png": "[encoded data removed]",
      "text/plain": [
       "<Figure size 432x288 with 1 Axes>"
      ]
     },
     "metadata": {
      "needs_background": "light"
     },
     "output_type": "display_data"
    }
   ],
   "source": [
    "def get_tot(group):\n",
    "    return group.Births.sum()\n",
    "\n",
    "df_birth_sum = df_concat.groupby(['year','Sex']).apply(get_tot)\n",
    "df_birth_sum = df_birth_sum.unstack('Sex')\n",
    "df_vowel_sum['F'] = df_vowel_sum['F']/df_birth_sum['F']\n",
    "df_vowel_sum['M'] = df_vowel_sum['M']/df_birth_sum['M']\n",
    "df_vowel_sum.plot()"
   ]
  },
  {
   "cell_type": "markdown",
   "metadata": {},
   "source": [
    "# __3__"
   ]
  },
  {
   "cell_type": "markdown",
   "metadata": {},
   "source": [
    "* __read, generate list of dataframes__"
   ]
  },
  {
   "cell_type": "code",
   "execution_count": 9,
   "metadata": {},
   "outputs": [],
   "source": [
    "import pandas as pd\n",
    "\n",
    "all_df=[]\n",
    "for year in range(1880,2011):\n",
    "    df = pd.read_csv(f'c:/babynames/yob{year}.txt',names=['Names','Sex','Births'])\n",
    "    df['year']=year\n",
    "    all_df.append(df)\n",
    "df_concat = pd.concat(all_df,ignore_index=True)"
   ]
  },
  {
   "cell_type": "code",
   "execution_count": 22,
   "metadata": {},
   "outputs": [
    {
     "name": "stdout",
     "output_type": "stream",
     "text": [
      "Number of a used : 1581385\n",
      "Number of b used : 141800\n",
      "Number of c used : 267819\n",
      "Number of d used : 359456\n",
      "Number of e used : 1271448\n",
      "Number of f used : 64163\n",
      "Number of g used : 117219\n",
      "Number of h used : 347252\n",
      "Number of i used : 854278\n",
      "Number of j used : 147443\n",
      "Number of k used : 187123\n",
      "Number of l used : 788930\n",
      "Number of m used : 323103\n",
      "Number of n used : 955219\n",
      "Number of o used : 495375\n",
      "Number of p used : 62921\n",
      "Number of q used : 23243\n",
      "Number of r used : 777881\n",
      "Number of s used : 453336\n",
      "Number of t used : 432640\n",
      "Number of u used : 185482\n",
      "Number of v used : 127034\n",
      "Number of w used : 62101\n",
      "Number of x used : 15182\n",
      "Number of y used : 336268\n",
      "Number of z used : 59259\n",
      "========================================\n",
      "Most used alphabet character : a , 1581385 times\n"
     ]
    }
   ],
   "source": [
    "abc_dict={}\n",
    "for name in df_concat['Names']:\n",
    "    for char in name:\n",
    "        try:\n",
    "            abc_dict[char.lower()]+=1\n",
    "        except KeyError:\n",
    "            abc_dict[char.lower()]=1\n",
    "\n",
    "sorted_keys = sorted(abc_dict.keys())\n",
    "Mx_key,Mx_cnt = '',0\n",
    "for key in sorted_keys:\n",
    "    print(f\"Number of {key} used : {abc_dict[key]}\")\n",
    "    if abc_dict[key] > Mx_cnt:\n",
    "        Mx_key,Mx_cnt = key,abc_dict[key]\n",
    "print('='*40)\n",
    "print(f'Most used alphabet character : {Mx_key} , {Mx_cnt} times')"
   ]
  }
 ],
 "metadata": {
  "kernelspec": {
   "display_name": "Python 3",
   "language": "python",
   "name": "python3"
  },
  "language_info": {
   "codemirror_mode": {
    "name": "ipython",
    "version": 3
   },
   "file_extension": ".py",
   "mimetype": "text/x-python",
   "name": "python",
   "nbconvert_exporter": "python",
   "pygments_lexer": "ipython3",
   "version": "3.8.3"
  }
 },
 "nbformat": 4,
 "nbformat_minor": 4
}
