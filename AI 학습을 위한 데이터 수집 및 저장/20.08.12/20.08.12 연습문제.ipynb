{
 "cells": [
  {
   "cell_type": "markdown",
   "metadata": {},
   "source": [
    "## __보배드림 : 국산차(100) 매물 정보 크롤링 및 DF__  "
   ]
  },
  {
   "cell_type": "code",
   "execution_count": 1,
   "metadata": {},
   "outputs": [
    {
     "data": {
      "application/vnd.jupyter.widget-view+json": {
       "model_id": "9b71f15fbb7b44c3aba23d59a74d9d4c",
       "version_major": 2,
       "version_minor": 0
      },
      "text/plain": [
       "HBox(children=(FloatProgress(value=0.0, max=5.0), HTML(value='')))"
      ]
     },
     "metadata": {},
     "output_type": "display_data"
    },
    {
     "name": "stdout",
     "output_type": "stream",
     "text": [
      "\n"
     ]
    }
   ],
   "source": [
    "from selenium import webdriver as sw\n",
    "import time\n",
    "from bs4 import BeautifulSoup as bs\n",
    "from tqdm import notebook\n",
    "Tbook = notebook.tqdm\n",
    "driver = sw.Chrome('c:/mychrome/chromedriver.exe')\n",
    "N,C,H,Y,G,D,P=[],[],[],[],[],[],[]\n",
    "for page_cnt in Tbook(range(1,6)):\n",
    "    url = f'https://www.bobaedream.co.kr/cyber/CyberCar.php?gubun=K&page={page_cnt}&order=S11&view_size=20'\n",
    "    driver.get(url)\n",
    "    time.sleep(2)\n",
    "    html=driver.page_source\n",
    "    soap = bs(html,'html.parser')\n",
    "    Car_tot = soap.select('li.product-item')\n",
    "    \n",
    "    for car in Car_tot:\n",
    "        occupation = 'Error'\n",
    "        h_power = 'Error'\n",
    "        name = car.select('.tit.ellipsis > a')[0].text.strip()\n",
    "        year = car.select('.mode-cell.year')[0].text.strip()\n",
    "        if '(' in year: year = year.split('(')[0]\n",
    "        gas = car.select('.mode-cell.fuel')[0].text.strip()\n",
    "        dist = car.select('.mode-cell.km')[0].text.strip().replace('km','')\n",
    "        price = car.select('.mode-cell.price')[0].text.replace('\\n','').split('만원')[0]\n",
    "        option = car.select('.data.clearfix > dd')\n",
    "        for op in option:\n",
    "            if '인승' in op.text:\n",
    "                occupation = int(op.text.strip().replace('인승',''))\n",
    "            if '마력' in op.text:\n",
    "                h_power = int(op.text.strip().replace('마력',''))\n",
    "        N.append(name)\n",
    "        C.append(occupation)\n",
    "        H.append(h_power)\n",
    "        Y.append(year)\n",
    "        G.append(gas)\n",
    "        D.append(dist)\n",
    "        P.append(price)"
   ]
  },
  {
   "cell_type": "code",
   "execution_count": 2,
   "metadata": {},
   "outputs": [
    {
     "data": {
      "text/html": [
       "<div>\n",
       "<style scoped>\n",
       "    .dataframe tbody tr th:only-of-type {\n",
       "        vertical-align: middle;\n",
       "    }\n",
       "\n",
       "    .dataframe tbody tr th {\n",
       "        vertical-align: top;\n",
       "    }\n",
       "\n",
       "    .dataframe thead th {\n",
       "        text-align: right;\n",
       "    }\n",
       "</style>\n",
       "<table border=\"1\" class=\"dataframe\">\n",
       "  <thead>\n",
       "    <tr style=\"text-align: right;\">\n",
       "      <th></th>\n",
       "      <th>차량명</th>\n",
       "      <th>인승(명)</th>\n",
       "      <th>마력</th>\n",
       "      <th>연식</th>\n",
       "      <th>연료</th>\n",
       "      <th>주행(km)</th>\n",
       "      <th>가격(만원)</th>\n",
       "    </tr>\n",
       "  </thead>\n",
       "  <tbody>\n",
       "    <tr>\n",
       "      <th>0</th>\n",
       "      <td>현대 제네시스 쿠페 380 GT R</td>\n",
       "      <td>4</td>\n",
       "      <td>303</td>\n",
       "      <td>10/04</td>\n",
       "      <td>가솔린</td>\n",
       "      <td>11만</td>\n",
       "      <td>690</td>\n",
       "    </tr>\n",
       "    <tr>\n",
       "      <th>1</th>\n",
       "      <td>맥스 카니발 리무진</td>\n",
       "      <td>9</td>\n",
       "      <td>280</td>\n",
       "      <td>16/12</td>\n",
       "      <td>가솔린</td>\n",
       "      <td>5만</td>\n",
       "      <td>3,490</td>\n",
       "    </tr>\n",
       "    <tr>\n",
       "      <th>2</th>\n",
       "      <td>현대 그랜져IG 2.2 e-VGT 프리미엄 스페셜</td>\n",
       "      <td>5</td>\n",
       "      <td>202</td>\n",
       "      <td>17/11</td>\n",
       "      <td>디젤</td>\n",
       "      <td>3만</td>\n",
       "      <td>3,150</td>\n",
       "    </tr>\n",
       "    <tr>\n",
       "      <th>3</th>\n",
       "      <td>기아 더 프레스티지 K7 3.0 LPi 프레스티지</td>\n",
       "      <td>5</td>\n",
       "      <td>235</td>\n",
       "      <td>12/03</td>\n",
       "      <td>LPG</td>\n",
       "      <td>14만</td>\n",
       "      <td>1,000</td>\n",
       "    </tr>\n",
       "    <tr>\n",
       "      <th>4</th>\n",
       "      <td>기아 K3 1.6 GDI 럭셔리</td>\n",
       "      <td>5</td>\n",
       "      <td>140</td>\n",
       "      <td>15/08</td>\n",
       "      <td>가솔린</td>\n",
       "      <td>3만</td>\n",
       "      <td>920</td>\n",
       "    </tr>\n",
       "  </tbody>\n",
       "</table>\n",
       "</div>"
      ],
      "text/plain": [
       "                           차량명 인승(명)   마력     연식   연료 주행(km) 가격(만원)\n",
       "0          현대 제네시스 쿠페 380 GT R     4  303  10/04  가솔린    11만    690\n",
       "1                   맥스 카니발 리무진     9  280  16/12  가솔린     5만  3,490\n",
       "2  현대 그랜져IG 2.2 e-VGT 프리미엄 스페셜     5  202  17/11   디젤     3만  3,150\n",
       "3  기아 더 프레스티지 K7 3.0 LPi 프레스티지     5  235  12/03  LPG    14만  1,000\n",
       "4            기아 K3 1.6 GDI 럭셔리     5  140  15/08  가솔린     3만    920"
      ]
     },
     "execution_count": 2,
     "metadata": {},
     "output_type": "execute_result"
    }
   ],
   "source": [
    "import pandas as pd\n",
    "\n",
    "df = pd.DataFrame()\n",
    "df['차량명']=N\n",
    "df['인승(명)']=C\n",
    "df['마력']=H\n",
    "df['연식']=Y\n",
    "df['연료']=G\n",
    "df['주행(km)']=D\n",
    "df['가격(만원)']=P\n",
    "df.head()"
   ]
  }
 ],
 "metadata": {
  "kernelspec": {
   "display_name": "Python 3",
   "language": "python",
   "name": "python3"
  },
  "language_info": {
   "codemirror_mode": {
    "name": "ipython",
    "version": 3
   },
   "file_extension": ".py",
   "mimetype": "text/x-python",
   "name": "python",
   "nbconvert_exporter": "python",
   "pygments_lexer": "ipython3",
   "version": "3.8.3"
  }
 },
 "nbformat": 4,
 "nbformat_minor": 4
}
