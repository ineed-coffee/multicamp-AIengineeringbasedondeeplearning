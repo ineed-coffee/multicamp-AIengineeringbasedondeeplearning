{
 "cells": [
  {
   "cell_type": "markdown",
   "metadata": {},
   "source": [
    "* __배열 연산에서 조건 (Where)__  \n",
    "    - np.where == x if 조건 else y"
   ]
  },
  {
   "cell_type": "code",
   "execution_count": 1,
   "metadata": {},
   "outputs": [],
   "source": [
    "import numpy as np\n",
    "\n",
    "xarr = np.array([1,2,3,4,5])\n",
    "yarr = np.array([2,3,4,5,6])\n",
    "cond = np.array([True,False,True,True,False])"
   ]
  },
  {
   "cell_type": "code",
   "execution_count": 2,
   "metadata": {},
   "outputs": [
    {
     "data": {
      "text/plain": [
       "[1, 3, 3, 4, 6]"
      ]
     },
     "execution_count": 2,
     "metadata": {},
     "output_type": "execute_result"
    }
   ],
   "source": [
    "# 기존 3항식 표현으로 뽑으려면\n",
    "\n",
    "res = [x if c else y for x,y,c in zip(xarr,yarr,cond)]\n",
    "res\n",
    "# 식 복잡, 느린 연산"
   ]
  },
  {
   "cell_type": "code",
   "execution_count": 3,
   "metadata": {},
   "outputs": [
    {
     "data": {
      "text/plain": [
       "array([1, 3, 3, 4, 6])"
      ]
     },
     "execution_count": 3,
     "metadata": {},
     "output_type": "execute_result"
    }
   ],
   "source": [
    "# np.where 구문 활용\n",
    "\n",
    "res2 = np.where(cond,xarr,yarr)  # xarr,yarr 위치는 배열일 필요 X , scalar도 가능\n",
    "res2\n",
    "# 식 간결, 빠른 연산"
   ]
  },
  {
   "cell_type": "code",
   "execution_count": 6,
   "metadata": {},
   "outputs": [
    {
     "name": "stdout",
     "output_type": "stream",
     "text": [
      "[[ 0.07722515 -0.91907256 -0.17730396 -2.79311436]\n",
      " [-1.3270046  -0.18341213 -0.01582421  1.47777003]\n",
      " [-1.73711652 -1.91205891 -0.968497    0.49599245]\n",
      " [ 0.64870281 -0.05108686 -2.08044949  0.18227325]]\n",
      "[[ 2.         -0.91907256 -0.17730396 -2.79311436]\n",
      " [-1.3270046  -0.18341213 -0.01582421  2.        ]\n",
      " [-1.73711652 -1.91205891 -0.968497    2.        ]\n",
      " [ 2.         -0.05108686 -2.08044949  2.        ]]\n"
     ]
    }
   ],
   "source": [
    "arr=np.random.randn(4,4)\n",
    "# 양수는 2 음수는 0 으로 변경하기 \n",
    "print(arr)\n",
    "res = np.where(arr>0,2,arr)\n",
    "print(res)"
   ]
  },
  {
   "cell_type": "markdown",
   "metadata": {},
   "source": [
    "* __수학,통계 관련 메서드__"
   ]
  },
  {
   "cell_type": "code",
   "execution_count": 9,
   "metadata": {},
   "outputs": [
    {
     "name": "stdout",
     "output_type": "stream",
     "text": [
      "-0.01944815561278489\n",
      "-0.3889631122556978\n"
     ]
    }
   ],
   "source": [
    "# 특정 축을 따라 있는 데이터를 요약하는 메서드\n",
    "\n",
    "arr=np.random.randn(5,4)\n",
    "\n",
    "#mean\n",
    "print(arr.mean())\n",
    "\n",
    "# sum\n",
    "print(arr.sum())"
   ]
  },
  {
   "cell_type": "code",
   "execution_count": 11,
   "metadata": {},
   "outputs": [
    {
     "data": {
      "text/plain": [
       "array([ 0.33453028, -0.31288364, -0.40876734,  0.30932807])"
      ]
     },
     "execution_count": 11,
     "metadata": {},
     "output_type": "execute_result"
    }
   ],
   "source": [
    "# 축 지정\n",
    "arr.mean(axis=1)  # 행단위\n",
    "arr.mean(axis=0)  # 열단위\n",
    "arr.sum(axis=0)"
   ]
  },
  {
   "cell_type": "code",
   "execution_count": 13,
   "metadata": {},
   "outputs": [
    {
     "data": {
      "text/plain": [
       "array([ 0,  1,  3,  6, 10, 15, 21, 28], dtype=int32)"
      ]
     },
     "execution_count": 13,
     "metadata": {},
     "output_type": "execute_result"
    }
   ],
   "source": [
    "arr=np.arange(8)\n",
    "arr.cumsum()"
   ]
  },
  {
   "cell_type": "code",
   "execution_count": 18,
   "metadata": {},
   "outputs": [
    {
     "name": "stdout",
     "output_type": "stream",
     "text": [
      "[[0 1 2]\n",
      " [3 4 5]\n",
      " [6 7 8]]\n",
      "[[ 0  1  2]\n",
      " [ 3  5  7]\n",
      " [ 9 12 15]]\n",
      "[[ 0  1  2]\n",
      " [ 0  4 10]\n",
      " [ 0 28 80]]\n"
     ]
    }
   ],
   "source": [
    "arr=np.arange(9).reshape(3,-1)\n",
    "print(arr)\n",
    "print(arr.cumsum(axis=0))\n",
    "print(arr.cumprod(axis=0))"
   ]
  },
  {
   "cell_type": "code",
   "execution_count": 19,
   "metadata": {},
   "outputs": [
    {
     "name": "stdout",
     "output_type": "stream",
     "text": [
      "45\n"
     ]
    }
   ],
   "source": [
    "# Boolean 배열 메서드\n",
    "\n",
    "arr = np.random.randn(100)\n",
    "print((arr>0).sum())  # 불린 타입도 연산 가능 True=1 False=0\n",
    "\n",
    "bools = np.array([False,False,True,False])\n",
    "bools.any()  # 하나라도 valid 한 값이면 True, 반대로 all() 메서드는 모두 valid 한 값이면 True"
   ]
  },
  {
   "cell_type": "code",
   "execution_count": 23,
   "metadata": {},
   "outputs": [
    {
     "name": "stdout",
     "output_type": "stream",
     "text": [
      "[ 0.34453614 -0.44006445 -0.83742206  1.02347202 -0.37881332  0.14347615]\n",
      "[-0.83742206 -0.44006445 -0.37881332  0.14347615  0.34453614  1.02347202]\n",
      "========================================\n",
      "[[ 0.40474631  1.17934407 -0.68399465]\n",
      " [ 0.33042554 -0.12341535  1.23057202]\n",
      " [-0.78696022 -0.42668612 -2.35781701]\n",
      " [ 0.55989455  0.96553741 -1.59484972]\n",
      " [ 0.3432058  -0.70720639 -0.05100765]]\n",
      "[[-0.68399465  0.40474631  1.17934407]\n",
      " [-0.12341535  0.33042554  1.23057202]\n",
      " [-2.35781701 -0.78696022 -0.42668612]\n",
      " [-1.59484972  0.55989455  0.96553741]\n",
      " [-0.70720639 -0.05100765  0.3432058 ]]\n"
     ]
    }
   ],
   "source": [
    "# 정렬\n",
    "\n",
    "arr = np.random.randn(6)\n",
    "print(arr)\n",
    "arr.sort()\n",
    "print(arr)\n",
    "print('='*40)\n",
    "arr = np.random.randn(5,3)\n",
    "print(arr)\n",
    "arr.sort()\n",
    "print(arr)   # 디폴트 값은 행 단위"
   ]
  },
  {
   "cell_type": "markdown",
   "metadata": {},
   "source": [
    "* __배열에서 sort, np.sort 는 다름. np.sort 는 복사본 리턴__"
   ]
  },
  {
   "cell_type": "code",
   "execution_count": 26,
   "metadata": {},
   "outputs": [
    {
     "name": "stdout",
     "output_type": "stream",
     "text": [
      "x=\n",
      "[3 2 5 4 1 9 0]\n",
      "y=\n",
      "[0 1 2 3 4 5 9]\n",
      "[9 5 4 3 2 1 0]\n"
     ]
    }
   ],
   "source": [
    "x = np.array([3,2,5,4,1,9,0])\n",
    "y=np.sort(x)\n",
    "print('x=')\n",
    "print(x)\n",
    "print('y=')\n",
    "print(y)\n",
    "# reverse\n",
    "print(np.sort(x)[::-1])"
   ]
  },
  {
   "cell_type": "code",
   "execution_count": 30,
   "metadata": {},
   "outputs": [
    {
     "name": "stdout",
     "output_type": "stream",
     "text": [
      "[6 4 1 0 3 2 5]\n",
      "[5 2 3 0 1 4 6]\n",
      "[9 5 4 3 2 1 0]\n"
     ]
    }
   ],
   "source": [
    "# argsort = 정렬 후 기존 배열에서의 인덱스 값 으로 리턴\n",
    "\n",
    "x = np.array([3,2,5,4,1,9,0])\n",
    "y=np.argsort(x)\n",
    "print(y)\n",
    "# 내림차순은 인자 부호 flip\n",
    "y2=np.argsort(-x)\n",
    "print(y2)\n",
    "\n",
    "#argsort 반환 값으로 참조하기\n",
    "print(x[np.argsort(-x)])"
   ]
  },
  {
   "cell_type": "markdown",
   "metadata": {},
   "source": [
    "* __튜플 정렬 : sorted(튜플,키)__  \n",
    "* __리스트 정렬 : 리스트.sort, sorted(리스트)__  \n",
    "* __DF 정렬 : df.sort_values()__  "
   ]
  },
  {
   "cell_type": "code",
   "execution_count": 32,
   "metadata": {},
   "outputs": [
    {
     "data": {
      "text/plain": [
       "array(['길동', '꺽정', '순신'], dtype='<U2')"
      ]
     },
     "execution_count": 32,
     "metadata": {},
     "output_type": "execute_result"
    }
   ],
   "source": [
    "names = np.array(['길동','꺽정','길동','길동','순신'])\n",
    "np.unique(names)  # == set(names)"
   ]
  },
  {
   "cell_type": "code",
   "execution_count": 33,
   "metadata": {},
   "outputs": [
    {
     "data": {
      "text/plain": [
       "array([False,  True, False, False,  True])"
      ]
     },
     "execution_count": 33,
     "metadata": {},
     "output_type": "execute_result"
    }
   ],
   "source": [
    "np.in1d(names,['순신','꺽정'])"
   ]
  },
  {
   "cell_type": "markdown",
   "metadata": {},
   "source": [
    "* __배열을 바이너리 파일로 save,load__"
   ]
  },
  {
   "cell_type": "code",
   "execution_count": 43,
   "metadata": {},
   "outputs": [
    {
     "name": "stdout",
     "output_type": "stream",
     "text": [
      "[4 1 2 3]\n"
     ]
    }
   ],
   "source": [
    "x=np.array([4,1,2,3])\n",
    "np.save('xsave',x) # x 에 저자된 배열을 xsave.npy 로 저장\n",
    "y=np.load('xsave.npy')\n",
    "print(y)"
   ]
  },
  {
   "cell_type": "code",
   "execution_count": 41,
   "metadata": {},
   "outputs": [
    {
     "name": "stdout",
     "output_type": "stream",
     "text": [
      "<numpy.lib.npyio.NpzFile object at 0x000001F205D73970>\n",
      "[4 1 2 3]\n",
      "[2 3 6 1]\n"
     ]
    }
   ],
   "source": [
    "# 여러 배열 save,load : np.savez , \n",
    "\n",
    "x=np.array([4,1,2,3])\n",
    "x2=np.array([2,3,6,1])\n",
    "np.savez('x+x2_save',x=x,x2=x2) # x 에 저자된 배열을 x+x2_save.npz 로 저장 , 로드 시 x, x2 의 키로 접근\n",
    "y=np.load('x+x2_save.npz')\n",
    "print(y)\n",
    "print(y['x'])\n",
    "print(y['x2'])\n",
    "y.close()"
   ]
  },
  {
   "cell_type": "code",
   "execution_count": 46,
   "metadata": {},
   "outputs": [
    {
     "name": "stdout",
     "output_type": "stream",
     "text": [
      "[[4. 1. 2. 3.]\n",
      " [2. 3. 6. 1.]]\n"
     ]
    }
   ],
   "source": [
    "# 여러 배열을 텍스트 파일로 : np.savetxt , np.loadtxt\n",
    "\n",
    "x=np.array([4,1,2,3])\n",
    "x2=np.array([2,3,6,1])\n",
    "np.savetxt('xx2txt.txt',(x,x2),fmt='%.f')\n",
    "\n",
    "xload = np.loadtxt('xx2txt.txt')\n",
    "print(xload)"
   ]
  },
  {
   "cell_type": "markdown",
   "metadata": {},
   "source": [
    "* __Numpy.org , API , Documentation__"
   ]
  },
  {
   "cell_type": "markdown",
   "metadata": {},
   "source": [
    "* __배열 분할 : hsplit(hotizontal) , vsplit(vertical)__  "
   ]
  },
  {
   "cell_type": "code",
   "execution_count": 51,
   "metadata": {},
   "outputs": [
    {
     "data": {
      "text/plain": [
       "array([[ 0,  1,  2,  3,  4,  5],\n",
       "       [ 6,  7,  8,  9, 10, 11],\n",
       "       [12, 13, 14, 15, 16, 17]])"
      ]
     },
     "execution_count": 51,
     "metadata": {},
     "output_type": "execute_result"
    }
   ],
   "source": [
    "x=np.arange(18).reshape(3,6)\n",
    "x"
   ]
  },
  {
   "cell_type": "code",
   "execution_count": 50,
   "metadata": {},
   "outputs": [
    {
     "name": "stdout",
     "output_type": "stream",
     "text": [
      "[array([[ 0,  1],\n",
      "       [ 6,  7],\n",
      "       [12, 13]]), array([[ 2,  3],\n",
      "       [ 8,  9],\n",
      "       [14, 15]]), array([[ 4,  5],\n",
      "       [10, 11],\n",
      "       [16, 17]])]\n",
      "[array([[ 0,  1],\n",
      "       [ 6,  7],\n",
      "       [12, 13]]), array([[ 2,  3],\n",
      "       [ 8,  9],\n",
      "       [14, 15]]), array([[ 4,  5],\n",
      "       [10, 11],\n",
      "       [16, 17]])]\n",
      "[array([[ 0,  1],\n",
      "       [ 6,  7],\n",
      "       [12, 13]]), array([[ 2,  3],\n",
      "       [ 8,  9],\n",
      "       [14, 15]]), array([[ 4,  5],\n",
      "       [10, 11],\n",
      "       [16, 17]])]\n"
     ]
    }
   ],
   "source": [
    "# hsplit\n",
    "print(np.hsplit(x,3)) # 3개로\n",
    "print(np.hsplit(x,(2,4))) # 영역 튜플로 지정\n",
    "print(np.split(x,3,axis=1)) # 기본 split 함수에서 축 지정"
   ]
  },
  {
   "cell_type": "code",
   "execution_count": 52,
   "metadata": {},
   "outputs": [
    {
     "name": "stdout",
     "output_type": "stream",
     "text": [
      "[array([[0, 1, 2, 3, 4, 5]]), array([[ 6,  7,  8,  9, 10, 11]]), array([[12, 13, 14, 15, 16, 17]])]\n",
      "[array([[0, 1, 2, 3, 4, 5]]), array([[ 6,  7,  8,  9, 10, 11]]), array([[12, 13, 14, 15, 16, 17]])]\n",
      "[array([[0, 1, 2, 3, 4, 5]]), array([[ 6,  7,  8,  9, 10, 11]]), array([[12, 13, 14, 15, 16, 17]])]\n"
     ]
    }
   ],
   "source": [
    "#vsplit\n",
    "print(np.vsplit(x,3)) # 3개로\n",
    "print(np.vsplit(x,(1,2))) # 영역 튜플로 지정\n",
    "print(np.split(x,3,axis=0)) # 기본 split 함수에서 축 지정"
   ]
  },
  {
   "cell_type": "markdown",
   "metadata": {},
   "source": [
    "* __배열 뒤집기 : flip__"
   ]
  },
  {
   "cell_type": "code",
   "execution_count": 54,
   "metadata": {},
   "outputs": [
    {
     "data": {
      "text/plain": [
       "array([[0, 1, 2, 3, 4],\n",
       "       [5, 6, 7, 8, 9]])"
      ]
     },
     "execution_count": 54,
     "metadata": {},
     "output_type": "execute_result"
    }
   ],
   "source": [
    "x = np.arange(10).reshape(2,5)\n",
    "x"
   ]
  },
  {
   "cell_type": "code",
   "execution_count": 57,
   "metadata": {},
   "outputs": [
    {
     "name": "stdout",
     "output_type": "stream",
     "text": [
      "[[5 6 7 8 9]\n",
      " [0 1 2 3 4]]\n",
      "[[5 6 7 8 9]\n",
      " [0 1 2 3 4]]\n",
      "========================================\n",
      "[[4 3 2 1 0]\n",
      " [9 8 7 6 5]]\n",
      "[[4 3 2 1 0]\n",
      " [9 8 7 6 5]]\n"
     ]
    }
   ],
   "source": [
    "print(x[::-1])\n",
    "print(np.flip(x,axis=0)) #행들의 전체 순서가 flip\n",
    "print('='*40)\n",
    "print(x[:,::-1])\n",
    "print(np.flip(x,axis=1)) #각 행이 flip"
   ]
  },
  {
   "cell_type": "code",
   "execution_count": 59,
   "metadata": {},
   "outputs": [
    {
     "name": "stdout",
     "output_type": "stream",
     "text": [
      "[[9 8 7 6 5]\n",
      " [4 3 2 1 0]]\n",
      "[[9 8 7 6 5]\n",
      " [4 3 2 1 0]]\n"
     ]
    }
   ],
   "source": [
    "# 둘다 뒤집기\n",
    "print(x[::-1,::-1])\n",
    "print(np.flip(np.flip(x,axis=0),axis=1))"
   ]
  },
  {
   "cell_type": "code",
   "execution_count": 60,
   "metadata": {},
   "outputs": [
    {
     "data": {
      "text/plain": [
       "array([-5, -4, -3, -2, -1,  0,  1,  2,  3,  4])"
      ]
     },
     "execution_count": 60,
     "metadata": {},
     "output_type": "execute_result"
    }
   ],
   "source": [
    "# 연습\n",
    "a = np.arange(-5,5)\n",
    "a"
   ]
  },
  {
   "cell_type": "code",
   "execution_count": 67,
   "metadata": {},
   "outputs": [
    {
     "name": "stdout",
     "output_type": "stream",
     "text": [
      "[0, 0, 0, 0, 0, 0, 1, 2, 3, 4]\n",
      "[0 0 0 0 0 0 1 2 3 4]\n",
      "[0 0 0 0 0 0 1 2 3 4]\n",
      "========================================\n",
      "[0, 0, 0, 0, 0, 0, 1, 2, 2, 2]\n",
      "[0 0 0 0 0 0 1 2 2 2]\n",
      "========================================\n",
      "[0 0 0 0 0 0 1 2 2 2]\n"
     ]
    }
   ],
   "source": [
    "# 음수 값을 모두 0으로 대체 후 출력\n",
    "\n",
    "print([i if i>=0 else 0 for i in a]) # 리스트 컴프리핸션\n",
    "b=a.copy()\n",
    "b[b<0]=0\n",
    "print(b) # 부울린 참조\n",
    "print(np.where(a>=0,a,0)) # np.where\n",
    "print('='*40)\n",
    "\n",
    "# 0 보다 작으면 0 , 2보다 크면 2로 대체 후 출력\n",
    "\n",
    "print([0 if i<0 else (2 if i>2 else i) for i in a]) # 리스트 컴프리핸션\n",
    "print(np.where(a<0,0,np.where(a>2,2,a)))\n",
    "print('='*40)\n",
    "\n",
    "# np.clip 활용 : (배열,최소,최대)\n",
    "\n",
    "print(np.clip(a,0,2)) # 상한 하한을 지정하여 replacing 하는 기능\n",
    "# 기존 배열에 반영하고 싶으면 np(arr,min,max,out=arr) 로 활용 가능"
   ]
  },
  {
   "cell_type": "markdown",
   "metadata": {},
   "source": [
    "# __오후__  "
   ]
  },
  {
   "cell_type": "code",
   "execution_count": 69,
   "metadata": {},
   "outputs": [
    {
     "data": {
      "text/plain": [
       "True"
      ]
     },
     "execution_count": 69,
     "metadata": {},
     "output_type": "execute_result"
    }
   ],
   "source": [
    "# np.array(리스트) vs. np.asarray(리스트)\n",
    "\n",
    "b=np.array([1,2])\n",
    "b2=np.asarray(b)\n",
    "b2 is b  # 기존 배열이 들어오면 복사본을 만들지 않고 참조로 넘김"
   ]
  },
  {
   "cell_type": "code",
   "execution_count": 70,
   "metadata": {},
   "outputs": [
    {
     "data": {
      "text/plain": [
       "array([[1., 0., 0.],\n",
       "       [0., 1., 0.],\n",
       "       [0., 0., 1.]])"
      ]
     },
     "execution_count": 70,
     "metadata": {},
     "output_type": "execute_result"
    }
   ],
   "source": [
    "# 단위행렬\n",
    "\n",
    "eigen = np.identity(3)  # == np.eye(n)\n",
    "print(eigen)"
   ]
  },
  {
   "cell_type": "code",
   "execution_count": 96,
   "metadata": {},
   "outputs": [
    {
     "name": "stdout",
     "output_type": "stream",
     "text": [
      "[1 2 1] [0 1 2]\n"
     ]
    },
    {
     "data": {
      "text/plain": [
       "array([1, 4, 0])"
      ]
     },
     "execution_count": 96,
     "metadata": {},
     "output_type": "execute_result"
    }
   ],
   "source": [
    "arr = np.random.choice(5,3)\n",
    "arr2= np.random.randint(0,5,3)\n",
    "print(arr,arr2)\n",
    "\n",
    "# 모집단 : 0~4\n",
    "# 균등확률분포를 따르는 임의의 수 3개 복원 추출\n",
    "\n",
    "# 비균등 적용 방법\n",
    "p=[0.1,0.2,0.2,0.4,0.1]\n",
    "\n",
    "np.random.choice(5,3,p=p)\n",
    "\n",
    "# 비복원 추출 적용 방법\n",
    "np.random.choice(5,3,replace=False)"
   ]
  },
  {
   "cell_type": "code",
   "execution_count": 103,
   "metadata": {},
   "outputs": [
    {
     "data": {
      "text/plain": [
       "array(['lemon', 'apple'], dtype='<U6')"
      ]
     },
     "execution_count": 103,
     "metadata": {},
     "output_type": "execute_result"
    }
   ],
   "source": [
    "fruits=['apple','banana','lemon','mango']\n",
    "p=[0.05,0.05,0.7,0.2]\n",
    "np.random.choice(fruits,2,p=p,replace=False)"
   ]
  },
  {
   "cell_type": "markdown",
   "metadata": {},
   "source": [
    "* __np.random.seed__"
   ]
  },
  {
   "cell_type": "code",
   "execution_count": 106,
   "metadata": {},
   "outputs": [
    {
     "data": {
      "text/plain": [
       "array([2, 3, 3])"
      ]
     },
     "execution_count": 106,
     "metadata": {},
     "output_type": "execute_result"
    }
   ],
   "source": [
    "np.random.seed(1004)\n",
    "np.random.choice(5,3)"
   ]
  },
  {
   "cell_type": "markdown",
   "metadata": {},
   "source": [
    "데이터 수집 -> 전처리 -> 분석 -> 모델링 -> 모델평가 및 개선  \n",
    "모델? : 데이터 입력 => 예측/분류 결과 출력  \n",
    "ex) 전체 데이터 100개 :  \n",
    "&nbsp;&nbsp;&nbsp;&nbsp;70개 데이터 -> 모델링(학습)  \n",
    "&nbsp;&nbsp;&nbsp;&nbsp;30개 데이터 -> 테스팅(평가)  \n",
    "\n",
    "- 테스트 데이터 생성 시에 모델 별로 정확한 비교를 하기 위해 시드의 필요성"
   ]
  },
  {
   "cell_type": "code",
   "execution_count": 107,
   "metadata": {},
   "outputs": [],
   "source": [
    "# train/test 분할\n",
    "\n",
    "#1. 싸이킷-런\n",
    "x=np.arange(20).reshape(10,2)\n",
    "y=np.arange(10)"
   ]
  },
  {
   "cell_type": "code",
   "execution_count": 113,
   "metadata": {},
   "outputs": [
    {
     "data": {
      "text/plain": [
       "[array([[ 2,  3],\n",
       "        [ 8,  9],\n",
       "        [ 6,  7],\n",
       "        [14, 15],\n",
       "        [10, 11],\n",
       "        [ 4,  5]]),\n",
       " array([[ 0,  1],\n",
       "        [12, 13],\n",
       "        [16, 17],\n",
       "        [18, 19]]),\n",
       " array([1, 4, 3, 7, 5, 2]),\n",
       " array([0, 6, 8, 9])]"
      ]
     },
     "execution_count": 113,
     "metadata": {},
     "output_type": "execute_result"
    }
   ],
   "source": [
    "from sklearn.model_selection import train_test_split\n",
    "\n",
    "# Tr/Te : 60% , 40%\n",
    "train_test_split(x,\n",
    "                y,\n",
    "                test_size=0.4,\n",
    "                shuffle=True,\n",
    "                random_state=1004)   # random_state = seed 역할"
   ]
  },
  {
   "cell_type": "markdown",
   "metadata": {},
   "source": [
    "* __Broadcasting in Numpy__  "
   ]
  },
  {
   "cell_type": "code",
   "execution_count": 115,
   "metadata": {},
   "outputs": [
    {
     "data": {
      "text/plain": [
       "array([[11, 13, 15],\n",
       "       [14, 16, 18],\n",
       "       [17, 19, 21]])"
      ]
     },
     "execution_count": 115,
     "metadata": {},
     "output_type": "execute_result"
    }
   ],
   "source": [
    "# np.arange(2)+np.arange(3) => operand Error\n",
    "\n",
    "np.arange(3)+5  # Possible\n",
    "np.arange(11,20).reshape(3,3)+np.arange(3)  # Possible"
   ]
  },
  {
   "cell_type": "code",
   "execution_count": 116,
   "metadata": {},
   "outputs": [
    {
     "data": {
      "text/plain": [
       "array([[0, 1, 2],\n",
       "       [1, 2, 3],\n",
       "       [2, 3, 4]])"
      ]
     },
     "execution_count": 116,
     "metadata": {},
     "output_type": "execute_result"
    }
   ],
   "source": [
    "np.arange(3).reshape(3,-1)+np.arange(3)  # Possible , 필요한만큼 확장"
   ]
  }
 ],
 "metadata": {
  "kernelspec": {
   "display_name": "Python 3",
   "language": "python",
   "name": "python3"
  },
  "language_info": {
   "codemirror_mode": {
    "name": "ipython",
    "version": 3
   },
   "file_extension": ".py",
   "mimetype": "text/x-python",
   "name": "python",
   "nbconvert_exporter": "python",
   "pygments_lexer": "ipython3",
   "version": "3.8.3"
  }
 },
 "nbformat": 4,
 "nbformat_minor": 4
}
