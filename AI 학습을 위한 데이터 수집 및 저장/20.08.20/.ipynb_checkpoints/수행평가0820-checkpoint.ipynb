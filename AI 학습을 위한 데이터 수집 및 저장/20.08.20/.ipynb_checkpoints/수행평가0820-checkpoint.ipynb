{
 "cells": [
  {
   "cell_type": "markdown",
   "metadata": {},
   "source": [
    "# [파이썬과 웹크롤링]"
   ]
  },
  {
   "cell_type": "markdown",
   "metadata": {},
   "source": [
    "## 1. 다음은 인스타그램 접속과 관련된 코드의 일부이다.  \n",
    "## 밑줄친 부분에 시간을 2초간 지연하는 코드를 작성하시오.  \n",
    "`driver.get('https://www.instargram.com')\n",
    "__________________________________________`"
   ]
  },
  {
   "cell_type": "code",
   "execution_count": null,
   "metadata": {},
   "outputs": [],
   "source": [
    "import time\n",
    "time.sleep(2)"
   ]
  },
  {
   "cell_type": "markdown",
   "metadata": {},
   "source": [
    "## 다음과 같은 데이터 프레임을 생성하시오.  "
   ]
  },
  {
   "cell_type": "code",
   "execution_count": 4,
   "metadata": {},
   "outputs": [
    {
     "data": {
      "text/html": [
       "<div>\n",
       "<style scoped>\n",
       "    .dataframe tbody tr th:only-of-type {\n",
       "        vertical-align: middle;\n",
       "    }\n",
       "\n",
       "    .dataframe tbody tr th {\n",
       "        vertical-align: top;\n",
       "    }\n",
       "\n",
       "    .dataframe thead th {\n",
       "        text-align: right;\n",
       "    }\n",
       "</style>\n",
       "<table border=\"1\" class=\"dataframe\">\n",
       "  <thead>\n",
       "    <tr style=\"text-align: right;\">\n",
       "      <th></th>\n",
       "      <th>city</th>\n",
       "      <th>year</th>\n",
       "      <th>pop</th>\n",
       "    </tr>\n",
       "  </thead>\n",
       "  <tbody>\n",
       "    <tr>\n",
       "      <th>0</th>\n",
       "      <td>Seoul</td>\n",
       "      <td>2000</td>\n",
       "      <td>9.0</td>\n",
       "    </tr>\n",
       "    <tr>\n",
       "      <th>1</th>\n",
       "      <td>Daegu</td>\n",
       "      <td>2001</td>\n",
       "      <td>2.0</td>\n",
       "    </tr>\n",
       "    <tr>\n",
       "      <th>2</th>\n",
       "      <td>Busan</td>\n",
       "      <td>2003</td>\n",
       "      <td>3.0</td>\n",
       "    </tr>\n",
       "    <tr>\n",
       "      <th>3</th>\n",
       "      <td>Gwangju</td>\n",
       "      <td>2002</td>\n",
       "      <td>0.1</td>\n",
       "    </tr>\n",
       "  </tbody>\n",
       "</table>\n",
       "</div>"
      ],
      "text/plain": [
       "      city  year  pop\n",
       "0    Seoul  2000  9.0\n",
       "1    Daegu  2001  2.0\n",
       "2    Busan  2003  3.0\n",
       "3  Gwangju  2002  0.1"
      ]
     },
     "execution_count": 4,
     "metadata": {},
     "output_type": "execute_result"
    }
   ],
   "source": [
    "import pandas as pd\n",
    "dct = {'city':['Seoul','Daegu','Busan','Gwangju'],\n",
    "      'year':[2000,2001,2003,2002],\n",
    "      'pop':[9,2,3,0.1]}\n",
    "df = pd.DataFrame(dct)\n",
    "df"
   ]
  },
  {
   "cell_type": "markdown",
   "metadata": {},
   "source": [
    "# [웹 데이터 전처리 및 정제/표준화]"
   ]
  },
  {
   "cell_type": "markdown",
   "metadata": {},
   "source": [
    "##  1. 다음과 같은 배열을 생성하시오."
   ]
  },
  {
   "cell_type": "code",
   "execution_count": 7,
   "metadata": {},
   "outputs": [
    {
     "data": {
      "text/plain": [
       "array([[0., 0., 0., 0., 0., 0., 0., 0., 0., 0.],\n",
       "       [0., 1., 1., 1., 1., 1., 1., 1., 1., 0.],\n",
       "       [0., 1., 1., 1., 1., 1., 1., 1., 1., 0.],\n",
       "       [0., 1., 1., 1., 1., 1., 1., 1., 1., 0.],\n",
       "       [0., 1., 1., 1., 1., 1., 1., 1., 1., 0.],\n",
       "       [0., 1., 1., 1., 1., 1., 1., 1., 1., 0.],\n",
       "       [0., 1., 1., 1., 1., 1., 1., 1., 1., 0.],\n",
       "       [0., 1., 1., 1., 1., 1., 1., 1., 1., 0.],\n",
       "       [0., 1., 1., 1., 1., 1., 1., 1., 1., 0.],\n",
       "       [0., 0., 0., 0., 0., 0., 0., 0., 0., 0.]])"
      ]
     },
     "execution_count": 7,
     "metadata": {},
     "output_type": "execute_result"
    }
   ],
   "source": [
    "import numpy as np\n",
    "\n",
    "arr = np.zeros((10,10))\n",
    "arr[1:9,1:9]=1\n",
    "arr"
   ]
  },
  {
   "cell_type": "markdown",
   "metadata": {},
   "source": [
    "## 2. 데이터 정규화 / 표준화에 대해 비교 설명하시오."
   ]
  },
  {
   "cell_type": "markdown",
   "metadata": {},
   "source": [
    "* 정규화 : 데이터의 각 항목에 대하여 x => x-x_min / x_max - x_max\n",
    "* 표준화 : 데이터의 각 항목에 대하여 x => x-x_mean / x_standard_deviation"
   ]
  },
  {
   "cell_type": "markdown",
   "metadata": {},
   "source": [
    "# [정형 데이터처리 RDB]"
   ]
  },
  {
   "cell_type": "markdown",
   "metadata": {},
   "source": [
    "## 다음 실행 예시처럼 교환할 돈을 입력받아서,   \n",
    "## 최소한의 동전의 개수로 교환해 주는 파이썬 코드를 작성하시오.  \n",
    "`바꿀 돈 -->7777`  \n",
    "  \n",
    "  \n",
    "`500원: 15 , 100원: 2 , 50원: 1 , 10원 2 , 나머지: 7`"
   ]
  },
  {
   "cell_type": "code",
   "execution_count": 2,
   "metadata": {},
   "outputs": [
    {
     "name": "stdout",
     "output_type": "stream",
     "text": [
      "바꿀 돈 -->7777\n",
      "500원: 15 , 100원: 2 , 50원: 1 , 10원: 2 , 나머지: 7\n"
     ]
    }
   ],
   "source": [
    "change = int(input('바꿀 돈 -->'))\n",
    "\n",
    "cnt_500=change//500\n",
    "change%=500\n",
    "cnt_100=change//100\n",
    "change%=100\n",
    "cnt_50=change//50\n",
    "change%=50\n",
    "cnt_10=change//10\n",
    "change%=10\n",
    "print(f'500원: {cnt_500}',end=' , ')\n",
    "print(f'100원: {cnt_100}',end=' , ')\n",
    "print(f'50원: {cnt_50}',end=' , ')\n",
    "print(f'10원: {cnt_10}',end=' , ')\n",
    "print(f'나머지: {change}')"
   ]
  }
 ],
 "metadata": {
  "kernelspec": {
   "display_name": "Python 3",
   "language": "python",
   "name": "python3"
  },
  "language_info": {
   "codemirror_mode": {
    "name": "ipython",
    "version": 3
   },
   "file_extension": ".py",
   "mimetype": "text/x-python",
   "name": "python",
   "nbconvert_exporter": "python",
   "pygments_lexer": "ipython3",
   "version": "3.8.3"
  }
 },
 "nbformat": 4,
 "nbformat_minor": 4
}
