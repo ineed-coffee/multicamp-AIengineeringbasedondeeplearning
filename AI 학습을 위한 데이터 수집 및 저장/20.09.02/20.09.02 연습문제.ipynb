{
 "cells": [
  {
   "cell_type": "code",
   "execution_count": null,
   "metadata": {},
   "outputs": [],
   "source": [
    "import pandas as pd\n",
    "import numpy as np\n",
    "filepath='D:/downloads/3405_6663_bundle_archive/'\n",
    "filename='movies_metadata.csv'"
   ]
  },
  {
   "cell_type": "code",
   "execution_count": null,
   "metadata": {},
   "outputs": [],
   "source": [
    "data=pd.read_csv(filepath+filename)\n",
    "data.head(2)"
   ]
  },
  {
   "cell_type": "markdown",
   "metadata": {},
   "source": [
    "# 1.movie_metadata.csv 파일에서 예산과 인기도 사이 상관관계 분석:  \n",
    "__PoC - 예산이 많이 들어가면 인기도가 높게 나올까?__  "
   ]
  },
  {
   "cell_type": "code",
   "execution_count": null,
   "metadata": {},
   "outputs": [],
   "source": [
    "def normalize(series):\n",
    "    series=series.apply(pd.to_numeric,errors='coerce')\n",
    "    Mx=series.max()\n",
    "    Mn=series.min()\n",
    "    series=(series-Mn)/(Mx-Mn)\n",
    "    return series"
   ]
  },
  {
   "cell_type": "code",
   "execution_count": null,
   "metadata": {},
   "outputs": [],
   "source": [
    "def cal_Pearson_const(group1,group2):\n",
    "    mean1,std1=group1.mean(),group1.std()\n",
    "    mean2,std2=group2.mean(),group2.std()\n",
    "    Size,ret=0,0\n",
    "    for amount,point in zip(group1,group2):\n",
    "        if pd.isnull(amount) or pd.isnull(point):\n",
    "            continue\n",
    "        Size+=1\n",
    "        ret+=(amount-mean1)*(point-mean2)\n",
    "    return ret/(std1*std2*Size)"
   ]
  },
  {
   "cell_type": "code",
   "execution_count": null,
   "metadata": {},
   "outputs": [],
   "source": [
    "budget_norm=normalize(data['budget'].copy())\n",
    "popularity_norm=normalize(data['popularity'].copy())\n",
    "print(f'예산 데이터와 인기도 사이 피어슨 상관계수 : {cal_Pearson_const(budget_norm,popularity_norm)}')"
   ]
  },
  {
   "cell_type": "markdown",
   "metadata": {},
   "source": [
    "__∴ 약한 양의 상관관계__"
   ]
  },
  {
   "cell_type": "markdown",
   "metadata": {},
   "source": [
    "# 2.장르와 인기도 사이 상관관계 분석  \n",
    "__Target - 어떤 장르가 인기도가 가장 높을까?__"
   ]
  },
  {
   "cell_type": "code",
   "execution_count": null,
   "metadata": {},
   "outputs": [],
   "source": [
    "print(f\"1번 영화의 장르 정보 : {data['genres'][1]}\")"
   ]
  },
  {
   "cell_type": "code",
   "execution_count": null,
   "metadata": {},
   "outputs": [],
   "source": [
    "Genre_pop_sum={}\n",
    "L=len(data['popularity'])\n",
    "for i in range(L):\n",
    "    if pd.isna(data['popularity'][i]):\n",
    "        continue\n",
    "    point = data['popularity'][i]\n",
    "    for j in range(L):\n",
    "        if pd.isna(data['genres'][j]):\n",
    "            continue\n",
    "        genre_info=data['genres'][j][1:-1].split(',')\n",
    "        genre_info = [i.replace('{','') for i in a]\n",
    "        genre_info = [i.replace('}','') for i in a]\n",
    "        genre_info = [i.replace(\"'\",'').strip() for i in a]\n",
    "        for info_type in genre_info:\n",
    "            if 'name' not in info_type:\n",
    "                continue\n",
    "            name=info_type.split()[-1]\n",
    "            try:\n",
    "                Genre_pop_sum[name]+= point\n",
    "            except KeyError:\n",
    "                Genre_pop_sum[name] = point"
   ]
  },
  {
   "cell_type": "code",
   "execution_count": null,
   "metadata": {},
   "outputs": [],
   "source": [
    "a=data['genres'][j][1:-1].split(',')\n",
    "a = [i.replace('{','') for i in a]\n",
    "a = [i.replace('}','') for i in a]\n",
    "a = [i.replace(\"'\",'').strip() for i in a]\n",
    "a"
   ]
  },
  {
   "cell_type": "code",
   "execution_count": null,
   "metadata": {},
   "outputs": [],
   "source": [
    "Res = sorted(Genre_pop_sum.items(),key=lambda x:x[-1],reverse=True)[:3]\n",
    "print(f'인기도가 높은 영화 장르 Top 3')\n",
    "print('='*50)\n",
    "for element in Res:\n",
    "    print(element[0],end=' , ')"
   ]
  },
  {
   "cell_type": "markdown",
   "metadata": {},
   "source": [
    "# 3. 장르의 모든 종류를 나열, 가장 많은 장르부터 내림차순으로 정렬해서 출력  \n",
    "__Target - 어떤 장르의 영화가 가장 많은지 , 적은지 확인__"
   ]
  },
  {
   "cell_type": "code",
   "execution_count": null,
   "metadata": {},
   "outputs": [],
   "source": [
    "a=3\n",
    "a"
   ]
  },
  {
   "cell_type": "code",
   "execution_count": null,
   "metadata": {},
   "outputs": [],
   "source": []
  },
  {
   "cell_type": "code",
   "execution_count": null,
   "metadata": {},
   "outputs": [],
   "source": []
  }
 ],
 "metadata": {
  "kernelspec": {
   "display_name": "Python 3",
   "language": "python",
   "name": "python3"
  },
  "language_info": {
   "codemirror_mode": {
    "name": "ipython",
    "version": 3
   },
   "file_extension": ".py",
   "mimetype": "text/x-python",
   "name": "python",
   "nbconvert_exporter": "python",
   "pygments_lexer": "ipython3",
   "version": "3.8.3"
  }
 },
 "nbformat": 4,
 "nbformat_minor": 4
}
