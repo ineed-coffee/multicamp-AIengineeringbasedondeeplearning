{
 "cells": [
  {
   "cell_type": "markdown",
   "metadata": {},
   "source": [
    "# __Python basic programming review__  \n"
   ]
  },
  {
   "cell_type": "code",
   "execution_count": 1,
   "metadata": {},
   "outputs": [
    {
     "name": "stdout",
     "output_type": "stream",
     "text": [
      "python\n"
     ]
    }
   ],
   "source": [
    "# Immutable data structure\n",
    "a = 'pithon'\n",
    "# a[1]='y'  --> X\n",
    "a = a[:1]+'y'+a[2:]\n",
    "print(a)"
   ]
  },
  {
   "cell_type": "code",
   "execution_count": 2,
   "metadata": {},
   "outputs": [
    {
     "name": "stdout",
     "output_type": "stream",
     "text": [
      "b\n"
     ]
    }
   ],
   "source": [
    "# Python List = can contain every type of data -> Powerful\n",
    "a=[1,2,3,['a','b','c']]\n",
    "\n",
    "letter_b = a[3][1]\n",
    "print(letter_b)"
   ]
  },
  {
   "cell_type": "code",
   "execution_count": 4,
   "metadata": {},
   "outputs": [
    {
     "name": "stdout",
     "output_type": "stream",
     "text": [
      "[1, 3]\n",
      "[1, 3]\n"
     ]
    }
   ],
   "source": [
    "# Removing element from List\n",
    "a=[1,2,3]\n",
    "del a[1]\n",
    "print(a)\n",
    "a.insert(1,2)\n",
    "a.remove(2)\n",
    "print(a)"
   ]
  },
  {
   "cell_type": "code",
   "execution_count": 6,
   "metadata": {},
   "outputs": [
    {
     "name": "stdout",
     "output_type": "stream",
     "text": [
      "[1, 2, 3, 4] [1, 4, 3, 2]\n",
      "None [1, 2, 3, 4]\n"
     ]
    }
   ],
   "source": [
    "# Built-in sorting function : .sort() , sorted()\n",
    "a=[1,4,3,2]\n",
    "b=sorted(a)\n",
    "print(b,a)\n",
    "b = a.sort()\n",
    "print(b,a)"
   ]
  },
  {
   "cell_type": "code",
   "execution_count": 9,
   "metadata": {},
   "outputs": [
    {
     "name": "stdout",
     "output_type": "stream",
     "text": [
      "{1: 'hi', 's_key': [1, 2, 3]}\n",
      "{1: 'hi', 's_key': [1, 2, 3], 'name': 'hellopython'}\n",
      "{'s_key': [1, 2, 3], 'name': 'hellopython'}\n"
     ]
    }
   ],
   "source": [
    "# Python Dictionary = saving data using key:value form\n",
    "a={1:'hi','s_key':[1,2,3]}\n",
    "print(a)\n",
    "\n",
    "a['name']='hellopython'\n",
    "print(a)\n",
    "\n",
    "del a[1]\n",
    "print(a)"
   ]
  },
  {
   "cell_type": "code",
   "execution_count": 11,
   "metadata": {},
   "outputs": [
    {
     "name": "stdout",
     "output_type": "stream",
     "text": [
      "{'hello', (3, 4, 5)}\n"
     ]
    }
   ],
   "source": [
    "# Python Set = no redandunt element allowed\n",
    "a=set(['hello',(3,4,5)])\n",
    "print(a)"
   ]
  },
  {
   "cell_type": "code",
   "execution_count": 14,
   "metadata": {},
   "outputs": [
    {
     "name": "stdout",
     "output_type": "stream",
     "text": [
      "False\n"
     ]
    }
   ],
   "source": [
    "# Python Boolean , id \n",
    "import copy\n",
    "a=[1,2]\n",
    "b=copy.copy(a)\n",
    "print(a is b) # --> '==' 와 'is' 차이점은 값을 묻는지 주소를 묻는지"
   ]
  },
  {
   "cell_type": "code",
   "execution_count": 16,
   "metadata": {},
   "outputs": [
    {
     "data": {
      "text/plain": [
       "[1, 6, 3, 12]"
      ]
     },
     "execution_count": 16,
     "metadata": {},
     "output_type": "execute_result"
    }
   ],
   "source": [
    "# Python List comprehension\n",
    "a= [1,2,3,4]\n",
    "b = [3*i for i in a]\n",
    "\n",
    "c = [i if i%2 else 3*i for i in a]\n",
    "c"
   ]
  },
  {
   "cell_type": "code",
   "execution_count": 19,
   "metadata": {},
   "outputs": [
    {
     "name": "stdout",
     "output_type": "stream",
     "text": [
      "4\n",
      "   *\n",
      "  **\n",
      " ***\n",
      "****\n"
     ]
    }
   ],
   "source": [
    "# example : 별 출력 ()\n",
    "\n",
    "n = int(input())\n",
    "for i in range(1,n+1):\n",
    "    s = ' '*(n-i)+'*'*(i)\n",
    "    print(s)\n"
   ]
  },
  {
   "cell_type": "code",
   "execution_count": 34,
   "metadata": {},
   "outputs": [
    {
     "name": "stdout",
     "output_type": "stream",
     "text": [
      "7\n"
     ]
    }
   ],
   "source": [
    "# 연습문제1 : Gravity\n",
    "\n",
    "n,m = 9,9\n",
    "gravity = [7,4,2,0,0,6,0,7,0]\n",
    "\n",
    "Board = [[0]*m for _ in range(n)]\n",
    "\n",
    "for j in range(len(gravity)):\n",
    "    h = gravity[j]\n",
    "    for i in range(n-1,n-1-h,-1):\n",
    "        Board[i][j]=1\n",
    "\n",
    "\n",
    "dp=[[0]*m for _ in range(n)]\n",
    "\n",
    "for i in range(n):\n",
    "    fall_acc=0\n",
    "    for j in range(m-1,-1,-1):\n",
    "        if Board[i][j]:\n",
    "            dp[i][j]=fall_acc\n",
    "        else:\n",
    "            fall_acc+=1\n",
    "Ans = max([max(i) for i in dp])\n",
    "print(Ans)"
   ]
  },
  {
   "cell_type": "markdown",
   "metadata": {},
   "source": [
    "# __Iterator 반복객체 생성__"
   ]
  },
  {
   "cell_type": "code",
   "execution_count": 43,
   "metadata": {},
   "outputs": [
    {
     "name": "stdout",
     "output_type": "stream",
     "text": [
      "1\n",
      "2\n",
      "3\n",
      "4\n",
      "<list_iterator object at 0x0000010958AE8848>\n"
     ]
    }
   ],
   "source": [
    "# 반복 가능한 객체인지 아닌지 확인하는 함수 -> dir\n",
    "a=[1,2,3]\n",
    "'__iter__' in dir(a)\n",
    "\n",
    "b = [1,2,3,4].__iter__()\n",
    "print(b.__next__())\n",
    "print(b.__next__())\n",
    "print(b.__next__())\n",
    "print(b.__next__())\n",
    "print(b)"
   ]
  },
  {
   "cell_type": "code",
   "execution_count": 45,
   "metadata": {},
   "outputs": [
    {
     "name": "stdout",
     "output_type": "stream",
     "text": [
      "0\n",
      "1\n",
      "2\n"
     ]
    }
   ],
   "source": [
    "# iterator 생성  --> 직접 짤 일은 없겠지만 객체를 통한 반복문 내부 동작을 더 이해할 수 있는 코드\n",
    "\n",
    "class my_counter:\n",
    "    \n",
    "    def __init__(self,stop):\n",
    "        self.cur=0\n",
    "        self.stop=stop\n",
    "    \n",
    "    def __iter__(self):\n",
    "        return self\n",
    "        \n",
    "    def __next__(self):\n",
    "        if self.cur<self.stop:\n",
    "            res = self.cur\n",
    "            self.cur+=1\n",
    "            return res\n",
    "        else:\n",
    "            raise StopIteration\n",
    "            \n",
    "c1 = my_counter(3)\n",
    "\n",
    "for i in my_counter(3):\n",
    "    print(i)"
   ]
  },
  {
   "cell_type": "markdown",
   "metadata": {},
   "source": [
    "# __Generator 생성객체__"
   ]
  },
  {
   "cell_type": "code",
   "execution_count": 47,
   "metadata": {},
   "outputs": [
    {
     "name": "stdout",
     "output_type": "stream",
     "text": [
      "<generator object num_gen at 0x0000010958DCD148>\n",
      "['__class__', '__del__', '__delattr__', '__dir__', '__doc__', '__eq__', '__format__', '__ge__', '__getattribute__', '__gt__', '__hash__', '__init__', '__init_subclass__', '__iter__', '__le__', '__lt__', '__name__', '__ne__', '__new__', '__next__', '__qualname__', '__reduce__', '__reduce_ex__', '__repr__', '__setattr__', '__sizeof__', '__str__', '__subclasshook__', 'close', 'gi_code', 'gi_frame', 'gi_running', 'gi_yieldfrom', 'send', 'throw']\n",
      "0\n",
      "1\n",
      "2\n"
     ]
    }
   ],
   "source": [
    "# Generator => Iterator 를 생성해주는 함수\n",
    "# yield 키워드를 통해 구현 => 함수 내부에서 사용 시 함수는 generator 역할을 수행\n",
    "\n",
    "def num_gen():\n",
    "    yield 0\n",
    "    yield 1\n",
    "    yield 2\n",
    "\n",
    "ng = num_gen()\n",
    "print(ng)\n",
    "print(dir(ng))\n",
    "\n",
    "for i in num_gen():\n",
    "    print(i)"
   ]
  }
 ],
 "metadata": {
  "kernelspec": {
   "display_name": "Python 3",
   "language": "python",
   "name": "python3"
  },
  "language_info": {
   "codemirror_mode": {
    "name": "ipython",
    "version": 3
   },
   "file_extension": ".py",
   "mimetype": "text/x-python",
   "name": "python",
   "nbconvert_exporter": "python",
   "pygments_lexer": "ipython3",
   "version": "3.7.8"
  }
 },
 "nbformat": 4,
 "nbformat_minor": 4
}
