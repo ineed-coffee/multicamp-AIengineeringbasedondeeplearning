{
 "cells": [
  {
   "cell_type": "code",
   "execution_count": 1,
   "metadata": {},
   "outputs": [
    {
     "data": {
      "text/plain": [
       "'1.18.5'"
      ]
     },
     "execution_count": 1,
     "metadata": {},
     "output_type": "execute_result"
    }
   ],
   "source": [
    "import numpy as np\n",
    "\n",
    "np.__version__"
   ]
  },
  {
   "cell_type": "code",
   "execution_count": 3,
   "metadata": {},
   "outputs": [
    {
     "data": {
      "text/plain": [
       "800"
      ]
     },
     "execution_count": 3,
     "metadata": {},
     "output_type": "execute_result"
    }
   ],
   "source": [
    "z=np.zeros((10,10))\n",
    "z.size*z.itemsize # 전체 차지 바이트 크기"
   ]
  },
  {
   "cell_type": "code",
   "execution_count": 4,
   "metadata": {},
   "outputs": [
    {
     "data": {
      "text/plain": [
       "array([9, 8, 7, 6, 5, 4, 3, 2, 1, 0])"
      ]
     },
     "execution_count": 4,
     "metadata": {},
     "output_type": "execute_result"
    }
   ],
   "source": [
    "np.arange(10)[::-1]"
   ]
  },
  {
   "cell_type": "code",
   "execution_count": 5,
   "metadata": {},
   "outputs": [
    {
     "data": {
      "text/plain": [
       "(array([0, 1, 3], dtype=int64),)"
      ]
     },
     "execution_count": 5,
     "metadata": {},
     "output_type": "execute_result"
    }
   ],
   "source": [
    "# 가끔 쓰는 메소드 : 0이 아닌 값들 위치 반환 함수\n",
    "np.nonzero([1,2,0,4,0])"
   ]
  },
  {
   "cell_type": "code",
   "execution_count": 7,
   "metadata": {},
   "outputs": [
    {
     "name": "stdout",
     "output_type": "stream",
     "text": [
      "[[1. 1. 1. 1. 1. 1. 1. 1. 1. 1.]\n",
      " [1. 0. 0. 0. 0. 0. 0. 0. 0. 1.]\n",
      " [1. 0. 0. 0. 0. 0. 0. 0. 0. 1.]\n",
      " [1. 0. 0. 0. 0. 0. 0. 0. 0. 1.]\n",
      " [1. 0. 0. 0. 0. 0. 0. 0. 0. 1.]\n",
      " [1. 0. 0. 0. 0. 0. 0. 0. 0. 1.]\n",
      " [1. 0. 0. 0. 0. 0. 0. 0. 0. 1.]\n",
      " [1. 0. 0. 0. 0. 0. 0. 0. 0. 1.]\n",
      " [1. 0. 0. 0. 0. 0. 0. 0. 0. 1.]\n",
      " [1. 1. 1. 1. 1. 1. 1. 1. 1. 1.]]\n"
     ]
    }
   ],
   "source": [
    "# 스몰 실습1 : 10X10 배열 생성 -> 테두리만 1 내부는 0으로 채우기\n",
    "\n",
    "arr=np.zeros((10,10))\n",
    "for i in range(10):\n",
    "    for j in range(10):\n",
    "        if (1<=i<9)and(1<=j<9):\n",
    "            continue\n",
    "        arr[i,j]=1\n",
    "        \n",
    "# == > 바로 arr[][]\n",
    "print(arr)"
   ]
  },
  {
   "cell_type": "code",
   "execution_count": 9,
   "metadata": {},
   "outputs": [
    {
     "data": {
      "text/plain": [
       "array([[0., 0., 0., 0., 0., 0., 0., 0., 0., 0.],\n",
       "       [0., 1., 1., 1., 1., 1., 1., 1., 1., 0.],\n",
       "       [0., 1., 1., 1., 1., 1., 1., 1., 1., 0.],\n",
       "       [0., 1., 1., 1., 1., 1., 1., 1., 1., 0.],\n",
       "       [0., 1., 1., 1., 1., 1., 1., 1., 1., 0.],\n",
       "       [0., 1., 1., 1., 1., 1., 1., 1., 1., 0.],\n",
       "       [0., 1., 1., 1., 1., 1., 1., 1., 1., 0.],\n",
       "       [0., 1., 1., 1., 1., 1., 1., 1., 1., 0.],\n",
       "       [0., 1., 1., 1., 1., 1., 1., 1., 1., 0.],\n",
       "       [0., 0., 0., 0., 0., 0., 0., 0., 0., 0.]])"
      ]
     },
     "execution_count": 9,
     "metadata": {},
     "output_type": "execute_result"
    }
   ],
   "source": [
    "arr=np.zeros((10,10))\n",
    "arr[1:-1,1:-1]=1\n",
    "arr"
   ]
  },
  {
   "cell_type": "code",
   "execution_count": 10,
   "metadata": {},
   "outputs": [
    {
     "name": "stdout",
     "output_type": "stream",
     "text": [
      "[0 1 2 3 0]\n",
      "[0 0 1 2 3 0 0 0]\n",
      "[1 2 3 0 0 0]\n"
     ]
    }
   ],
   "source": [
    "# 패딩 : 배열의 크기를 고정길이로 만드는 작업\n",
    "\n",
    "# 1D\n",
    "a=[1,2,3]\n",
    "print(np.pad(a,1,constant_values=0))\n",
    "print(np.pad(a,(2,3),constant_values=0))\n",
    "print(np.pad(a,(0,3),constant_values=0))\n",
    "\n",
    "# 2D\n",
    "b = np.arange(1,7).reshape(2,3)\n",
    "print(np.pad(b,pad_width=1,constant_values=0))\n",
    "print(np.pad(b,pad_width=1,constant_values=0))"
   ]
  },
  {
   "cell_type": "code",
   "execution_count": 11,
   "metadata": {},
   "outputs": [
    {
     "name": "stdout",
     "output_type": "stream",
     "text": [
      "[list([1, 2]) list([4, 5, 6]) list([7])]\n"
     ]
    }
   ],
   "source": [
    "c=[\n",
    "    [1,2],\n",
    "    [4,5,6],\n",
    "    [7]\n",
    "]\n",
    "\n",
    "print(np.array(c))"
   ]
  },
  {
   "cell_type": "code",
   "execution_count": 15,
   "metadata": {},
   "outputs": [
    {
     "name": "stdout",
     "output_type": "stream",
     "text": [
      "[1, 2]\n",
      "[4, 5, 6]\n",
      "[7]\n",
      "[array([1, 2, 0, 0, 0]), array([4, 5, 6, 0, 0]), array([7, 0, 0, 0, 0])]\n",
      "[[1 2 0 0 0]\n",
      " [4 5 6 0 0]\n",
      " [7 0 0 0 0]]\n"
     ]
    },
    {
     "data": {
      "text/plain": [
       "array([[1, 2, 0, 0, 0],\n",
       "       [4, 5, 6, 0, 0],\n",
       "       [7, 0, 0, 0, 0]])"
      ]
     },
     "execution_count": 15,
     "metadata": {},
     "output_type": "execute_result"
    }
   ],
   "source": [
    "def Array_2D(arr,fix_len,pad_val):\n",
    "\n",
    "    rows=[]\n",
    "    for a in arr:\n",
    "        print(a)\n",
    "        rows.append(np.pad(a,(0,max(0,fix_len-len(a))),constant_values=pad_val))\n",
    "    print(rows)\n",
    "    ret = np.concatenate(rows,axis=0).reshape(-1,fix_len)\n",
    "    print(ret)\n",
    "    return ret\n",
    "\n",
    "Array_2D(c,5,0)\n"
   ]
  },
  {
   "cell_type": "code",
   "execution_count": 17,
   "metadata": {},
   "outputs": [
    {
     "name": "stdout",
     "output_type": "stream",
     "text": [
      "[[0. 0. 0. 0. 0. 0. 0. 0. 0. 0. 0.]\n",
      " [0. 1. 1. 1. 1. 1. 1. 1. 1. 1. 0.]\n",
      " [0. 1. 1. 1. 1. 1. 1. 1. 1. 1. 0.]\n",
      " [0. 1. 1. 1. 1. 1. 1. 1. 1. 1. 0.]\n",
      " [0. 1. 1. 1. 1. 1. 1. 1. 1. 1. 0.]\n",
      " [0. 1. 1. 1. 1. 1. 1. 1. 1. 1. 0.]\n",
      " [0. 1. 1. 1. 1. 1. 1. 1. 1. 1. 0.]\n",
      " [0. 1. 1. 1. 1. 1. 1. 1. 1. 1. 0.]\n",
      " [0. 1. 1. 1. 1. 1. 1. 1. 1. 1. 0.]\n",
      " [0. 1. 1. 1. 1. 1. 1. 1. 1. 1. 0.]\n",
      " [0. 0. 0. 0. 0. 0. 0. 0. 0. 0. 0.]]\n"
     ]
    }
   ],
   "source": [
    "# 스몰실습2 : \n",
    "\n",
    "arr = np.ones((9,9))\n",
    "print(np.pad(arr,1,constant_values=0))"
   ]
  },
  {
   "cell_type": "code",
   "execution_count": 18,
   "metadata": {},
   "outputs": [
    {
     "name": "stdout",
     "output_type": "stream",
     "text": [
      "[0 4 8]\n",
      "[[0 0 0]\n",
      " [0 4 0]\n",
      " [0 0 8]]\n"
     ]
    }
   ],
   "source": [
    "x=np.arange(9).reshape(3,3)\n",
    "print(np.diag(x))\n",
    "print(np.diag(np.diag(x)))"
   ]
  },
  {
   "cell_type": "code",
   "execution_count": 20,
   "metadata": {},
   "outputs": [
    {
     "data": {
      "text/plain": [
       "array([[0, 1, 2, 0, 1, 2],\n",
       "       [0, 1, 2, 0, 1, 2]])"
      ]
     },
     "execution_count": 20,
     "metadata": {},
     "output_type": "execute_result"
    }
   ],
   "source": [
    "a=np.array([0,1,2])\n",
    "np.tile(a,(2,2))"
   ]
  },
  {
   "cell_type": "code",
   "execution_count": 21,
   "metadata": {},
   "outputs": [
    {
     "data": {
      "text/plain": [
       "array([[0, 1, 0, 1, 0, 1, 0, 1],\n",
       "       [1, 0, 1, 0, 1, 0, 1, 0],\n",
       "       [0, 1, 0, 1, 0, 1, 0, 1],\n",
       "       [1, 0, 1, 0, 1, 0, 1, 0],\n",
       "       [0, 1, 0, 1, 0, 1, 0, 1],\n",
       "       [1, 0, 1, 0, 1, 0, 1, 0],\n",
       "       [0, 1, 0, 1, 0, 1, 0, 1],\n",
       "       [1, 0, 1, 0, 1, 0, 1, 0]])"
      ]
     },
     "execution_count": 21,
     "metadata": {},
     "output_type": "execute_result"
    }
   ],
   "source": [
    "# 스몰실습 3\n",
    "\n",
    "a = np.array([[0,1],[1,0]])\n",
    "np.tile(a,(4,4))"
   ]
  },
  {
   "cell_type": "markdown",
   "metadata": {},
   "source": [
    "* __표준화 : Standardization__"
   ]
  },
  {
   "cell_type": "code",
   "execution_count": 22,
   "metadata": {},
   "outputs": [
    {
     "data": {
      "text/plain": [
       "array([[0.8198748 , 0.68467533, 0.60848445, 0.77113762],\n",
       "       [0.27884374, 0.7214353 , 0.14386099, 0.77055382],\n",
       "       [0.21175458, 0.30081426, 0.19095067, 0.76759409],\n",
       "       [0.00973302, 0.56165376, 0.72065461, 0.51882646],\n",
       "       [0.12573811, 0.59866947, 0.46155958, 0.84613903]])"
      ]
     },
     "execution_count": 22,
     "metadata": {},
     "output_type": "execute_result"
    }
   ],
   "source": [
    "z=np.random.random((5,4))\n",
    "z"
   ]
  },
  {
   "cell_type": "code",
   "execution_count": 26,
   "metadata": {},
   "outputs": [
    {
     "name": "stdout",
     "output_type": "stream",
     "text": [
      "0.5056476842992544\n",
      "[0.28918885 0.57344962 0.42510206 0.7348502 ]\n",
      "[0.72104305 0.47867346 0.3677784  0.45271696 0.50802655]\n",
      "0.26203351372805067\n"
     ]
    }
   ],
   "source": [
    "print(np.mean(z))   # 전체\n",
    "print(np.mean(z,axis=0)) # 칼럼\n",
    "print(np.mean(z,axis=1)) # 로우\n",
    "print(np.std(z)) # 분산"
   ]
  },
  {
   "cell_type": "code",
   "execution_count": 27,
   "metadata": {},
   "outputs": [
    {
     "name": "stdout",
     "output_type": "stream",
     "text": [
      "[[ 0.31422711  0.17902764  0.10283677  0.26548993]\n",
      " [-0.22680394  0.21578761 -0.36178669  0.26490614]\n",
      " [-0.2938931  -0.20483343 -0.31469702  0.26194641]\n",
      " [-0.49591466  0.05600607  0.21500693  0.01317877]\n",
      " [-0.37990957  0.09302178 -0.0440881   0.34049135]]\n"
     ]
    }
   ],
   "source": [
    "print(z-np.mean(z))"
   ]
  },
  {
   "cell_type": "code",
   "execution_count": 28,
   "metadata": {},
   "outputs": [
    {
     "name": "stdout",
     "output_type": "stream",
     "text": [
      "[[ 1.19918674  0.68322422  0.39245654  1.01319075]\n",
      " [-0.86555319  0.8235115  -1.38068863  1.01096282]\n",
      " [-1.12158592 -0.78170699 -1.20098003  0.99966759]\n",
      " [-1.89256197  0.2137363   0.82053217  0.05029423]\n",
      " [-1.44985107  0.35499955 -0.16825369  1.29941907]]\n"
     ]
    }
   ],
   "source": [
    "print((z-np.mean(z))/np.std(z))  # 실제로는 각 컬럼마다 성격이 다르므로 표준화를 개별로 진행한다."
   ]
  },
  {
   "cell_type": "code",
   "execution_count": null,
   "metadata": {},
   "outputs": [],
   "source": [
    "# 스몰 실습 4 : 각 열별로 표준화,정규화"
   ]
  },
  {
   "cell_type": "code",
   "execution_count": 35,
   "metadata": {},
   "outputs": [
    {
     "data": {
      "text/plain": [
       "array([[10, 11, 12, 13, 14],\n",
       "       [15, 16, 17, 18, 19],\n",
       "       [20, 21, 22, 23, 24],\n",
       "       [25, 26, 27, 28, 29]])"
      ]
     },
     "execution_count": 35,
     "metadata": {},
     "output_type": "execute_result"
    }
   ],
   "source": [
    "arr=np.arange(10,30).reshape(4,5)\n",
    "arr"
   ]
  },
  {
   "cell_type": "code",
   "execution_count": 38,
   "metadata": {},
   "outputs": [
    {
     "name": "stdout",
     "output_type": "stream",
     "text": [
      "[25 26 27 28 29]\n",
      "[10 11 12 13 14]\n",
      "[[0.         0.         0.         0.         0.        ]\n",
      " [0.33333333 0.33333333 0.33333333 0.33333333 0.33333333]\n",
      " [0.66666667 0.66666667 0.66666667 0.66666667 0.66666667]\n",
      " [1.         1.         1.         1.         1.        ]]\n"
     ]
    }
   ],
   "source": [
    "arr_max=np.max(arr,axis=0)\n",
    "arr_min=np.min(arr,axis=0)\n",
    "arr_norm = (arr-arr_min)/(arr_max-arr_min)\n",
    "print(arr_max)\n",
    "print(arr_min)\n",
    "print(arr_norm)"
   ]
  },
  {
   "cell_type": "code",
   "execution_count": 42,
   "metadata": {},
   "outputs": [
    {
     "name": "stdout",
     "output_type": "stream",
     "text": [
      "[17.5 18.5 19.5 20.5 21.5]\n",
      "[5.59016994 5.59016994 5.59016994 5.59016994 5.59016994]\n",
      "[[-1.34164079 -1.34164079 -1.34164079 -1.34164079 -1.34164079]\n",
      " [-0.4472136  -0.4472136  -0.4472136  -0.4472136  -0.4472136 ]\n",
      " [ 0.4472136   0.4472136   0.4472136   0.4472136   0.4472136 ]\n",
      " [ 1.34164079  1.34164079  1.34164079  1.34164079  1.34164079]]\n"
     ]
    }
   ],
   "source": [
    "arr_mean=np.mean(arr,axis=0)\n",
    "arr_std=np.std(arr,axis=0)\n",
    "arr_stand = (arr-arr_mean)/(arr_std)\n",
    "print(arr_mean)\n",
    "print(arr_std)\n",
    "print(arr_stand)"
   ]
  },
  {
   "cell_type": "code",
   "execution_count": 44,
   "metadata": {},
   "outputs": [
    {
     "name": "stdout",
     "output_type": "stream",
     "text": [
      "[[3. 3.]\n",
      " [3. 3.]\n",
      " [3. 3.]\n",
      " [3. 3.]\n",
      " [3. 3.]]\n",
      "[[3. 3.]\n",
      " [3. 3.]\n",
      " [3. 3.]\n",
      " [3. 3.]\n",
      " [3. 3.]]\n"
     ]
    }
   ],
   "source": [
    "print(np.ones((5,3))@np.ones((3,2)))\n",
    "print(np.dot(np.ones((5,3)),np.ones((3,2))))"
   ]
  },
  {
   "cell_type": "code",
   "execution_count": 50,
   "metadata": {},
   "outputs": [
    {
     "name": "stdout",
     "output_type": "stream",
     "text": [
      "[ 0  1  2  3 -4 -5 -6 -7 -8  9 10]\n"
     ]
    }
   ],
   "source": [
    "z=np.arange(11)\n",
    "print(np.where(z>3,np.where(z<9,-z,z),z))"
   ]
  },
  {
   "cell_type": "code",
   "execution_count": 51,
   "metadata": {},
   "outputs": [
    {
     "name": "stdout",
     "output_type": "stream",
     "text": [
      "[7 8 4 8 6 1 4 7 1 8]\n",
      "[9 5 0 4 1 7 1 1 7 5]\n"
     ]
    }
   ],
   "source": [
    "z1 = np.random.randint(0,10,10)\n",
    "z2 = np.random.randint(0,10,10)\n",
    "print(z1)\n",
    "print(z2)"
   ]
  },
  {
   "cell_type": "code",
   "execution_count": 54,
   "metadata": {},
   "outputs": [
    {
     "name": "stdout",
     "output_type": "stream",
     "text": [
      "[1 4 7]\n",
      "[1 4 6 7 8]\n",
      "[0 1 4 5 6 7 8 9]\n",
      "[ True False  True False False  True  True  True  True False]\n",
      "[6 8]\n",
      "[0 5 6 8 9]\n"
     ]
    }
   ],
   "source": [
    "print(np.intersect1d(z1,z2))   # 교집합\n",
    "print(np.unique(z1))           # 집합화\n",
    "print(np.union1d(z1,z2))       # 합집합\n",
    "print(np.in1d(z1,z2))          # 각 원소 포함여부 부울 배열 반환\n",
    "print(np.setdiff1d(z1,z2))     # 차집합\n",
    "print(np.setxor1d(z1,z2))      # 대칭 차집합"
   ]
  },
  {
   "cell_type": "code",
   "execution_count": 60,
   "metadata": {},
   "outputs": [
    {
     "name": "stdout",
     "output_type": "stream",
     "text": [
      "2020-08-17\n"
     ]
    }
   ],
   "source": [
    "np.datetime64('today')\n",
    "yesterday=np.datetime64('today')-1\n",
    "print(yesterday)"
   ]
  },
  {
   "cell_type": "code",
   "execution_count": 61,
   "metadata": {},
   "outputs": [
    {
     "data": {
      "text/plain": [
       "array(['2020-08-01', '2020-08-02', '2020-08-03', '2020-08-04',\n",
       "       '2020-08-05', '2020-08-06', '2020-08-07', '2020-08-08',\n",
       "       '2020-08-09', '2020-08-10', '2020-08-11', '2020-08-12',\n",
       "       '2020-08-13', '2020-08-14', '2020-08-15', '2020-08-16',\n",
       "       '2020-08-17', '2020-08-18', '2020-08-19', '2020-08-20',\n",
       "       '2020-08-21', '2020-08-22', '2020-08-23', '2020-08-24',\n",
       "       '2020-08-25', '2020-08-26', '2020-08-27', '2020-08-28',\n",
       "       '2020-08-29', '2020-08-30', '2020-08-31', '2020-09-01',\n",
       "       '2020-09-02', '2020-09-03', '2020-09-04', '2020-09-05',\n",
       "       '2020-09-06', '2020-09-07', '2020-09-08', '2020-09-09',\n",
       "       '2020-09-10', '2020-09-11', '2020-09-12', '2020-09-13',\n",
       "       '2020-09-14', '2020-09-15', '2020-09-16', '2020-09-17',\n",
       "       '2020-09-18', '2020-09-19', '2020-09-20', '2020-09-21',\n",
       "       '2020-09-22', '2020-09-23', '2020-09-24', '2020-09-25',\n",
       "       '2020-09-26', '2020-09-27', '2020-09-28', '2020-09-29',\n",
       "       '2020-09-30', '2020-10-01', '2020-10-02', '2020-10-03',\n",
       "       '2020-10-04', '2020-10-05', '2020-10-06', '2020-10-07',\n",
       "       '2020-10-08', '2020-10-09', '2020-10-10', '2020-10-11',\n",
       "       '2020-10-12', '2020-10-13', '2020-10-14', '2020-10-15',\n",
       "       '2020-10-16', '2020-10-17', '2020-10-18', '2020-10-19',\n",
       "       '2020-10-20', '2020-10-21', '2020-10-22', '2020-10-23',\n",
       "       '2020-10-24', '2020-10-25', '2020-10-26', '2020-10-27',\n",
       "       '2020-10-28', '2020-10-29', '2020-10-30', '2020-10-31',\n",
       "       '2020-11-01', '2020-11-02', '2020-11-03', '2020-11-04',\n",
       "       '2020-11-05', '2020-11-06', '2020-11-07', '2020-11-08',\n",
       "       '2020-11-09', '2020-11-10', '2020-11-11', '2020-11-12',\n",
       "       '2020-11-13', '2020-11-14', '2020-11-15', '2020-11-16',\n",
       "       '2020-11-17', '2020-11-18', '2020-11-19', '2020-11-20',\n",
       "       '2020-11-21', '2020-11-22', '2020-11-23', '2020-11-24',\n",
       "       '2020-11-25', '2020-11-26', '2020-11-27', '2020-11-28',\n",
       "       '2020-11-29', '2020-11-30'], dtype='datetime64[D]')"
      ]
     },
     "execution_count": 61,
     "metadata": {},
     "output_type": "execute_result"
    }
   ],
   "source": [
    "np.arange('2020-08','2020-12',dtype='datetime64[D]')"
   ]
  },
  {
   "cell_type": "markdown",
   "metadata": {},
   "source": [
    "# __오후__  "
   ]
  },
  {
   "cell_type": "code",
   "execution_count": 62,
   "metadata": {},
   "outputs": [],
   "source": [
    "a=np.ones(3)*1\n",
    "b=np.ones(3)*2\n",
    "c=np.ones(3)*3"
   ]
  },
  {
   "cell_type": "code",
   "execution_count": 70,
   "metadata": {},
   "outputs": [
    {
     "name": "stdout",
     "output_type": "stream",
     "text": [
      "[3. 3. 3.]\n",
      "[0.5 0.5 0.5]\n",
      "[-1. -1. -1.] [-1. -1. -1.]\n",
      "[2. 2. 2.]\n"
     ]
    }
   ],
   "source": [
    "print(np.add(a,b))\n",
    "print(np.divide(a,b))\n",
    "print(np.negative(a),-a)\n",
    "print(np.multiply(a,b))"
   ]
  },
  {
   "cell_type": "markdown",
   "metadata": {},
   "source": [
    "* __실수 연산__"
   ]
  },
  {
   "cell_type": "code",
   "execution_count": 71,
   "metadata": {},
   "outputs": [
    {
     "data": {
      "text/plain": [
       "array([8.74235249, 7.85011516, 0.52211847, 3.44905641, 1.27526573,\n",
       "       6.28913847, 1.30240908, 9.26839191, 7.03145957, 7.62699125])"
      ]
     },
     "execution_count": 71,
     "metadata": {},
     "output_type": "execute_result"
    }
   ],
   "source": [
    "z=np.random.uniform(0,10,10)\n",
    "z"
   ]
  },
  {
   "cell_type": "code",
   "execution_count": 73,
   "metadata": {},
   "outputs": [
    {
     "data": {
      "text/plain": [
       "array([0., 2., 4., 6., 8.])"
      ]
     },
     "execution_count": 73,
     "metadata": {},
     "output_type": "execute_result"
    }
   ],
   "source": [
    "np.linspace(0,10,5)\n",
    "np.linspace(0,10,5,endpoint=False) # 끝점 미포함"
   ]
  },
  {
   "cell_type": "code",
   "execution_count": 77,
   "metadata": {},
   "outputs": [
    {
     "name": "stdout",
     "output_type": "stream",
     "text": [
      "[0.10702937 0.97283024 0.67746479 0.60423173 0.2743266  0.98325861\n",
      " 0.85639296 0.09618232 0.09985282 0.11933003]\n",
      "[0.10702937 0.97283024 0.67746479 0.60423173 0.2743266  1.\n",
      " 0.85639296 0.09618232 0.09985282 0.11933003]\n"
     ]
    }
   ],
   "source": [
    "z=np.random.random(10)\n",
    "print(z)\n",
    "z[z==z.max()]=1   # or z[z.argmax()]=1\n",
    "print(z)"
   ]
  },
  {
   "cell_type": "code",
   "execution_count": 79,
   "metadata": {},
   "outputs": [
    {
     "data": {
      "text/plain": [
       "[[(0, 0), (1, 0), (2, 0)],\n",
       " [(0, 1), (1, 1), (2, 1)],\n",
       " [(0, 2), (1, 2), (2, 2)],\n",
       " [(0, 3), (1, 3), (2, 3)],\n",
       " [(0, 4), (1, 4), (2, 4)]]"
      ]
     },
     "execution_count": 79,
     "metadata": {},
     "output_type": "execute_result"
    }
   ],
   "source": [
    "# 시각화 , 그리드 형식 출력\n",
    "# 변수 2개, 2차원 함수의 그래프 출력,표 작성 (2차원에 대한 좌표값 쌍 x,y 생성)\n",
    "\n",
    "x=np.arange(3)\n",
    "y=np.arange(5)\n",
    "x,y = np.meshgrid(x,y)\n",
    "\n",
    "res = [list(zip(x_,y_)) for x_,y_ in zip(x,y)]\n",
    "res\n",
    "    "
   ]
  },
  {
   "cell_type": "code",
   "execution_count": 81,
   "metadata": {},
   "outputs": [
    {
     "data": {
      "text/plain": [
       "<matplotlib.collections.PathCollection at 0x25436da6a90>"
      ]
     },
     "execution_count": 81,
     "metadata": {},
     "output_type": "execute_result"
    },
    {
     "data": {
      "image/png": "[encoded data removed]",
      "text/plain": [
       "<Figure size 432x288 with 1 Axes>"
      ]
     },
     "metadata": {
      "needs_background": "light"
     },
     "output_type": "display_data"
    }
   ],
   "source": [
    "import matplotlib.pyplot as plt\n",
    "plt.scatter(x,y)"
   ]
  },
  {
   "cell_type": "code",
   "execution_count": 82,
   "metadata": {},
   "outputs": [
    {
     "data": {
      "text/plain": [
       "36"
      ]
     },
     "execution_count": 82,
     "metadata": {},
     "output_type": "execute_result"
    }
   ],
   "source": [
    "# 미니 실습 4 : 다른 배열 에서 가장 가까운 값 찾기\n",
    "\n",
    "z=np.arange(100)\n",
    "v=np.random.uniform(0,100)\n",
    "\n",
    "z[np.abs(z-v).argmin()]\n"
   ]
  },
  {
   "cell_type": "markdown",
   "metadata": {},
   "source": [
    "* __bincount__  "
   ]
  },
  {
   "cell_type": "code",
   "execution_count": 83,
   "metadata": {},
   "outputs": [
    {
     "data": {
      "text/plain": [
       "array([0, 6, 8, 9, 1, 4, 3, 7, 5, 2])"
      ]
     },
     "execution_count": 83,
     "metadata": {},
     "output_type": "execute_result"
    }
   ],
   "source": [
    "np.random.seed(1004)\n",
    "x=np.arange(10)\n",
    "np.random.shuffle(x)\n",
    "x"
   ]
  },
  {
   "cell_type": "code",
   "execution_count": 84,
   "metadata": {},
   "outputs": [
    {
     "data": {
      "text/plain": [
       "array([1, 2, 3, 4, 0])"
      ]
     },
     "execution_count": 84,
     "metadata": {},
     "output_type": "execute_result"
    }
   ],
   "source": [
    "np.random.choice(5,5,replace=False)"
   ]
  },
  {
   "cell_type": "code",
   "execution_count": 87,
   "metadata": {},
   "outputs": [
    {
     "name": "stderr",
     "output_type": "stream",
     "text": [
      "<ipython-input-87-f3b6b3d038a8>:1: DeprecationWarning: This function is deprecated. Please call randint(-100, 101 + 1) instead\n",
      "  x=np.random.random_integers(-100,100 + 1,50)\n"
     ]
    },
    {
     "data": {
      "text/plain": [
       "<matplotlib.axes._subplots.AxesSubplot at 0x2543ac3ab20>"
      ]
     },
     "execution_count": 87,
     "metadata": {},
     "output_type": "execute_result"
    },
    {
     "data": {
      "image/png": "[encoded data removed]",
      "text/plain": [
       "<Figure size 432x288 with 1 Axes>"
      ]
     },
     "metadata": {
      "needs_background": "light"
     },
     "output_type": "display_data"
    }
   ],
   "source": [
    "x=np.random.random_integers(-100,100 + 1,50)\n",
    "import seaborn as sns\n",
    "sns.distplot(x)"
   ]
  },
  {
   "cell_type": "code",
   "execution_count": 88,
   "metadata": {},
   "outputs": [
    {
     "data": {
      "text/plain": [
       "<matplotlib.axes._subplots.AxesSubplot at 0x2543aca4610>"
      ]
     },
     "execution_count": 88,
     "metadata": {},
     "output_type": "execute_result"
    },
    {
     "data": {
      "image/png": "[encoded data removed]",
      "text/plain": [
       "<Figure size 432x288 with 1 Axes>"
      ]
     },
     "metadata": {
      "needs_background": "light"
     },
     "output_type": "display_data"
    }
   ],
   "source": [
    "x=np.random.rand(10000)\n",
    "sns.distplot(x)"
   ]
  },
  {
   "cell_type": "code",
   "execution_count": 89,
   "metadata": {},
   "outputs": [
    {
     "name": "stdout",
     "output_type": "stream",
     "text": [
      "['a' 'b' 'c']\n",
      "[2 2 1]\n"
     ]
    }
   ],
   "source": [
    "a=np.array(['a','b','b','c','a'])\n",
    "idx,cnt=np.unique(a,return_counts=True)\n",
    "print(idx)\n",
    "print(cnt)"
   ]
  },
  {
   "cell_type": "code",
   "execution_count": 94,
   "metadata": {},
   "outputs": [
    {
     "data": {
      "text/plain": [
       "array([0, 2, 3, 0, 2, 0], dtype=int64)"
      ]
     },
     "execution_count": 94,
     "metadata": {},
     "output_type": "execute_result"
    }
   ],
   "source": [
    "np.bincount([1,1,2,2,2,4,4],minlength=6)"
   ]
  },
  {
   "cell_type": "code",
   "execution_count": 95,
   "metadata": {},
   "outputs": [
    {
     "data": {
      "text/plain": [
       "array([[7, 7, 1],\n",
       "       [2, 4, 7]])"
      ]
     },
     "execution_count": 95,
     "metadata": {},
     "output_type": "execute_result"
    }
   ],
   "source": [
    "np.random.randint(1,10,(2,3))"
   ]
  },
  {
   "cell_type": "code",
   "execution_count": 96,
   "metadata": {},
   "outputs": [
    {
     "data": {
      "text/plain": [
       "array([[ 0,  5, 10, 15, 20],\n",
       "       [ 1,  6, 11, 16, 21],\n",
       "       [ 2,  7, 12, 17, 22],\n",
       "       [ 3,  8, 13, 18, 23],\n",
       "       [ 4,  9, 14, 19, 24]])"
      ]
     },
     "execution_count": 96,
     "metadata": {},
     "output_type": "execute_result"
    }
   ],
   "source": [
    "a=np.arange(25).reshape(5,-1)\n",
    "np.einsum('ij->ji',a)\n",
    "# 아인슈타인 표기법\n",
    "# einsum('첨자1,첨자2->첨자',텐서1,텐서2)"
   ]
  },
  {
   "cell_type": "code",
   "execution_count": 97,
   "metadata": {},
   "outputs": [
    {
     "data": {
      "text/plain": [
       "300"
      ]
     },
     "execution_count": 97,
     "metadata": {},
     "output_type": "execute_result"
    }
   ],
   "source": [
    "np.einsum('ij->',a)"
   ]
  },
  {
   "cell_type": "code",
   "execution_count": 98,
   "metadata": {},
   "outputs": [
    {
     "data": {
      "text/plain": [
       "array([50, 55, 60, 65, 70])"
      ]
     },
     "execution_count": 98,
     "metadata": {},
     "output_type": "execute_result"
    }
   ],
   "source": [
    "np.einsum('ij->j',a)"
   ]
  },
  {
   "cell_type": "markdown",
   "metadata": {},
   "source": [
    "kma.go.kr"
   ]
  }
 ],
 "metadata": {
  "kernelspec": {
   "display_name": "Python 3",
   "language": "python",
   "name": "python3"
  },
  "language_info": {
   "codemirror_mode": {
    "name": "ipython",
    "version": 3
   },
   "file_extension": ".py",
   "mimetype": "text/x-python",
   "name": "python",
   "nbconvert_exporter": "python",
   "pygments_lexer": "ipython3",
   "version": "3.8.3"
  }
 },
 "nbformat": 4,
 "nbformat_minor": 4
}
