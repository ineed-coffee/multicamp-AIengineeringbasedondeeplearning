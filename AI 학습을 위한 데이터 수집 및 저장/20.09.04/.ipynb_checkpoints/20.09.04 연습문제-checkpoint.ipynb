{
 "cells": [
  {
   "cell_type": "markdown",
   "metadata": {},
   "source": [
    "# ratings.csv와 movies.csv 두 파일을 읽어서 추천시스템 제작  \n",
    "  \n",
    "- 1. 아이템 기반 추천  \n",
    "- 2. 사용자 기반 추천  \n",
    "  \n",
    "---  \n",
    "\n",
    "# 아이템 기반 추천 실행 예)  \n",
    "- 재밌게 봤던 영화 제목 입력 : Goodfellas 입력시 'Goodfellas' 영화가 코사인 유사도(평점)가 가장 높은 영화를 추천  \n",
    "  \n",
    "# 사용자 기반 추천  실행 예)   \n",
    "- 사용자 아이디 입력 : 1  \n",
    "- 사용자 아이디가 1인 사람과 유사한 사용자(들)을 검색하여 영화를 추천  \n",
    "\n"
   ]
  }
 ],
 "metadata": {
  "kernelspec": {
   "display_name": "Python 3",
   "language": "python",
   "name": "python3"
  },
  "language_info": {
   "codemirror_mode": {
    "name": "ipython",
    "version": 3
   },
   "file_extension": ".py",
   "mimetype": "text/x-python",
   "name": "python",
   "nbconvert_exporter": "python",
   "pygments_lexer": "ipython3",
   "version": "3.8.3"
  }
 },
 "nbformat": 4,
 "nbformat_minor": 4
}
