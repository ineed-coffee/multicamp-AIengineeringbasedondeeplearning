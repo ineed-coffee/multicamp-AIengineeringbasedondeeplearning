{
 "cells": [
  {
   "cell_type": "code",
   "execution_count": 1,
   "metadata": {},
   "outputs": [],
   "source": [
    "import numpy as np\n",
    "\n",
    "# 벡터화 연산"
   ]
  },
  {
   "cell_type": "code",
   "execution_count": 2,
   "metadata": {},
   "outputs": [
    {
     "data": {
      "text/plain": [
       "array([False, False, False,  True])"
      ]
     },
     "execution_count": 2,
     "metadata": {},
     "output_type": "execute_result"
    }
   ],
   "source": [
    "data = np.array([1,2,3,4])\n",
    "data==4"
   ]
  },
  {
   "cell_type": "markdown",
   "metadata": {},
   "source": [
    "* __Fancy Indexing__"
   ]
  },
  {
   "cell_type": "code",
   "execution_count": 8,
   "metadata": {},
   "outputs": [],
   "source": [
    "names = np.array(['Bob','Joe','Bob','Will'])\n",
    "data = np.random.randn(4,4)"
   ]
  },
  {
   "cell_type": "code",
   "execution_count": 9,
   "metadata": {},
   "outputs": [
    {
     "data": {
      "text/plain": [
       "array([[-0.95402283, -0.70756744],\n",
       "       [-0.12192656,  0.67776787]])"
      ]
     },
     "execution_count": 9,
     "metadata": {},
     "output_type": "execute_result"
    }
   ],
   "source": [
    "# boolean reference\n",
    "data[names=='Bob',2:]"
   ]
  },
  {
   "cell_type": "code",
   "execution_count": 10,
   "metadata": {},
   "outputs": [
    {
     "data": {
      "text/plain": [
       "array([[0.        , 0.21131849, 0.        , 0.        ],\n",
       "       [0.        , 0.65350919, 0.        , 0.        ],\n",
       "       [0.        , 0.        , 0.        , 0.67776787],\n",
       "       [0.58558011, 0.        , 1.21039718, 1.4733375 ]])"
      ]
     },
     "execution_count": 10,
     "metadata": {},
     "output_type": "execute_result"
    }
   ],
   "source": [
    "data[data<0]=0 # 한번에 ... 와우\n",
    "data"
   ]
  },
  {
   "cell_type": "code",
   "execution_count": 11,
   "metadata": {},
   "outputs": [
    {
     "data": {
      "text/plain": [
       "array([[ 0.        ,  0.21131849,  0.        ,  0.        ],\n",
       "       [10.        , 10.        , 10.        , 10.        ],\n",
       "       [ 0.        ,  0.        ,  0.        ,  0.67776787],\n",
       "       [10.        , 10.        , 10.        , 10.        ]])"
      ]
     },
     "execution_count": 11,
     "metadata": {},
     "output_type": "execute_result"
    }
   ],
   "source": [
    "data[names!='Bob']=10\n",
    "data"
   ]
  },
  {
   "cell_type": "code",
   "execution_count": 14,
   "metadata": {},
   "outputs": [
    {
     "data": {
      "text/plain": [
       "array([[4., 4., 4., 4.],\n",
       "       [3., 3., 3., 3.]])"
      ]
     },
     "execution_count": 14,
     "metadata": {},
     "output_type": "execute_result"
    }
   ],
   "source": [
    "arr=np.empty((8,4))\n",
    "for i in range(8):\n",
    "    arr[i]=i\n",
    "arr[[4,3]]"
   ]
  },
  {
   "cell_type": "code",
   "execution_count": 16,
   "metadata": {},
   "outputs": [
    {
     "data": {
      "text/plain": [
       "array([[0., 1., 2., 3., 4., 5., 6., 7.],\n",
       "       [0., 1., 2., 3., 4., 5., 6., 7.],\n",
       "       [0., 1., 2., 3., 4., 5., 6., 7.],\n",
       "       [0., 1., 2., 3., 4., 5., 6., 7.]])"
      ]
     },
     "execution_count": 16,
     "metadata": {},
     "output_type": "execute_result"
    }
   ],
   "source": [
    "arr2 = arr.T\n",
    "arr2"
   ]
  },
  {
   "cell_type": "code",
   "execution_count": 22,
   "metadata": {},
   "outputs": [
    {
     "data": {
      "text/plain": [
       "array([5.1, 3.5, 1.4, 0.2])"
      ]
     },
     "execution_count": 22,
     "metadata": {},
     "output_type": "execute_result"
    }
   ],
   "source": [
    "#sklearn : 머신러닝 알고리즘들이 구현되어 있는 패키지(싸이킷런)\n",
    "from sklearn.datasets import load_iris\n",
    "\n",
    "iris = load_iris()\n",
    "np.shape(iris['data'])  # 각 행 (꽃 받침 너비,높이 + 꽃 잎 너비,높이)\n",
    "                        # iris['target']=꽃 종류 분류 숫자 0~2\n",
    "iris.data[0,:]"
   ]
  },
  {
   "cell_type": "code",
   "execution_count": 24,
   "metadata": {},
   "outputs": [],
   "source": [
    "# 벡터 = 여러 숫자가 특정한 순서대로 모여 있는 것\n",
    "# 사이킷런에서 벡터를 정의하고자 한다 -> 열의 개수가 1인 2차원 배열로 표현해야함"
   ]
  },
  {
   "cell_type": "markdown",
   "metadata": {},
   "source": [
    "* 분류/예측 모델 : "
   ]
  },
  {
   "cell_type": "code",
   "execution_count": 30,
   "metadata": {},
   "outputs": [
    {
     "name": "stdout",
     "output_type": "stream",
     "text": [
      "[[ 0.  0. 10. 15.  2.  0.  0.  0.]\n",
      " [ 0.  7. 16. 16.  6.  0.  0.  0.]\n",
      " [ 0. 12. 13. 12.  9.  0.  0.  0.]\n",
      " [ 0.  8.  9. 13.  7.  0.  0.  0.]\n",
      " [ 0.  0.  0. 16.  5.  0.  0.  0.]\n",
      " [ 0.  0.  6. 15.  1.  0.  0.  0.]\n",
      " [ 0.  0. 16. 14.  4.  5.  8.  3.]\n",
      " [ 0.  0.  8. 16. 16. 16. 16.  9.]]\n",
      "2\n"
     ]
    }
   ],
   "source": [
    "from sklearn.datasets import load_digits\n",
    "\n",
    "digits = load_digits()\n",
    "digits.target.shape\n",
    "print(digits.data[600].reshape(8,8))\n",
    "print(digits.target[600])"
   ]
  },
  {
   "cell_type": "code",
   "execution_count": 39,
   "metadata": {},
   "outputs": [],
   "source": [
    "d=[]\n",
    "samples=[0,10,20,30,1,11,21,68]\n",
    "for i in samples:\n",
    "    d.append(digits.images[i])"
   ]
  },
  {
   "cell_type": "code",
   "execution_count": 40,
   "metadata": {},
   "outputs": [
    {
     "data": {
      "image/png": "[encoded data removed]",
      "text/plain": [
       "<Figure size 432x288 with 8 Axes>"
      ]
     },
     "metadata": {
      "needs_background": "light"
     },
     "output_type": "display_data"
    }
   ],
   "source": [
    "import matplotlib.pyplot as plt\n",
    "\n",
    "for i in range(8):\n",
    "    plt.subplot(1,8,i+1)\n",
    "    plt.imshow(d[i],cmap=plt.cm.bone_r)"
   ]
  },
  {
   "cell_type": "code",
   "execution_count": 41,
   "metadata": {},
   "outputs": [
    {
     "data": {
      "image/png": "[encoded data removed]",
      "text/plain": [
       "<Figure size 432x288 with 8 Axes>"
      ]
     },
     "metadata": {
      "needs_background": "light"
     },
     "output_type": "display_data"
    }
   ],
   "source": [
    "vec=[]\n",
    "for i in range(8):\n",
    "    vec.append(d[i].reshape(64,1))\n",
    "for i in range(8):    \n",
    "    plt.subplot(1,8,i+1)\n",
    "    plt.imshow(vec[i],cmap=plt.cm.bone_r)"
   ]
  },
  {
   "cell_type": "code",
   "execution_count": 45,
   "metadata": {},
   "outputs": [],
   "source": [
    "d1=digits.data[0].reshape(8,8)\n",
    "d2=digits.data[10].reshape(8,8)\n",
    "d3=digits.data[1].reshape(8,8)\n",
    "d4=digits.data[11].reshape(8,8)\n",
    "v1=d1.reshape(64,1)\n",
    "v2=d2.reshape(64,1)\n",
    "v3=d3.reshape(64,1)\n",
    "v4=d4.reshape(64,1)"
   ]
  },
  {
   "cell_type": "code",
   "execution_count": 47,
   "metadata": {},
   "outputs": [
    {
     "data": {
      "image/png": "[encoded data removed]",
      "text/plain": [
       "<Figure size 432x288 with 8 Axes>"
      ]
     },
     "metadata": {
      "needs_background": "light"
     },
     "output_type": "display_data"
    }
   ],
   "source": [
    "import matplotlib.gridspec as gridspec\n",
    "\n",
    "gs = gridspec.GridSpec(1,8,height_ratios=[1],width_ratios=[9,1,9,1,9,1,9,1])\n",
    "\n",
    "for i in range(4):\n",
    "    plt.subplot(gs[2*i])\n",
    "    plt.imshow(eval('d'+str((i+1))),cmap=plt.cm.bone_r)\n",
    "    plt.subplot(gs[2*i+1])\n",
    "    plt.imshow(eval('v'+str((i+1))),cmap=plt.cm.bone_r)\n",
    "plt.tight_layout()\n",
    "plt.show()"
   ]
  },
  {
   "cell_type": "markdown",
   "metadata": {},
   "source": [
    "* 내적 : 요소 by 요소 = 유사도 = v.T@(w)"
   ]
  },
  {
   "cell_type": "code",
   "execution_count": 52,
   "metadata": {},
   "outputs": [
    {
     "data": {
      "text/plain": [
       "[3064, 1866, 1883]"
      ]
     },
     "execution_count": 52,
     "metadata": {},
     "output_type": "execute_result"
    }
   ],
   "source": [
    "Dot_results=[]\n",
    "for i in range(2,5):\n",
    "    Dot_results.append(int((v1.T@eval('v'+str(i)))[0][0]))\n",
    "Dot_results"
   ]
  },
  {
   "cell_type": "code",
   "execution_count": 58,
   "metadata": {},
   "outputs": [
    {
     "name": "stdout",
     "output_type": "stream",
     "text": [
      "[ 0  2  4  6  8 10]\n",
      "[ 0  2  4  6  8 10]\n"
     ]
    }
   ],
   "source": [
    "a=np.arange(12)\n",
    "print(a[::2])\n",
    "print(a[a%2==0])"
   ]
  },
  {
   "cell_type": "code",
   "execution_count": 60,
   "metadata": {},
   "outputs": [
    {
     "data": {
      "text/plain": [
       "array([2, 3, 2, 3, 2, 2, 2, 4])"
      ]
     },
     "execution_count": 60,
     "metadata": {},
     "output_type": "execute_result"
    }
   ],
   "source": [
    "idx=np.array([0,1,0,1,0,0,0,2])\n",
    "b=np.array([2,3,4,5])\n",
    "b[idx]                         # holy moly sweet reference method"
   ]
  },
  {
   "cell_type": "markdown",
   "metadata": {},
   "source": [
    "나중에 RNN 실습과정에서 다루게 될것.  \n",
    "  \n",
    "ex)  \n",
    "1. I like python  \n",
    "2. I like DL  \n",
    "3. DL is AI  \n",
    "=> 문서 단어를 데이터화 시켜야함 => 벡터공간 (임베딩)  \n",
    "  \n",
    "원핫 인코딩 (임베딩 예시)  \n",
    "단어:  \n",
    "I        =>  1 0 0 0 0 0  \n",
    "like     =>  0 1 0 0 0 0  \n",
    "python   =>  0 0 1 0 0 0  \n",
    "DL       =>  0 0 0 1 0 0  \n",
    "is       =>  0 0 0 0 1 0  \n",
    "AI       =>  0 0 0 0 0 1  \n",
    "'I like python' = [[100000],[010000],[001000]]  \n",
    "'I like DL'     = [[100000],[010000],[000100]]  \n",
    "'DL is AI'      = [[000100],[000010],[000001]]  \n",
    "\n",
    "문서 사이의 유사도를 유클리드 공간 내의 거리로부터 추측"
   ]
  },
  {
   "cell_type": "code",
   "execution_count": 61,
   "metadata": {},
   "outputs": [
    {
     "data": {
      "text/plain": [
       "dtype('float64')"
      ]
     },
     "execution_count": 61,
     "metadata": {},
     "output_type": "execute_result"
    }
   ],
   "source": [
    "# ndarray : 배열 내에 모두 같은 타입의 자료가 포함되어야 한다.\n",
    "\n",
    "x=np.array([1,2,3.0])\n",
    "x.dtype # 형 변환           # dtype=b,i,u,f,\n"
   ]
  },
  {
   "cell_type": "code",
   "execution_count": 64,
   "metadata": {},
   "outputs": [
    {
     "name": "stdout",
     "output_type": "stream",
     "text": [
      "inf nan\n"
     ]
    }
   ],
   "source": [
    "# numpy 활용에서 자주 마주치는 문제\n",
    "num = np.inf\n",
    "num2 = np.nan\n",
    "print(num,num2)"
   ]
  },
  {
   "cell_type": "code",
   "execution_count": 65,
   "metadata": {},
   "outputs": [
    {
     "name": "stdout",
     "output_type": "stream",
     "text": [
      "[  0.  inf -inf  nan]\n",
      "0.0\n"
     ]
    },
    {
     "name": "stderr",
     "output_type": "stream",
     "text": [
      "<ipython-input-65-caee92429bbb>:1: RuntimeWarning: divide by zero encountered in true_divide\n",
      "  print(np.array([0,1,-1,0])/np.array([1,0,0,0]))\n",
      "<ipython-input-65-caee92429bbb>:1: RuntimeWarning: invalid value encountered in true_divide\n",
      "  print(np.array([0,1,-1,0])/np.array([1,0,0,0]))\n"
     ]
    }
   ],
   "source": [
    "print(np.array([0,1,-1,0])/np.array([1,0,0,0]))\n",
    "print(np.exp(-np.inf))"
   ]
  },
  {
   "cell_type": "markdown",
   "metadata": {},
   "source": [
    "* 유니버셜 함수 : ndarray 데이터를 원소별로 연산을 수행하는 함수  \n",
    "    - 스칼라값 전달 -> 스칼라값 리턴하는 벡터화된 래퍼런스 함수"
   ]
  },
  {
   "cell_type": "code",
   "execution_count": 68,
   "metadata": {},
   "outputs": [
    {
     "data": {
      "text/plain": [
       "array([0.        , 1.        , 1.41421356, 1.73205081, 2.        ,\n",
       "       2.23606798, 2.44948974, 2.64575131, 2.82842712, 3.        ])"
      ]
     },
     "execution_count": 68,
     "metadata": {},
     "output_type": "execute_result"
    }
   ],
   "source": [
    "arr = np.arange(10)\n",
    "np.sqrt(arr)\n",
    "# np.maximum(x,y)"
   ]
  },
  {
   "cell_type": "code",
   "execution_count": 69,
   "metadata": {},
   "outputs": [
    {
     "name": "stdout",
     "output_type": "stream",
     "text": [
      "[ 1.68052435  1.50021308 -1.02319815 -8.63549268  3.30668697  0.7182425\n",
      " -1.66084057]\n",
      "[ 0.68052435  0.50021308 -0.02319815 -0.63549268  0.30668697  0.7182425\n",
      " -0.66084057]\n",
      "[ 1.  1. -1. -8.  3.  0. -1.]\n"
     ]
    }
   ],
   "source": [
    "arr=np.random.randn(7)*5\n",
    "print(arr)\n",
    "remainder,whole_part = np.modf(arr)\n",
    "print(remainder)\n",
    "print(whole_part)"
   ]
  },
  {
   "cell_type": "code",
   "execution_count": 70,
   "metadata": {},
   "outputs": [
    {
     "data": {
      "text/plain": [
       "array([[[1, 1, 1, 1],\n",
       "        [1, 1, 1, 1],\n",
       "        [1, 1, 1, 1]],\n",
       "\n",
       "       [[1, 1, 1, 1],\n",
       "        [1, 1, 1, 1],\n",
       "        [1, 1, 1, 1]]], dtype=int64)"
      ]
     },
     "execution_count": 70,
     "metadata": {},
     "output_type": "execute_result"
    }
   ],
   "source": [
    "np.ones((2,3,4),dtype='i8')"
   ]
  },
  {
   "cell_type": "code",
   "execution_count": 72,
   "metadata": {},
   "outputs": [
    {
     "name": "stdout",
     "output_type": "stream",
     "text": [
      "[[1. 1. 1. 1.]\n",
      " [1. 1. 1. 1.]\n",
      " [1. 1. 1. 1.]]\n",
      "[[0. 0. 0. 0.]\n",
      " [0. 0. 0. 0.]\n",
      " [0. 0. 0. 0.]]\n"
     ]
    }
   ],
   "source": [
    "x=np.zeros((3,4))\n",
    "y=np.ones_like(x)\n",
    "z=np.zeros(x.shape)\n",
    "print(y)\n",
    "print(z)"
   ]
  },
  {
   "cell_type": "code",
   "execution_count": 75,
   "metadata": {},
   "outputs": [],
   "source": [
    "# empty : 배열 생성만 진행, 초기화는 진행하지 않는 함수\n",
    "\n",
    "a=np.empty((3,4))"
   ]
  },
  {
   "cell_type": "code",
   "execution_count": 77,
   "metadata": {},
   "outputs": [
    {
     "name": "stdout",
     "output_type": "stream",
     "text": [
      "[0 2 4 6 8]\n",
      "[ 0. 10.]\n"
     ]
    }
   ],
   "source": [
    "print(np.arange(0,10,2))\n",
    "print(np.linspace(0,10,2))  # linspace 에서 마지막 인자는 개수 의미 , 끝값은 포함"
   ]
  },
  {
   "cell_type": "code",
   "execution_count": 82,
   "metadata": {},
   "outputs": [
    {
     "name": "stdout",
     "output_type": "stream",
     "text": [
      "[[ 0  1  2  3]\n",
      " [ 4  5  6  7]\n",
      " [ 8  9 10 11]]\n",
      "====================\n",
      "[[[ 0  1]\n",
      "  [ 2  3]\n",
      "  [ 4  5]]\n",
      "\n",
      " [[ 6  7]\n",
      "  [ 8  9]\n",
      "  [10 11]]]\n"
     ]
    }
   ],
   "source": [
    "a=np.arange(12)\n",
    "print(a.reshape(3,-1))\n",
    "print('='*20)\n",
    "print(a.reshape(2,-1,2))"
   ]
  },
  {
   "cell_type": "code",
   "execution_count": 83,
   "metadata": {},
   "outputs": [
    {
     "name": "stdout",
     "output_type": "stream",
     "text": [
      "[[ 0  1  2  3]\n",
      " [ 4  5  6  7]\n",
      " [ 8  9 10 11]]\n",
      "[ 0  1  2  3  4  5  6  7  8  9 10 11]\n"
     ]
    }
   ],
   "source": [
    "a=a.reshape(3,4)\n",
    "print(a)\n",
    "a=a.flatten() # 다 차원=> 벡터화  , ※ == ravel()\n",
    "print(a)"
   ]
  },
  {
   "cell_type": "code",
   "execution_count": 86,
   "metadata": {},
   "outputs": [
    {
     "name": "stdout",
     "output_type": "stream",
     "text": [
      "[0 1 2 3 4]\n"
     ]
    },
    {
     "data": {
      "text/plain": [
       "array([[0],\n",
       "       [1],\n",
       "       [2],\n",
       "       [3],\n",
       "       [4]])"
      ]
     },
     "execution_count": 86,
     "metadata": {},
     "output_type": "execute_result"
    }
   ],
   "source": [
    "# 차원 증가 함수 : newaxis\n",
    "\n",
    "x=np.arange(5)\n",
    "print(x)\n",
    "x[:,np.newaxis]"
   ]
  },
  {
   "cell_type": "code",
   "execution_count": 88,
   "metadata": {},
   "outputs": [
    {
     "name": "stdout",
     "output_type": "stream",
     "text": [
      "dict_keys(['data', 'images', 'target', 'DESCR'])\n"
     ]
    }
   ],
   "source": [
    "from sklearn.datasets import fetch_olivetti_faces as fof\n",
    "\n",
    "face_data = fof()\n",
    "print(face_data.keys())"
   ]
  },
  {
   "cell_type": "code",
   "execution_count": 90,
   "metadata": {},
   "outputs": [
    {
     "name": "stdout",
     "output_type": "stream",
     "text": [
      "(400, 4096)\n",
      "(400, 64, 64)\n"
     ]
    }
   ],
   "source": [
    "print(face_data.data.shape)\n",
    "print(face_data.images.shape)"
   ]
  },
  {
   "cell_type": "code",
   "execution_count": 98,
   "metadata": {},
   "outputs": [
    {
     "data": {
      "text/plain": [
       "<matplotlib.image.AxesImage at 0x20ab7567ee0>"
      ]
     },
     "execution_count": 98,
     "metadata": {},
     "output_type": "execute_result"
    },
    {
     "data": {
      "image/png": "[encoded data removed]",
      "text/plain": [
       "<Figure size 432x288 with 1 Axes>"
      ]
     },
     "metadata": {
      "needs_background": "light"
     },
     "output_type": "display_data"
    }
   ],
   "source": [
    "plt.imshow(face_data.images[100],cmap=plt.cm.bone)"
   ]
  },
  {
   "cell_type": "code",
   "execution_count": 114,
   "metadata": {},
   "outputs": [
    {
     "name": "stdout",
     "output_type": "stream",
     "text": [
      "(472, 354, 3)\n",
      "(64, 64, 3)\n"
     ]
    },
    {
     "data": {
      "text/plain": [
       "(4096,)"
      ]
     },
     "execution_count": 114,
     "metadata": {},
     "output_type": "execute_result"
    }
   ],
   "source": [
    "import os\n",
    "import cv2\n",
    "\n",
    "image_w = 64\n",
    "image_h = 64\n",
    "image_dir='C:/Users/i/Desktop/execute_files/'\n",
    "filename='resume.jpg'\n",
    "img = cv2.imread(image_dir+filename)\n",
    "#print(img)\n",
    "print(img.shape)\n",
    "img = cv2.resize(img, None, fx=image_w/img.shape[1], fy=image_h/img.shape[0])\n",
    "\n",
    "#print(img/256)\n",
    "print(img.shape)\n",
    "tmp = img[:,:,0]\n",
    "tmp=tmp/256\n",
    "tmp=tmp.flatten()\n",
    "tmp.shape\n",
    "# for idex, categorie in enumerate(categories):\n",
    "#     label = [0 for i in range(num_classes)]\n",
    "#     label[idex] = 1\n",
    "#     image_dir = groups_folder_path + categorie + '/'\n",
    "  \n",
    "#     for top, dir, f in os.walk(image_dir):\n",
    "#         for filename in f:\n",
    "#             print(image_dir+filename)\n",
    "#             img = cv2.imread(image_dir+filename)\n",
    "#             img = cv2.resize(img, None, fx=image_w/img.shape[0], fy=image_h/img.shape[1])\n",
    "#             X.append(img/256)\n",
    "#             Y.append(label)\n",
    " \n",
    "# X = np.array(X)\n",
    "# Y = np.array(Y)\n",
    "\n",
    "\n",
    "# 출처: https://twinw.tistory.com/252 [흰고래의꿈]\n",
    "        \n",
    "#         imread(image_dir+filename)\n",
    "#             img = cv2.resize(img, None, fx=image_w/img.shape[0], fy=image_h/img.shape[1])\n",
    "#             X.append(img/256)\n",
    "\n",
    "\n",
    "# 출처: https://twinw.tistory.com/252 [흰고래의꿈]"
   ]
  },
  {
   "cell_type": "code",
   "execution_count": 117,
   "metadata": {},
   "outputs": [
    {
     "name": "stdout",
     "output_type": "stream",
     "text": [
      "['C:\\\\ProgramData\\\\Anaconda3', 'C:\\\\ProgramData\\\\Anaconda3\\\\lib\\\\site-packages']\n"
     ]
    }
   ],
   "source": [
    "import site \n",
    "print(site.getsitepackages())"
   ]
  },
  {
   "cell_type": "code",
   "execution_count": 119,
   "metadata": {},
   "outputs": [
    {
     "data": {
      "text/plain": [
       "True"
      ]
     },
     "execution_count": 119,
     "metadata": {},
     "output_type": "execute_result"
    }
   ],
   "source": [
    "import cv2\n",
    "\n",
    "face_cascade = cv2.CascadeClassifier('C:/ProgramData/Anaconda3/Lib/site-packages/cv2/data/haarcascade_frontalface_default.xml')\n",
    "\n",
    "src = cv2.imread('C:/Users/i/Desktop/execute_files/resume.jpg')\n",
    "src_gray = cv2.cvtColor(src, cv2.COLOR_BGR2GRAY)\n",
    "\n",
    "faces = face_cascade.detectMultiScale(src_gray,1.1,3)\n",
    "\n",
    "for x, y, w, h in faces:\n",
    "    face_gray = src_gray[y: y + h, x: x + w]\n",
    "\n",
    "cv2.imwrite('C:/Users/i/Desktop/execute_files/test.jpg', face_gray)"
   ]
  }
 ],
 "metadata": {
  "kernelspec": {
   "display_name": "Python 3",
   "language": "python",
   "name": "python3"
  },
  "language_info": {
   "codemirror_mode": {
    "name": "ipython",
    "version": 3
   },
   "file_extension": ".py",
   "mimetype": "text/x-python",
   "name": "python",
   "nbconvert_exporter": "python",
   "pygments_lexer": "ipython3",
   "version": "3.8.3"
  }
 },
 "nbformat": 4,
 "nbformat_minor": 4
}
