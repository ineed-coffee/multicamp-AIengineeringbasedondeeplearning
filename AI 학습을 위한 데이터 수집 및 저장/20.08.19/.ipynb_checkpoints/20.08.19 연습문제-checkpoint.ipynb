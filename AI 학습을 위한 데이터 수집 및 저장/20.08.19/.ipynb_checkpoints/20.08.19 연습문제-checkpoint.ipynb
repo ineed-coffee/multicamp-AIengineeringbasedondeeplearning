{
 "cells": [
  {
   "cell_type": "markdown",
   "metadata": {},
   "source": [
    "# 1. N-gram  \n",
    " => 임의의 단어와 N을 입력받은 다음 N-gram 출력  \n",
    "  \n",
    "`입력형식:  `  \n",
    "__hello__  \n",
    "__2__  \n",
    "  \n",
    "  \n",
    "`출력형식:  `  \n",
    "__'he','el','ll','lo'__  "
   ]
  },
  {
   "cell_type": "code",
   "execution_count": 4,
   "metadata": {},
   "outputs": [
    {
     "name": "stdout",
     "output_type": "stream",
     "text": [
      "단어 입력 : \n",
      "hello\n",
      "N값 입력 : \n",
      "2\n",
      "==================================================\n",
      "he\tel\tll\tlo\t\n",
      "done\n"
     ]
    }
   ],
   "source": [
    "S = input('단어 입력 : \\n').strip()\n",
    "N = int(input('N값 입력 : \\n'))\n",
    "\n",
    "i=0\n",
    "print('='*50)\n",
    "while i<=len(S)-N:\n",
    "    print(S[i:i+N],end='\\t')\n",
    "    i+=1\n",
    "print()\n",
    "print('done')"
   ]
  },
  {
   "cell_type": "markdown",
   "metadata": {},
   "source": [
    "# 2. 파일명 포멧팅  \n",
    "`입력형식:`  \n",
    "__1.jpg , 10.jpg , 2.jpg__  \n",
    "  \n",
    "  \n",
    "`출력형식:`  \n",
    "__001.jpg , 010.jpg , 002.jpg__  "
   ]
  },
  {
   "cell_type": "code",
   "execution_count": 5,
   "metadata": {},
   "outputs": [
    {
     "name": "stdout",
     "output_type": "stream",
     "text": [
      "파일명들을 공백 구분으로 입력 : \n",
      "1.jpg 2.jpg 10.jpg\n",
      "==================================================\n",
      "001.jpg\t002.jpg\t010.jpg\t\n",
      "done\n"
     ]
    }
   ],
   "source": [
    "files = input('파일명들을 공백 구분으로 입력 : \\n').strip().split()\n",
    "print('='*50)\n",
    "for file in files:\n",
    "    name,extension = file.split('.')\n",
    "    format_name = '0'*(max(0,3-len(name)))+name\n",
    "    print(format_name+'.'+extension,end='\\t')\n",
    "print()\n",
    "print('done')"
   ]
  }
 ],
 "metadata": {
  "kernelspec": {
   "display_name": "Python 3",
   "language": "python",
   "name": "python3"
  },
  "language_info": {
   "codemirror_mode": {
    "name": "ipython",
    "version": 3
   },
   "file_extension": ".py",
   "mimetype": "text/x-python",
   "name": "python",
   "nbconvert_exporter": "python",
   "pygments_lexer": "ipython3",
   "version": "3.8.3"
  }
 },
 "nbformat": 4,
 "nbformat_minor": 4
}
