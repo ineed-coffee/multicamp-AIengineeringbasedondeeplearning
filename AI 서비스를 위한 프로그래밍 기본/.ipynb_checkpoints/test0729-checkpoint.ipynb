{
 "cells": [
  {
   "cell_type": "code",
   "execution_count": 5,
   "metadata": {
    "tags": []
   },
   "outputs": [
    {
     "name": "stdout",
     "output_type": "stream",
     "text": [
      "True\n",
      "3\n",
      "3\n",
      "-1\n",
      "True\n",
      "3\n",
      "3\n",
      "-1\n"
     ]
    }
   ],
   "source": [
    "class my_stack:\n",
    "\n",
    "    def __init__(self):\n",
    "        self.__stack = []\n",
    "\n",
    "    def isEmpty(self):\n",
    "        if not self.__stack:\n",
    "            return True\n",
    "        return False\n",
    "\n",
    "    def push(self,item):\n",
    "        self.__stack.append(item)\n",
    "\n",
    "    def pop_(self):\n",
    "        if not self.__stack:\n",
    "            return -1\n",
    "        return self.__stack.pop()\n",
    "\n",
    "    def peek(self):\n",
    "        if not self.__stack:\n",
    "            return -1\n",
    "        return self.__stack[-1]\n",
    "\n",
    "s1 = my_stack()\n",
    "print(s1.isEmpty())\n",
    "s1.push(3)\n",
    "print(s1.peek())\n",
    "print(s1.pop_())\n",
    "print(s1.pop_())\n",
    "\n",
    "class my_queue:\n",
    "\n",
    "    def __init__(self):\n",
    "        self.__queue = []\n",
    "\n",
    "    def isEmpty(self):\n",
    "        if not self.__queue:\n",
    "            return True\n",
    "        return False\n",
    "    \n",
    "    def push(self,item):\n",
    "        self.__queue.append(item)\n",
    "\n",
    "    def pop_(self):\n",
    "        if not self.__queue:\n",
    "            return -1\n",
    "        return self.__queue.pop(0)\n",
    "\n",
    "    def peek(self):\n",
    "        if not self.__queue:\n",
    "            return -1\n",
    "        return self.__queue[0]\n",
    "\n",
    "q1 = my_queue()\n",
    "print(q1.isEmpty())\n",
    "q1.push(3)\n",
    "print(q1.peek())\n",
    "print(q1.pop_())\n",
    "print(q1.pop_())"
   ]
  },
  {
   "cell_type": "markdown",
   "metadata": {},
   "source": [
    "# __Binary Search implementation 1.While statement 2.Recursive Func__"
   ]
  },
  {
   "cell_type": "code",
   "execution_count": null,
   "metadata": {},
   "outputs": [],
   "source": [
    "\n",
    "#1.\n",
    "user_list=[] # user-list-input\n",
    "user_key=0\n",
    "low=0;high=len(user_list)-1\n",
    "\n",
    "while low <=high:\n",
    "    mid = (low+high)//2\n",
    "    \n",
    "    if user_list[mid]==user_key:\n",
    "        print('found')\n",
    "        break\n",
    "    elif user_list[mid] > user_key:\n",
    "        high = mid-1\n",
    "    elif user_list[mid] < user_key:\n",
    "        low = mid+=1\n",
    "\n",
    "#2.\n",
    "def b_s(user_list,user_key,low,high):\n",
    "    mid = (low+high)//2\n",
    "    if user_list[mid]==user_key:\n",
    "        print('found')\n",
    "        return\n",
    "    elif user_list[mid] > user_key:\n",
    "        b_s(user_list,user_key,low,mid-1)\n",
    "    elif user_list[mid] < user_key:\n",
    "        b_s(user_list,user_key,mid+1,high)\n",
    "    return\n"
   ]
  },
  {
   "cell_type": "markdown",
   "metadata": {},
   "source": [
    "# __Insert sort__"
   ]
  },
  {
   "cell_type": "code",
   "execution_count": 5,
   "metadata": {
    "tags": []
   },
   "outputs": [
    {
     "name": "stdout",
     "output_type": "stream",
     "text": [
      "[1, 3, 10, 12, 18, 20, 21, 100]\n"
     ]
    }
   ],
   "source": [
    "data = [20,1,3,10,12,18,21,100]\n",
    "\n",
    "for i in range(1,len(data)):\n",
    "    comp_val = data[i]\n",
    "    for j in range(i-1,-1,-1):\n",
    "        if data[j]>comp_val:\n",
    "            data[j],data[j+1]=data[j+1],data[j]\n",
    "        else:\n",
    "            break\n",
    "print(data)"
   ]
  },
  {
   "cell_type": "markdown",
   "metadata": {},
   "source": [
    "# __Bubble sort using recursive method__"
   ]
  },
  {
   "cell_type": "code",
   "execution_count": 13,
   "metadata": {
    "tags": []
   },
   "outputs": [
    {
     "name": "stdout",
     "output_type": "stream",
     "text": [
      "[20, 1, 3, 18, 12, 21, 10, 100]\n",
      "[1, 3, 18, 12, 20, 10, 21, 100]\n",
      "[1, 3, 12, 18, 10, 20, 21, 100]\n",
      "[1, 3, 12, 10, 18, 20, 21, 100]\n",
      "[1, 3, 10, 12, 18, 20, 21, 100]\n",
      "[1, 3, 10, 12, 18, 20, 21, 100]\n",
      "[1, 3, 10, 12, 18, 20, 21, 100]\n",
      "[1, 3, 10, 12, 18, 20, 21, 100]\n",
      "[1, 3, 10, 12, 18, 20, 21, 100]\n"
     ]
    }
   ],
   "source": [
    "data = [20,1,3,18,12,21,10,100]\n",
    "L=len(data)\n",
    "def b_sort(idx):\n",
    "    print(data)\n",
    "    if not idx:\n",
    "        return\n",
    "    for i in range(0,idx-1):\n",
    "        if data[i]>data[i+1]:\n",
    "            data[i],data[i+1]=data[i+1],data[i]\n",
    "    b_sort(idx-1)\n",
    "\n",
    "b_sort(L-1)\n",
    "print(data)"
   ]
  }
 ],
 "metadata": {
  "kernelspec": {
   "display_name": "Python 3",
   "language": "python",
   "name": "python3"
  },
  "language_info": {
   "codemirror_mode": {
    "name": "ipython",
    "version": 3
   },
   "file_extension": ".py",
   "mimetype": "text/x-python",
   "name": "python",
   "nbconvert_exporter": "python",
   "pygments_lexer": "ipython3",
   "version": "3.8.3"
  }
 },
 "nbformat": 4,
 "nbformat_minor": 2
}
