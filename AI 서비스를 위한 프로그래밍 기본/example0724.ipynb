{
 "metadata": {
  "language_info": {
   "codemirror_mode": {
    "name": "ipython",
    "version": 3
   },
   "file_extension": ".py",
   "mimetype": "text/x-python",
   "name": "python",
   "nbconvert_exporter": "python",
   "pygments_lexer": "ipython3",
   "version": 3
  },
  "orig_nbformat": 2,
  "kernelspec": {
   "name": "python_defaultSpec_1595568109332",
   "display_name": "Python 3.7.8 64-bit"
  }
 },
 "nbformat": 4,
 "nbformat_minor": 2,
 "cells": [
  {
   "cell_type": "code",
   "execution_count": 1,
   "metadata": {
    "tags": []
   },
   "outputs": [
    {
     "output_type": "stream",
     "name": "stdout",
     "text": "3\n"
    }
   ],
   "source": [
    "import xml.etree.ElementTree as xml\n",
    "\n",
    "root = xml.Element('Employees')\n",
    "child = xml.Element('employee')\n",
    "nm = xml.SubElement(child,'name')\n",
    "nm.text = '홍길동'\n",
    "root.append(child)\n",
    "tree = xml.ElementTree(root)\n",
    "file_path = 'C:\\multicamp-AIengineeringbasedondeeplearning\\AI 서비스를 위한 프로그래밍 기본\\\\'\n",
    "file_name = 'test2XML.xml'\n",
    "with open(file_path+file_name,'wb') as ff:\n",
    "    tree.write(ff)\n",
    "print(3)"
   ]
  },
  {
   "cell_type": "code",
   "execution_count": 10,
   "metadata": {
    "tags": []
   },
   "outputs": [
    {
     "output_type": "stream",
     "name": "stdout",
     "text": "{'name': 'John', 'age': '20', 'salary': '3000'}\n{'name': 'Susan', 'age': '30', 'salary': '6000'}\n"
    }
   ],
   "source": [
    "file_name = 'test3XML.xml'\n",
    "tree = xml.ElementTree(file=file_path+file_name)\n",
    "root = tree.getroot()\n",
    "students = []\n",
    "children = root.getchildren()  # == list(root)\n",
    "for child in children:\n",
    "    #print(child)\n",
    "    emp_info=dict()\n",
    "    pairs = child.getchildren()\n",
    "    for pair in pairs:\n",
    "        emp_info[pair.tag]=pair.text\n",
    "        #print(pair.tag,pair.text)\n",
    "    students.append(emp_info)\n",
    "\n",
    "for d in students:\n",
    "    print(d)"
   ]
  },
  {
   "cell_type": "markdown",
   "metadata": {},
   "source": [
    "# __Corona Public data Parsing__"
   ]
  },
  {
   "cell_type": "code",
   "execution_count": 20,
   "metadata": {
    "tags": []
   },
   "outputs": [
    {
     "output_type": "stream",
     "name": "stdout",
     "text": "header\nbody\nbody\n{'accDefRate': '3.2396602365', 'accExamCnt': '268212', 'accExamCompCnt': '251940', 'careCnt': '7253', 'clearCnt': '834', 'createDt': '2020-03-15 10:01:22.22', 'deathCnt': '75', 'decideCnt': '8162', 'examCnt': '16272', 'resutlNegCnt': '243778', 'seq': '74', 'stateDt': '20200315', 'stateTime': '00:00', 'updateDt': None}\n{'accDefRate': '3.3180003364', 'accExamCnt': '261335', 'accExamCompCnt': '243701', 'careCnt': '7300', 'clearCnt': '714', 'createDt': '2020-03-14 10:29:11.11', 'deathCnt': '72', 'decideCnt': '8086', 'examCnt': '17634', 'resutlNegCnt': '235615', 'seq': '73', 'stateDt': '20200314', 'stateTime': '00:00', 'updateDt': '2020-03-14 10:34:07.07'}\n{'accDefRate': '3.4584993086', 'accExamCnt': '248647', 'accExamCompCnt': '230707', 'careCnt': '7402', 'clearCnt': '510', 'createDt': '2020-03-13 10:07:22.22', 'deathCnt': '67', 'decideCnt': '7979', 'examCnt': '17940', 'resutlNegCnt': '222728', 'seq': '72', 'stateDt': '20200313', 'stateTime': '00:00', 'updateDt': None}\n{'accDefRate': '3.6217442732', 'accExamCnt': '234998', 'accExamCompCnt': '217271', 'careCnt': '7470', 'clearCnt': '333', 'createDt': '2020-03-12 10:37:03.03', 'deathCnt': '66', 'decideCnt': '7869', 'examCnt': '17727', 'resutlNegCnt': '209402', 'seq': '71', 'stateDt': '20200312', 'stateTime': '00:00', 'updateDt': None}\n{'accDefRate': '3.8041745358', 'accExamCnt': '222395', 'accExamCompCnt': '203855', 'careCnt': '7407', 'clearCnt': '288', 'createDt': '2020-03-11 10:17:19.19', 'deathCnt': '60', 'decideCnt': '7755', 'examCnt': '18540', 'resutlNegCnt': '196100', 'seq': '70', 'stateDt': '20200311', 'stateTime': '00:00', 'updateDt': None}\n{'accDefRate': '3.9193080566', 'accExamCnt': '210144', 'accExamCompCnt': '191692', 'careCnt': '7212', 'clearCnt': '247', 'createDt': '2020-03-10 10:20:27.27', 'deathCnt': '54', 'decideCnt': '7513', 'examCnt': '18452', 'resutlNegCnt': '184179', 'seq': '69', 'stateDt': '20200310', 'stateTime': '00:00', 'updateDt': None}\n"
    }
   ],
   "source": [
    "import requests\n",
    "import time\n",
    "import xml.etree.ElementTree as xml\n",
    "url = \"http://openapi.data.go.kr/openapi/service/rest/Covid19/getCovid19InfStateJson?serviceKey=wMtQHCpU1eLCXZ15tASu9FFMYhKKFNkiqyVNWtTA2LF9HuhFiLXDX9Q36a3sBSAfOUpWxmL%2BPJ0gdG6iX5EgQQ%3D%3D&pageNo=1&numOfRows=10&startCreateDt=20200310&endCreateDt=20200315\"\n",
    "\n",
    "res = requests.get(url)\n",
    "#print(res.text)\n",
    "\n",
    "root = xml.fromstring(res.text)  # 파일 형태는 getroot() , 텍스트를 통해 이용하려면 fromstring 이용!\n",
    "for item in root:\n",
    "    print(item.tag)\n",
    "\n",
    "body_element = list(root)[1]\n",
    "print(body_element.tag)\n",
    "\n",
    "# special method - 바로 원하는 element 찾기\n",
    "data=[]\n",
    "for items in root.iter('items'):\n",
    "    #print(items.tag)\n",
    "    for item in items:\n",
    "        #print(item.tag)\n",
    "        day={}\n",
    "        for i in item:\n",
    "            #print(i.tag,i.text)\n",
    "            day[i.tag]=i.text\n",
    "        data.append(day)\n",
    "\n",
    "for row in data:\n",
    "    print(row)"
   ]
  },
  {
   "cell_type": "markdown",
   "metadata": {},
   "source": [
    "# __Daily Test : 코로나 바아러스 감염증 감염현황 조회 서비스__ "
   ]
  },
  {
   "cell_type": "code",
   "execution_count": 24,
   "metadata": {},
   "outputs": [
    {
     "output_type": "error",
     "ename": "AttributeError",
     "evalue": "'Console_UI' object has no attribute 'ui_type'",
     "traceback": [
      "\u001b[1;31m---------------------------------------------------------------------------\u001b[0m",
      "\u001b[1;31mAttributeError\u001b[0m                            Traceback (most recent call last)",
      "\u001b[1;32m<ipython-input-24-9066a12c32ec>\u001b[0m in \u001b[0;36m<module>\u001b[1;34m\u001b[0m\n\u001b[0;32m    104\u001b[0m     \u001b[0mui_select\u001b[0m \u001b[1;33m=\u001b[0m \u001b[0mint\u001b[0m\u001b[1;33m(\u001b[0m\u001b[0minput\u001b[0m\u001b[1;33m(\u001b[0m\u001b[1;34m'UI 선택 (1: Console , 2: TKinter) : \\n'\u001b[0m\u001b[1;33m)\u001b[0m\u001b[1;33m)\u001b[0m\u001b[1;33m\u001b[0m\u001b[1;33m\u001b[0m\u001b[0m\n\u001b[0;32m    105\u001b[0m     \u001b[1;32mif\u001b[0m \u001b[0mui_select\u001b[0m\u001b[1;33m==\u001b[0m\u001b[1;36m1\u001b[0m\u001b[1;33m:\u001b[0m\u001b[1;33m\u001b[0m\u001b[1;33m\u001b[0m\u001b[0m\n\u001b[1;32m--> 106\u001b[1;33m         \u001b[0mui\u001b[0m \u001b[1;33m=\u001b[0m \u001b[0mConsole_UI\u001b[0m\u001b[1;33m(\u001b[0m\u001b[1;33m)\u001b[0m\u001b[1;33m\u001b[0m\u001b[1;33m\u001b[0m\u001b[0m\n\u001b[0m\u001b[0;32m    107\u001b[0m     \u001b[1;32melif\u001b[0m \u001b[0mui_select\u001b[0m\u001b[1;33m==\u001b[0m\u001b[1;36m2\u001b[0m\u001b[1;33m:\u001b[0m\u001b[1;33m\u001b[0m\u001b[1;33m\u001b[0m\u001b[0m\n\u001b[0;32m    108\u001b[0m         \u001b[0mui\u001b[0m \u001b[1;33m=\u001b[0m \u001b[0mTK_UI\u001b[0m\u001b[1;33m(\u001b[0m\u001b[1;33m)\u001b[0m\u001b[1;33m\u001b[0m\u001b[1;33m\u001b[0m\u001b[0m\n",
      "\u001b[1;32m<ipython-input-24-9066a12c32ec>\u001b[0m in \u001b[0;36m__init__\u001b[1;34m(self)\u001b[0m\n\u001b[0;32m      7\u001b[0m \u001b[1;32mclass\u001b[0m \u001b[0mConsole_UI\u001b[0m\u001b[1;33m:\u001b[0m\u001b[1;33m\u001b[0m\u001b[1;33m\u001b[0m\u001b[0m\n\u001b[0;32m      8\u001b[0m     \u001b[1;32mdef\u001b[0m \u001b[0m__init__\u001b[0m\u001b[1;33m(\u001b[0m\u001b[0mself\u001b[0m\u001b[1;33m)\u001b[0m\u001b[1;33m:\u001b[0m\u001b[1;33m\u001b[0m\u001b[1;33m\u001b[0m\u001b[0m\n\u001b[1;32m----> 9\u001b[1;33m         \u001b[0mself\u001b[0m\u001b[1;33m.\u001b[0m\u001b[0mui_type\u001b[0m\u001b[1;33m==\u001b[0m\u001b[1;36m1\u001b[0m\u001b[1;33m\u001b[0m\u001b[1;33m\u001b[0m\u001b[0m\n\u001b[0m\u001b[0;32m     10\u001b[0m         self.ui_text = ['#######################################',\n\u001b[0;32m     11\u001b[0m         \u001b[1;34m'# 1. 기간별 조회'\u001b[0m\u001b[1;33m,\u001b[0m\u001b[1;34m'# 2. 사망자 조회'\u001b[0m\u001b[1;33m,\u001b[0m\u001b[1;34m'# 3. 종료'\u001b[0m\u001b[1;33m,\u001b[0m\u001b[1;33m\u001b[0m\u001b[1;33m\u001b[0m\u001b[0m\n",
      "\u001b[1;31mAttributeError\u001b[0m: 'Console_UI' object has no attribute 'ui_type'"
     ]
    }
   ],
   "source": [
    "import requests\n",
    "import xml.etree.ElementTree as xml\n",
    "import time\n",
    "from tkinter import *\n",
    "import sys\n",
    "\n",
    "class Console_UI:\n",
    "    def __init__(self):\n",
    "        self.ui_type=1\n",
    "        self.ui_text = ['#######################################',\n",
    "        '# 1. 기간별 조회','# 2. 사망자 조회','# 3. 종료',\n",
    "        '#######################################','# 메뉴를 선택해주세요. (1-3) : \\n']\n",
    "\n",
    "        self.q1_1 = '시작기간을 입력해주세요. : '\n",
    "        self.q1_2 = '종료기간을 입력해주세요. : '\n",
    "        self.q2 = '사망자가 몇명 이상 되는 경우 : '\n",
    "\n",
    "    def show(self,data):\n",
    "        for row in data:\n",
    "            print(row)\n",
    "        return\n",
    "\n",
    "\n",
    "class TK_UI:\n",
    "    pass\n",
    "\n",
    "class XML_MGMT:\n",
    "\n",
    "    def __init__(self):\n",
    "        url = \"http://openapi.data.go.kr/openapi/service/rest/Covid19/getCovid19InfStateJson?serviceKey=wMtQHCpU1eLCXZ15tASu9FFMYhKKFNkiqyVNWtTA2LF9HuhFiLXDX9Q36a3sBSAfOUpWxmL%2BPJ0gdG6iX5EgQQ%3D%3D&pageNo=1&numOfRows=10&startCreateDt=20200302&endCreateDt=20200723\"\n",
    "        res = requests.get(url)\n",
    "        root = xml.fromstring(res.text)\n",
    "\n",
    "        self.data=[]\n",
    "        for items in root.iter('items'):\n",
    "            #print(items.tag)\n",
    "            for item in items:\n",
    "                #print(item.tag)\n",
    "                day={}\n",
    "                for i in item:\n",
    "                    #print(i.tag,i.text)\n",
    "                    day[i.tag]=i.text\n",
    "                self.data.append(day)\n",
    "\n",
    "    \n",
    "    def search_by_duration(self,s,e):\n",
    "        return_list = []\n",
    "        for i in data:\n",
    "            if (int(i['stateDt'])>=int(s)) and (int(i['stateDt'])<=int(e)):\n",
    "                return_list.append(i)\n",
    "        return return_list\n",
    "\n",
    "    def search_by_death(self,cnt):\n",
    "        return_list = []\n",
    "        for i in data:\n",
    "            if int(i['deathCnt'])>=cnt:\n",
    "                return_list.append(i)\n",
    "        return return_list\n",
    "\n",
    "class APP_MGMT:\n",
    "    \n",
    "    def __init__(self,mg,ui):\n",
    "        self.mgmt = mg\n",
    "        self.ui = ui\n",
    "\n",
    "    def run(self):\n",
    "\n",
    "        while True:\n",
    "            for txt in self.ui.ui_text:\n",
    "                print(txt)\n",
    "            command = int(input())\n",
    "\n",
    "            if command == 3:\n",
    "                print('이용해주셔서 감사합니다. 프로그램을 종료합니다. ')\n",
    "                break\n",
    "            elif command == 1:\n",
    "                s_idx = input(self.ui.q1_1).strip()\n",
    "                e_idx = input(self.ui.q1_2).strip()\n",
    "\n",
    "                if (int(s_idx)<20200302) or (int(e_idx)>20200723):\n",
    "                    print('잘못된 조회기간 입니다. (20200302~20200723)')\n",
    "                    continue\n",
    "                else:\n",
    "                    self.output = self.mg.search_by_duration(s_idx,e_idx)\n",
    "\n",
    "                    if self.ui.ui_type==1:\n",
    "                        self.ui.show(output)\n",
    "\n",
    "            elif command == 2:\n",
    "                d_cnt = int(input(self.ui.q2))\n",
    "                self.output = self.mg.search_by_death(d_cnt)\n",
    "\n",
    "                if self.ui.ui_type==1:\n",
    "                        self.ui.show(output)\n",
    "\n",
    "            else:\n",
    "                print('잘못된 메뉴선택입니다. (1-3)')\n",
    "                continue\n",
    "\n",
    "\n",
    "if __name__=='__main__':\n",
    "\n",
    "    my_mgmt = XML_MGMT()\n",
    "    ui_select = int(input('UI 선택 (1: Console , 2: TKinter) : \\n'))\n",
    "    if ui_select==1:\n",
    "        ui = Console_UI()\n",
    "    elif ui_select==2:\n",
    "        ui = TK_UI()\n",
    "    else:\n",
    "        print('잘못된 값 입력. 프로그램을 종료합니다.')\n",
    "        sys.exit()\n",
    "\n",
    "    App = APP_MGMT(my_mgmt,ui)\n",
    "    App.run"
   ]
  }
 ]
}