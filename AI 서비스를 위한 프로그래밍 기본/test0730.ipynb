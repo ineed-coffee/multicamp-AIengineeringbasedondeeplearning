{
 "metadata": {
  "language_info": {
   "codemirror_mode": {
    "name": "ipython",
    "version": 3
   },
   "file_extension": ".py",
   "mimetype": "text/x-python",
   "name": "python",
   "nbconvert_exporter": "python",
   "pygments_lexer": "ipython3",
   "version": 3
  },
  "orig_nbformat": 2,
  "kernelspec": {
   "name": "python_defaultSpec_1596083414300",
   "display_name": "Python 3.7.8 64-bit"
  }
 },
 "nbformat": 4,
 "nbformat_minor": 2,
 "cells": [
  {
   "cell_type": "markdown",
   "metadata": {},
   "source": [
    "# __Generator , Yield__  \n",
    "* 고급 프로그래밍에서 종종 쓰임. 호출 시마다 끊기지 않고 부분 부분 리턴"
   ]
  },
  {
   "cell_type": "code",
   "execution_count": 3,
   "metadata": {
    "tags": []
   },
   "outputs": [
    {
     "output_type": "stream",
     "name": "stdout",
     "text": "0\n0번째 출력\n1\n1번째 출력\n2\n2번째 출력\n3\n3번째 출력\n0\n0번째 출력\n1\n1번째 출력\n2\n"
    }
   ],
   "source": [
    "def generator_test(n):\n",
    "    for i in range(n):\n",
    "        yield(i)\n",
    "        print(f'{i}번째 출력')\n",
    "#use1\n",
    "for i in generator_test(4):\n",
    "    print(i)\n",
    "#use2\n",
    "d = generator_test(4)\n",
    "print(d.__next__())\n",
    "print(d.__next__())\n",
    "print(d.__next__())"
   ]
  },
  {
   "cell_type": "code",
   "execution_count": 6,
   "metadata": {
    "tags": []
   },
   "outputs": [
    {
     "output_type": "stream",
     "name": "stdout",
     "text": "3 is really and [3, 2, 1]\n"
    }
   ],
   "source": [
    "a = '{0} is {1} and {2}'.format(3,'really',[3,2,1])\n",
    "print(a)"
   ]
  }
 ]
}