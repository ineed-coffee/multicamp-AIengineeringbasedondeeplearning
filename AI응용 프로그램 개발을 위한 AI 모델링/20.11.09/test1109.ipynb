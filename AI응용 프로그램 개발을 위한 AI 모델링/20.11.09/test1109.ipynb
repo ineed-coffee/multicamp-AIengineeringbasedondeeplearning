{
 "cells": [
  {
   "cell_type": "code",
   "execution_count": 1,
   "metadata": {},
   "outputs": [],
   "source": [
    "import numpy as np\n",
    "import urllib.request"
   ]
  },
  {
   "cell_type": "code",
   "execution_count": 2,
   "metadata": {},
   "outputs": [],
   "source": [
    "urllib.request.urlretrieve(\"http://www.gutenberg.org/files/6130/6130-0.txt\", filename=\"lliad.txt\")\n",
    "f = open('lliad.txt', 'rb')\n",
    "lines=[]\n",
    "for line in f:\n",
    "    line=line.lower() \n",
    "    line=line.decode('ascii', 'ignore') \n",
    "    if len(line) > 0:\n",
    "        lines.append(line)\n",
    "f.close()"
   ]
  },
  {
   "cell_type": "code",
   "execution_count": 3,
   "metadata": {},
   "outputs": [
    {
     "data": {
      "text/plain": [
       "['the project gutenberg ebook of the iliad, by homer\\r\\n',\n",
       " '\\r\\n',\n",
       " 'this ebook is for the use of anyone anywhere in the united states and most\\r\\n',\n",
       " 'other parts of the world at no cost and with almost no restrictions\\r\\n',\n",
       " 'whatsoever.  you may copy it, give it away or re-use it under the terms of\\r\\n',\n",
       " 'the project gutenberg license included with this ebook or online at\\r\\n',\n",
       " \"www.gutenberg.org.  if you are not located in the united states, you'll have\\r\\n\",\n",
       " 'to check the laws of the country where you are located before using this ebook.\\r\\n',\n",
       " '\\r\\n',\n",
       " 'title: the iliad\\r\\n']"
      ]
     },
     "execution_count": 3,
     "metadata": {},
     "output_type": "execute_result"
    }
   ],
   "source": [
    "lines[:10]"
   ]
  },
  {
   "cell_type": "code",
   "execution_count": 4,
   "metadata": {},
   "outputs": [
    {
     "data": {
      "text/plain": [
       "1160564"
      ]
     },
     "execution_count": 4,
     "metadata": {},
     "output_type": "execute_result"
    }
   ],
   "source": [
    "text = ' '.join(lines)\n",
    "len(text)"
   ]
  },
  {
   "cell_type": "code",
   "execution_count": null,
   "metadata": {},
   "outputs": [],
   "source": [
    "from keras.models import Model\n",
    "from keras.layers import Input, Dense, LSTM\n",
    "import numpy as np\n",
    "\n",
    "\n",
    "x = np.array([[[1.], [2.], [3.], [4.], [5.]]])\n",
    "y = np.array([[6.]])\n",
    "\n",
    "\n",
    "xInput = Input(batch_shape=(None, 5, 1))\n",
    "xLstm = LSTM(3)(xInput)\n",
    "xOutput = Dense(1)(xLstm)\n",
    "\n",
    "\n",
    "model = Model(xInput, xOutput)\n",
    "model.compile(loss='mean_squared_error', optimizer='adam')\n",
    "\n",
    "print(model.summary())\n",
    "\n",
    "\n",
    "model.fit(x, y, epochs=50, batch_size=1, verbose=0)\n",
    "model.predict(x, batch_size=1)"
   ]
  },
  {
   "cell_type": "code",
   "execution_count": 6,
   "metadata": {},
   "outputs": [],
   "source": [
    "from keras.datasets import reuters"
   ]
  },
  {
   "cell_type": "code",
   "execution_count": 39,
   "metadata": {},
   "outputs": [],
   "source": [
    "(xTrain,yTrain),(xTest,yTest) = reuters.load_data(num_words=1000,test_split=0.2)"
   ]
  },
  {
   "cell_type": "code",
   "execution_count": 40,
   "metadata": {},
   "outputs": [
    {
     "name": "stdout",
     "output_type": "stream",
     "text": [
      "[1, 2, 2, 8, 43, 10, 447, 5, 25, 207, 270, 5, 2, 111, 16, 369, 186, 90, 67, 7, 89, 5, 19, 102, 6, 19, 124, 15, 90, 67, 84, 22, 482, 26, 7, 48, 4, 49, 8, 864, 39, 209, 154, 6, 151, 6, 83, 11, 15, 22, 155, 11, 15, 7, 48, 9, 2, 2, 504, 6, 258, 6, 272, 11, 15, 22, 134, 44, 11, 15, 16, 8, 197, 2, 90, 67, 52, 29, 209, 30, 32, 132, 6, 109, 15, 17, 12]\n"
     ]
    }
   ],
   "source": [
    "print(xTrain[0])"
   ]
  },
  {
   "cell_type": "code",
   "execution_count": 41,
   "metadata": {
    "scrolled": true
   },
   "outputs": [],
   "source": [
    "np.min(yTrain)\n",
    "np.max(yTrain)\n",
    "\n",
    "category = np.max(yTrain)+1"
   ]
  },
  {
   "cell_type": "code",
   "execution_count": 42,
   "metadata": {},
   "outputs": [
    {
     "data": {
      "text/plain": [
       "2246"
      ]
     },
     "execution_count": 42,
     "metadata": {},
     "output_type": "execute_result"
    }
   ],
   "source": [
    "len(xTrain) # 8982\n",
    "len(xTest) # 2246"
   ]
  },
  {
   "cell_type": "code",
   "execution_count": 43,
   "metadata": {},
   "outputs": [],
   "source": [
    "from keras.preprocessing import sequence"
   ]
  },
  {
   "cell_type": "code",
   "execution_count": 44,
   "metadata": {},
   "outputs": [],
   "source": [
    "xTrain = sequence.pad_sequences(xTrain,maxlen=100)"
   ]
  },
  {
   "cell_type": "code",
   "execution_count": 45,
   "metadata": {},
   "outputs": [
    {
     "data": {
      "text/plain": [
       "array([[  0,   0,   0, ...,  15,  17,  12],\n",
       "       [  0,   0,   0, ..., 505,  17,  12],\n",
       "       [ 19, 758,  15, ...,  11,  17,  12],\n",
       "       ...,\n",
       "       [  0,   0,   0, ..., 407,  17,  12],\n",
       "       [ 88,   2,  72, ..., 364,  17,  12],\n",
       "       [125,   2,  21, ..., 113,  17,  12]])"
      ]
     },
     "execution_count": 45,
     "metadata": {},
     "output_type": "execute_result"
    }
   ],
   "source": [
    "xTrain"
   ]
  },
  {
   "cell_type": "code",
   "execution_count": 46,
   "metadata": {},
   "outputs": [],
   "source": [
    "xTest = sequence.pad_sequences(xTest,maxlen=100)"
   ]
  },
  {
   "cell_type": "code",
   "execution_count": 47,
   "metadata": {},
   "outputs": [],
   "source": [
    "from keras.utils import to_categorical"
   ]
  },
  {
   "cell_type": "code",
   "execution_count": 48,
   "metadata": {},
   "outputs": [],
   "source": [
    "yTrain = to_categorical(yTrain)\n",
    "yTest = to_categorical(yTest)"
   ]
  },
  {
   "cell_type": "code",
   "execution_count": 49,
   "metadata": {},
   "outputs": [],
   "source": [
    "from keras.models import Sequential\n",
    "model = Sequential()"
   ]
  },
  {
   "cell_type": "code",
   "execution_count": 50,
   "metadata": {},
   "outputs": [],
   "source": [
    "from keras.layers import Embedding\n",
    "model.add(Embedding(1000,100))"
   ]
  },
  {
   "cell_type": "code",
   "execution_count": 51,
   "metadata": {},
   "outputs": [],
   "source": [
    "from keras.layers import Input, Dense, LSTM\n",
    "model.add(LSTM(100,activation='tanh'))"
   ]
  },
  {
   "cell_type": "code",
   "execution_count": 52,
   "metadata": {},
   "outputs": [],
   "source": [
    "model.add(Dense(units=category,activation='softmax'))"
   ]
  },
  {
   "cell_type": "code",
   "execution_count": 53,
   "metadata": {},
   "outputs": [
    {
     "name": "stdout",
     "output_type": "stream",
     "text": [
      "Model: \"sequential_2\"\n",
      "_________________________________________________________________\n",
      "Layer (type)                 Output Shape              Param #   \n",
      "=================================================================\n",
      "embedding_2 (Embedding)      (None, None, 100)         100000    \n",
      "_________________________________________________________________\n",
      "lstm_2 (LSTM)                (None, 100)               80400     \n",
      "_________________________________________________________________\n",
      "dense_2 (Dense)              (None, 46)                4646      \n",
      "=================================================================\n",
      "Total params: 185,046\n",
      "Trainable params: 185,046\n",
      "Non-trainable params: 0\n",
      "_________________________________________________________________\n"
     ]
    }
   ],
   "source": [
    "model.summary()"
   ]
  },
  {
   "cell_type": "code",
   "execution_count": 54,
   "metadata": {},
   "outputs": [],
   "source": [
    "model.compile(loss='categorical_crossentropy' , optimizer='adam' , metrics=['accuracy'])"
   ]
  },
  {
   "cell_type": "code",
   "execution_count": 55,
   "metadata": {},
   "outputs": [
    {
     "name": "stdout",
     "output_type": "stream",
     "text": [
      "Epoch 1/30\n",
      "71/71 [==============================] - 9s 121ms/step - loss: 2.6627 - accuracy: 0.3471 - val_loss: 2.3697 - val_accuracy: 0.3620\n",
      "Epoch 2/30\n",
      "71/71 [==============================] - 8s 117ms/step - loss: 2.1553 - accuracy: 0.4599 - val_loss: 2.0339 - val_accuracy: 0.4969\n",
      "Epoch 3/30\n",
      "71/71 [==============================] - 8s 119ms/step - loss: 1.9567 - accuracy: 0.5011 - val_loss: 1.9317 - val_accuracy: 0.5040\n",
      "Epoch 4/30\n",
      "71/71 [==============================] - 8s 115ms/step - loss: 1.7872 - accuracy: 0.5395 - val_loss: 1.7474 - val_accuracy: 0.5494\n",
      "Epoch 5/30\n",
      "71/71 [==============================] - 8s 116ms/step - loss: 1.7222 - accuracy: 0.5511 - val_loss: 1.7693 - val_accuracy: 0.5454\n",
      "Epoch 6/30\n",
      "71/71 [==============================] - 8s 115ms/step - loss: 1.7014 - accuracy: 0.5605 - val_loss: 1.7201 - val_accuracy: 0.5534\n",
      "Epoch 7/30\n",
      "71/71 [==============================] - 8s 112ms/step - loss: 1.6408 - accuracy: 0.5738 - val_loss: 1.6559 - val_accuracy: 0.5699\n",
      "Epoch 8/30\n",
      "71/71 [==============================] - 8s 115ms/step - loss: 1.5752 - accuracy: 0.5898 - val_loss: 1.6197 - val_accuracy: 0.5810\n",
      "Epoch 9/30\n",
      "71/71 [==============================] - 8s 116ms/step - loss: 1.5418 - accuracy: 0.5992 - val_loss: 1.6002 - val_accuracy: 0.5939\n",
      "Epoch 10/30\n",
      "71/71 [==============================] - 8s 118ms/step - loss: 1.4908 - accuracy: 0.6160 - val_loss: 1.7570 - val_accuracy: 0.5712\n",
      "Epoch 11/30\n",
      "71/71 [==============================] - 8s 115ms/step - loss: 1.5045 - accuracy: 0.6052 - val_loss: 1.5518 - val_accuracy: 0.6077\n",
      "Epoch 12/30\n",
      "71/71 [==============================] - 8s 117ms/step - loss: 1.4105 - accuracy: 0.6317 - val_loss: 1.5325 - val_accuracy: 0.6287\n",
      "Epoch 13/30\n",
      "71/71 [==============================] - 8s 116ms/step - loss: 1.3414 - accuracy: 0.6660 - val_loss: 1.4680 - val_accuracy: 0.6273\n",
      "Epoch 14/30\n",
      "71/71 [==============================] - 8s 116ms/step - loss: 1.2476 - accuracy: 0.6918 - val_loss: 1.3773 - val_accuracy: 0.6589\n",
      "Epoch 15/30\n",
      "71/71 [==============================] - 8s 118ms/step - loss: 1.1792 - accuracy: 0.7064 - val_loss: 1.3245 - val_accuracy: 0.6741\n",
      "Epoch 16/30\n",
      "71/71 [==============================] - 8s 117ms/step - loss: 1.1076 - accuracy: 0.7244 - val_loss: 1.2898 - val_accuracy: 0.6687\n",
      "Epoch 17/30\n",
      "71/71 [==============================] - 8s 116ms/step - loss: 1.0505 - accuracy: 0.7404 - val_loss: 1.2457 - val_accuracy: 0.6919\n",
      "Epoch 18/30\n",
      "71/71 [==============================] - 8s 115ms/step - loss: 1.0035 - accuracy: 0.7486 - val_loss: 1.2863 - val_accuracy: 0.6785\n",
      "Epoch 19/30\n",
      "71/71 [==============================] - 8s 114ms/step - loss: 0.9745 - accuracy: 0.7589 - val_loss: 1.2151 - val_accuracy: 0.7008\n",
      "Epoch 20/30\n",
      "71/71 [==============================] - 8s 113ms/step - loss: 0.9313 - accuracy: 0.7686 - val_loss: 1.1966 - val_accuracy: 0.7097\n",
      "Epoch 21/30\n",
      "71/71 [==============================] - 8s 112ms/step - loss: 0.8905 - accuracy: 0.7787 - val_loss: 1.1882 - val_accuracy: 0.7048\n",
      "Epoch 22/30\n",
      "71/71 [==============================] - 8s 112ms/step - loss: 0.8644 - accuracy: 0.7825 - val_loss: 1.1833 - val_accuracy: 0.7150\n",
      "Epoch 23/30\n",
      "71/71 [==============================] - 8s 112ms/step - loss: 0.8337 - accuracy: 0.7914 - val_loss: 1.2122 - val_accuracy: 0.7150\n",
      "Epoch 24/30\n",
      "71/71 [==============================] - 8s 113ms/step - loss: 0.8142 - accuracy: 0.7941 - val_loss: 1.2541 - val_accuracy: 0.6959\n",
      "Epoch 25/30\n",
      "71/71 [==============================] - 8s 114ms/step - loss: 0.7840 - accuracy: 0.8034 - val_loss: 1.1770 - val_accuracy: 0.7137\n",
      "Epoch 26/30\n",
      "71/71 [==============================] - 8s 113ms/step - loss: 0.7496 - accuracy: 0.8132 - val_loss: 1.1954 - val_accuracy: 0.7066\n",
      "Epoch 27/30\n",
      "71/71 [==============================] - 8s 112ms/step - loss: 0.7187 - accuracy: 0.8224 - val_loss: 1.1926 - val_accuracy: 0.7097\n",
      "Epoch 28/30\n",
      "71/71 [==============================] - 8s 112ms/step - loss: 0.6917 - accuracy: 0.8261 - val_loss: 1.2375 - val_accuracy: 0.7142\n",
      "Epoch 29/30\n",
      "71/71 [==============================] - 8s 112ms/step - loss: 0.6808 - accuracy: 0.8291 - val_loss: 1.2012 - val_accuracy: 0.7191\n",
      "Epoch 30/30\n",
      "71/71 [==============================] - 8s 114ms/step - loss: 0.6536 - accuracy: 0.8369 - val_loss: 1.2112 - val_accuracy: 0.7133\n"
     ]
    },
    {
     "data": {
      "text/plain": [
       "<tensorflow.python.keras.callbacks.History at 0x1c87276ecc8>"
      ]
     },
     "execution_count": 55,
     "metadata": {},
     "output_type": "execute_result"
    }
   ],
   "source": [
    "model.fit(xTrain,yTrain,batch_size=128,epochs=30 , validation_data=(xTest,yTest))"
   ]
  },
  {
   "cell_type": "code",
   "execution_count": 56,
   "metadata": {},
   "outputs": [
    {
     "name": "stdout",
     "output_type": "stream",
     "text": [
      "71/71 [==============================] - 1s 12ms/step - loss: 1.2112 - accuracy: 0.7133\n"
     ]
    },
    {
     "data": {
      "text/plain": [
       "[1.2111879587173462, 0.7132680416107178]"
      ]
     },
     "execution_count": 56,
     "metadata": {},
     "output_type": "execute_result"
    }
   ],
   "source": [
    "model.evaluate(xTest,yTest)"
   ]
  },
  {
   "cell_type": "code",
   "execution_count": null,
   "metadata": {},
   "outputs": [],
   "source": []
  }
 ],
 "metadata": {
  "kernelspec": {
   "display_name": "Python 3",
   "language": "python",
   "name": "python3"
  },
  "language_info": {
   "codemirror_mode": {
    "name": "ipython",
    "version": 3
   },
   "file_extension": ".py",
   "mimetype": "text/x-python",
   "name": "python",
   "nbconvert_exporter": "python",
   "pygments_lexer": "ipython3",
   "version": "3.7.6"
  }
 },
 "nbformat": 4,
 "nbformat_minor": 4
}
