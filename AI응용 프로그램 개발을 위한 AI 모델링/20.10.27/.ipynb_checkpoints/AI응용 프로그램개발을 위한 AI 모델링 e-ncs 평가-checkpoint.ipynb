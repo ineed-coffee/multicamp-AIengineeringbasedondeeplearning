{
 "cells": [
  {
   "cell_type": "markdown",
   "metadata": {},
   "source": [
    "# [AI 머신러닝, 딥러닝 이론]"
   ]
  },
  {
   "cell_type": "markdown",
   "metadata": {},
   "source": [
    "### 1. 베이즈 이론 및 베이즈 분류기에 대해 설명하시오."
   ]
  },
  {
   "cell_type": "markdown",
   "metadata": {},
   "source": [
    "__베이즈 공식 :__  \n",
    "- 두 사건 A,B 에 대하여 둘의 결합확률 P(A∩B) = P(B∩A) 인것으로 부터 나온 조건부 확률간의 관계식  \n",
    "- $$ P(A|B) = \\frac {P(B|A)*P(A)}{P(B)}$$  \n",
    "  \n",
    "__배이즈 분류기 :__  \n",
    "- 각 특성들이 서로 독립적임을 가정할 수 있을 때, 새로 들어온 입력에 대하여 특정 레이블일 사후 확률을 기준으로 데이터 분류를 처리하는 확률 기반 머신러닝 알고리즘의 가장 기초가 되는 방법 "
   ]
  },
  {
   "cell_type": "markdown",
   "metadata": {},
   "source": [
    "### 2. 이메일에 ‘나이트’라는 단어가 검출되었을 때의 스팸 확률을 수식으로 작성하시오. (베이즈 이론 수식에서 사후확률을 기술하시오)"
   ]
  },
  {
   "cell_type": "markdown",
   "metadata": {},
   "source": [
    "$$P(스팸|나이트)= \\frac {P(나이트|스팸)*P(스팸)}{P(나이트)}$$  \n",
    "- P(나이트) = 전체 메일 중 `나이트`의 단어가 메일 제목에 포함되어 있을 확률  \n",
    "- P(스팸) = 전체 메일 중 `스팸` 메일일 확률  \n",
    "- P(나이트|스팸) = 스팸 메일 중 `나이트`의 단어가 메일 제목에 포함되어 있을 확률  "
   ]
  },
  {
   "cell_type": "markdown",
   "metadata": {},
   "source": [
    "$$사후확률 = \\frac {우도 * 사전확률}{주변 우도}$$"
   ]
  },
  {
   "cell_type": "markdown",
   "metadata": {},
   "source": [
    "### 3. 나이브 베이지안 분류기가 응용되는 예를 드시오."
   ]
  },
  {
   "cell_type": "markdown",
   "metadata": {},
   "source": [
    "- 스팸 메일 분류 , 영화 리뷰 분류 등 다양한 텍스트 분류 분야에서 활용되고 있으며 잘 문서화된 데이터일수록 높은 성능을 보인다."
   ]
  },
  {
   "cell_type": "markdown",
   "metadata": {},
   "source": [
    "# [Tensorflow 머신러닝 (DNN,CNN,RNN,GAN)]"
   ]
  },
  {
   "cell_type": "markdown",
   "metadata": {},
   "source": [
    "### 1. recall, f-measure, precision, accuracy에 대해 설명하시오."
   ]
  },
  {
   "cell_type": "markdown",
   "metadata": {},
   "source": [
    "분류 모델의 성능을 평가하기 위한 지표들로 다음과 같은 개념을 통해 수식으로 표현된다.  \n",
    "  \n",
    "TP : Positive 라고 예측하여 맞은 경우  \n",
    "TN : Negative 라고 예측하여 맞은 경우  \n",
    "FP : Positive 라고 예측하였지만 틀린 경우  \n",
    "FN : Negative 라고 예측하였지만 틀린 경우  \n",
    "***\n",
    "  \n",
    "1.__accuracy__  \n",
    "- 정확도라고 번역되며 실제 모델이 예측한 P,N 를 통틀어서 어느정도의 정확도를 보이는지 평가  \n",
    "$$\\frac {TP+TF}{TP+TN+FP+FN}$$  \n",
    "2.__precision__  \n",
    "- 정밀도라고 번역되며 실제 모델이 예측한 값이 얼마나 정확한지를 평가하기 위해 사용 (P라고 예측한것 중에서 실제 맞춘 정도)  \n",
    "$$\\frac {TP}{TP+FP}$$  \n",
    "3.__recall__  \n",
    "- 재현율이라고 번역되며 실제 데이터 중에서 모델이 예측하여 맞춘 수의 비율을 나타냄  \n",
    "$$\\frac {TP}{TP+FN}$$  \n",
    "4.__F1-score(f-measure)__  \n",
    "- 데이터의 불균형에 따라 재현율, 정밀도 하나의 지표만으로 모델을 평가하기에 무리가 있는 경우 또한 원활히 평가하기 위해 두 지표의 조화평균을 지표로 하여 하나의 숫자로 모델의 성능을 나타냄.  \n",
    "$$2*\\frac{recall*precision}{recall+precision}$$  "
   ]
  },
  {
   "cell_type": "markdown",
   "metadata": {},
   "source": [
    "### 2. cross-validation에 대해 설명하시오."
   ]
  },
  {
   "cell_type": "markdown",
   "metadata": {},
   "source": [
    "학습된 모델을 통해 예측을 하기 전 단계에서 모델의 일반화 성능을 짐작해볼 수 있는 교차검증을 진행.  \n",
    "모델의 적합도를 판단하며 보통 학습 데이터의 10% 정도를 교차 검증 셋으로 분류함. 대표적인 교차검증 방법으로 K-Fold 방식이 있음."
   ]
  },
  {
   "cell_type": "markdown",
   "metadata": {},
   "source": [
    "### 3. 과적합이 발생되는 이유와 해결 방법을 기술하시오."
   ]
  },
  {
   "cell_type": "markdown",
   "metadata": {},
   "source": [
    "- 학습 데이터에만 과도하게 학습하여 다른 일반화 성능이 떨어지게 되는 과적합의 경우 대게 데이터 규모에 비하여 필요 이상의 특성들로 학습을 진행하거나 , 편향된 하이퍼 파라미터를 통해 학습 데이터에 대한 정확도만 높아지는 쪽으로 학습할 경우 발생한다.  \n",
    "***\n",
    "- 과적합의 방지 or 해결 방법으로는 `drop-out` 기법을 통해 매 iteration 학습의 수준을 낮추거나 특성 차원 축소 , 혹은 더 큰 데이터를 통한 학습 방법 등이 있다. "
   ]
  },
  {
   "cell_type": "markdown",
   "metadata": {},
   "source": [
    "# [Keras 머신러닝 (DNN,CNN,RNN,GAN)]"
   ]
  },
  {
   "cell_type": "markdown",
   "metadata": {},
   "source": [
    "### 선형 회귀 분석 수행시, 다음 함수 및 기법에 대해 설명하시오.  \n",
    "1)가설 함수  \n",
    "2)분석 알고리즘  \n",
    "3)cost 함수  \n",
    "4)경사하강법  "
   ]
  },
  {
   "cell_type": "markdown",
   "metadata": {},
   "source": [
    "1)`가설 함수`"
   ]
  },
  {
   "cell_type": "markdown",
   "metadata": {},
   "source": [
    "종속 변수를 예측하기 위해 독립변수들의 선형조합으로 나타낸 선형식을 가설 함수라 하며 ,  \n",
    "각 독립변수들의 가중치 `w`를 회귀 계수라고 한다."
   ]
  },
  {
   "cell_type": "markdown",
   "metadata": {},
   "source": [
    "2)`분석 알고리즘`"
   ]
  },
  {
   "cell_type": "markdown",
   "metadata": {},
   "source": [
    "종속 변수가 연속 데이터 형태일때 사용하는 대표 머신러닝 예측 알고리즘 중 하나로 초기 회귀계수를 생성하여 가설함수를 만들고  \n",
    "정의된 비용함수에 따라 비용을 최소로 하는 방향으로 회귀계수를 수정하여 학습하는 방식의 알고리즘이다."
   ]
  },
  {
   "cell_type": "markdown",
   "metadata": {},
   "source": [
    "3)`cost 함수`"
   ]
  },
  {
   "cell_type": "markdown",
   "metadata": {},
   "source": [
    "가설 함수로부터 예측한 종속 변수 값과 실제 종속 변수 값의 차를 정의하는 함수로 MSE , MAE , 등이 있다.  \n",
    "회귀 모델의 학습은 이러한 비용함수를 최소로 하는 방향으로 회귀 계수를 수정한다. "
   ]
  },
  {
   "cell_type": "markdown",
   "metadata": {},
   "source": [
    "4)`경사하강법`"
   ]
  },
  {
   "cell_type": "markdown",
   "metadata": {},
   "source": [
    "각 독립변수(특성) 에 대하여 비용함수를 해당 특성으로 편미분하여 회귀계수를 업데이트 하는 방법이다.  \n",
    "지역 최소점에 빠질 수 있다는 위험이 있지만 여전히 많이 쓰이고 있는 방식이다."
   ]
  }
 ],
 "metadata": {
  "kernelspec": {
   "display_name": "Python 3",
   "language": "python",
   "name": "python3"
  },
  "language_info": {
   "codemirror_mode": {
    "name": "ipython",
    "version": 3
   },
   "file_extension": ".py",
   "mimetype": "text/x-python",
   "name": "python",
   "nbconvert_exporter": "python",
   "pygments_lexer": "ipython3",
   "version": "3.7.6"
  }
 },
 "nbformat": 4,
 "nbformat_minor": 4
}
