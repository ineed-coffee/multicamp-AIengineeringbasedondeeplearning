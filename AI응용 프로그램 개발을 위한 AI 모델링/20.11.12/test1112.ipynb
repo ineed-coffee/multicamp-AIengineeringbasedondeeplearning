{
 "cells": [
  {
   "cell_type": "code",
   "execution_count": 12,
   "metadata": {},
   "outputs": [],
   "source": [
    "import pandas as pd\n",
    "import numpy as np\n",
    "import matplotlib.pyplot as plt"
   ]
  },
  {
   "cell_type": "code",
   "execution_count": 14,
   "metadata": {},
   "outputs": [],
   "source": [
    "# y = 3 + 2x 가우시안 노이즈\n",
    "x = 2*np.random.rand(100,1) # 0~ 1 값을 [100,1]\n",
    "y = 3 + 6*x+np.random.randn(100,1)\n",
    "\n",
    "# yhat = wx + b + error(np.random.randn(100,1)) : 잔차 , 노이즈"
   ]
  },
  {
   "cell_type": "code",
   "execution_count": 15,
   "metadata": {},
   "outputs": [
    {
     "data": {
      "text/plain": [
       "[array([[1.],\n",
       "        [1.],\n",
       "        [1.],\n",
       "        [1.],\n",
       "        [1.],\n",
       "        [1.],\n",
       "        [1.],\n",
       "        [1.],\n",
       "        [1.],\n",
       "        [1.],\n",
       "        [1.],\n",
       "        [1.],\n",
       "        [1.],\n",
       "        [1.],\n",
       "        [1.],\n",
       "        [1.],\n",
       "        [1.],\n",
       "        [1.],\n",
       "        [1.],\n",
       "        [1.],\n",
       "        [1.],\n",
       "        [1.],\n",
       "        [1.],\n",
       "        [1.],\n",
       "        [1.],\n",
       "        [1.],\n",
       "        [1.],\n",
       "        [1.],\n",
       "        [1.],\n",
       "        [1.],\n",
       "        [1.],\n",
       "        [1.],\n",
       "        [1.],\n",
       "        [1.],\n",
       "        [1.],\n",
       "        [1.],\n",
       "        [1.],\n",
       "        [1.],\n",
       "        [1.],\n",
       "        [1.],\n",
       "        [1.],\n",
       "        [1.],\n",
       "        [1.],\n",
       "        [1.],\n",
       "        [1.],\n",
       "        [1.],\n",
       "        [1.],\n",
       "        [1.],\n",
       "        [1.],\n",
       "        [1.],\n",
       "        [1.],\n",
       "        [1.],\n",
       "        [1.],\n",
       "        [1.],\n",
       "        [1.],\n",
       "        [1.],\n",
       "        [1.],\n",
       "        [1.],\n",
       "        [1.],\n",
       "        [1.],\n",
       "        [1.],\n",
       "        [1.],\n",
       "        [1.],\n",
       "        [1.],\n",
       "        [1.],\n",
       "        [1.],\n",
       "        [1.],\n",
       "        [1.],\n",
       "        [1.],\n",
       "        [1.],\n",
       "        [1.],\n",
       "        [1.],\n",
       "        [1.],\n",
       "        [1.],\n",
       "        [1.],\n",
       "        [1.],\n",
       "        [1.],\n",
       "        [1.],\n",
       "        [1.],\n",
       "        [1.],\n",
       "        [1.],\n",
       "        [1.],\n",
       "        [1.],\n",
       "        [1.],\n",
       "        [1.],\n",
       "        [1.],\n",
       "        [1.],\n",
       "        [1.],\n",
       "        [1.],\n",
       "        [1.],\n",
       "        [1.],\n",
       "        [1.],\n",
       "        [1.],\n",
       "        [1.],\n",
       "        [1.],\n",
       "        [1.],\n",
       "        [1.],\n",
       "        [1.],\n",
       "        [1.],\n",
       "        [1.]]),\n",
       " array([[1.21220797],\n",
       "        [1.08458431],\n",
       "        [1.17937927],\n",
       "        [0.09126571],\n",
       "        [0.38181141],\n",
       "        [1.30815146],\n",
       "        [0.02985526],\n",
       "        [0.81463786],\n",
       "        [0.97910502],\n",
       "        [0.90800626],\n",
       "        [1.53520515],\n",
       "        [1.30269569],\n",
       "        [1.36995987],\n",
       "        [0.31585967],\n",
       "        [1.12756052],\n",
       "        [0.43062183],\n",
       "        [1.41508709],\n",
       "        [1.77584787],\n",
       "        [1.02409618],\n",
       "        [1.73599318],\n",
       "        [1.56751671],\n",
       "        [0.65805611],\n",
       "        [0.39233934],\n",
       "        [1.95842233],\n",
       "        [0.77051654],\n",
       "        [0.05497808],\n",
       "        [0.82155851],\n",
       "        [0.54375647],\n",
       "        [1.17554794],\n",
       "        [1.95339322],\n",
       "        [0.75300701],\n",
       "        [1.73337133],\n",
       "        [1.52429567],\n",
       "        [1.00104296],\n",
       "        [1.99481471],\n",
       "        [0.19050396],\n",
       "        [1.44685601],\n",
       "        [1.18215496],\n",
       "        [1.83176322],\n",
       "        [1.36393428],\n",
       "        [1.97511543],\n",
       "        [0.11803611],\n",
       "        [0.35888127],\n",
       "        [1.24481456],\n",
       "        [1.87571242],\n",
       "        [1.5691793 ],\n",
       "        [0.0521525 ],\n",
       "        [0.91854992],\n",
       "        [0.96034855],\n",
       "        [1.6841167 ],\n",
       "        [1.78148277],\n",
       "        [1.07465438],\n",
       "        [0.29690703],\n",
       "        [0.70718291],\n",
       "        [0.47710647],\n",
       "        [0.02691391],\n",
       "        [1.85400779],\n",
       "        [1.90503161],\n",
       "        [1.52892598],\n",
       "        [1.5878336 ],\n",
       "        [1.03642098],\n",
       "        [0.46240545],\n",
       "        [1.58042286],\n",
       "        [1.47619189],\n",
       "        [1.58512125],\n",
       "        [1.48048759],\n",
       "        [1.10440263],\n",
       "        [1.63373649],\n",
       "        [1.04086189],\n",
       "        [0.60191688],\n",
       "        [1.10960759],\n",
       "        [0.60078503],\n",
       "        [0.70347516],\n",
       "        [0.27371507],\n",
       "        [0.25371611],\n",
       "        [0.91725124],\n",
       "        [0.87251513],\n",
       "        [1.87263   ],\n",
       "        [0.54208833],\n",
       "        [0.60417711],\n",
       "        [0.67050291],\n",
       "        [1.69791307],\n",
       "        [0.27439594],\n",
       "        [0.94514529],\n",
       "        [0.48178654],\n",
       "        [1.73441661],\n",
       "        [0.88144573],\n",
       "        [0.89419612],\n",
       "        [1.3129376 ],\n",
       "        [0.58639141],\n",
       "        [0.52500862],\n",
       "        [1.80684846],\n",
       "        [0.03685458],\n",
       "        [0.86106309],\n",
       "        [0.53119705],\n",
       "        [1.68560767],\n",
       "        [0.29420524],\n",
       "        [1.50802007],\n",
       "        [0.55441831],\n",
       "        [1.58811281]])]"
      ]
     },
     "execution_count": 15,
     "metadata": {},
     "output_type": "execute_result"
    }
   ],
   "source": [
    "[np.ones((100,1)) , x]"
   ]
  },
  {
   "cell_type": "code",
   "execution_count": 16,
   "metadata": {},
   "outputs": [],
   "source": [
    "x_b = np.c_[np.ones((100,1)),x]"
   ]
  },
  {
   "cell_type": "code",
   "execution_count": 17,
   "metadata": {},
   "outputs": [],
   "source": [
    "myweights = np.linalg.inv(x_b.T.dot(x_b)).dot(x_b.T).dot(y)"
   ]
  },
  {
   "cell_type": "code",
   "execution_count": 18,
   "metadata": {},
   "outputs": [
    {
     "data": {
      "text/plain": [
       "array([[2.81116829],\n",
       "       [5.91850045]])"
      ]
     },
     "execution_count": 18,
     "metadata": {},
     "output_type": "execute_result"
    }
   ],
   "source": [
    "myweights"
   ]
  },
  {
   "cell_type": "code",
   "execution_count": 19,
   "metadata": {},
   "outputs": [],
   "source": [
    "xdata = np.array([[0],[2]])\n",
    "xnew = np.c_[np.ones((2,1)),xdata]\n",
    "pred = xnew.dot(myweights)"
   ]
  },
  {
   "cell_type": "code",
   "execution_count": 20,
   "metadata": {},
   "outputs": [
    {
     "data": {
      "text/plain": [
       "[<matplotlib.lines.Line2D at 0x1f2d33b9910>]"
      ]
     },
     "execution_count": 20,
     "metadata": {},
     "output_type": "execute_result"
    },
    {
     "data": {
      "image/png": "[encoded data removed]",
      "text/plain": [
       "<Figure size 432x288 with 1 Axes>"
      ]
     },
     "metadata": {
      "needs_background": "light"
     },
     "output_type": "display_data"
    }
   ],
   "source": [
    "plt.plot(xdata,pred,'r-')\n",
    "plt.plot(x,y,'b.')"
   ]
  },
  {
   "cell_type": "code",
   "execution_count": 26,
   "metadata": {},
   "outputs": [
    {
     "data": {
      "image/png": "[encoded data removed]",
      "text/plain": [
       "<Figure size 432x288 with 1 Axes>"
      ]
     },
     "metadata": {
      "needs_background": "light"
     },
     "output_type": "display_data"
    }
   ],
   "source": [
    "x = 6*np.random.randn(100,1)-3\n",
    "y = 0.5*(x**2)+x+2+np.random.rand(100,1)\n",
    "\n",
    "plt.plot(x,y,'b.')\n",
    "plt.show()"
   ]
  },
  {
   "cell_type": "code",
   "execution_count": 24,
   "metadata": {},
   "outputs": [
    {
     "data": {
      "text/plain": [
       "((100, 1), (100, 1))"
      ]
     },
     "execution_count": 24,
     "metadata": {},
     "output_type": "execute_result"
    }
   ],
   "source": [
    "x.shape , y.shape"
   ]
  },
  {
   "cell_type": "code",
   "execution_count": 27,
   "metadata": {},
   "outputs": [],
   "source": [
    "from sklearn.preprocessing import PolynomialFeatures\n",
    "from sklearn.linear_model import LinearRegression"
   ]
  },
  {
   "cell_type": "code",
   "execution_count": 28,
   "metadata": {},
   "outputs": [
    {
     "data": {
      "image/png": "[encoded data removed]",
      "text/plain": [
       "<Figure size 432x288 with 1 Axes>"
      ]
     },
     "metadata": {
      "needs_background": "light"
     },
     "output_type": "display_data"
    }
   ],
   "source": [
    "x = 6*np.random.randn(100,1)-3\n",
    "y = 0.5*(x**2)+x+2+np.random.rand(100,1)\n",
    "\n",
    "plt.plot(x,y,'b.')\n",
    "plt.axis([-3,3,0,10])\n",
    "plt.show()"
   ]
  },
  {
   "cell_type": "code",
   "execution_count": 31,
   "metadata": {},
   "outputs": [],
   "source": [
    "poly_f = PolynomialFeatures(degree=2,include_bias=False)"
   ]
  },
  {
   "cell_type": "code",
   "execution_count": 33,
   "metadata": {},
   "outputs": [],
   "source": [
    "x_poly = poly_f.fit_transform(x)"
   ]
  },
  {
   "cell_type": "code",
   "execution_count": 35,
   "metadata": {},
   "outputs": [
    {
     "data": {
      "text/plain": [
       "LinearRegression()"
      ]
     },
     "execution_count": 35,
     "metadata": {},
     "output_type": "execute_result"
    }
   ],
   "source": [
    "lin_reg = LinearRegression()\n",
    "lin_reg.fit(x_poly,y)"
   ]
  },
  {
   "cell_type": "code",
   "execution_count": 36,
   "metadata": {},
   "outputs": [
    {
     "data": {
      "text/plain": [
       "array([2.49357336])"
      ]
     },
     "execution_count": 36,
     "metadata": {},
     "output_type": "execute_result"
    }
   ],
   "source": [
    "lin_reg.intercept_"
   ]
  },
  {
   "cell_type": "code",
   "execution_count": 37,
   "metadata": {},
   "outputs": [
    {
     "data": {
      "text/plain": [
       "array([[0.99912232, 0.49984118]])"
      ]
     },
     "execution_count": 37,
     "metadata": {},
     "output_type": "execute_result"
    }
   ],
   "source": [
    "lin_reg.coef_"
   ]
  },
  {
   "cell_type": "code",
   "execution_count": 39,
   "metadata": {},
   "outputs": [
    {
     "data": {
      "image/png": "[encoded data removed]",
      "text/plain": [
       "<Figure size 432x288 with 1 Axes>"
      ]
     },
     "metadata": {
      "needs_background": "light"
     },
     "output_type": "display_data"
    }
   ],
   "source": [
    "xnew = np.linspace(-3,3,100).reshape(100,1)\n",
    "xnewPoly = poly_f.transform(xnew)\n",
    "ypredict = lin_reg.predict(xnewPoly)\n",
    "\n",
    "plt.plot(xnew,ypredict,'r-')\n",
    "plt.plot(x,y,'b.')\n",
    "plt.show()"
   ]
  },
  {
   "cell_type": "code",
   "execution_count": 40,
   "metadata": {},
   "outputs": [
    {
     "data": {
      "image/png": "[encoded data removed]",
      "text/plain": [
       "<Figure size 432x288 with 1 Axes>"
      ]
     },
     "metadata": {
      "needs_background": "light"
     },
     "output_type": "display_data"
    }
   ],
   "source": [
    "import matplotlib.pyplot as plt\n",
    "\n",
    "x = [1,2,3,5,6,7,8,9,10,12,13,14,15,16,18,19,21,22]\n",
    "y = [100,90,80,60,60,55,60,65,70,70,75,76,78,79,90,99,99,100]\n",
    "\n",
    "plt.scatter(x, y)\n",
    "plt.show()\n"
   ]
  },
  {
   "cell_type": "code",
   "execution_count": 41,
   "metadata": {},
   "outputs": [
    {
     "data": {
      "image/png": "[encoded data removed]",
      "text/plain": [
       "<Figure size 432x288 with 1 Axes>"
      ]
     },
     "metadata": {
      "needs_background": "light"
     },
     "output_type": "display_data"
    }
   ],
   "source": [
    "import numpy\n",
    "import matplotlib.pyplot as plt\n",
    "\n",
    "x = [1,2,3,5,6,7,8,9,10,12,13,14,15,16,18,19,21,22]\n",
    "y = [100,90,80,60,60,55,60,65,70,70,75,76,78,79,90,99,99,100]\n",
    "\n",
    "mymodel = numpy.poly1d(numpy.polyfit(x, y, 3))\n",
    "\n",
    "myline = numpy.linspace(1, 22, 100)\n",
    "\n",
    "plt.scatter(x, y)\n",
    "plt.plot(myline, mymodel(myline))\n",
    "plt.show()\n"
   ]
  },
  {
   "cell_type": "code",
   "execution_count": 42,
   "metadata": {},
   "outputs": [],
   "source": [
    "t1 =  np.array([\n",
    "                    [ 1,    1000],\n",
    "                    [ 5,   10000],\n",
    "                    [10,  100000],\n",
    "               ])\n",
    "t2 =  np.array([\n",
    "                    [  2,    100],\n",
    "                    [ 15,  20000],\n",
    "                    [100, 300000],\n",
    "               ])"
   ]
  },
  {
   "cell_type": "code",
   "execution_count": null,
   "metadata": {},
   "outputs": [],
   "source": [
    "from keras.models import Model\n",
    "from keras.layers import Input, Dense, LSTM\n",
    "import numpy as np\n",
    "\n",
    "x = np.array([[[1.],[2.],[3.],[4.],[5.]]])\n",
    "y = np.array([6.])\n",
    "\n",
    "xInput = Input(batch_shape=(None,5,1))\n",
    "xLstm = LSTM(3)(xInput)\n",
    "xOutput = Dense(1)(xLstm)\n",
    "\n",
    "model = Model(xInput, xOutput)\n",
    "model.compile(loss='mean_squared_error', optimizer='adam')\n",
    "\n",
    "print(model.summary())\n",
    "\n",
    "model.fit(x,y,epochs=50,batch_size=1,verbose=0)\n",
    "model.predict(x,batch_zise=1)\n"
   ]
  },
  {
   "cell_type": "code",
   "execution_count": 43,
   "metadata": {},
   "outputs": [
    {
     "name": "stdout",
     "output_type": "stream",
     "text": [
      "<bound method Model.summary of <tensorflow.python.keras.engine.functional.Functional object at 0x000001F2DCE28F70>>\n"
     ]
    }
   ],
   "source": [
    "from keras.models import Model\n",
    "from keras.layers import Input, Dense, LSTM, TimeDistributed\n",
    "import numpy as np\n",
    "\n",
    "\n",
    "x = np.array([[[1.], [2.], [3.], [4.], [5.]]])\n",
    "y = np.array([[[2.], [3.], [4.], [5.], [6.]]])\n",
    "xInput = Input(batch_shape=(None, 5, 1))\n",
    "xLstm = LSTM(3, return_sequences=True)(xInput)\n",
    "xOutput = TimeDistributed(Dense(1))(xLstm)\n",
    "model = Model(xInput, xOutput)\n",
    "model.compile(loss='mean_squared_error', optimizer='adam')\n",
    "print(model.summary)\n"
   ]
  },
  {
   "cell_type": "code",
   "execution_count": null,
   "metadata": {},
   "outputs": [],
   "source": []
  },
  {
   "cell_type": "code",
   "execution_count": null,
   "metadata": {},
   "outputs": [],
   "source": []
  },
  {
   "cell_type": "code",
   "execution_count": null,
   "metadata": {},
   "outputs": [],
   "source": []
  },
  {
   "cell_type": "code",
   "execution_count": null,
   "metadata": {},
   "outputs": [],
   "source": []
  },
  {
   "cell_type": "code",
   "execution_count": null,
   "metadata": {},
   "outputs": [],
   "source": []
  },
  {
   "cell_type": "code",
   "execution_count": null,
   "metadata": {},
   "outputs": [],
   "source": []
  },
  {
   "cell_type": "code",
   "execution_count": null,
   "metadata": {},
   "outputs": [],
   "source": []
  }
 ],
 "metadata": {
  "kernelspec": {
   "display_name": "Python 3",
   "language": "python",
   "name": "python3"
  },
  "language_info": {
   "codemirror_mode": {
    "name": "ipython",
    "version": 3
   },
   "file_extension": ".py",
   "mimetype": "text/x-python",
   "name": "python",
   "nbconvert_exporter": "python",
   "pygments_lexer": "ipython3",
   "version": "3.8.3"
  }
 },
 "nbformat": 4,
 "nbformat_minor": 4
}
