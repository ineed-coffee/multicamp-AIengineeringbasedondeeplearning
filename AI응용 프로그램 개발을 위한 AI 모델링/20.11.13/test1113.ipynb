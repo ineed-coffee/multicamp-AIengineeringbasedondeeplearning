{
 "cells": [
  {
   "cell_type": "code",
   "execution_count": 1,
   "metadata": {},
   "outputs": [],
   "source": [
    "import pandas as pd\n",
    "import numpy as np\n",
    "import matplotlib.pyplot as plt\n",
    "import seaborn as sns\n",
    "sns.set()"
   ]
  },
  {
   "cell_type": "code",
   "execution_count": 3,
   "metadata": {},
   "outputs": [],
   "source": [
    "from keras.models import Sequential,Model\n",
    "from keras.layers import Dense , Activation , Input , LSTM , Flatten , Dropout\n",
    "from keras.callbacks import EarlyStopping , ModelCheckpoint"
   ]
  },
  {
   "cell_type": "markdown",
   "metadata": {},
   "source": [
    "# Notes  \n",
    "CNN flow : 이미지 -> 합성곱 계층 ->  신경망 -> 출력  \n",
    "  \n",
    "    \n",
    "\\*합성곱 계층 : {filter-> relu} X N (병렬식)  \n",
    "- filter 역할 : 이미지에서 특징값을 추출  \n",
    "- relu 역할 : 특징값을 비선형 값으로 변형하는 활성화 함수  \n",
    "---\n",
    "ㄴ"
   ]
  },
  {
   "cell_type": "markdown",
   "metadata": {},
   "source": [
    "__MLP로__"
   ]
  },
  {
   "cell_type": "code",
   "execution_count": 17,
   "metadata": {},
   "outputs": [],
   "source": [
    "import keras.datasets as kd\n",
    "(x_train, y_train), (x_test, y_test) = kd.mnist.load_data()"
   ]
  },
  {
   "cell_type": "code",
   "execution_count": 5,
   "metadata": {},
   "outputs": [
    {
     "data": {
      "text/plain": [
       "((60000, 28, 28), (10000, 28, 28))"
      ]
     },
     "execution_count": 5,
     "metadata": {},
     "output_type": "execute_result"
    }
   ],
   "source": [
    "x_train.shape , x_test.shape"
   ]
  },
  {
   "cell_type": "code",
   "execution_count": 10,
   "metadata": {},
   "outputs": [],
   "source": [
    "gray_scale = 255\n",
    "x_train = x_train/gray_scale\n",
    "x_test = x_test/gray_scale"
   ]
  },
  {
   "cell_type": "code",
   "execution_count": 18,
   "metadata": {},
   "outputs": [],
   "source": [
    "model = Sequential([\n",
    "    Flatten(input_shape=(28, 28)), # 데이터 차원 변경\n",
    "    Dense(256, activation='relu'), # 첫번째 히든 레이어 (h1)\n",
    "    Dense(128, activation='relu'), # 두번째 히든 레이어 (h2)\n",
    "    Dropout(0.1), # 두번째 히든 레이어(h2)에 드랍아웃(10%) 적용\n",
    "    Dense(10), # 세번째 히든 레이어 (logit)\n",
    "    Activation('softmax') # softmax layer\n",
    "])\n"
   ]
  },
  {
   "cell_type": "code",
   "execution_count": 19,
   "metadata": {},
   "outputs": [],
   "source": [
    "model.compile(optimizer='adam',\n",
    "              loss='sparse_categorical_crossentropy',\n",
    "              metrics=['accuracy']\n",
    ")"
   ]
  },
  {
   "cell_type": "code",
   "execution_count": 20,
   "metadata": {
    "scrolled": true
   },
   "outputs": [
    {
     "name": "stdout",
     "output_type": "stream",
     "text": [
      "Epoch 1/300\n",
      "48/48 [==============================] - 1s 17ms/step - loss: 9.1899 - accuracy: 0.7556 - val_loss: 1.2617 - val_accuracy: 0.8687\n",
      "Epoch 2/300\n",
      "48/48 [==============================] - 1s 14ms/step - loss: 1.0527 - accuracy: 0.8344 - val_loss: 0.6631 - val_accuracy: 0.8656\n",
      "Epoch 3/300\n",
      "48/48 [==============================] - 1s 14ms/step - loss: 0.6265 - accuracy: 0.8635 - val_loss: 0.4938 - val_accuracy: 0.8935\n",
      "Epoch 4/300\n",
      "48/48 [==============================] - 1s 14ms/step - loss: 0.4434 - accuracy: 0.8919 - val_loss: 0.4240 - val_accuracy: 0.9131\n",
      "Epoch 5/300\n",
      "48/48 [==============================] - 1s 14ms/step - loss: 0.3484 - accuracy: 0.9116 - val_loss: 0.3843 - val_accuracy: 0.9204\n",
      "Epoch 6/300\n",
      "48/48 [==============================] - 1s 14ms/step - loss: 0.2869 - accuracy: 0.9237 - val_loss: 0.3704 - val_accuracy: 0.9244\n",
      "Epoch 7/300\n",
      "48/48 [==============================] - 1s 14ms/step - loss: 0.2516 - accuracy: 0.9298 - val_loss: 0.3414 - val_accuracy: 0.9320\n",
      "Epoch 8/300\n",
      "48/48 [==============================] - 1s 15ms/step - loss: 0.2059 - accuracy: 0.9408 - val_loss: 0.3298 - val_accuracy: 0.9377\n",
      "Epoch 9/300\n",
      "48/48 [==============================] - 1s 14ms/step - loss: 0.1813 - accuracy: 0.9464 - val_loss: 0.3231 - val_accuracy: 0.9378\n",
      "Epoch 10/300\n",
      "48/48 [==============================] - 1s 15ms/step - loss: 0.1593 - accuracy: 0.9529 - val_loss: 0.3212 - val_accuracy: 0.9406\n",
      "Epoch 11/300\n",
      "48/48 [==============================] - 1s 15ms/step - loss: 0.1445 - accuracy: 0.9565 - val_loss: 0.3020 - val_accuracy: 0.9421\n",
      "Epoch 12/300\n",
      "48/48 [==============================] - 1s 14ms/step - loss: 0.1291 - accuracy: 0.9597 - val_loss: 0.2999 - val_accuracy: 0.9438\n",
      "Epoch 13/300\n",
      "48/48 [==============================] - 1s 14ms/step - loss: 0.1161 - accuracy: 0.9635 - val_loss: 0.3105 - val_accuracy: 0.9457\n",
      "Epoch 14/300\n",
      "48/48 [==============================] - 1s 14ms/step - loss: 0.1097 - accuracy: 0.9652 - val_loss: 0.2968 - val_accuracy: 0.9459\n",
      "Epoch 15/300\n",
      "48/48 [==============================] - 1s 14ms/step - loss: 0.1003 - accuracy: 0.9678 - val_loss: 0.2895 - val_accuracy: 0.9482\n",
      "Epoch 16/300\n",
      "48/48 [==============================] - 1s 14ms/step - loss: 0.0893 - accuracy: 0.9708 - val_loss: 0.2982 - val_accuracy: 0.9509\n",
      "Epoch 17/300\n",
      "48/48 [==============================] - 1s 14ms/step - loss: 0.0833 - accuracy: 0.9728 - val_loss: 0.2858 - val_accuracy: 0.9503\n",
      "Epoch 18/300\n",
      "48/48 [==============================] - 1s 14ms/step - loss: 0.0812 - accuracy: 0.9736 - val_loss: 0.2858 - val_accuracy: 0.9521\n",
      "Epoch 19/300\n",
      "48/48 [==============================] - 1s 14ms/step - loss: 0.0746 - accuracy: 0.9761 - val_loss: 0.2834 - val_accuracy: 0.9530\n",
      "Epoch 20/300\n",
      "48/48 [==============================] - 1s 14ms/step - loss: 0.0714 - accuracy: 0.9764 - val_loss: 0.2790 - val_accuracy: 0.9532\n",
      "Epoch 21/300\n",
      "48/48 [==============================] - 1s 14ms/step - loss: 0.0666 - accuracy: 0.9782 - val_loss: 0.2857 - val_accuracy: 0.9541\n",
      "Epoch 22/300\n",
      "48/48 [==============================] - 1s 14ms/step - loss: 0.0575 - accuracy: 0.9800 - val_loss: 0.2797 - val_accuracy: 0.9552\n",
      "Epoch 23/300\n",
      "48/48 [==============================] - 1s 14ms/step - loss: 0.0594 - accuracy: 0.9798 - val_loss: 0.2820 - val_accuracy: 0.9553\n",
      "Epoch 24/300\n",
      "48/48 [==============================] - 1s 14ms/step - loss: 0.0578 - accuracy: 0.9807 - val_loss: 0.2889 - val_accuracy: 0.9525\n",
      "Epoch 25/300\n",
      "48/48 [==============================] - 1s 14ms/step - loss: 0.0550 - accuracy: 0.9816 - val_loss: 0.2817 - val_accuracy: 0.9567\n",
      "Epoch 26/300\n",
      "48/48 [==============================] - 1s 14ms/step - loss: 0.0508 - accuracy: 0.9835 - val_loss: 0.2779 - val_accuracy: 0.9563\n",
      "Epoch 27/300\n",
      "48/48 [==============================] - 1s 14ms/step - loss: 0.0474 - accuracy: 0.9839 - val_loss: 0.2957 - val_accuracy: 0.9557\n",
      "Epoch 28/300\n",
      "48/48 [==============================] - 1s 14ms/step - loss: 0.0437 - accuracy: 0.9850 - val_loss: 0.2933 - val_accuracy: 0.9564\n",
      "Epoch 29/300\n",
      "48/48 [==============================] - 1s 14ms/step - loss: 0.0441 - accuracy: 0.9845 - val_loss: 0.2884 - val_accuracy: 0.9586\n",
      "Epoch 30/300\n",
      "48/48 [==============================] - 1s 14ms/step - loss: 0.0424 - accuracy: 0.9857 - val_loss: 0.3017 - val_accuracy: 0.9575\n",
      "Epoch 31/300\n",
      "48/48 [==============================] - 1s 14ms/step - loss: 0.0397 - accuracy: 0.9862 - val_loss: 0.2804 - val_accuracy: 0.9589\n",
      "Epoch 32/300\n",
      "48/48 [==============================] - 1s 14ms/step - loss: 0.0387 - accuracy: 0.9872 - val_loss: 0.2803 - val_accuracy: 0.9598\n",
      "Epoch 33/300\n",
      "48/48 [==============================] - 1s 14ms/step - loss: 0.0382 - accuracy: 0.9874 - val_loss: 0.2839 - val_accuracy: 0.9579\n",
      "Epoch 34/300\n",
      "48/48 [==============================] - 1s 14ms/step - loss: 0.0369 - accuracy: 0.9872 - val_loss: 0.3052 - val_accuracy: 0.9560\n",
      "Epoch 35/300\n",
      "48/48 [==============================] - 1s 14ms/step - loss: 0.0352 - accuracy: 0.9877 - val_loss: 0.2780 - val_accuracy: 0.9583\n",
      "Epoch 36/300\n",
      "48/48 [==============================] - 1s 14ms/step - loss: 0.0364 - accuracy: 0.9884 - val_loss: 0.2750 - val_accuracy: 0.9584\n",
      "Epoch 37/300\n",
      "48/48 [==============================] - 1s 14ms/step - loss: 0.0352 - accuracy: 0.9884 - val_loss: 0.2766 - val_accuracy: 0.9603\n",
      "Epoch 38/300\n",
      "48/48 [==============================] - 1s 15ms/step - loss: 0.0324 - accuracy: 0.9893 - val_loss: 0.2833 - val_accuracy: 0.9606\n",
      "Epoch 39/300\n",
      "48/48 [==============================] - 1s 14ms/step - loss: 0.0331 - accuracy: 0.9893 - val_loss: 0.2751 - val_accuracy: 0.9617\n",
      "Epoch 40/300\n",
      "48/48 [==============================] - 1s 14ms/step - loss: 0.0318 - accuracy: 0.9887 - val_loss: 0.2666 - val_accuracy: 0.9624\n",
      "Epoch 41/300\n",
      "48/48 [==============================] - 1s 15ms/step - loss: 0.0342 - accuracy: 0.9889 - val_loss: 0.2953 - val_accuracy: 0.9600\n",
      "Epoch 42/300\n",
      "48/48 [==============================] - 1s 14ms/step - loss: 0.0325 - accuracy: 0.9889 - val_loss: 0.2822 - val_accuracy: 0.9612\n",
      "Epoch 43/300\n",
      "48/48 [==============================] - 1s 14ms/step - loss: 0.0329 - accuracy: 0.9891 - val_loss: 0.2802 - val_accuracy: 0.9618\n",
      "Epoch 44/300\n",
      "48/48 [==============================] - 1s 15ms/step - loss: 0.0286 - accuracy: 0.9910 - val_loss: 0.2744 - val_accuracy: 0.9610\n",
      "Epoch 45/300\n",
      "48/48 [==============================] - 1s 14ms/step - loss: 0.0285 - accuracy: 0.9906 - val_loss: 0.3134 - val_accuracy: 0.9612\n",
      "313/313 [==============================] - 0s 1ms/step - loss: 0.3274 - accuracy: 0.9603\n"
     ]
    }
   ],
   "source": [
    "callbacks = [EarlyStopping(monitor='val_accuracy', patience=5)]\n",
    "model.fit(x_train, y_train, epochs=300, batch_size=1000, validation_split = 0.2, callbacks=callbacks)\n",
    "results = model.evaluate(x_test,  y_test, verbose = 1)"
   ]
  },
  {
   "cell_type": "code",
   "execution_count": 21,
   "metadata": {},
   "outputs": [
    {
     "data": {
      "text/plain": [
       "[0.32740500569343567, 0.9603000283241272]"
      ]
     },
     "execution_count": 21,
     "metadata": {},
     "output_type": "execute_result"
    }
   ],
   "source": [
    "results"
   ]
  },
  {
   "cell_type": "markdown",
   "metadata": {},
   "source": [
    "__CNN으로__"
   ]
  },
  {
   "cell_type": "code",
   "execution_count": 27,
   "metadata": {},
   "outputs": [],
   "source": [
    "from keras.datasets import mnist\n",
    "from keras.models import Sequential\n",
    "from keras.layers import Dense, Dropout, Flatten\n",
    "from keras.layers import Conv2D, MaxPooling2D\n",
    "from keras.losses import categorical_crossentropy\n",
    "from keras.optimizers import Adam\n",
    "from keras.callbacks import EarlyStopping, ModelCheckpoint\n",
    "from keras.utils import to_categorical"
   ]
  },
  {
   "cell_type": "code",
   "execution_count": 23,
   "metadata": {},
   "outputs": [
    {
     "name": "stdout",
     "output_type": "stream",
     "text": [
      "(60000, 28, 28, 1)\n",
      "(10000, 28, 28, 1)\n"
     ]
    }
   ],
   "source": [
    "(x_train, y_train), (x_test, y_test) = mnist.load_data()\n",
    "x_train = np.reshape(x_train, (60000,28,28,1))\n",
    "x_test = np.reshape(x_test, (10000,28,28,1))\n",
    "\n",
    "print(x_train.shape)\n",
    "print(x_test.shape)"
   ]
  },
  {
   "cell_type": "code",
   "execution_count": 25,
   "metadata": {},
   "outputs": [],
   "source": [
    "gray_scale = 255\n",
    "x_train = x_train/gray_scale\n",
    "x_test = x_test/gray_scale"
   ]
  },
  {
   "cell_type": "code",
   "execution_count": 28,
   "metadata": {},
   "outputs": [],
   "source": [
    "num_classes = 10\n",
    "y_train = to_categorical(y_train, num_classes)\n",
    "y_test = to_categorical(y_test, num_classes)"
   ]
  },
  {
   "cell_type": "markdown",
   "metadata": {},
   "source": [
    "필터를 16개 , 32개 로 설정해여 Conv2D를 구성해보자"
   ]
  },
  {
   "cell_type": "code",
   "execution_count": 30,
   "metadata": {},
   "outputs": [],
   "source": [
    "model = Sequential()\n",
    "model.add(Conv2D(16, kernel_size=(5, 5),\n",
    "                 activation='relu',\n",
    "                 input_shape=(28,28,1),padding='same'))\n",
    "\n",
    "model.add(MaxPooling2D(pool_size=(2, 2)))\n",
    "\n",
    "model.add(Conv2D(32, kernel_size=(5, 5), activation='relu',padding='same'))\n",
    "\n",
    "model.add(MaxPooling2D(pool_size=(2, 2)))\n",
    "\n",
    "model.add(Flatten())\n",
    "\n",
    "model.add(Dense(128, activation='relu'))\n",
    "\n",
    "model.add(Dense(num_classes, activation='softmax'))\n"
   ]
  },
  {
   "cell_type": "code",
   "execution_count": 31,
   "metadata": {},
   "outputs": [
    {
     "name": "stdout",
     "output_type": "stream",
     "text": [
      "Model: \"sequential_2\"\n",
      "_________________________________________________________________\n",
      "Layer (type)                 Output Shape              Param #   \n",
      "=================================================================\n",
      "conv2d (Conv2D)              (None, 28, 28, 16)        416       \n",
      "_________________________________________________________________\n",
      "max_pooling2d (MaxPooling2D) (None, 14, 14, 16)        0         \n",
      "_________________________________________________________________\n",
      "conv2d_1 (Conv2D)            (None, 14, 14, 32)        12832     \n",
      "_________________________________________________________________\n",
      "max_pooling2d_1 (MaxPooling2 (None, 7, 7, 32)          0         \n",
      "_________________________________________________________________\n",
      "flatten_2 (Flatten)          (None, 1568)              0         \n",
      "_________________________________________________________________\n",
      "dense_6 (Dense)              (None, 128)               200832    \n",
      "_________________________________________________________________\n",
      "dense_7 (Dense)              (None, 10)                1290      \n",
      "=================================================================\n",
      "Total params: 215,370\n",
      "Trainable params: 215,370\n",
      "Non-trainable params: 0\n",
      "_________________________________________________________________\n"
     ]
    }
   ],
   "source": [
    "model.summary()"
   ]
  },
  {
   "cell_type": "code",
   "execution_count": 32,
   "metadata": {},
   "outputs": [
    {
     "name": "stdout",
     "output_type": "stream",
     "text": [
      "Epoch 1/5\n",
      "108/108 [==============================] - 22s 204ms/step - loss: 0.4935 - accuracy: 0.8639 - val_loss: 0.1302 - val_accuracy: 0.9615\n",
      "Epoch 2/5\n",
      "108/108 [==============================] - 22s 200ms/step - loss: 0.1191 - accuracy: 0.9638 - val_loss: 0.0701 - val_accuracy: 0.9802\n",
      "Epoch 3/5\n",
      "108/108 [==============================] - 21s 194ms/step - loss: 0.0738 - accuracy: 0.9774 - val_loss: 0.0596 - val_accuracy: 0.9842\n",
      "Epoch 4/5\n",
      "108/108 [==============================] - 21s 194ms/step - loss: 0.0585 - accuracy: 0.9818 - val_loss: 0.0560 - val_accuracy: 0.9837\n",
      "Epoch 5/5\n",
      "108/108 [==============================] - 21s 194ms/step - loss: 0.0487 - accuracy: 0.9855 - val_loss: 0.0449 - val_accuracy: 0.9870\n"
     ]
    },
    {
     "data": {
      "text/plain": [
       "<tensorflow.python.keras.callbacks.History at 0x196803390c8>"
      ]
     },
     "execution_count": 32,
     "metadata": {},
     "output_type": "execute_result"
    }
   ],
   "source": [
    "model.compile(loss=categorical_crossentropy,optimizer=Adam(),\n",
    "              metrics=['accuracy'])\n",
    "callbacks = [EarlyStopping(monitor='val_accuracy', patience=2)]\n",
    "\n",
    "model.fit(x_train, y_train,\n",
    "          batch_size=500,\n",
    "          epochs=5,\n",
    "          verbose=1,\n",
    "          validation_split = 0.1, \n",
    "          callbacks=callbacks)\n"
   ]
  },
  {
   "cell_type": "code",
   "execution_count": 33,
   "metadata": {},
   "outputs": [
    {
     "name": "stdout",
     "output_type": "stream",
     "text": [
      "Test loss: 0.03994368389248848\n",
      "Test accuracy: 0.9866999983787537\n"
     ]
    }
   ],
   "source": [
    "score = model.evaluate(x_test, y_test, verbose=0)\n",
    "print('Test loss:', score[0])\n",
    "print('Test accuracy:', score[1])"
   ]
  },
  {
   "cell_type": "code",
   "execution_count": null,
   "metadata": {},
   "outputs": [],
   "source": []
  }
 ],
 "metadata": {
  "kernelspec": {
   "display_name": "Python 3",
   "language": "python",
   "name": "python3"
  },
  "language_info": {
   "codemirror_mode": {
    "name": "ipython",
    "version": 3
   },
   "file_extension": ".py",
   "mimetype": "text/x-python",
   "name": "python",
   "nbconvert_exporter": "python",
   "pygments_lexer": "ipython3",
   "version": "3.7.6"
  }
 },
 "nbformat": 4,
 "nbformat_minor": 4
}
