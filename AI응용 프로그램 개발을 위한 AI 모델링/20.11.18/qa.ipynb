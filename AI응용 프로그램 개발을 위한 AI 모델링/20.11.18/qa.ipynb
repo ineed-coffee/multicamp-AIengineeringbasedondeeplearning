{
 "cells": [
  {
   "cell_type": "code",
   "execution_count": 25,
   "metadata": {},
   "outputs": [],
   "source": [
    "path='C:/임시/RData/example/'"
   ]
  },
  {
   "cell_type": "code",
   "execution_count": 26,
   "metadata": {},
   "outputs": [],
   "source": [
    "import keras\n",
    "import numpy as np\n",
    "import cv2\n",
    " \n",
    "np.random.seed(15)"
   ]
  },
  {
   "cell_type": "code",
   "execution_count": 27,
   "metadata": {},
   "outputs": [],
   "source": [
    "generator =ImageDataGenerator(rotation_range = 20,\n",
    "                              width_shift_range = 0.2,\n",
    "                              height_shift_range = 0.2,\n",
    "                              rescale = 1. / 255)"
   ]
  },
  {
   "cell_type": "code",
   "execution_count": 28,
   "metadata": {},
   "outputs": [],
   "source": [
    "batch_size = 4 # 한번에 4장씩 이미지 읽어옴\n",
    "iterations = 5 # 5번 증식을 진행\n",
    "images = []"
   ]
  },
  {
   "cell_type": "code",
   "execution_count": 29,
   "metadata": {},
   "outputs": [
    {
     "name": "stdout",
     "output_type": "stream",
     "text": [
      "Found 4 images belonging to 2 classes.\n"
     ]
    }
   ],
   "source": [
    "obj = generator.flow_from_directory(\n",
    "    path,\n",
    "    target_size = (150, 150),\n",
    "    batch_size = batch_size,\n",
    "    class_mode = 'binary')"
   ]
  },
  {
   "cell_type": "code",
   "execution_count": 30,
   "metadata": {},
   "outputs": [],
   "source": [
    "for i in enumerate(range(iterations)):\n",
    "    img, label = obj .next()\n",
    "    n_img = len(label)\n",
    "    base=cv2.cvtColor(img[0],cv2.COLOR_RGB2BGR)\n",
    "    for idx in range(n_img - 1):\n",
    "        img2 = cv2.cvtColor(img[idx + 1], cv2.COLOR_RGB2BGR)\n",
    "        base = np.hstack((base, img2))\n",
    "    images.append(base)\n",
    "\n",
    "img = images[0]\n",
    "for idx in range(len(images) - 1):\n",
    "    img = np.vstack((img, images[idx + 1]))\n"
   ]
  },
  {
   "cell_type": "code",
   "execution_count": 31,
   "metadata": {},
   "outputs": [],
   "source": [
    "cv2.imshow('result', img)\n",
    "cv2.waitKey()\n",
    "cv2.destroyAllWindows()"
   ]
  },
  {
   "cell_type": "code",
   "execution_count": 32,
   "metadata": {},
   "outputs": [],
   "source": [
    "import numpy\n",
    "from keras.models import Sequential\n",
    "from keras.layers import Dense\n",
    "from keras.layers import Flatten\n",
    "from keras.layers.convolutional import Conv2D\n",
    "from keras.layers.convolutional import MaxPooling2D\n",
    "from keras.utils import np_utils"
   ]
  },
  {
   "cell_type": "code",
   "execution_count": 33,
   "metadata": {},
   "outputs": [],
   "source": [
    "model = Sequential()\n",
    "\n",
    "model.add(Conv2D(2, (3, 3), padding='same', activation='relu', input_shape=(8, 8, 1)))\n",
    "model.add(MaxPooling2D(pool_size=(2, 2)))\n",
    "model.add(Conv2D(3, (2, 2), padding='same', activation='relu'))\n",
    "model.add(MaxPooling2D(pool_size=(2, 2)))\n",
    "model.add(Flatten())\n",
    "model.add(Dense(8, activation='relu'))\n",
    "model.add(Dense(3, activation='softmax'))\n"
   ]
  },
  {
   "cell_type": "code",
   "execution_count": 34,
   "metadata": {},
   "outputs": [
    {
     "name": "stdout",
     "output_type": "stream",
     "text": [
      "Model: \"sequential\"\n",
      "_________________________________________________________________\n",
      "Layer (type)                 Output Shape              Param #   \n",
      "=================================================================\n",
      "conv2d (Conv2D)              (None, 8, 8, 2)           20        \n",
      "_________________________________________________________________\n",
      "max_pooling2d (MaxPooling2D) (None, 4, 4, 2)           0         \n",
      "_________________________________________________________________\n",
      "conv2d_1 (Conv2D)            (None, 4, 4, 3)           27        \n",
      "_________________________________________________________________\n",
      "max_pooling2d_1 (MaxPooling2 (None, 2, 2, 3)           0         \n",
      "_________________________________________________________________\n",
      "flatten (Flatten)            (None, 12)                0         \n",
      "_________________________________________________________________\n",
      "dense (Dense)                (None, 8)                 104       \n",
      "_________________________________________________________________\n",
      "dense_1 (Dense)              (None, 3)                 27        \n",
      "=================================================================\n",
      "Total params: 178\n",
      "Trainable params: 178\n",
      "Non-trainable params: 0\n",
      "_________________________________________________________________\n"
     ]
    }
   ],
   "source": [
    "model.summary()"
   ]
  },
  {
   "cell_type": "code",
   "execution_count": 44,
   "metadata": {},
   "outputs": [],
   "source": [
    "train_datagen = ImageDataGenerator(rescale=1./255)"
   ]
  },
  {
   "cell_type": "code",
   "execution_count": 45,
   "metadata": {},
   "outputs": [
    {
     "name": "stdout",
     "output_type": "stream",
     "text": [
      "Found 45 images belonging to 3 classes.\n"
     ]
    }
   ],
   "source": [
    "# C:\\임시\\RData\\hand\\handwriting_shape\n",
    "train_generator = train_datagen.flow_from_directory(\n",
    "    'C:/임시/RData/hand/handwriting_shape/train',\n",
    "    target_size=(24,24),\n",
    "    batch_size=3, # 한 폴더에서 1장씩 총 3장 이미지를 가져와서 증식\n",
    "    class_mode='categorical'\n",
    ")"
   ]
  },
  {
   "cell_type": "code",
   "execution_count": 46,
   "metadata": {},
   "outputs": [],
   "source": [
    "test_datagen = ImageDataGenerator(rescale=1./255)"
   ]
  },
  {
   "cell_type": "code",
   "execution_count": 47,
   "metadata": {},
   "outputs": [
    {
     "name": "stdout",
     "output_type": "stream",
     "text": [
      "Found 15 images belonging to 3 classes.\n"
     ]
    }
   ],
   "source": [
    "test_generator = test_datagen.flow_from_directory(\n",
    "    'C:/임시/RData/hand/handwriting_shape/test',\n",
    "    target_size=(24,24),\n",
    "    batch_size=3,\n",
    "    class_mode='categorical'\n",
    ")"
   ]
  },
  {
   "cell_type": "code",
   "execution_count": 48,
   "metadata": {},
   "outputs": [],
   "source": [
    "model = Sequential()\n",
    "\n",
    "model.add(Conv2D(32, kernel_size=(3, 3),activation='relu',input_shape=(24,24,3)))\n",
    "\n",
    "model.add(Conv2D(64, (3, 3), activation='relu'))\n",
    "\n",
    "model.add(MaxPooling2D(pool_size=(2, 2)))\n",
    "\n",
    "model.add(Flatten())\n",
    "\n",
    "model.add(Dense(128, activation='relu'))\n",
    "\n",
    "model.add(Dense(3, activation='softmax'))"
   ]
  },
  {
   "cell_type": "code",
   "execution_count": 40,
   "metadata": {},
   "outputs": [
    {
     "name": "stdout",
     "output_type": "stream",
     "text": [
      "Model: \"sequential_1\"\n",
      "_________________________________________________________________\n",
      "Layer (type)                 Output Shape              Param #   \n",
      "=================================================================\n",
      "conv2d_2 (Conv2D)            (None, 22, 22, 32)        896       \n",
      "_________________________________________________________________\n",
      "conv2d_3 (Conv2D)            (None, 20, 20, 64)        18496     \n",
      "_________________________________________________________________\n",
      "max_pooling2d_2 (MaxPooling2 (None, 10, 10, 64)        0         \n",
      "_________________________________________________________________\n",
      "flatten_1 (Flatten)          (None, 6400)              0         \n",
      "_________________________________________________________________\n",
      "dense_2 (Dense)              (None, 128)               819328    \n",
      "_________________________________________________________________\n",
      "dense_3 (Dense)              (None, 3)                 387       \n",
      "=================================================================\n",
      "Total params: 839,107\n",
      "Trainable params: 839,107\n",
      "Non-trainable params: 0\n",
      "_________________________________________________________________\n"
     ]
    }
   ],
   "source": [
    "model.summary()"
   ]
  },
  {
   "cell_type": "code",
   "execution_count": 49,
   "metadata": {},
   "outputs": [],
   "source": [
    "model.compile(loss='categorical_crossentropy',optimizer='adam',metrics=['accuracy'])"
   ]
  },
  {
   "cell_type": "code",
   "execution_count": 50,
   "metadata": {},
   "outputs": [
    {
     "name": "stdout",
     "output_type": "stream",
     "text": [
      "Epoch 1/50\n",
      "15/15 [==============================] - 0s 21ms/step - loss: 1.0123 - accuracy: 0.6444 - val_loss: 0.6704 - val_accuracy: 1.0000\n",
      "Epoch 2/50\n",
      "15/15 [==============================] - 0s 13ms/step - loss: 0.3278 - accuracy: 0.9333 - val_loss: 0.1778 - val_accuracy: 0.9333\n",
      "Epoch 3/50\n",
      "15/15 [==============================] - 0s 12ms/step - loss: 0.0907 - accuracy: 0.9778 - val_loss: 0.0380 - val_accuracy: 1.0000\n",
      "Epoch 4/50\n",
      "15/15 [==============================] - 0s 12ms/step - loss: 0.0153 - accuracy: 1.0000 - val_loss: 0.0307 - val_accuracy: 1.0000\n",
      "Epoch 5/50\n",
      "15/15 [==============================] - 0s 12ms/step - loss: 0.0027 - accuracy: 1.0000 - val_loss: 0.0084 - val_accuracy: 1.0000\n",
      "Epoch 6/50\n",
      "15/15 [==============================] - 0s 12ms/step - loss: 9.2892e-04 - accuracy: 1.0000 - val_loss: 0.0077 - val_accuracy: 1.0000\n",
      "Epoch 7/50\n",
      "15/15 [==============================] - 0s 12ms/step - loss: 5.3778e-04 - accuracy: 1.0000 - val_loss: 0.0086 - val_accuracy: 1.0000\n",
      "Epoch 8/50\n",
      "15/15 [==============================] - 0s 12ms/step - loss: 4.0688e-04 - accuracy: 1.0000 - val_loss: 0.0085 - val_accuracy: 1.0000\n",
      "Epoch 9/50\n",
      "15/15 [==============================] - 0s 12ms/step - loss: 3.2876e-04 - accuracy: 1.0000 - val_loss: 0.0080 - val_accuracy: 1.0000\n",
      "Epoch 10/50\n",
      "15/15 [==============================] - 0s 12ms/step - loss: 2.5358e-04 - accuracy: 1.0000 - val_loss: 0.0072 - val_accuracy: 1.0000\n",
      "Epoch 11/50\n",
      "15/15 [==============================] - 0s 13ms/step - loss: 1.9921e-04 - accuracy: 1.0000 - val_loss: 0.0062 - val_accuracy: 1.0000\n",
      "Epoch 12/50\n",
      "15/15 [==============================] - 0s 12ms/step - loss: 1.5350e-04 - accuracy: 1.0000 - val_loss: 0.0052 - val_accuracy: 1.0000\n",
      "Epoch 13/50\n",
      "15/15 [==============================] - 0s 12ms/step - loss: 1.2038e-04 - accuracy: 1.0000 - val_loss: 0.0040 - val_accuracy: 1.0000\n",
      "Epoch 14/50\n",
      "15/15 [==============================] - 0s 12ms/step - loss: 8.7101e-05 - accuracy: 1.0000 - val_loss: 0.0038 - val_accuracy: 1.0000\n",
      "Epoch 15/50\n",
      "15/15 [==============================] - 0s 13ms/step - loss: 6.7884e-05 - accuracy: 1.0000 - val_loss: 0.0033 - val_accuracy: 1.0000\n",
      "Epoch 16/50\n",
      "15/15 [==============================] - 0s 12ms/step - loss: 5.2404e-05 - accuracy: 1.0000 - val_loss: 0.0029 - val_accuracy: 1.0000\n",
      "Epoch 17/50\n",
      "15/15 [==============================] - 0s 12ms/step - loss: 4.1664e-05 - accuracy: 1.0000 - val_loss: 0.0030 - val_accuracy: 1.0000\n",
      "Epoch 18/50\n",
      "15/15 [==============================] - 0s 12ms/step - loss: 3.3752e-05 - accuracy: 1.0000 - val_loss: 0.0027 - val_accuracy: 1.0000\n",
      "Epoch 19/50\n",
      "15/15 [==============================] - 0s 12ms/step - loss: 2.7695e-05 - accuracy: 1.0000 - val_loss: 0.0019 - val_accuracy: 1.0000\n",
      "Epoch 20/50\n",
      "15/15 [==============================] - 0s 12ms/step - loss: 2.1017e-05 - accuracy: 1.0000 - val_loss: 0.0018 - val_accuracy: 1.0000\n",
      "Epoch 21/50\n",
      "15/15 [==============================] - 0s 12ms/step - loss: 1.6053e-05 - accuracy: 1.0000 - val_loss: 0.0017 - val_accuracy: 1.0000\n",
      "Epoch 22/50\n",
      "15/15 [==============================] - 0s 12ms/step - loss: 1.2148e-05 - accuracy: 1.0000 - val_loss: 0.0013 - val_accuracy: 1.0000\n",
      "Epoch 23/50\n",
      "15/15 [==============================] - 0s 12ms/step - loss: 9.3008e-06 - accuracy: 1.0000 - val_loss: 0.0011 - val_accuracy: 1.0000\n",
      "Epoch 24/50\n",
      "15/15 [==============================] - 0s 12ms/step - loss: 6.9617e-06 - accuracy: 1.0000 - val_loss: 8.6438e-04 - val_accuracy: 1.0000\n",
      "Epoch 25/50\n",
      "15/15 [==============================] - 0s 12ms/step - loss: 5.6637e-06 - accuracy: 1.0000 - val_loss: 5.8990e-04 - val_accuracy: 1.0000\n",
      "Epoch 26/50\n",
      "15/15 [==============================] - 0s 12ms/step - loss: 4.1935e-06 - accuracy: 1.0000 - val_loss: 4.9995e-04 - val_accuracy: 1.0000\n",
      "Epoch 27/50\n",
      "15/15 [==============================] - 0s 12ms/step - loss: 3.3299e-06 - accuracy: 1.0000 - val_loss: 4.1217e-04 - val_accuracy: 1.0000\n",
      "Epoch 28/50\n",
      "15/15 [==============================] - 0s 12ms/step - loss: 2.6517e-06 - accuracy: 1.0000 - val_loss: 3.7024e-04 - val_accuracy: 1.0000\n",
      "Epoch 29/50\n",
      "15/15 [==============================] - 0s 12ms/step - loss: 2.2491e-06 - accuracy: 1.0000 - val_loss: 3.0351e-04 - val_accuracy: 1.0000\n",
      "Epoch 30/50\n",
      "15/15 [==============================] - 0s 12ms/step - loss: 1.8411e-06 - accuracy: 1.0000 - val_loss: 2.8191e-04 - val_accuracy: 1.0000\n",
      "Epoch 31/50\n",
      "15/15 [==============================] - 0s 12ms/step - loss: 1.5974e-06 - accuracy: 1.0000 - val_loss: 2.3704e-04 - val_accuracy: 1.0000\n",
      "Epoch 32/50\n",
      "15/15 [==============================] - 0s 12ms/step - loss: 1.3590e-06 - accuracy: 1.0000 - val_loss: 2.2208e-04 - val_accuracy: 1.0000\n",
      "Epoch 33/50\n",
      "15/15 [==============================] - 0s 12ms/step - loss: 1.1894e-06 - accuracy: 1.0000 - val_loss: 1.9159e-04 - val_accuracy: 1.0000\n",
      "Epoch 34/50\n",
      "15/15 [==============================] - 0s 13ms/step - loss: 1.0278e-06 - accuracy: 1.0000 - val_loss: 1.7154e-04 - val_accuracy: 1.0000\n",
      "Epoch 35/50\n",
      "15/15 [==============================] - 0s 12ms/step - loss: 9.1923e-07 - accuracy: 1.0000 - val_loss: 1.6239e-04 - val_accuracy: 1.0000\n",
      "Epoch 36/50\n",
      "15/15 [==============================] - 0s 12ms/step - loss: 8.2652e-07 - accuracy: 1.0000 - val_loss: 1.4816e-04 - val_accuracy: 1.0000\n",
      "Epoch 37/50\n",
      "15/15 [==============================] - 0s 13ms/step - loss: 7.3910e-07 - accuracy: 1.0000 - val_loss: 1.4044e-04 - val_accuracy: 1.0000\n",
      "Epoch 38/50\n",
      "15/15 [==============================] - 0s 12ms/step - loss: 6.7287e-07 - accuracy: 1.0000 - val_loss: 1.2844e-04 - val_accuracy: 1.0000\n",
      "Epoch 39/50\n",
      "15/15 [==============================] - 0s 12ms/step - loss: 6.0929e-07 - accuracy: 1.0000 - val_loss: 1.2223e-04 - val_accuracy: 1.0000\n",
      "Epoch 40/50\n",
      "15/15 [==============================] - 0s 12ms/step - loss: 5.6691e-07 - accuracy: 1.0000 - val_loss: 1.1345e-04 - val_accuracy: 1.0000\n",
      "Epoch 41/50\n",
      "15/15 [==============================] - 0s 12ms/step - loss: 5.1657e-07 - accuracy: 1.0000 - val_loss: 1.0736e-04 - val_accuracy: 1.0000\n",
      "Epoch 42/50\n",
      "15/15 [==============================] - 0s 12ms/step - loss: 4.7684e-07 - accuracy: 1.0000 - val_loss: 1.0272e-04 - val_accuracy: 1.0000\n",
      "Epoch 43/50\n",
      "15/15 [==============================] - 0s 12ms/step - loss: 4.4505e-07 - accuracy: 1.0000 - val_loss: 9.8064e-05 - val_accuracy: 1.0000\n",
      "Epoch 44/50\n",
      "15/15 [==============================] - 0s 11ms/step - loss: 4.1591e-07 - accuracy: 1.0000 - val_loss: 9.4085e-05 - val_accuracy: 1.0000\n",
      "Epoch 45/50\n",
      "15/15 [==============================] - 0s 11ms/step - loss: 3.8677e-07 - accuracy: 1.0000 - val_loss: 8.9486e-05 - val_accuracy: 1.0000\n",
      "Epoch 46/50\n",
      "15/15 [==============================] - 0s 11ms/step - loss: 3.5498e-07 - accuracy: 1.0000 - val_loss: 8.5387e-05 - val_accuracy: 1.0000\n",
      "Epoch 47/50\n",
      "15/15 [==============================] - 0s 12ms/step - loss: 3.3643e-07 - accuracy: 1.0000 - val_loss: 8.2393e-05 - val_accuracy: 1.0000\n",
      "Epoch 48/50\n",
      "15/15 [==============================] - 0s 12ms/step - loss: 3.1789e-07 - accuracy: 1.0000 - val_loss: 7.8230e-05 - val_accuracy: 1.0000\n",
      "Epoch 49/50\n",
      "15/15 [==============================] - 0s 12ms/step - loss: 2.9670e-07 - accuracy: 1.0000 - val_loss: 7.5951e-05 - val_accuracy: 1.0000\n",
      "Epoch 50/50\n",
      "15/15 [==============================] - 0s 12ms/step - loss: 2.8080e-07 - accuracy: 1.0000 - val_loss: 7.2495e-05 - val_accuracy: 1.0000\n"
     ]
    },
    {
     "data": {
      "text/plain": [
       "<tensorflow.python.keras.callbacks.History at 0x1b08cf802c8>"
      ]
     },
     "execution_count": 50,
     "metadata": {},
     "output_type": "execute_result"
    }
   ],
   "source": [
    "model.fit_generator(train_generator,\n",
    "                   steps_per_epoch=15,\n",
    "                   epochs=50,\n",
    "                    validation_data=test_generator,validation_steps=5)"
   ]
  }
 ],
 "metadata": {
  "kernelspec": {
   "display_name": "Python 3",
   "language": "python",
   "name": "python3"
  },
  "language_info": {
   "codemirror_mode": {
    "name": "ipython",
    "version": 3
   },
   "file_extension": ".py",
   "mimetype": "text/x-python",
   "name": "python",
   "nbconvert_exporter": "python",
   "pygments_lexer": "ipython3",
   "version": "3.7.6"
  }
 },
 "nbformat": 4,
 "nbformat_minor": 4
}
