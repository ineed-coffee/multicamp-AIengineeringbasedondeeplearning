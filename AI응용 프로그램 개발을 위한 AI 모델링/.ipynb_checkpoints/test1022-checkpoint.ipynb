{
 "cells": [
  {
   "cell_type": "code",
   "execution_count": 4,
   "metadata": {},
   "outputs": [],
   "source": [
    "import pandas as pd\n",
    "import numpy as np\n",
    "from sklearn.model_selection import GridSearchCV\n",
    "from sklearn.svm import SVC\n",
    "from sklearn.metrics import accuracy_score"
   ]
  },
  {
   "cell_type": "code",
   "execution_count": 2,
   "metadata": {},
   "outputs": [],
   "source": [
    "path = 'C:/임시/RData/'"
   ]
  },
  {
   "cell_type": "code",
   "execution_count": 3,
   "metadata": {},
   "outputs": [],
   "source": [
    "train = pd.read_csv(path+'basketball_train.csv')\n",
    "test = pd.read_csv(path+'basketball_test.csv')\n",
    "df = pd.read_csv(path+'basketball_stat.csv')"
   ]
  },
  {
   "cell_type": "code",
   "execution_count": 5,
   "metadata": {},
   "outputs": [],
   "source": [
    "# c: 결정경계선의 마진을 결정\n",
    "# gamma : 데이터 포인트의 영향력을 결정하는 파라미터\n",
    "# c 가 크다 -> 이상치 하나에 대한 처리비용이 높다 -> 최대한 이상치 포함 안시키려함 -> 오버피팅 위험\n",
    "# gamma가 크다 -> 결정 경계성과 데이터포인트의 거리가 더욱 더 가까워진다 -> 오버피팅 위험"
   ]
  },
  {
   "cell_type": "code",
   "execution_count": 6,
   "metadata": {},
   "outputs": [
    {
     "data": {
      "text/html": [
       "<div>\n",
       "<style scoped>\n",
       "    .dataframe tbody tr th:only-of-type {\n",
       "        vertical-align: middle;\n",
       "    }\n",
       "\n",
       "    .dataframe tbody tr th {\n",
       "        vertical-align: top;\n",
       "    }\n",
       "\n",
       "    .dataframe thead th {\n",
       "        text-align: right;\n",
       "    }\n",
       "</style>\n",
       "<table border=\"1\" class=\"dataframe\">\n",
       "  <thead>\n",
       "    <tr style=\"text-align: right;\">\n",
       "      <th></th>\n",
       "      <th>Player</th>\n",
       "      <th>Pos</th>\n",
       "      <th>3P</th>\n",
       "      <th>TRB</th>\n",
       "      <th>BLK</th>\n",
       "    </tr>\n",
       "  </thead>\n",
       "  <tbody>\n",
       "    <tr>\n",
       "      <th>0</th>\n",
       "      <td>Denzel Valentine</td>\n",
       "      <td>SG</td>\n",
       "      <td>1.3</td>\n",
       "      <td>2.6</td>\n",
       "      <td>0.1</td>\n",
       "    </tr>\n",
       "    <tr>\n",
       "      <th>1</th>\n",
       "      <td>Kyle Korver</td>\n",
       "      <td>SG</td>\n",
       "      <td>2.4</td>\n",
       "      <td>2.8</td>\n",
       "      <td>0.3</td>\n",
       "    </tr>\n",
       "    <tr>\n",
       "      <th>2</th>\n",
       "      <td>Troy Daniels</td>\n",
       "      <td>SG</td>\n",
       "      <td>2.1</td>\n",
       "      <td>1.5</td>\n",
       "      <td>0.1</td>\n",
       "    </tr>\n",
       "    <tr>\n",
       "      <th>3</th>\n",
       "      <td>Tim Hardaway</td>\n",
       "      <td>SG</td>\n",
       "      <td>1.9</td>\n",
       "      <td>2.8</td>\n",
       "      <td>0.2</td>\n",
       "    </tr>\n",
       "    <tr>\n",
       "      <th>4</th>\n",
       "      <td>Dewayne Dedmon</td>\n",
       "      <td>C</td>\n",
       "      <td>0.0</td>\n",
       "      <td>6.5</td>\n",
       "      <td>0.8</td>\n",
       "    </tr>\n",
       "  </tbody>\n",
       "</table>\n",
       "</div>"
      ],
      "text/plain": [
       "             Player Pos   3P  TRB  BLK\n",
       "0  Denzel Valentine  SG  1.3  2.6  0.1\n",
       "1       Kyle Korver  SG  2.4  2.8  0.3\n",
       "2      Troy Daniels  SG  2.1  1.5  0.1\n",
       "3      Tim Hardaway  SG  1.9  2.8  0.2\n",
       "4    Dewayne Dedmon   C  0.0  6.5  0.8"
      ]
     },
     "execution_count": 6,
     "metadata": {},
     "output_type": "execute_result"
    }
   ],
   "source": [
    "train.head()\n",
    "# 독립변수 : 3점슛 , 블로킹 , -> 종속변수 : Pos"
   ]
  },
  {
   "cell_type": "code",
   "execution_count": 7,
   "metadata": {},
   "outputs": [],
   "source": [
    "xTrain = train[['3P','BLK']]\n",
    "yTrain = train['Pos']"
   ]
  },
  {
   "cell_type": "code",
   "execution_count": 10,
   "metadata": {},
   "outputs": [],
   "source": [
    "# svm 알고리즘 -> 모델링 (최적의 파라미터 검색)\n",
    "\n",
    "def svcParam(x,y):\n",
    "    \n",
    "    params=[\n",
    "        {\n",
    "            'kernel':['rbf'],\n",
    "            'gamma':[0.00001,0.0001,0.001,0.01,0.1,1],\n",
    "            'C':[0.01,0.1,1,10,100,1000]\n",
    "        }\n",
    "    ]\n",
    "    \n",
    "    model=GridSearchCV(SVC(),params,cv=10)\n",
    "    model.fit(xTrain,yTrain)\n",
    "    return model\n",
    "\n",
    "model=svcParam(xTrain,yTrain)"
   ]
  },
  {
   "cell_type": "code",
   "execution_count": 11,
   "metadata": {},
   "outputs": [
    {
     "name": "stdout",
     "output_type": "stream",
     "text": [
      "{'C': 0.1, 'gamma': 1, 'kernel': 'rbf'}\n"
     ]
    }
   ],
   "source": [
    "print(model.best_params_)"
   ]
  },
  {
   "cell_type": "code",
   "execution_count": 12,
   "metadata": {},
   "outputs": [],
   "source": [
    "xTest = test[['3P','BLK']]\n",
    "yTest = test['Pos']\n",
    "yPred = model.predict(xTest)"
   ]
  },
  {
   "cell_type": "code",
   "execution_count": 14,
   "metadata": {},
   "outputs": [
    {
     "name": "stdout",
     "output_type": "stream",
     "text": [
      "정확도: 1.0\n",
      "              precision    recall  f1-score   support\n",
      "\n",
      "           C       1.00      1.00      1.00        11\n",
      "          SG       1.00      1.00      1.00         9\n",
      "\n",
      "    accuracy                           1.00        20\n",
      "   macro avg       1.00      1.00      1.00        20\n",
      "weighted avg       1.00      1.00      1.00        20\n",
      "\n"
     ]
    }
   ],
   "source": [
    "from sklearn.metrics import classification_report\n",
    "\n",
    "print('정확도: '+str(accuracy_score(yTest,yPred)))\n",
    "print(classification_report(yTest,yPred))"
   ]
  }
 ],
 "metadata": {
  "kernelspec": {
   "display_name": "Python 3",
   "language": "python",
   "name": "python3"
  },
  "language_info": {
   "codemirror_mode": {
    "name": "ipython",
    "version": 3
   },
   "file_extension": ".py",
   "mimetype": "text/x-python",
   "name": "python",
   "nbconvert_exporter": "python",
   "pygments_lexer": "ipython3",
   "version": "3.7.6"
  }
 },
 "nbformat": 4,
 "nbformat_minor": 4
}
